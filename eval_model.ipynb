{
 "cells": [
  {
   "cell_type": "code",
   "execution_count": 1,
   "metadata": {},
   "outputs": [],
   "source": [
    "import os\n",
    "import json\n",
    "from pathlib import Path\n",
    "import typing\n",
    "\n",
    "import numpy as np\n",
    "import torch\n",
    "from transformers import OpenAIGPTLMHeadModel, OpenAIGPTConfig\n",
    "\n",
    "from muutils.logger import Logger, TimerContext\n",
    "from muutils.json_serialize import json_serialize, dataclass_serializer_factory\n",
    "from muutils.tensor_utils import ATensor\n",
    "from muutils.statcounter import StatCounter\n",
    "from muutils.misc import shorten_numerical_to_str\n",
    "\n",
    "from ipywidgets import interact, interactive, fixed, interact_manual\n",
    "import ipywidgets as widgets\n",
    "\n",
    "from maze_transformer.generation.latticemaze import LatticeMaze\n",
    "from maze_transformer.generation.generators import LatticeMazeGenerators\n",
    "from maze_transformer.training.tokenizer import MazeTokenizer, SPECIAL_TOKENS\n",
    "from maze_transformer.training.mazedataset import MazeDatasetConfig, MazeDataset\n",
    "from maze_transformer.evaluation.plot_maze import plot_multi_paths, PathFormat\n",
    "from maze_transformer.training.dataset import GPTDatasetConfig\n",
    "from maze_transformer.training.config import TrainConfig\n",
    "from maze_transformer.training.training import TRAIN_SAVE_FILES\n",
    "from maze_transformer.evaluation.eval_model import generate_plot_predicted_path, MazePath, load_model_with_configs, LoadedModelConfigs, predict_maze_path\n",
    "\n"
   ]
  },
  {
   "cell_type": "code",
   "execution_count": 2,
   "metadata": {},
   "outputs": [
    {
     "name": "stderr",
     "output_type": "stream",
     "text": [
      "WARNING: code hash mismatch for maze_ctor gen_dfs\n",
      "WARNING: sourcefile mismatch for maze_ctor gen_dfs\n",
      "Input length of input_ids is 90, but ``max_length`` is set to 32. This can lead to unexpected behavior. You should consider increasing ``config.max_length`` or ``max_length``.\n",
      "Input length of input_ids is 90, but ``max_length`` is set to 32. This can lead to unexpected behavior. You should consider increasing ``config.max_length`` or ``max_length``.\n"
     ]
    },
    {
     "name": "stdout",
     "output_type": "stream",
     "text": [
      "loaded model with 28M parameters\n",
      "maze_tokens = ['<ADJLIST_START>', '(0,1)', '<-->', '(1,1)', ';', '(2,1)', '<-->', '(3,1)', ';', '(0,0)', '<-->', '(0,1)', ';', '(2,1)', '<-->', '(1,1)', ';', '(3,2)', '<-->', '(2,2)', ';', '(1,2)', '<-->', '(2,2)', ';', '(2,3)', '<-->', '(1,3)', ';', '(0,3)', '<-->', '(0,2)', ';', '(1,2)', '<-->', '(1,3)', ';', '(2,0)', '<-->', '(3,0)', ';', '(3,3)', '<-->', '(2,3)', ';', '(3,1)', '<-->', '(3,2)', ';', '(1,3)', '<-->', '(0,3)', ';', '(3,1)', '<-->', '(3,0)', ';', '(1,0)', '<-->', '(0,0)', ';', '<ADJLIST_END>', '<TARGET_START>', '(3,3)', '<TARGET_END>', '<START_PATH>']\n",
      "path_true_tokens = ['(0,0)', '(0,1)', '(1,1)', '(2,1)', '(3,1)', '(3,2)', '(2,2)', '(1,2)', '(1,3)', '(2,3)', '(3,3)', '<END_PATH>']\n",
      "predicted_tokens = ['(0,1)']\n",
      "maze_tokens = ['<ADJLIST_START>', '(3,3)', '<-->', '(3,2)', ';', '(0,3)', '<-->', '(0,2)', ';', '(1,3)', '<-->', '(0,3)', ';', '(2,1)', '<-->', '(2,0)', ';', '(2,0)', '<-->', '(3,0)', ';', '(1,3)', '<-->', '(2,3)', ';', '(0,0)', '<-->', '(0,1)', ';', '(2,2)', '<-->', '(3,2)', ';', '(2,3)', '<-->', '(3,3)', ';', '(1,2)', '<-->', '(1,1)', ';', '(1,1)', '<-->', '(2,1)', ';', '(3,1)', '<-->', '(3,0)', ';', '(2,2)', '<-->', '(1,2)', ';', '(1,0)', '<-->', '(2,0)', ';', '(1,0)', '<-->', '(0,0)', ';', '<ADJLIST_END>', '<TARGET_START>', '(3,3)', '<TARGET_END>', '<START_PATH>']\n",
      "path_true_tokens = ['(0,0)', '(1,0)', '(2,0)', '(2,1)', '(1,1)', '(1,2)', '(2,2)', '(3,2)', '(3,3)', '<END_PATH>']\n",
      "predicted_tokens = ['(0,1)']\n",
      "(4, 4)\n"
     ]
    },
    {
     "data": {
      "image/png": "[encoded data removed]",
      "text/plain": [
       "<Figure size 432x288 with 1 Axes>"
      ]
     },
     "metadata": {
      "needs_background": "light"
     },
     "output_type": "display_data"
    },
    {
     "name": "stdout",
     "output_type": "stream",
     "text": [
      "(4, 4)\n"
     ]
    },
    {
     "data": {
      "image/png": "[encoded data removed]",
      "text/plain": [
       "<Figure size 432x288 with 1 Axes>"
      ]
     },
     "metadata": {
      "needs_background": "light"
     },
     "output_type": "display_data"
    }
   ],
   "source": [
    "# setup consts\n",
    "model_path: str = \"data/g4-n4K/g4-n4K_tiny-v1_2022-09-10-02-02-12/checkpoints/model.iter_3120.pt\"\n",
    "n_mazes: int = 2\n",
    "n_tokens_pred: int = 50\n",
    "filename: str = \"data/g4-n1K-test/maze_tokens.jsonl\"\n",
    "mazes_tokens: list[list[str]] = list()\n",
    "\n",
    "# load model and configs\n",
    "loaded_model_and_configs: LoadedModelConfigs = load_model_with_configs(model_path, MazeDatasetConfig)\n",
    "data_cfg: MazeDatasetConfig; train_cfg: TrainConfig\n",
    "model_cfg: OpenAIGPTConfig; model: OpenAIGPTLMHeadModel\n",
    "data_cfg, train_cfg, model_cfg, model = loaded_model_and_configs\n",
    "\n",
    "# load maze test data\n",
    "with open(filename, \"r\") as f:\n",
    "\tfor line in f:\n",
    "\t\tmazes_tokens.append(line.split())\n",
    "\n",
    "mazes_tokens = mazes_tokens[:n_mazes]\n",
    "\n",
    "mazes_solved: list[tuple[LatticeMaze, MazePath, MazePath]] = [\n",
    "\tpredict_maze_path(\n",
    "\t\ttokens = tokens,\n",
    "\t\tdata_cfg = data_cfg,\n",
    "\t\tmodel = model,\n",
    "\t\tn_tokens_pred = n_tokens_pred,\n",
    "\t)\n",
    "\tfor tokens in mazes_tokens\n",
    "]\n",
    "\t\n",
    "\n",
    "# plot\n",
    "for maze, path, path_pred in mazes_solved:\n",
    "\tplot_multi_paths(\n",
    "\t\tmaze = maze,\n",
    "\t\tpaths = [\n",
    "\t\t\tPathFormat(path, \"true\", color = \"red\", quiver_kwargs = {'width': 0.015}),\n",
    "\t\t\tPathFormat(path_pred, \"predicted\", color = \"blue\", quiver_kwargs = {}),\n",
    "\t\t],\n",
    "\t)"
   ]
  },
  {
   "cell_type": "code",
   "execution_count": 3,
   "metadata": {},
   "outputs": [],
   "source": [
    "\n",
    "\n",
    "# generate_plot_predicted_path(\"data/g4-n4K/g4-n4K_tiny-v1_2022-09-10-02-02-12/checkpoints/model.iter_3120.pt\")\n"
   ]
  }
 ],
 "metadata": {
  "kernelspec": {
   "display_name": "Python 3.10.1 64-bit",
   "language": "python",
   "name": "python3"
  },
  "language_info": {
   "codemirror_mode": {
    "name": "ipython",
    "version": 3
   },
   "file_extension": ".py",
   "mimetype": "text/x-python",
   "name": "python",
   "nbconvert_exporter": "python",
   "pygments_lexer": "ipython3",
   "version": "3.10.1"
  },
  "orig_nbformat": 4,
  "vscode": {
   "interpreter": {
    "hash": "826cdf1d6a1d995932fcc4b02bd7049699ce423053098b308e34496c9b855014"
   }
  }
 },
 "nbformat": 4,
 "nbformat_minor": 2
}
