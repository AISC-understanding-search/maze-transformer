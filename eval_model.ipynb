{
 "cells": [
  {
   "cell_type": "code",
   "execution_count": 1,
   "metadata": {},
   "outputs": [],
   "source": [
    "import os\n",
    "import json\n",
    "from pathlib import Path\n",
    "import typing\n",
    "\n",
    "import numpy as np\n",
    "import torch\n",
    "from transformers import OpenAIGPTLMHeadModel, OpenAIGPTConfig\n",
    "import pandas as pd\n",
    "import matplotlib.pyplot as plt\n",
    "\n",
    "from muutils.logger import Logger, TimerContext\n",
    "from muutils.json_serialize import json_serialize, dataclass_serializer_factory\n",
    "from muutils.tensor_utils import ATensor, NDArray\n",
    "from muutils.statcounter import StatCounter\n",
    "from muutils.misc import shorten_numerical_to_str\n",
    "\n",
    "from ipywidgets import interact, interactive, fixed, interact_manual\n",
    "import ipywidgets as widgets\n",
    "\n",
    "from maze_transformer.generation.latticemaze import LatticeMaze\n",
    "from maze_transformer.generation.generators import LatticeMazeGenerators\n",
    "from maze_transformer.training.tokenizer import MazeTokenizer, SPECIAL_TOKENS\n",
    "from maze_transformer.training.mazedataset import MazeDatasetConfig, MazeDataset\n",
    "from maze_transformer.evaluation.plot_maze import plot_multi_paths, PathFormat\n",
    "from maze_transformer.training.dataset import GPTDatasetConfig\n",
    "from maze_transformer.training.config import TrainConfig\n",
    "from maze_transformer.training.training import TRAIN_SAVE_FILES\n",
    "from maze_transformer.evaluation.eval_model import generate_plot_predicted_path, MazePath, load_model_with_configs, LoadedModelConfigs, predict_maze_path\n",
    "from maze_transformer.evaluation.pathdist import MazeEvalFunction, ArrMazeEvalFunction, MazeEvalFuncs, ArrMazeEvalFuncs\n",
    "\n"
   ]
  },
  {
   "cell_type": "markdown",
   "metadata": {},
   "source": [
    "# plot example mazes"
   ]
  },
  {
   "cell_type": "code",
   "execution_count": 2,
   "metadata": {},
   "outputs": [],
   "source": [
    "# setup consts\n",
    "def testdata_plot_predicted_path(\n",
    "\t\tmodel_path: str = \"data/g4-n4K/g4-n4K_tiny-v1_2022-10-05-02-03-44/model.final.pt\",\n",
    "\t\tn_mazes: int = 10,\n",
    "\t\tn_tokens_pred: int = 8,\n",
    "\t\tfilename: str = \"data/g4-n1K-test/maze_tokens.jsonl\",\n",
    "\t):\n",
    "\tmazes_tokens: list[list[str]] = list()\n",
    "\n",
    "\t# load model and configs\n",
    "\tloaded_model_and_configs: LoadedModelConfigs = load_model_with_configs(model_path, MazeDatasetConfig)\n",
    "\tdata_cfg: MazeDatasetConfig; train_cfg: TrainConfig\n",
    "\tmodel_cfg: OpenAIGPTConfig; model: OpenAIGPTLMHeadModel\n",
    "\tdata_cfg, train_cfg, model_cfg, model = loaded_model_and_configs\n",
    "\tmodel.config.max_length = model_cfg.n_positions + 1\n",
    "\n",
    "\t# load maze test data\n",
    "\twith open(filename, \"r\") as f:\n",
    "\t\tfor line in f:\n",
    "\t\t\tmazes_tokens.append(line.split())\n",
    "\n",
    "\tmazes_tokens = mazes_tokens[:n_mazes]\n",
    "\n",
    "\tmazes_solved: list[tuple[LatticeMaze, MazePath, MazePath]] = [\n",
    "\t\tpredict_maze_path(\n",
    "\t\t\ttokens = tokens,\n",
    "\t\t\tdata_cfg = data_cfg,\n",
    "\t\t\tmodel = model,\n",
    "\t\t\tn_tokens_pred = n_tokens_pred,\n",
    "\t\t)\n",
    "\t\tfor tokens in mazes_tokens\n",
    "\t]\n",
    "\n",
    "\n",
    "\t# plot\n",
    "\tfor maze, path, path_pred in mazes_solved:\n",
    "\t\tplot_multi_paths(\n",
    "\t\t\tmaze = maze,\n",
    "\t\t\tpaths = [\n",
    "\t\t\t\tPathFormat(path, \"true\", color = \"red\", quiver_kwargs = {'width': 0.015}),\n",
    "\t\t\t\tPathFormat(path_pred, \"predicted\", color = \"blue\", quiver_kwargs = {}),\n",
    "\t\t\t],\n",
    "\t\t)\n",
    "\n",
    "# testdata_plot_predicted_path()"
   ]
  },
  {
   "cell_type": "markdown",
   "metadata": {},
   "source": [
    "# run path dist eval"
   ]
  },
  {
   "cell_type": "code",
   "execution_count": 3,
   "metadata": {},
   "outputs": [
    {
     "name": "stdout",
     "output_type": "stream",
     "text": [
      "{'fraction_connections_adjacent_lattice': ('arr', <staticmethod(<function ArrMazeEvalFuncs.fraction_connections_adjacent_lattice at 0x000001650D84EA70>)>), 'fraction_connections_adjacent': ('arr', <staticmethod(<function ArrMazeEvalFuncs.fraction_connections_adjacent at 0x000001650D84EB00>)>), 'node_overlap': ('list', <staticmethod(<function MazeEvalFuncs.node_overlap at 0x000001650D84E9E0>)>)}\n"
     ]
    }
   ],
   "source": [
    "EvalFuncTuple = tuple[typing.Literal[\"arr\", \"list\"], MazeEvalFunction|ArrMazeEvalFunction]\n",
    "\n",
    "ALL_PATHDIST_FUNCS: dict[str, EvalFuncTuple] = {\n",
    "\t**{\n",
    "\t\tname: (\"arr\", func)\n",
    "\t\tfor name, func in ArrMazeEvalFuncs.__dict__.items()\n",
    "\t\tif not name.startswith(\"_\")\n",
    "\t},\n",
    "\t**{\n",
    "\t\tname: (\"list\", func)\n",
    "\t\tfor name, func in MazeEvalFuncs.__dict__.items()\n",
    "\t\tif not name.startswith(\"_\")\n",
    "\t},\n",
    "}\n",
    "\n",
    "print(ALL_PATHDIST_FUNCS)"
   ]
  },
  {
   "cell_type": "code",
   "execution_count": 4,
   "metadata": {},
   "outputs": [],
   "source": [
    "\n",
    "\n",
    "from maze_transformer.evaluation.eval_model import ArrMazePath\n",
    "\n",
    "\n",
    "def evaluate_model_pathdist_scores(\n",
    "\t\tmodel_path: str,\n",
    "\t\tpathdist_functions: dict[str, EvalFuncTuple]|None = None,\n",
    "\t\tn_tokens_pred: int = 8,\n",
    "\t\ttest_data: str = \"data/g4-n1K-test/maze_tokens.jsonl\",\n",
    "\t\tn_mazes: int = 10,\n",
    "\t) -> dict[str, StatCounter]:\n",
    "\n",
    "\tif pathdist_functions is None:\n",
    "\t\tpathdist_functions = ALL_PATHDIST_FUNCS\n",
    "\n",
    "\tmazes_tokens: list[list[str]] = list()\n",
    "\n",
    "\t# load model and configs\n",
    "\tloaded_model_and_configs: LoadedModelConfigs = load_model_with_configs(model_path, MazeDatasetConfig)\n",
    "\tdata_cfg: MazeDatasetConfig; train_cfg: TrainConfig\n",
    "\tmodel_cfg: OpenAIGPTConfig; model: OpenAIGPTLMHeadModel\n",
    "\tdata_cfg, train_cfg, model_cfg, model = loaded_model_and_configs\n",
    "\tmodel.config.max_length = model_cfg.n_positions + 1\n",
    "\n",
    "\t# load maze test data\n",
    "\twith open(test_data, \"r\") as f:\n",
    "\t\tfor line in f:\n",
    "\t\t\tmazes_tokens.append(line.split())\n",
    "\n",
    "\tmazes_tokens = mazes_tokens[:n_mazes]\n",
    "\n",
    "\t# predict paths\n",
    "\tmazes_solved: list[tuple[LatticeMaze, MazePath, MazePath]] = [\n",
    "\t\tpredict_maze_path(\n",
    "\t\t\ttokens = tokens,\n",
    "\t\t\tdata_cfg = data_cfg,\n",
    "\t\t\tmodel = model,\n",
    "\t\t\tn_tokens_pred = n_tokens_pred,\n",
    "\t\t)\n",
    "\t\tfor tokens in mazes_tokens\n",
    "\t]\n",
    "\n",
    "\t# convert paths\n",
    "\tmazes_solved_arrpath: list[tuple[LatticeMaze, ArrMazePath, ArrMazePath]] = [\n",
    "\t\t(maze, np.array(p_true), np.array(p_pred))\n",
    "\t\tfor maze, p_true, p_pred in mazes_solved\n",
    "\t]\n",
    "\n",
    "\t# evaluate\n",
    "\tpathdist_scores: dict[str, StatCounter] = dict()\n",
    "\tfor name, (pathdist_type, pathdist_func) in pathdist_functions.items():\n",
    "\t\tif pathdist_type == \"list\":\n",
    "\t\t\tpathdist_scores[name] = StatCounter(\n",
    "\t\t\t\tpathdist_func(maze, p_true, p_pred)\n",
    "\t\t\t\tfor maze, p_true, p_pred in mazes_solved\n",
    "\t\t\t)\n",
    "\t\telif pathdist_type == \"arr\":\n",
    "\t\t\tpathdist_scores[name] = StatCounter(\n",
    "\t\t\t\tpathdist_func(maze, p_true, p_pred)\n",
    "\t\t\t\tfor maze, p_true, p_pred in mazes_solved_arrpath\n",
    "\t\t\t)\n",
    "\t\telse:\n",
    "\t\t\traise ValueError(f\"Invalid pathdist_type: {pathdist_type}\")\n",
    "\n",
    "\treturn pathdist_scores\n",
    "\n",
    "# evaluate_model_pathdist_scores(\"data/g4-n4K/g4-n4K_tiny-v1_2022-10-05-02-03-44/model.final.pt\")"
   ]
  },
  {
   "cell_type": "code",
   "execution_count": 5,
   "metadata": {},
   "outputs": [],
   "source": [
    "def evaluate_pathdist_scores_checkpoints(\n",
    "\t\tpath_base: str,\n",
    "\t\tcheckpoint_idxs: list[int]|None = None,\n",
    "\t\tpathdist_functions: dict[str, EvalFuncTuple]|None = None,\n",
    "\t\tn_tokens_pred: int = 8,\n",
    "\t\ttest_data: str = \"data/g4-n1K-test/maze_tokens.jsonl\",\n",
    "\t\tn_mazes: int = 10,\n",
    "\t) -> dict[str, dict[int, StatCounter]]:\n",
    "\n",
    "\tmodel_checkpoints: list[tuple[int,str]]\n",
    "\n",
    "\tif checkpoint_idxs is not None:\n",
    "\t\tmodel_checkpoints = list()\n",
    "\t\tfor idx in checkpoint_idxs:\n",
    "\t\t\tmdl_path: Path = Path(path_base) / f\"model.iter_{idx}.pt\"\n",
    "\t\t\tif not mdl_path.exists():\n",
    "\t\t\t\traise ValueError(f\"Checkpoint file {mdl_path} does not exist\")\n",
    "\t\t\tmodel_checkpoints.append((idx, str(mdl_path)))\n",
    "\telse:\n",
    "\t\tmodel_checkpoints = [\n",
    "\t\t\t(int(mdl_path.stem.split(\"_\")[-1].split(\".\")[0]), str(mdl_path))\n",
    "\t\t\tfor mdl_path in Path(path_base).glob(\"model.iter_*.pt\")\n",
    "\t\t]\n",
    "\t\n",
    "\tprint(f\"Found {len(model_checkpoints)} checkpoints:\\n\\t{model_checkpoints = }\")\n",
    "\n",
    "\tpathdist_scores_idx: dict[int, dict[str, StatCounter]] = dict()\n",
    "\n",
    "\tfor idx, mdl_path in model_checkpoints:\n",
    "\t\tpathdist_scores_idx[idx] = evaluate_model_pathdist_scores(\n",
    "\t\t\tmodel_path = mdl_path,\n",
    "\t\t\tpathdist_functions = pathdist_functions,\n",
    "\t\t\tn_tokens_pred = n_tokens_pred,\n",
    "\t\t\ttest_data = test_data,\n",
    "\t\t\tn_mazes = n_mazes,\n",
    "\t\t)\n",
    "\n",
    "\treturn {\n",
    "\t\tname: {\n",
    "\t\t\tidx: scores[name]\n",
    "\t\t\tfor idx, scores in pathdist_scores_idx.items()\n",
    "\t\t}\n",
    "\t\tfor name in pathdist_scores_idx[0]\n",
    "\t}\n",
    "\t\t"
   ]
  },
  {
   "cell_type": "code",
   "execution_count": 6,
   "metadata": {},
   "outputs": [],
   "source": [
    "def plot_pathdist_scores(\n",
    "\t\tdata: dict[str, dict[int, StatCounter]],\n",
    "\t):\n",
    "\n",
    "\tplt.figure(figsize=(10, 6))\n",
    "\t\n",
    "\t\n",
    "\tfor name, scores_idxed in data.items():\n",
    "\t\tx = list(scores_idxed.keys())\n",
    "\t\ty = [\n",
    "\t\t\tscores_idxed[idx].median()\n",
    "\t\t\tfor idx in x\n",
    "\t\t]\n",
    "\t\tyerr = [\n",
    "\t\t\tscores_idxed[idx].std()\n",
    "\t\t\tfor idx in x\n",
    "\t\t]\n",
    "\t\tplt.errorbar(x, y, yerr, label=name)\n",
    "\t\n",
    "\tplt.legend()\n",
    "\tplt.ylabel(\"Path score\")\n",
    "\tplt.xlabel(\"iteration\")\n",
    "\tplt.show()"
   ]
  },
  {
   "cell_type": "code",
   "execution_count": 8,
   "metadata": {},
   "outputs": [
    {
     "name": "stdout",
     "output_type": "stream",
     "text": [
      "Found 8 checkpoints:\n",
      "\tmodel_checkpoints = [(0, 'data\\\\g4-n4K\\\\g4-n4K_tiny-v1_2022-10-05-02-03-44\\\\checkpoints\\\\model.iter_0.pt'), (1248, 'data\\\\g4-n4K\\\\g4-n4K_tiny-v1_2022-10-05-02-03-44\\\\checkpoints\\\\model.iter_1248.pt'), (2496, 'data\\\\g4-n4K\\\\g4-n4K_tiny-v1_2022-10-05-02-03-44\\\\checkpoints\\\\model.iter_2496.pt'), (3744, 'data\\\\g4-n4K\\\\g4-n4K_tiny-v1_2022-10-05-02-03-44\\\\checkpoints\\\\model.iter_3744.pt'), (4992, 'data\\\\g4-n4K\\\\g4-n4K_tiny-v1_2022-10-05-02-03-44\\\\checkpoints\\\\model.iter_4992.pt'), (6240, 'data\\\\g4-n4K\\\\g4-n4K_tiny-v1_2022-10-05-02-03-44\\\\checkpoints\\\\model.iter_6240.pt'), (7488, 'data\\\\g4-n4K\\\\g4-n4K_tiny-v1_2022-10-05-02-03-44\\\\checkpoints\\\\model.iter_7488.pt'), (8736, 'data\\\\g4-n4K\\\\g4-n4K_tiny-v1_2022-10-05-02-03-44\\\\checkpoints\\\\model.iter_8736.pt')]\n"
     ]
    },
    {
     "name": "stderr",
     "output_type": "stream",
     "text": [
      "WARNING: code hash mismatch for maze_ctor gen_dfs\n",
      "WARNING: sourcefile mismatch for maze_ctor gen_dfs\n"
     ]
    },
    {
     "name": "stdout",
     "output_type": "stream",
     "text": [
      "loaded model with 28M parameters\n"
     ]
    },
    {
     "ename": "IndexError",
     "evalue": "index -1 is out of bounds for axis 0 with size 0",
     "output_type": "error",
     "traceback": [
      "\u001b[1;31m---------------------------------------------------------------------------\u001b[0m",
      "\u001b[1;31mIndexError\u001b[0m                                Traceback (most recent call last)",
      "\u001b[1;32mf:\\conjecture\\maze-transformer\\eval_model.ipynb Cell 9'\u001b[0m in \u001b[0;36m<cell line: 1>\u001b[1;34m()\u001b[0m\n\u001b[1;32m----> <a href='vscode-notebook-cell:/f%3A/conjecture/maze-transformer/eval_model.ipynb#ch0000009?line=0'>1</a>\u001b[0m data \u001b[39m=\u001b[39m evaluate_pathdist_scores_checkpoints(\n\u001b[0;32m      <a href='vscode-notebook-cell:/f%3A/conjecture/maze-transformer/eval_model.ipynb#ch0000009?line=1'>2</a>\u001b[0m \tpath_base \u001b[39m=\u001b[39;49m \u001b[39m\"\u001b[39;49m\u001b[39mdata/g4-n4K/g4-n4K_tiny-v1_2022-10-05-02-03-44/checkpoints/\u001b[39;49m\u001b[39m\"\u001b[39;49m,\n\u001b[0;32m      <a href='vscode-notebook-cell:/f%3A/conjecture/maze-transformer/eval_model.ipynb#ch0000009?line=2'>3</a>\u001b[0m \tcheckpoint_idxs \u001b[39m=\u001b[39;49m \u001b[39mlist\u001b[39;49m(\u001b[39mrange\u001b[39;49m(\u001b[39m0\u001b[39;49m, \u001b[39m9829\u001b[39;49m, \u001b[39m156\u001b[39;49m\u001b[39m*\u001b[39;49m\u001b[39m8\u001b[39;49m)),\n\u001b[0;32m      <a href='vscode-notebook-cell:/f%3A/conjecture/maze-transformer/eval_model.ipynb#ch0000009?line=3'>4</a>\u001b[0m \ttest_data \u001b[39m=\u001b[39;49m \u001b[39m\"\u001b[39;49m\u001b[39mdata/g4-n1K-test/maze_tokens.jsonl\u001b[39;49m\u001b[39m\"\u001b[39;49m,\n\u001b[0;32m      <a href='vscode-notebook-cell:/f%3A/conjecture/maze-transformer/eval_model.ipynb#ch0000009?line=4'>5</a>\u001b[0m \tn_mazes \u001b[39m=\u001b[39;49m \u001b[39m16\u001b[39;49m,\n\u001b[0;32m      <a href='vscode-notebook-cell:/f%3A/conjecture/maze-transformer/eval_model.ipynb#ch0000009?line=5'>6</a>\u001b[0m )\n\u001b[0;32m      <a href='vscode-notebook-cell:/f%3A/conjecture/maze-transformer/eval_model.ipynb#ch0000009?line=7'>8</a>\u001b[0m plot_pathdist_scores(data)\n",
      "\u001b[1;32mf:\\conjecture\\maze-transformer\\eval_model.ipynb Cell 7'\u001b[0m in \u001b[0;36mevaluate_pathdist_scores_checkpoints\u001b[1;34m(path_base, checkpoint_idxs, pathdist_functions, n_tokens_pred, test_data, n_mazes)\u001b[0m\n\u001b[0;32m     <a href='vscode-notebook-cell:/f%3A/conjecture/maze-transformer/eval_model.ipynb#ch0000007?line=26'>27</a>\u001b[0m pathdist_scores_idx: \u001b[39mdict\u001b[39m[\u001b[39mint\u001b[39m, \u001b[39mdict\u001b[39m[\u001b[39mstr\u001b[39m, StatCounter]] \u001b[39m=\u001b[39m \u001b[39mdict\u001b[39m()\n\u001b[0;32m     <a href='vscode-notebook-cell:/f%3A/conjecture/maze-transformer/eval_model.ipynb#ch0000007?line=28'>29</a>\u001b[0m \u001b[39mfor\u001b[39;00m idx, mdl_path \u001b[39min\u001b[39;00m model_checkpoints:\n\u001b[1;32m---> <a href='vscode-notebook-cell:/f%3A/conjecture/maze-transformer/eval_model.ipynb#ch0000007?line=29'>30</a>\u001b[0m \tpathdist_scores_idx[idx] \u001b[39m=\u001b[39m evaluate_model_pathdist_scores(\n\u001b[0;32m     <a href='vscode-notebook-cell:/f%3A/conjecture/maze-transformer/eval_model.ipynb#ch0000007?line=30'>31</a>\u001b[0m \t\tmodel_path \u001b[39m=\u001b[39;49m mdl_path,\n\u001b[0;32m     <a href='vscode-notebook-cell:/f%3A/conjecture/maze-transformer/eval_model.ipynb#ch0000007?line=31'>32</a>\u001b[0m \t\tpathdist_functions \u001b[39m=\u001b[39;49m pathdist_functions,\n\u001b[0;32m     <a href='vscode-notebook-cell:/f%3A/conjecture/maze-transformer/eval_model.ipynb#ch0000007?line=32'>33</a>\u001b[0m \t\tn_tokens_pred \u001b[39m=\u001b[39;49m n_tokens_pred,\n\u001b[0;32m     <a href='vscode-notebook-cell:/f%3A/conjecture/maze-transformer/eval_model.ipynb#ch0000007?line=33'>34</a>\u001b[0m \t\ttest_data \u001b[39m=\u001b[39;49m test_data,\n\u001b[0;32m     <a href='vscode-notebook-cell:/f%3A/conjecture/maze-transformer/eval_model.ipynb#ch0000007?line=34'>35</a>\u001b[0m \t\tn_mazes \u001b[39m=\u001b[39;49m n_mazes,\n\u001b[0;32m     <a href='vscode-notebook-cell:/f%3A/conjecture/maze-transformer/eval_model.ipynb#ch0000007?line=35'>36</a>\u001b[0m \t)\n\u001b[0;32m     <a href='vscode-notebook-cell:/f%3A/conjecture/maze-transformer/eval_model.ipynb#ch0000007?line=37'>38</a>\u001b[0m \u001b[39mreturn\u001b[39;00m {\n\u001b[0;32m     <a href='vscode-notebook-cell:/f%3A/conjecture/maze-transformer/eval_model.ipynb#ch0000007?line=38'>39</a>\u001b[0m \tname: {\n\u001b[0;32m     <a href='vscode-notebook-cell:/f%3A/conjecture/maze-transformer/eval_model.ipynb#ch0000007?line=39'>40</a>\u001b[0m \t\tidx: scores[name]\n\u001b[1;32m   (...)\u001b[0m\n\u001b[0;32m     <a href='vscode-notebook-cell:/f%3A/conjecture/maze-transformer/eval_model.ipynb#ch0000007?line=42'>43</a>\u001b[0m \t\u001b[39mfor\u001b[39;00m name \u001b[39min\u001b[39;00m pathdist_scores_idx[\u001b[39m0\u001b[39m]\n\u001b[0;32m     <a href='vscode-notebook-cell:/f%3A/conjecture/maze-transformer/eval_model.ipynb#ch0000007?line=43'>44</a>\u001b[0m }\n",
      "\u001b[1;32mf:\\conjecture\\maze-transformer\\eval_model.ipynb Cell 6'\u001b[0m in \u001b[0;36mevaluate_model_pathdist_scores\u001b[1;34m(model_path, pathdist_functions, n_tokens_pred, test_data, n_mazes)\u001b[0m\n\u001b[0;32m     <a href='vscode-notebook-cell:/f%3A/conjecture/maze-transformer/eval_model.ipynb#ch0000005?line=51'>52</a>\u001b[0m \tpathdist_scores[name] \u001b[39m=\u001b[39m StatCounter(\n\u001b[0;32m     <a href='vscode-notebook-cell:/f%3A/conjecture/maze-transformer/eval_model.ipynb#ch0000005?line=52'>53</a>\u001b[0m \t\tpathdist_func(maze, p_true, p_pred)\n\u001b[0;32m     <a href='vscode-notebook-cell:/f%3A/conjecture/maze-transformer/eval_model.ipynb#ch0000005?line=53'>54</a>\u001b[0m \t\t\u001b[39mfor\u001b[39;00m maze, p_true, p_pred \u001b[39min\u001b[39;00m mazes_solved\n\u001b[0;32m     <a href='vscode-notebook-cell:/f%3A/conjecture/maze-transformer/eval_model.ipynb#ch0000005?line=54'>55</a>\u001b[0m \t)\n\u001b[0;32m     <a href='vscode-notebook-cell:/f%3A/conjecture/maze-transformer/eval_model.ipynb#ch0000005?line=55'>56</a>\u001b[0m \u001b[39melif\u001b[39;00m pathdist_type \u001b[39m==\u001b[39m \u001b[39m\"\u001b[39m\u001b[39marr\u001b[39m\u001b[39m\"\u001b[39m:\n\u001b[1;32m---> <a href='vscode-notebook-cell:/f%3A/conjecture/maze-transformer/eval_model.ipynb#ch0000005?line=56'>57</a>\u001b[0m \tpathdist_scores[name] \u001b[39m=\u001b[39m StatCounter(\n\u001b[0;32m     <a href='vscode-notebook-cell:/f%3A/conjecture/maze-transformer/eval_model.ipynb#ch0000005?line=57'>58</a>\u001b[0m \t\tpathdist_func(maze, p_true, p_pred)\n\u001b[0;32m     <a href='vscode-notebook-cell:/f%3A/conjecture/maze-transformer/eval_model.ipynb#ch0000005?line=58'>59</a>\u001b[0m \t\t\u001b[39mfor\u001b[39;49;00m maze, p_true, p_pred \u001b[39min\u001b[39;49;00m mazes_solved_arrpath\n\u001b[0;32m     <a href='vscode-notebook-cell:/f%3A/conjecture/maze-transformer/eval_model.ipynb#ch0000005?line=59'>60</a>\u001b[0m \t)\n\u001b[0;32m     <a href='vscode-notebook-cell:/f%3A/conjecture/maze-transformer/eval_model.ipynb#ch0000005?line=60'>61</a>\u001b[0m \u001b[39melse\u001b[39;00m:\n\u001b[0;32m     <a href='vscode-notebook-cell:/f%3A/conjecture/maze-transformer/eval_model.ipynb#ch0000005?line=61'>62</a>\u001b[0m \t\u001b[39mraise\u001b[39;00m \u001b[39mValueError\u001b[39;00m(\u001b[39mf\u001b[39m\u001b[39m\"\u001b[39m\u001b[39mInvalid pathdist_type: \u001b[39m\u001b[39m{\u001b[39;00mpathdist_type\u001b[39m}\u001b[39;00m\u001b[39m\"\u001b[39m)\n",
      "File \u001b[1;32mc:\\Python\\Python3_10\\lib\\collections\\__init__.py:577\u001b[0m, in \u001b[0;36mCounter.__init__\u001b[1;34m(self, iterable, **kwds)\u001b[0m\n\u001b[0;32m    566\u001b[0m \u001b[39m'''Create a new, empty Counter object.  And if given, count elements\u001b[39;00m\n\u001b[0;32m    567\u001b[0m \u001b[39mfrom an input iterable.  Or, initialize the count from another mapping\u001b[39;00m\n\u001b[0;32m    568\u001b[0m \u001b[39mof elements to their counts.\u001b[39;00m\n\u001b[1;32m   (...)\u001b[0m\n\u001b[0;32m    574\u001b[0m \n\u001b[0;32m    575\u001b[0m \u001b[39m'''\u001b[39;00m\n\u001b[0;32m    576\u001b[0m \u001b[39msuper\u001b[39m()\u001b[39m.\u001b[39m\u001b[39m__init__\u001b[39m()\n\u001b[1;32m--> 577\u001b[0m \u001b[39mself\u001b[39m\u001b[39m.\u001b[39mupdate(iterable, \u001b[39m*\u001b[39m\u001b[39m*\u001b[39mkwds)\n",
      "File \u001b[1;32mc:\\Python\\Python3_10\\lib\\collections\\__init__.py:670\u001b[0m, in \u001b[0;36mCounter.update\u001b[1;34m(self, iterable, **kwds)\u001b[0m\n\u001b[0;32m    668\u001b[0m             \u001b[39msuper\u001b[39m()\u001b[39m.\u001b[39mupdate(iterable)\n\u001b[0;32m    669\u001b[0m     \u001b[39melse\u001b[39;00m:\n\u001b[1;32m--> 670\u001b[0m         _count_elements(\u001b[39mself\u001b[39;49m, iterable)\n\u001b[0;32m    671\u001b[0m \u001b[39mif\u001b[39;00m kwds:\n\u001b[0;32m    672\u001b[0m     \u001b[39mself\u001b[39m\u001b[39m.\u001b[39mupdate(kwds)\n",
      "\u001b[1;32mf:\\conjecture\\maze-transformer\\eval_model.ipynb Cell 6'\u001b[0m in \u001b[0;36m<genexpr>\u001b[1;34m(.0)\u001b[0m\n\u001b[0;32m     <a href='vscode-notebook-cell:/f%3A/conjecture/maze-transformer/eval_model.ipynb#ch0000005?line=51'>52</a>\u001b[0m \tpathdist_scores[name] \u001b[39m=\u001b[39m StatCounter(\n\u001b[0;32m     <a href='vscode-notebook-cell:/f%3A/conjecture/maze-transformer/eval_model.ipynb#ch0000005?line=52'>53</a>\u001b[0m \t\tpathdist_func(maze, p_true, p_pred)\n\u001b[0;32m     <a href='vscode-notebook-cell:/f%3A/conjecture/maze-transformer/eval_model.ipynb#ch0000005?line=53'>54</a>\u001b[0m \t\t\u001b[39mfor\u001b[39;00m maze, p_true, p_pred \u001b[39min\u001b[39;00m mazes_solved\n\u001b[0;32m     <a href='vscode-notebook-cell:/f%3A/conjecture/maze-transformer/eval_model.ipynb#ch0000005?line=54'>55</a>\u001b[0m \t)\n\u001b[0;32m     <a href='vscode-notebook-cell:/f%3A/conjecture/maze-transformer/eval_model.ipynb#ch0000005?line=55'>56</a>\u001b[0m \u001b[39melif\u001b[39;00m pathdist_type \u001b[39m==\u001b[39m \u001b[39m\"\u001b[39m\u001b[39marr\u001b[39m\u001b[39m\"\u001b[39m:\n\u001b[0;32m     <a href='vscode-notebook-cell:/f%3A/conjecture/maze-transformer/eval_model.ipynb#ch0000005?line=56'>57</a>\u001b[0m \tpathdist_scores[name] \u001b[39m=\u001b[39m StatCounter(\n\u001b[1;32m---> <a href='vscode-notebook-cell:/f%3A/conjecture/maze-transformer/eval_model.ipynb#ch0000005?line=57'>58</a>\u001b[0m \t\tpathdist_func(maze, p_true, p_pred)\n\u001b[0;32m     <a href='vscode-notebook-cell:/f%3A/conjecture/maze-transformer/eval_model.ipynb#ch0000005?line=58'>59</a>\u001b[0m \t\t\u001b[39mfor\u001b[39;00m maze, p_true, p_pred \u001b[39min\u001b[39;00m mazes_solved_arrpath\n\u001b[0;32m     <a href='vscode-notebook-cell:/f%3A/conjecture/maze-transformer/eval_model.ipynb#ch0000005?line=59'>60</a>\u001b[0m \t)\n\u001b[0;32m     <a href='vscode-notebook-cell:/f%3A/conjecture/maze-transformer/eval_model.ipynb#ch0000005?line=60'>61</a>\u001b[0m \u001b[39melse\u001b[39;00m:\n\u001b[0;32m     <a href='vscode-notebook-cell:/f%3A/conjecture/maze-transformer/eval_model.ipynb#ch0000005?line=61'>62</a>\u001b[0m \t\u001b[39mraise\u001b[39;00m \u001b[39mValueError\u001b[39;00m(\u001b[39mf\u001b[39m\u001b[39m\"\u001b[39m\u001b[39mInvalid pathdist_type: \u001b[39m\u001b[39m{\u001b[39;00mpathdist_type\u001b[39m}\u001b[39;00m\u001b[39m\"\u001b[39m)\n",
      "File \u001b[1;32mf:\\conjecture\\maze-transformer\\maze_transformer\\evaluation\\pathdist.py:55\u001b[0m, in \u001b[0;36mArrMazeEvalFuncs.fraction_connections_adjacent_lattice\u001b[1;34m(m, a, b)\u001b[0m\n\u001b[0;32m     52\u001b[0m \t\u001b[39mif\u001b[39;00m (np\u001b[39m.\u001b[39mabs(n_s \u001b[39m-\u001b[39m n_e)\u001b[39m.\u001b[39msum() \u001b[39m<\u001b[39m\u001b[39m=\u001b[39m \u001b[39m1\u001b[39m)\u001b[39m.\u001b[39mall():\n\u001b[0;32m     53\u001b[0m \t\tn_adj \u001b[39m+\u001b[39m\u001b[39m=\u001b[39m \u001b[39m1\u001b[39m\n\u001b[1;32m---> 55\u001b[0m \u001b[39mreturn\u001b[39;00m n_adj \u001b[39m/\u001b[39m \u001b[39mlen\u001b[39m(b[\u001b[39m-\u001b[39;49m\u001b[39m1\u001b[39;49m])\n",
      "\u001b[1;31mIndexError\u001b[0m: index -1 is out of bounds for axis 0 with size 0"
     ]
    }
   ],
   "source": [
    "data = evaluate_pathdist_scores_checkpoints(\n",
    "\tpath_base = \"data/g4-n4K/g4-n4K_tiny-v1_2022-10-05-02-03-44/checkpoints/\",\n",
    "\tcheckpoint_idxs = list(range(0, 9829, 156*8)),\n",
    "\ttest_data = \"data/g4-n1K-test/maze_tokens.jsonl\",\n",
    "\tn_mazes = 16,\n",
    ")\n",
    "\n",
    "plot_pathdist_scores(data)"
   ]
  },
  {
   "cell_type": "code",
   "execution_count": null,
   "metadata": {},
   "outputs": [],
   "source": [
    "\n",
    "\n",
    "# generate_plot_predicted_path(\"data/g4-n4K/g4-n4K_tiny-v1_2022-09-10-02-02-12/checkpoints/model.iter_3120.pt\")\n"
   ]
  }
 ],
 "metadata": {
  "kernelspec": {
   "display_name": "Python 3.10.1 64-bit",
   "language": "python",
   "name": "python3"
  },
  "language_info": {
   "codemirror_mode": {
    "name": "ipython",
    "version": 3
   },
   "file_extension": ".py",
   "mimetype": "text/x-python",
   "name": "python",
   "nbconvert_exporter": "python",
   "pygments_lexer": "ipython3",
   "version": "3.10.1"
  },
  "orig_nbformat": 4,
  "vscode": {
   "interpreter": {
    "hash": "826cdf1d6a1d995932fcc4b02bd7049699ce423053098b308e34496c9b855014"
   }
  }
 },
 "nbformat": 4,
 "nbformat_minor": 2
}
