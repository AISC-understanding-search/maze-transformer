{
 "cells": [
  {
   "cell_type": "code",
   "execution_count": 1,
   "metadata": {},
   "outputs": [],
   "source": [
    "import os\n",
    "import json\n",
    "from pathlib import Path\n",
    "import typing\n",
    "\n",
    "import numpy as np\n",
    "import torch\n",
    "from transformers import OpenAIGPTLMHeadModel, OpenAIGPTConfig\n",
    "\n",
    "from muutils.logger import Logger, TimerContext\n",
    "from muutils.json_serialize import json_serialize, dataclass_serializer_factory\n",
    "from muutils.tensor_utils import ATensor, NDArray\n",
    "from muutils.statcounter import StatCounter\n",
    "from muutils.misc import shorten_numerical_to_str\n",
    "\n",
    "from ipywidgets import interact, interactive, fixed, interact_manual\n",
    "import ipywidgets as widgets\n",
    "\n",
    "from maze_transformer.generation.latticemaze import LatticeMaze\n",
    "from maze_transformer.generation.generators import LatticeMazeGenerators\n",
    "from maze_transformer.training.tokenizer import MazeTokenizer, SPECIAL_TOKENS\n",
    "from maze_transformer.training.mazedataset import MazeDatasetConfig, MazeDataset\n",
    "from maze_transformer.evaluation.plot_maze import plot_multi_paths, PathFormat\n",
    "from maze_transformer.training.dataset import GPTDatasetConfig\n",
    "from maze_transformer.training.config import TrainConfig\n",
    "from maze_transformer.training.training import TRAIN_SAVE_FILES\n",
    "from maze_transformer.evaluation.eval_model import generate_plot_predicted_path, MazePath, load_model_with_configs, LoadedModelConfigs, predict_maze_path\n",
    "from maze_transformer.evaluation.pathdist import MazeEvalFunction, ArrMazeEvalFunction, MazeEvalFuncs, ArrMazeEvalFuncs\n",
    "\n"
   ]
  },
  {
   "cell_type": "markdown",
   "metadata": {},
   "source": [
    "# plot example mazes"
   ]
  },
  {
   "cell_type": "code",
   "execution_count": null,
   "metadata": {},
   "outputs": [],
   "source": [
    "# setup consts\n",
    "def testdata_plot_predicted_path(\n",
    "\t\tmodel_path: str = \"data/g4-n4K/g4-n4K_tiny-v1_2022-10-05-02-03-44/model.final.pt\",\n",
    "\t\tn_mazes: int = 10,\n",
    "\t\tn_tokens_pred: int = 8,\n",
    "\t\tfilename: str = \"data/g4-n1K-test/maze_tokens.jsonl\",\n",
    "\t):\n",
    "\tmazes_tokens: list[list[str]] = list()\n",
    "\n",
    "\t# load model and configs\n",
    "\tloaded_model_and_configs: LoadedModelConfigs = load_model_with_configs(model_path, MazeDatasetConfig)\n",
    "\tdata_cfg: MazeDatasetConfig; train_cfg: TrainConfig\n",
    "\tmodel_cfg: OpenAIGPTConfig; model: OpenAIGPTLMHeadModel\n",
    "\tdata_cfg, train_cfg, model_cfg, model = loaded_model_and_configs\n",
    "\tmodel.config.max_length = model_cfg.n_positions + 1\n",
    "\n",
    "\t# load maze test data\n",
    "\twith open(filename, \"r\") as f:\n",
    "\t\tfor line in f:\n",
    "\t\t\tmazes_tokens.append(line.split())\n",
    "\n",
    "\tmazes_tokens = mazes_tokens[:n_mazes]\n",
    "\n",
    "\tmazes_solved: list[tuple[LatticeMaze, MazePath, MazePath]] = [\n",
    "\t\tpredict_maze_path(\n",
    "\t\t\ttokens = tokens,\n",
    "\t\t\tdata_cfg = data_cfg,\n",
    "\t\t\tmodel = model,\n",
    "\t\t\tn_tokens_pred = n_tokens_pred,\n",
    "\t\t)\n",
    "\t\tfor tokens in mazes_tokens\n",
    "\t]\n",
    "\n",
    "\n",
    "\t# plot\n",
    "\tfor maze, path, path_pred in mazes_solved:\n",
    "\t\tplot_multi_paths(\n",
    "\t\t\tmaze = maze,\n",
    "\t\t\tpaths = [\n",
    "\t\t\t\tPathFormat(path, \"true\", color = \"red\", quiver_kwargs = {'width': 0.015}),\n",
    "\t\t\t\tPathFormat(path_pred, \"predicted\", color = \"blue\", quiver_kwargs = {}),\n",
    "\t\t\t],\n",
    "\t\t)\n",
    "\n",
    "# testdata_plot_predicted_path()"
   ]
  },
  {
   "cell_type": "markdown",
   "metadata": {},
   "source": [
    "# run path dist eval"
   ]
  },
  {
   "cell_type": "code",
   "execution_count": 5,
   "metadata": {},
   "outputs": [
    {
     "name": "stdout",
     "output_type": "stream",
     "text": [
      "{'fraction_connections_adjacent_lattice': ('arr', <staticmethod(<function ArrMazeEvalFuncs.fraction_connections_adjacent_lattice at 0x000002135AFE4F70>)>), 'fraction_connections_adjacent': ('arr', <staticmethod(<function ArrMazeEvalFuncs.fraction_connections_adjacent at 0x000002135AFE5000>)>), 'node_overlap': ('list', <staticmethod(<function MazeEvalFuncs.node_overlap at 0x000002135AFE4EE0>)>)}\n"
     ]
    }
   ],
   "source": [
    "EvalFuncTuple = tuple[typing.Literal[\"arr\", \"list\"], MazeEvalFunction|ArrMazeEvalFunction]\n",
    "\n",
    "ALL_PATHDIST_FUNCS: dict[str, EvalFuncTuple] = {\n",
    "\t**{\n",
    "\t\tname: (\"arr\", func)\n",
    "\t\tfor name, func in ArrMazeEvalFuncs.__dict__.items()\n",
    "\t\tif not name.startswith(\"_\")\n",
    "\t},\n",
    "\t**{\n",
    "\t\tname: (\"list\", func)\n",
    "\t\tfor name, func in MazeEvalFuncs.__dict__.items()\n",
    "\t\tif not name.startswith(\"_\")\n",
    "\t},\n",
    "}\n",
    "\n",
    "print(ALL_PATHDIST_FUNCS)"
   ]
  },
  {
   "cell_type": "code",
   "execution_count": 8,
   "metadata": {},
   "outputs": [
    {
     "name": "stderr",
     "output_type": "stream",
     "text": [
      "WARNING: code hash mismatch for maze_ctor gen_dfs\n",
      "WARNING: sourcefile mismatch for maze_ctor gen_dfs\n"
     ]
    },
    {
     "name": "stdout",
     "output_type": "stream",
     "text": [
      "loaded model with 28M parameters\n"
     ]
    },
    {
     "ename": "TypeError",
     "evalue": "unsupported operand type(s) for -: 'int' and 'tuple'",
     "output_type": "error",
     "traceback": [
      "\u001b[1;31m---------------------------------------------------------------------------\u001b[0m",
      "\u001b[1;31mTypeError\u001b[0m                                 Traceback (most recent call last)",
      "\u001b[1;32mf:\\conjecture\\maze-transformer\\eval_model.ipynb Cell 6'\u001b[0m in \u001b[0;36m<cell line: 66>\u001b[1;34m()\u001b[0m\n\u001b[0;32m     <a href='vscode-notebook-cell:/f%3A/conjecture/maze-transformer/eval_model.ipynb#ch0000005?line=61'>62</a>\u001b[0m \t\t\t\u001b[39mraise\u001b[39;00m \u001b[39mValueError\u001b[39;00m(\u001b[39mf\u001b[39m\u001b[39m\"\u001b[39m\u001b[39mInvalid pathdist_type: \u001b[39m\u001b[39m{\u001b[39;00mpathdist_type\u001b[39m}\u001b[39;00m\u001b[39m\"\u001b[39m)\n\u001b[0;32m     <a href='vscode-notebook-cell:/f%3A/conjecture/maze-transformer/eval_model.ipynb#ch0000005?line=63'>64</a>\u001b[0m \t\u001b[39mreturn\u001b[39;00m pathdist_scores\n\u001b[1;32m---> <a href='vscode-notebook-cell:/f%3A/conjecture/maze-transformer/eval_model.ipynb#ch0000005?line=65'>66</a>\u001b[0m evaluate_model_pathdist_scores(\u001b[39m\"\u001b[39;49m\u001b[39mdata/g4-n4K/g4-n4K_tiny-v1_2022-10-05-02-03-44/model.final.pt\u001b[39;49m\u001b[39m\"\u001b[39;49m)\n",
      "\u001b[1;32mf:\\conjecture\\maze-transformer\\eval_model.ipynb Cell 6'\u001b[0m in \u001b[0;36mevaluate_model_pathdist_scores\u001b[1;34m(model_path, pathdist_functions, n_tokens_pred, test_data, n_mazes)\u001b[0m\n\u001b[0;32m     <a href='vscode-notebook-cell:/f%3A/conjecture/maze-transformer/eval_model.ipynb#ch0000005?line=49'>50</a>\u001b[0m \u001b[39mfor\u001b[39;00m name, (pathdist_type, pathdist_func) \u001b[39min\u001b[39;00m pathdist_functions\u001b[39m.\u001b[39mitems():\n\u001b[0;32m     <a href='vscode-notebook-cell:/f%3A/conjecture/maze-transformer/eval_model.ipynb#ch0000005?line=50'>51</a>\u001b[0m \t\u001b[39mif\u001b[39;00m pathdist_type \u001b[39m==\u001b[39m \u001b[39m\"\u001b[39m\u001b[39marr\u001b[39m\u001b[39m\"\u001b[39m:\n\u001b[1;32m---> <a href='vscode-notebook-cell:/f%3A/conjecture/maze-transformer/eval_model.ipynb#ch0000005?line=51'>52</a>\u001b[0m \t\tpathdist_scores[name] \u001b[39m=\u001b[39m StatCounter(\n\u001b[0;32m     <a href='vscode-notebook-cell:/f%3A/conjecture/maze-transformer/eval_model.ipynb#ch0000005?line=52'>53</a>\u001b[0m \t\t\tpathdist_func(maze, p_true, p_pred)\n\u001b[0;32m     <a href='vscode-notebook-cell:/f%3A/conjecture/maze-transformer/eval_model.ipynb#ch0000005?line=53'>54</a>\u001b[0m \t\t\t\u001b[39mfor\u001b[39;49;00m maze, p_true, p_pred \u001b[39min\u001b[39;49;00m mazes_solved\n\u001b[0;32m     <a href='vscode-notebook-cell:/f%3A/conjecture/maze-transformer/eval_model.ipynb#ch0000005?line=54'>55</a>\u001b[0m \t\t)\n\u001b[0;32m     <a href='vscode-notebook-cell:/f%3A/conjecture/maze-transformer/eval_model.ipynb#ch0000005?line=55'>56</a>\u001b[0m \t\u001b[39melif\u001b[39;00m pathdist_type \u001b[39m==\u001b[39m \u001b[39m\"\u001b[39m\u001b[39mlist\u001b[39m\u001b[39m\"\u001b[39m:\n\u001b[0;32m     <a href='vscode-notebook-cell:/f%3A/conjecture/maze-transformer/eval_model.ipynb#ch0000005?line=56'>57</a>\u001b[0m \t\tpathdist_scores[name] \u001b[39m=\u001b[39m StatCounter(\n\u001b[0;32m     <a href='vscode-notebook-cell:/f%3A/conjecture/maze-transformer/eval_model.ipynb#ch0000005?line=57'>58</a>\u001b[0m \t\t\tpathdist_func(maze, p_true, p_pred)\n\u001b[0;32m     <a href='vscode-notebook-cell:/f%3A/conjecture/maze-transformer/eval_model.ipynb#ch0000005?line=58'>59</a>\u001b[0m \t\t\t\u001b[39mfor\u001b[39;00m maze, p_true, p_pred \u001b[39min\u001b[39;00m mazes_solved_arrpath\n\u001b[0;32m     <a href='vscode-notebook-cell:/f%3A/conjecture/maze-transformer/eval_model.ipynb#ch0000005?line=59'>60</a>\u001b[0m \t\t)\n",
      "File \u001b[1;32mc:\\Python\\Python3_10\\lib\\collections\\__init__.py:577\u001b[0m, in \u001b[0;36mCounter.__init__\u001b[1;34m(self, iterable, **kwds)\u001b[0m\n\u001b[0;32m    566\u001b[0m \u001b[39m'''Create a new, empty Counter object.  And if given, count elements\u001b[39;00m\n\u001b[0;32m    567\u001b[0m \u001b[39mfrom an input iterable.  Or, initialize the count from another mapping\u001b[39;00m\n\u001b[0;32m    568\u001b[0m \u001b[39mof elements to their counts.\u001b[39;00m\n\u001b[1;32m   (...)\u001b[0m\n\u001b[0;32m    574\u001b[0m \n\u001b[0;32m    575\u001b[0m \u001b[39m'''\u001b[39;00m\n\u001b[0;32m    576\u001b[0m \u001b[39msuper\u001b[39m()\u001b[39m.\u001b[39m\u001b[39m__init__\u001b[39m()\n\u001b[1;32m--> 577\u001b[0m \u001b[39mself\u001b[39m\u001b[39m.\u001b[39mupdate(iterable, \u001b[39m*\u001b[39m\u001b[39m*\u001b[39mkwds)\n",
      "File \u001b[1;32mc:\\Python\\Python3_10\\lib\\collections\\__init__.py:670\u001b[0m, in \u001b[0;36mCounter.update\u001b[1;34m(self, iterable, **kwds)\u001b[0m\n\u001b[0;32m    668\u001b[0m             \u001b[39msuper\u001b[39m()\u001b[39m.\u001b[39mupdate(iterable)\n\u001b[0;32m    669\u001b[0m     \u001b[39melse\u001b[39;00m:\n\u001b[1;32m--> 670\u001b[0m         _count_elements(\u001b[39mself\u001b[39;49m, iterable)\n\u001b[0;32m    671\u001b[0m \u001b[39mif\u001b[39;00m kwds:\n\u001b[0;32m    672\u001b[0m     \u001b[39mself\u001b[39m\u001b[39m.\u001b[39mupdate(kwds)\n",
      "\u001b[1;32mf:\\conjecture\\maze-transformer\\eval_model.ipynb Cell 6'\u001b[0m in \u001b[0;36m<genexpr>\u001b[1;34m(.0)\u001b[0m\n\u001b[0;32m     <a href='vscode-notebook-cell:/f%3A/conjecture/maze-transformer/eval_model.ipynb#ch0000005?line=49'>50</a>\u001b[0m \u001b[39mfor\u001b[39;00m name, (pathdist_type, pathdist_func) \u001b[39min\u001b[39;00m pathdist_functions\u001b[39m.\u001b[39mitems():\n\u001b[0;32m     <a href='vscode-notebook-cell:/f%3A/conjecture/maze-transformer/eval_model.ipynb#ch0000005?line=50'>51</a>\u001b[0m \t\u001b[39mif\u001b[39;00m pathdist_type \u001b[39m==\u001b[39m \u001b[39m\"\u001b[39m\u001b[39marr\u001b[39m\u001b[39m\"\u001b[39m:\n\u001b[0;32m     <a href='vscode-notebook-cell:/f%3A/conjecture/maze-transformer/eval_model.ipynb#ch0000005?line=51'>52</a>\u001b[0m \t\tpathdist_scores[name] \u001b[39m=\u001b[39m StatCounter(\n\u001b[1;32m---> <a href='vscode-notebook-cell:/f%3A/conjecture/maze-transformer/eval_model.ipynb#ch0000005?line=52'>53</a>\u001b[0m \t\t\tpathdist_func(maze, p_true, p_pred)\n\u001b[0;32m     <a href='vscode-notebook-cell:/f%3A/conjecture/maze-transformer/eval_model.ipynb#ch0000005?line=53'>54</a>\u001b[0m \t\t\t\u001b[39mfor\u001b[39;00m maze, p_true, p_pred \u001b[39min\u001b[39;00m mazes_solved\n\u001b[0;32m     <a href='vscode-notebook-cell:/f%3A/conjecture/maze-transformer/eval_model.ipynb#ch0000005?line=54'>55</a>\u001b[0m \t\t)\n\u001b[0;32m     <a href='vscode-notebook-cell:/f%3A/conjecture/maze-transformer/eval_model.ipynb#ch0000005?line=55'>56</a>\u001b[0m \t\u001b[39melif\u001b[39;00m pathdist_type \u001b[39m==\u001b[39m \u001b[39m\"\u001b[39m\u001b[39mlist\u001b[39m\u001b[39m\"\u001b[39m:\n\u001b[0;32m     <a href='vscode-notebook-cell:/f%3A/conjecture/maze-transformer/eval_model.ipynb#ch0000005?line=56'>57</a>\u001b[0m \t\tpathdist_scores[name] \u001b[39m=\u001b[39m StatCounter(\n\u001b[0;32m     <a href='vscode-notebook-cell:/f%3A/conjecture/maze-transformer/eval_model.ipynb#ch0000005?line=57'>58</a>\u001b[0m \t\t\tpathdist_func(maze, p_true, p_pred)\n\u001b[0;32m     <a href='vscode-notebook-cell:/f%3A/conjecture/maze-transformer/eval_model.ipynb#ch0000005?line=58'>59</a>\u001b[0m \t\t\t\u001b[39mfor\u001b[39;00m maze, p_true, p_pred \u001b[39min\u001b[39;00m mazes_solved_arrpath\n\u001b[0;32m     <a href='vscode-notebook-cell:/f%3A/conjecture/maze-transformer/eval_model.ipynb#ch0000005?line=59'>60</a>\u001b[0m \t\t)\n",
      "File \u001b[1;32mf:\\conjecture\\maze-transformer\\maze_transformer\\evaluation\\pathdist.py:51\u001b[0m, in \u001b[0;36mArrMazeEvalFuncs.fraction_connections_adjacent_lattice\u001b[1;34m(m, a, b)\u001b[0m\n\u001b[0;32m     48\u001b[0m n_adj: \u001b[39mint\u001b[39m \u001b[39m=\u001b[39m \u001b[39m0\u001b[39m\n\u001b[0;32m     49\u001b[0m \u001b[39mfor\u001b[39;00m n_s, n_e \u001b[39min\u001b[39;00m path_as_segments_iter(b):\n\u001b[1;32m---> 51\u001b[0m \t\u001b[39mif\u001b[39;00m (np\u001b[39m.\u001b[39mabs(n_s \u001b[39m-\u001b[39;49m n_e)\u001b[39m.\u001b[39msum() \u001b[39m<\u001b[39m\u001b[39m=\u001b[39m \u001b[39m1\u001b[39m)\u001b[39m.\u001b[39mall():\n\u001b[0;32m     52\u001b[0m \t\tn_adj \u001b[39m+\u001b[39m\u001b[39m=\u001b[39m \u001b[39m1\u001b[39m\n\u001b[0;32m     54\u001b[0m \u001b[39mreturn\u001b[39;00m n_adj \u001b[39m/\u001b[39m \u001b[39mlen\u001b[39m(b[\u001b[39m-\u001b[39m\u001b[39m1\u001b[39m])\n",
      "\u001b[1;31mTypeError\u001b[0m: unsupported operand type(s) for -: 'int' and 'tuple'"
     ]
    }
   ],
   "source": [
    "\n",
    "\n",
    "from maze_transformer.evaluation.eval_model import ArrMazePath\n",
    "\n",
    "\n",
    "def evaluate_model_pathdist_scores(\n",
    "\t\tmodel_path: str,\n",
    "\t\tpathdist_functions: dict[str, EvalFuncTuple]|None = None,\n",
    "\t\tn_tokens_pred: int = 8,\n",
    "\t\ttest_data: str = \"data/g4-n1K-test/maze_tokens.jsonl\",\n",
    "\t\tn_mazes: int = 10,\n",
    "\t) -> dict[str, StatCounter]:\n",
    "\n",
    "\tif pathdist_functions is None:\n",
    "\t\tpathdist_functions = ALL_PATHDIST_FUNCS\n",
    "\n",
    "\tmazes_tokens: list[list[str]] = list()\n",
    "\n",
    "\t# load model and configs\n",
    "\tloaded_model_and_configs: LoadedModelConfigs = load_model_with_configs(model_path, MazeDatasetConfig)\n",
    "\tdata_cfg: MazeDatasetConfig; train_cfg: TrainConfig\n",
    "\tmodel_cfg: OpenAIGPTConfig; model: OpenAIGPTLMHeadModel\n",
    "\tdata_cfg, train_cfg, model_cfg, model = loaded_model_and_configs\n",
    "\tmodel.config.max_length = model_cfg.n_positions + 1\n",
    "\n",
    "\t# load maze test data\n",
    "\twith open(test_data, \"r\") as f:\n",
    "\t\tfor line in f:\n",
    "\t\t\tmazes_tokens.append(line.split())\n",
    "\n",
    "\tmazes_tokens = mazes_tokens[:n_mazes]\n",
    "\n",
    "\t# predict paths\n",
    "\tmazes_solved: list[tuple[LatticeMaze, MazePath, MazePath]] = [\n",
    "\t\tpredict_maze_path(\n",
    "\t\t\ttokens = tokens,\n",
    "\t\t\tdata_cfg = data_cfg,\n",
    "\t\t\tmodel = model,\n",
    "\t\t\tn_tokens_pred = n_tokens_pred,\n",
    "\t\t)\n",
    "\t\tfor tokens in mazes_tokens\n",
    "\t]\n",
    "\n",
    "\t# convert paths\n",
    "\tmazes_solved_arrpath: list[tuple[LatticeMaze, ArrMazePath, ArrMazePath]] = [\n",
    "\t\t(maze, np.array(p_true), np.array(p_pred))\n",
    "\t\tfor maze, p_true, p_pred in mazes_solved\n",
    "\t]\n",
    "\n",
    "\t# evaluate\n",
    "\tpathdist_scores: dict[str, StatCounter] = dict()\n",
    "\tfor name, (pathdist_type, pathdist_func) in pathdist_functions.items():\n",
    "\t\tif pathdist_type == \"arr\":\n",
    "\t\t\tpathdist_scores[name] = StatCounter(\n",
    "\t\t\t\tpathdist_func(maze, p_true, p_pred)\n",
    "\t\t\t\tfor maze, p_true, p_pred in mazes_solved\n",
    "\t\t\t)\n",
    "\t\telif pathdist_type == \"list\":\n",
    "\t\t\tpathdist_scores[name] = StatCounter(\n",
    "\t\t\t\tpathdist_func(maze, p_true, p_pred)\n",
    "\t\t\t\tfor maze, p_true, p_pred in mazes_solved_arrpath\n",
    "\t\t\t)\n",
    "\t\telse:\n",
    "\t\t\traise ValueError(f\"Invalid pathdist_type: {pathdist_type}\")\n",
    "\n",
    "\treturn pathdist_scores\n",
    "\n",
    "evaluate_model_pathdist_scores(\"data/g4-n4K/g4-n4K_tiny-v1_2022-10-05-02-03-44/model.final.pt\")"
   ]
  },
  {
   "cell_type": "code",
   "execution_count": null,
   "metadata": {},
   "outputs": [],
   "source": [
    "\n",
    "\n",
    "# generate_plot_predicted_path(\"data/g4-n4K/g4-n4K_tiny-v1_2022-09-10-02-02-12/checkpoints/model.iter_3120.pt\")\n"
   ]
  }
 ],
 "metadata": {
  "kernelspec": {
   "display_name": "Python 3.10.1 64-bit",
   "language": "python",
   "name": "python3"
  },
  "language_info": {
   "codemirror_mode": {
    "name": "ipython",
    "version": 3
   },
   "file_extension": ".py",
   "mimetype": "text/x-python",
   "name": "python",
   "nbconvert_exporter": "python",
   "pygments_lexer": "ipython3",
   "version": "3.10.1"
  },
  "orig_nbformat": 4,
  "vscode": {
   "interpreter": {
    "hash": "826cdf1d6a1d995932fcc4b02bd7049699ce423053098b308e34496c9b855014"
   }
  }
 },
 "nbformat": 4,
 "nbformat_minor": 2
}
