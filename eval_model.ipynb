{
 "cells": [
  {
   "cell_type": "code",
   "execution_count": 1,
   "metadata": {},
   "outputs": [],
   "source": [
    "import os\n",
    "import json\n",
    "from pathlib import Path\n",
    "import typing\n",
    "\n",
    "import numpy as np\n",
    "import torch\n",
    "from transformers import OpenAIGPTLMHeadModel, OpenAIGPTConfig\n",
    "\n",
    "from muutils.logger import Logger, TimerContext\n",
    "from muutils.json_serialize import json_serialize, dataclass_serializer_factory\n",
    "from muutils.tensor_utils import ATensor\n",
    "from muutils.statcounter import StatCounter\n",
    "from muutils.misc import shorten_numerical_to_str\n",
    "\n",
    "from ipywidgets import interact, interactive, fixed, interact_manual\n",
    "import ipywidgets as widgets\n",
    "\n",
    "from maze_transformer.generation.latticemaze import LatticeMaze\n",
    "from maze_transformer.generation.generators import LatticeMazeGenerators\n",
    "from maze_transformer.training.tokenizer import MazeTokenizer, SPECIAL_TOKENS\n",
    "from maze_transformer.training.mazedataset import MazeDatasetConfig, MazeDataset\n",
    "from maze_transformer.evaluation.plot_maze import plot_multi_paths\n",
    "from maze_transformer.training.dataset import GPTDatasetConfig\n",
    "from maze_transformer.training.config import TrainConfig\n",
    "from maze_transformer.training.training import TRAIN_SAVE_FILES\n",
    "from maze_transformer.evaluation.eval_model import generate_plot_predicted_path\n",
    "\n"
   ]
  },
  {
   "cell_type": "code",
   "execution_count": 2,
   "metadata": {},
   "outputs": [
    {
     "name": "stderr",
     "output_type": "stream",
     "text": [
      "WARNING: code hash mismatch for maze_ctor gen_dfs\n",
      "WARNING: sourcefile mismatch for maze_ctor gen_dfs\n",
      "Input length of input_ids is 90, but ``max_length`` is set to 20. This can lead to unexpected behavior. You should consider increasing ``config.max_length`` or ``max_length``.\n"
     ]
    },
    {
     "name": "stdout",
     "output_type": "stream",
     "text": [
      "loaded model with 28M parameters\n",
      "maze tokens: ['<ADJLIST_START>', '(1,1)', '<-->', '(1,2)', ';', '(3,0)', '<-->', '(2,0)', ';', '(3,0)', '<-->', '(3,1)', ';', '(1,3)', '<-->', '(0,3)', ';', '(1,2)', '<-->', '(2,2)', ';', '(0,2)', '<-->', '(0,3)', ';', '(1,1)', '<-->', '(1,0)', ';', '(2,3)', '<-->', '(2,2)', ';', '(1,0)', '<-->', '(0,0)', ';', '(2,3)', '<-->', '(1,3)', ';', '(2,3)', '<-->', '(3,3)', ';', '(2,1)', '<-->', '(2,0)', ';', '(0,2)', '<-->', '(0,1)', ';', '(0,0)', '<-->', '(0,1)', ';', '(3,1)', '<-->', '(3,2)', ';', '(3,2)', '<-->', '(3,3)', ';', '<ADJLIST_END>', '<TARGET_START>', '(3,3)', '<TARGET_END>', '<START_PATH>']\n",
      "inputs.shape = torch.Size([1, 90]) n_tokens = 5 model.config.n_positions = 90\n",
      "tensor([[ 8,  8,  8,  8,  8,  8,  8,  8,  8,  8,  8,  8,  8,  8,  8,  8,  8,  8,\n",
      "          8,  8,  0, 14,  6, 15,  7, 21,  6, 17,  7, 21,  6, 22,  7, 16,  6, 12,\n",
      "          7, 15,  6, 19,  7, 11,  6, 12,  7, 14,  6, 13,  7, 20,  6, 19,  7, 13,\n",
      "          6,  9,  7, 20,  6, 16,  7, 20,  6, 24,  7, 18,  6, 17,  7, 11,  6, 10,\n",
      "          7,  9,  6, 10,  7, 22,  6, 23,  7, 23,  6, 24,  7,  1,  2, 24,  3,  4,\n",
      "         10]])\n",
      "['<PADDING>', '<PADDING>', '<PADDING>', '<PADDING>', '<PADDING>', '<PADDING>', '<PADDING>', '<PADDING>', '<PADDING>', '<PADDING>', '<PADDING>', '<PADDING>', '<PADDING>', '<PADDING>', '<PADDING>', '<PADDING>', '<PADDING>', '<PADDING>', '<PADDING>', '<PADDING>', '<ADJLIST_START>', '(1,1)', '<-->', '(1,2)', ';', '(3,0)', '<-->', '(2,0)', ';', '(3,0)', '<-->', '(3,1)', ';', '(1,3)', '<-->', '(0,3)', ';', '(1,2)', '<-->', '(2,2)', ';', '(0,2)', '<-->', '(0,3)', ';', '(1,1)', '<-->', '(1,0)', ';', '(2,3)', '<-->', '(2,2)', ';', '(1,0)', '<-->', '(0,0)', ';', '(2,3)', '<-->', '(1,3)', ';', '(2,3)', '<-->', '(3,3)', ';', '(2,1)', '<-->', '(2,0)', ';', '(0,2)', '<-->', '(0,1)', ';', '(0,0)', '<-->', '(0,1)', ';', '(3,1)', '<-->', '(3,2)', ';', '(3,2)', '<-->', '(3,3)', ';', '<ADJLIST_END>', '<TARGET_START>', '(3,3)', '<TARGET_END>', '<START_PATH>', '(0,1)']\n",
      "(4, 4)\n"
     ]
    },
    {
     "data": {
      "image/png": "[encoded data removed]",
      "text/plain": [
       "<Figure size 432x288 with 1 Axes>"
      ]
     },
     "metadata": {
      "needs_background": "light"
     },
     "output_type": "display_data"
    }
   ],
   "source": [
    "\n",
    "\n",
    "generate_plot_predicted_path(\"data/g4-n4K/g4-n4K_tiny-v1_2022-09-10-02-02-12/checkpoints/model.iter_3120.pt\")\n"
   ]
  }
 ],
 "metadata": {
  "kernelspec": {
   "display_name": "Python 3.10.1 64-bit",
   "language": "python",
   "name": "python3"
  },
  "language_info": {
   "codemirror_mode": {
    "name": "ipython",
    "version": 3
   },
   "file_extension": ".py",
   "mimetype": "text/x-python",
   "name": "python",
   "nbconvert_exporter": "python",
   "pygments_lexer": "ipython3",
   "version": "3.10.1"
  },
  "orig_nbformat": 4,
  "vscode": {
   "interpreter": {
    "hash": "826cdf1d6a1d995932fcc4b02bd7049699ce423053098b308e34496c9b855014"
   }
  }
 },
 "nbformat": 4,
 "nbformat_minor": 2
}
