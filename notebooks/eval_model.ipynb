{
 "cells": [
  {
   "cell_type": "code",
   "execution_count": null,
   "metadata": {
    "collapsed": false,
    "pycharm": {
     "name": "#%%\n"
    }
   },
   "outputs": [],
   "source": [
    "# Generic\n",
    "import typing\n",
    "import os\n",
    "from pathlib import Path\n",
    "import typing\n",
    "import html\n",
    "\n",
    "# Plotting\n",
    "import matplotlib.pyplot as plt\n",
    "\n",
    "# Numerical Computing\n",
    "import numpy as np\n",
    "import torch\n",
    "import pandas as pd\n",
    "\n",
    "# Utilities\n",
    "from muutils.statcounter import StatCounter\n",
    "\n",
    "# Our Code\n",
    "from maze_transformer.utils.notebook_utils import configure_notebook\n",
    "from maze_transformer.generation.lattice_maze import LatticeMaze, SolvedMaze\n",
    "from maze_transformer.evaluation.plot_maze import PathFormat, MazePlot\n",
    "from maze_transformer.training.maze_dataset import MazeDataset, MazeDatasetConfig\n",
    "from maze_transformer.evaluation.eval_model import (\n",
    "    load_model_with_configs,\n",
    "    predict_maze_paths,\n",
    "    evaluate_model\n",
    ")\n",
    "from maze_transformer.evaluation.path_evals import (\n",
    "    PathEvals,\n",
    "    PathEvalFunction,\n",
    ")\n",
    "from maze_transformer.utils.utils import set_reproducibility, chunks, get_checkpoint_paths_for_run"
   ]
  },
  {
   "cell_type": "code",
   "execution_count": null,
   "metadata": {
    "collapsed": false,
    "pycharm": {
     "name": "#%%\n"
    }
   },
   "outputs": [],
   "source": [
    "# Setup\n",
    "device = configure_notebook(seed=42, dark_mode=True)\n",
    "\n",
    "# We won't be training any models\n",
    "torch.set_grad_enabled(False)\n",
    "\n",
    "# Get latest model\n",
    "# this should point towards a directory containing a run. \n",
    "# If you don't have any runs, you can create a dataset with `poetry run python scripts/create_dataset.py create ./data/maze 10 --grid_n=4`\n",
    "# Then train a model with `poetry run python scripts/train_model.py ./data/maze/g4-n10`\n",
    "run_path = Path(\"../examples/maze/g4-n10/g4-n10_tiny-v1_2023-03-28-22-44-54\")\n",
    "\n",
    "assert run_path.exists(), f\"Run path {run_path.as_posix()} does not exist\"\n",
    "model_path = list(sorted(run_path.glob(\"**/model.final.pt\"), key=os.path.getmtime))[\n",
    "\t-1\n",
    "].resolve()\n",
    "maze_path = run_path.parent / \"maze_tokens.jsonl\"\n",
    "\n",
    "dataset = MazeDataset.disk_load(run_path.parent, do_config=True, do_tokens=True)"
   ]
  },
  {
   "cell_type": "markdown",
   "metadata": {
    "collapsed": false,
    "pycharm": {
     "name": "#%% md\n"
    }
   },
   "source": [
    "# plot example mazes"
   ]
  },
  {
   "cell_type": "code",
   "execution_count": null,
   "metadata": {
    "collapsed": false,
    "pycharm": {
     "name": "#%%\n"
    }
   },
   "outputs": [],
   "source": [
    "# setup consts\n",
    "def testdata_plot_predicted_path(\n",
    "\t\tmodel_path: Path,\n",
    "\t\tmaze_tokens_path: Path, \n",
    "\t\tn_mazes: int = 10,\n",
    "\t\tmax_new_tokens: int = 8,\n",
    "\t):\n",
    "\t# load model and configs\n",
    "\tmodel, cfg = load_model_with_configs(model_path)\n",
    "\t\n",
    "\t# load maze test data\n",
    "\tmazes_tokens: list[list[str]] = [\n",
    " \t   line.split() for line in maze_tokens_path.read_text().splitlines()\n",
    "\t]\n",
    "\tmazes_tokens = mazes_tokens[:n_mazes]\n",
    "\n",
    "\tsolved_mazes = [SolvedMaze.from_tokens(tokens, dataset.cfg) for tokens in mazes_tokens]\n",
    "\tmazes, solutions = zip(*solved_mazes)\n",
    "\n",
    "\tpredictions = predict_maze_paths(\n",
    "\t\ttokens_batch=mazes_tokens,\n",
    "\t\tdata_cfg=dataset.cfg,\n",
    "\t\tmodel=model,\n",
    "\t\tmax_new_tokens=max_new_tokens,\n",
    "\t)\n",
    "\n",
    "\n",
    "\t# plot\n",
    "\tfor i, maze in enumerate(mazes):\n",
    "\t\tMazePlot(maze).add_true_path(solutions[i]).add_predicted_path(predictions[i]).show()\n",
    "\n",
    "testdata_plot_predicted_path(model_path, maze_path)"
   ]
  },
  {
   "cell_type": "markdown",
   "metadata": {
    "collapsed": false,
    "pycharm": {
     "name": "#%% md\n"
    }
   },
   "source": [
    "# run path dist eval"
   ]
  },
  {
   "cell_type": "code",
   "execution_count": null,
   "metadata": {
    "collapsed": false,
    "pycharm": {
     "name": "#%%\n"
    }
   },
   "outputs": [],
   "source": [
    "model_checkpoints = get_checkpoint_paths_for_run(model_path.parent)\n",
    "print(f\"Found {len(model_checkpoints)} checkpoints:\\n\\t{model_checkpoints = }\")\n",
    "\n",
    "pathdist_scores_idx: dict[int, dict[str, StatCounter]] = dict()\n",
    "\n",
    "for idx, checkpoint_path in model_checkpoints:\n",
    "\tprint(f\"# Evaluating checkpoint {idx} at {checkpoint_path}\")\n",
    "\tmodel, _ = load_model_with_configs(checkpoint_path)\n",
    "\tpathdist_scores_idx[idx] = evaluate_model(\n",
    "\t\tmodel=model,\n",
    "\t\tdataset=dataset\n",
    "\t)\n",
    "\n",
    "print(f\"Found {len(pathdist_scores_idx)} checkpoints:\\n\\t{list(pathdist_scores_idx.keys())}\")\n",
    "\n",
    "\n",
    "data = {\n",
    "\tname: {\n",
    "\t\tidx: scores[name]\n",
    "\t\tfor idx, scores in pathdist_scores_idx.items()\n",
    "\t}\n",
    "\tfor name in pathdist_scores_idx[0]\n",
    "}"
   ]
  },
  {
   "cell_type": "code",
   "execution_count": null,
   "metadata": {},
   "outputs": [],
   "source": [
    "# sort the data:\n",
    "data_old = data\n",
    "data = {\n",
    "\tname: {\n",
    "\t\tidx: scores[name]\n",
    "\t\tfor idx, scores in sorted(pathdist_scores_idx.items())\n",
    "\t}\n",
    "\tfor name in pathdist_scores_idx[0]\n",
    "}\n"
   ]
  },
  {
   "cell_type": "code",
   "execution_count": null,
   "metadata": {
    "collapsed": false,
    "pycharm": {
     "name": "#%%\n"
    }
   },
   "outputs": [],
   "source": [
    "def plot_pathdist_scores(\n",
    "\t\tdata: dict[str, dict[int, StatCounter]],\n",
    "\t\tcolors: dict[str, str]|None = None,\n",
    "\t\tpercentile_bounds: tuple[float, float] = (0.4, 0.6),\n",
    "\t):\n",
    "\n",
    "\tif colors is None:\n",
    "\t\tcolors = {\n",
    "\t\t\tfunc_name: f\"C{i}\"\n",
    "\t\t\tfor i, func_name in enumerate(data.keys())\n",
    "\t\t}\n",
    "\n",
    "\tfig, ax = plt.subplots(len(data), 1, figsize = (8, 4 * len(data)))\n",
    "\tfig.subplots_adjust(hspace = 0.5)\n",
    "\t\t\n",
    "\tfor i, (name, scores_indexed) in enumerate(data.items()):\n",
    "\t\tx = list(scores_indexed.keys())\n",
    "\t\ty = [\n",
    "\t\t\tscores_indexed[i].median()\n",
    "\t\t\tfor i in x\n",
    "\t\t]\n",
    "\t\tax[i].plot(x, y, label=name, color=colors[name])\n",
    "\t\t# plot shaded error bars\n",
    "\t\ty_ub = [\n",
    "\t\t\tscores_indexed[i].percentile(percentile_bounds[1])\n",
    "\t\t\tfor i in x\n",
    "\t\t]\n",
    "\t\ty_lb = [\n",
    "\t\t\tscores_indexed[i].percentile(percentile_bounds[0])\n",
    "\t\t\tfor i in x\n",
    "\t\t]\n",
    "\t\tax[i].fill_between(\n",
    "\t\t\tx, y_lb, y_ub,\n",
    "\t    \talpha=0.5, \n",
    "\t\t\tedgecolor=colors[name], facecolor=colors[name],\n",
    "\t\t)\n",
    "\n",
    "\t\tax[i].set_title(f\"{name}, {percentile_bounds = }\")\n",
    "\t\tax[i].set_xlabel(\"Checkpoint\")\n",
    "\t\tax[i].set_ylabel(\"score\")\n",
    "\n",
    "\tplt.show()"
   ]
  },
  {
   "cell_type": "code",
   "execution_count": null,
   "metadata": {
    "collapsed": false,
    "pycharm": {
     "name": "#%%\n"
    }
   },
   "outputs": [],
   "source": [
    "plot_pathdist_scores(data)"
   ]
  }
 ],
 "metadata": {
  "kernelspec": {
   "display_name": "maze-transformer",
   "language": "python",
   "name": "maze-transformer"
  },
  "language_info": {
   "codemirror_mode": {
    "name": "ipython",
    "version": 3
   },
   "file_extension": ".py",
   "mimetype": "text/x-python",
   "name": "python",
   "nbconvert_exporter": "python",
   "pygments_lexer": "ipython3",
   "version": "3.10.1"
  },
  "orig_nbformat": 4,
  "vscode": {
   "interpreter": {
    "hash": "62905ad46d100ac3585b269e697bed797f99f9269c8442add34dc9bf06a84d9c"
   }
  }
 },
 "nbformat": 4,
 "nbformat_minor": 2
}
