{
    "cells": [
        {
            "attachments": {},
            "cell_type": "markdown",
            "metadata": {},
            "source": [
                "# Setup"
            ]
        },
        {
            "cell_type": "code",
            "execution_count": 1,
            "metadata": {
                "collapsed": false,
                "pycharm": {
                    "name": "#%%\n"
                }
            },
            "outputs": [],
            "source": [
                "# Generic\n",
                "import copy\n",
                "import typing\n",
                "from pathlib import Path\n",
                "import html\n",
                "\n",
                "# Plotting\n",
                "import matplotlib.pyplot as plt\n",
                "\n",
                "# Numerical Computing\n",
                "import numpy as np\n",
                "import torch\n",
                "# Utilities\n",
                "from muutils.statcounter import StatCounter\n",
                "\n",
                "# Our Code\n",
                "from muutils.nbutils.configure_notebook import configure_notebook\n",
                "from maze_dataset.plotting import MazePlot\n",
                "from maze_dataset import MazeDataset, MazeDatasetConfig\n",
                "from maze_transformer.training.config import ZanjHookedTransformer\n",
                "from maze_transformer.evaluation.eval_model import predict_maze_paths, evaluate_model\n",
                "from maze_transformer.evaluation.baseline_models import RandomBaseline\n",
                "from muutils.mlutils import get_checkpoint_paths_for_run\n",
                "from maze_transformer.evaluation.plotting import plot_predicted_paths, eval_model_at_checkpoints, plot_pathdist_scores"
            ]
        },
        {
            "cell_type": "code",
            "execution_count": null,
            "metadata": {},
            "outputs": [],
            "source": [
                "# Setup (we won't be training any models)\n",
                "DEVICE: torch.device = configure_notebook(seed=42, dark_mode=False)\n",
                "print(f\"{DEVICE = }\")\n",
                "torch.set_grad_enabled(False)"
            ]
        },
        {
            "cell_type": "code",
            "execution_count": null,
            "metadata": {
                "collapsed": false,
                "pycharm": {
                    "name": "#%%\n"
                }
            },
            "outputs": [],
            "source": [
                "# Setup\n",
                "PATH_EXAMPLES: Path = Path(\"../examples/\")\n",
                "PATH_DATA: Path = Path(\"../data/\")\n",
                "\n",
                "# We won't be training any models\n",
                "torch.set_grad_enabled(False)\n",
                "\n",
                "# get the default model from examples\n",
                "MODEL_PATH: Path = PATH_EXAMPLES / \"multsrc_demo-g6-n10K-a_dfs-h50618_tiny-v1_sweep-v1_2024-08-21-12-21-39/model.final.zanj\"\n",
                "# MODEL_PATH: Path = PATH_DATA / \"custom_2023-05-24-05-03-04/model.final.zanj\"\n",
                "# MODEL_PATH: Path = PATH_EXAMPLES / \"hallway-medium_2023-06-16-03-40-47.iter_26554.zanj\"\n",
                "print(f\"will try to get model from {MODEL_PATH.as_posix()}\")\n",
                "MODEL: ZanjHookedTransformer = ZanjHookedTransformer.read(MODEL_PATH)\n",
                "print(f\"loaded model: {MODEL.config.name} with {MODEL.num_params()} parameters\")"
            ]
        },
        {
            "cell_type": "code",
            "execution_count": null,
            "metadata": {},
            "outputs": [],
            "source": [
                "# generate a smaller test dataset from the same config\n",
                "DATASET_TEST_CFG: MazeDatasetConfig = copy.deepcopy(MODEL.config.dataset_cfg)\n",
                "DATASET_TEST_CFG.n_mazes = 100\n",
                "DATASET_TEST: MazeDataset = MazeDataset.from_config(\n",
                "    DATASET_TEST_CFG,\n",
                "    local_base_path=PATH_DATA,\n",
                "    verbose=True,\n",
                ")\n",
                "print(f\"got test dataset: {DATASET_TEST.cfg.name} with {len(DATASET_TEST)} mazes\")"
            ]
        },
        {
            "cell_type": "markdown",
            "metadata": {
                "collapsed": false,
                "pycharm": {
                    "name": "#%% md\n"
                }
            },
            "source": [
                "# plot example mazes"
            ]
        },
        {
            "cell_type": "code",
            "execution_count": null,
            "metadata": {},
            "outputs": [],
            "source": [
                "plot_predicted_paths(MODEL, DATASET_TEST, n_mazes=5, max_new_tokens=50)"
            ]
        },
        {
            "cell_type": "code",
            "execution_count": null,
            "metadata": {},
            "outputs": [],
            "source": [
                "# now let's do the same with the baseline solver\n",
                "BASELINE_SOLVER: RandomBaseline = RandomBaseline(MODEL.zanj_model_config)\n",
                "plot_predicted_paths(BASELINE_SOLVER, DATASET_TEST, n_mazes=5, max_new_tokens=15)"
            ]
        },
        {
            "cell_type": "markdown",
            "metadata": {
                "collapsed": false,
                "pycharm": {
                    "name": "#%% md\n"
                }
            },
            "source": [
                "# run path dist eval"
            ]
        },
        {
            "cell_type": "code",
            "execution_count": null,
            "metadata": {
                "collapsed": false,
                "pycharm": {
                    "name": "#%%\n"
                }
            },
            "outputs": [],
            "source": [
                "PATHDIST_SCORES: dict[str, dict[int, StatCounter]] = eval_model_at_checkpoints(MODEL_PATH, DATASET_TEST, max_checkpoints=5)"
            ]
        },
        {
            "cell_type": "code",
            "execution_count": null,
            "metadata": {},
            "outputs": [],
            "source": [
                "plot_pathdist_scores(PATHDIST_SCORES)"
            ]
        },
        {
            "cell_type": "code",
            "execution_count": null,
            "metadata": {},
            "outputs": [],
            "source": []
        }
    ],
    "metadata": {
        "kernelspec": {
            "display_name": "maze-transformer-2cGx2R0F-py3.11",
            "language": "python",
            "name": "python3"
        },
        "language_info": {
            "codemirror_mode": {
                "name": "ipython",
                "version": 3
            },
            "file_extension": ".py",
            "mimetype": "text/x-python",
            "name": "python",
            "nbconvert_exporter": "python",
            "pygments_lexer": "ipython3",
            "version": "3.12.4"
        },
        "orig_nbformat": 4
    },
    "nbformat": 4,
    "nbformat_minor": 2
}
