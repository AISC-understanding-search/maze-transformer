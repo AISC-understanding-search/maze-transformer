{
    "cells": [
        {
            "attachments": {},
            "cell_type": "markdown",
            "metadata": {},
            "source": [
                "# Setup"
            ]
        },
        {
            "cell_type": "code",
            "execution_count": null,
            "metadata": {
                "collapsed": false,
                "pycharm": {
                    "name": "#%%\n"
                }
            },
            "outputs": [],
            "source": [
                "# Generic\n",
                "import copy\n",
                "import typing\n",
                "from pathlib import Path\n",
                "import html\n",
                "\n",
                "# Plotting\n",
                "import matplotlib.pyplot as plt\n",
                "\n",
                "# Numerical Computing\n",
                "import numpy as np\n",
                "import torch\n",
                "# Utilities\n",
                "from muutils.statcounter import StatCounter\n",
                "\n",
                "# Our Code\n",
                "from muutils.nbutils.configure_notebook import configure_notebook\n",
                "from maze_dataset.plotting import MazePlot\n",
                "from maze_dataset import MazeDataset, MazeDatasetConfig\n",
                "from maze_transformer.training.config import ZanjHookedTransformer\n",
                "from maze_transformer.evaluation.eval_model import predict_maze_paths, evaluate_model\n",
                "from maze_transformer.evaluation.baseline_models import RandomBaseline\n",
                "from muutils.mlutils import get_checkpoint_paths_for_run"
            ]
        },
        {
            "cell_type": "code",
            "execution_count": null,
            "metadata": {
                "collapsed": false,
                "pycharm": {
                    "name": "#%%\n"
                }
            },
            "outputs": [],
            "source": [
                "# Setup\n",
                "DEVICE = configure_notebook(seed=42, dark_mode=True)\n",
                "PATH_EXAMPLES: Path = Path(\"../examples/\")\n",
                "PATH_DATA: Path = Path(\"../data/\")\n",
                "\n",
                "# We won't be training any models\n",
                "torch.set_grad_enabled(False)\n",
                "\n",
                "# get the default model from examples\n",
                "MODEL_PATH: Path = PATH_EXAMPLES / \"multsrc_demo-g6-n10K-a_dfs-h92077_tiny-v1_sweep-v1_2023-05-20-21-30-02/model.final.zanj\"\n",
                "# MODEL_PATH: Path = PATH_DATA / \"custom_2023-05-24-05-03-04/model.final.zanj\"\n",
                "# MODEL_PATH: Path = PATH_EXAMPLES / \"hallway-medium_2023-06-16-03-40-47.iter_26554.zanj\"\n",
                "print(f\"will try to get model from {MODEL_PATH.as_posix()}\")\n",
                "MODEL: ZanjHookedTransformer = ZanjHookedTransformer.read(MODEL_PATH)\n",
                "print(f\"loaded model: {MODEL.config.name} with {MODEL.num_params()} parameters\")"
            ]
        },
        {
            "cell_type": "code",
            "execution_count": null,
            "metadata": {},
            "outputs": [],
            "source": [
                "# generate a smaller test dataset from the same config\n",
                "DATASET_TEST_CFG: MazeDatasetConfig = copy.deepcopy(MODEL.config.dataset_cfg)\n",
                "DATASET_TEST_CFG.n_mazes = 100\n",
                "DATASET_TEST: MazeDataset = MazeDataset.from_config(\n",
                "    DATASET_TEST_CFG,\n",
                "    local_base_path=PATH_DATA,\n",
                "    verbose=True,\n",
                ")\n",
                "print(f\"got test dataset: {DATASET_TEST.cfg.name} with {len(DATASET_TEST)} mazes\")"
            ]
        },
        {
            "cell_type": "markdown",
            "metadata": {
                "collapsed": false,
                "pycharm": {
                    "name": "#%% md\n"
                }
            },
            "source": [
                "# plot example mazes"
            ]
        },
        {
            "cell_type": "code",
            "execution_count": null,
            "metadata": {
                "collapsed": false,
                "pycharm": {
                    "name": "#%%\n"
                }
            },
            "outputs": [],
            "source": [
                "def testdata_plot_predicted_path(\n",
                "\t\tmodel: ZanjHookedTransformer,\n",
                "\t\tdataset: MazeDataset,\n",
                "\t\tn_mazes: int|None = None,\n",
                "\t\tmax_new_tokens: int = 8,\n",
                "\t):\n",
                "\tif n_mazes is None:\n",
                "\t\tn_mazes = len(dataset)\n",
                "\n",
                "\t# predict\n",
                "\tpredictions: list[list[tuple[int,int]]] = predict_maze_paths(\n",
                "\t\ttokens_batch=dataset.as_tokens(model.config.maze_tokenizer)[:n_mazes],\n",
                "\t\tdata_cfg=dataset.cfg,\n",
                "\t\tmodel=model,\n",
                "\t\tmax_new_tokens=max_new_tokens,\n",
                "\t)\n",
                "\n",
                "\t# plot\n",
                "\tfor i, maze in enumerate(dataset.mazes[:n_mazes]):\n",
                "\t\tMazePlot(maze).add_predicted_path(predictions[i]).plot()\n",
                "\t\tplt.show()\n"
            ]
        },
        {
            "cell_type": "code",
            "execution_count": null,
            "metadata": {},
            "outputs": [],
            "source": [
                "testdata_plot_predicted_path(MODEL, DATASET_TEST, n_mazes=5, max_new_tokens=50)"
            ]
        },
        {
            "cell_type": "code",
            "execution_count": null,
            "metadata": {},
            "outputs": [],
            "source": [
                "# now let's do the same with the baseline solver\n",
                "BASELINE_SOLVER: RandomBaseline = RandomBaseline(MODEL.zanj_model_config)\n",
                "testdata_plot_predicted_path(BASELINE_SOLVER, DATASET_TEST, n_mazes=5, max_new_tokens=15)"
            ]
        },
        {
            "cell_type": "markdown",
            "metadata": {
                "collapsed": false,
                "pycharm": {
                    "name": "#%% md\n"
                }
            },
            "source": [
                "# run path dist eval"
            ]
        },
        {
            "cell_type": "code",
            "execution_count": null,
            "metadata": {
                "collapsed": false,
                "pycharm": {
                    "name": "#%%\n"
                }
            },
            "outputs": [],
            "source": [
                "def eval_model_at_checkpoints(\n",
                "\tmodel_path: Path,\n",
                "\tdataset: MazeDataset,\n",
                "\tmax_checkpoints: int = 50,\n",
                ") -> dict[str, dict[int, StatCounter]]:\n",
                "\t\"\"\"runs evaluate_model on various checkpoints of a model\n",
                "\t\n",
                "\treturned dict maps eval name to a dict of checkpoint index to statcounter\n",
                "\t\"\"\"\n",
                "\n",
                "\tmodel_checkpoints: list[tuple[int, Path]] = get_checkpoint_paths_for_run(MODEL_PATH.parent, \"zanj\")\n",
                "\tmodel_checkpoints.sort(key=lambda x: x[0])\n",
                "\tprint(f\"Found {len(model_checkpoints)} checkpoints, min_index={model_checkpoints[0][0]}, max_index={model_checkpoints[-1][0]}\")\n",
                "\n",
                "\t# filter to every nth checkpoint\n",
                "\tnum_checkpoints: int = len(model_checkpoints)\n",
                "\ttake_every_nth: int = max(1, num_checkpoints // max_checkpoints)\n",
                "\tmodel_checkpoints: list[tuple[int, Path]] = model_checkpoints[::take_every_nth]\n",
                "\tprint(f\"will evaluate {len(model_checkpoints)} checkpoints: {[(i,p.as_posix()) for i,p in model_checkpoints]}\")\n",
                "\n",
                "\tpathdist_scores_idx: dict[int, dict[str, StatCounter]] = dict()\n",
                "\n",
                "\tfor idx, checkpoint_path in model_checkpoints:\n",
                "\t\tprint(f\"# Evaluating checkpoint {idx} at {checkpoint_path}\")\n",
                "\t\tmodel_at_index = ZanjHookedTransformer.read(checkpoint_path)\n",
                "\t\tpathdist_scores_idx[idx] = evaluate_model(\n",
                "\t\t\tmodel=model_at_index,\n",
                "\t\t\tdataset=dataset,\n",
                "\t\t)\n",
                "\n",
                "\n",
                "\treturn {\n",
                "\t\tname: {\n",
                "\t\t\tidx: scores[name]\n",
                "\t\t\tfor idx, scores in pathdist_scores_idx.items()\n",
                "\t\t}\n",
                "\t\tfor name in pathdist_scores_idx[list(pathdist_scores_idx.keys())[0]].keys()\n",
                "\t}"
            ]
        },
        {
            "cell_type": "code",
            "execution_count": null,
            "metadata": {
                "collapsed": false,
                "pycharm": {
                    "name": "#%%\n"
                }
            },
            "outputs": [],
            "source": [
                "def plot_pathdist_scores(\n",
                "\t\tdata: dict[str, dict[int, StatCounter]],\n",
                "\t\tcolors: dict[str, str]|None = None,\n",
                "\t\tpercentile_bounds: tuple[float, float] = (0.4, 0.6),\n",
                "\t):\n",
                "\t\"\"\"plots pathdist scores over checkpoints\n",
                "\t\n",
                "\texpects a dict mapping eval name to a dict of checkpoint index to statcounter\n",
                "\t\"\"\"\n",
                "\n",
                "\tif colors is None:\n",
                "\t\tcolors = {\n",
                "\t\t\tfunc_name: f\"C{i}\"\n",
                "\t\t\tfor i, func_name in enumerate(data.keys())\n",
                "\t\t}\n",
                "\n",
                "\tfig, ax = plt.subplots(len(data), 1, figsize = (8, 4 * len(data)))\n",
                "\tfig.subplots_adjust(hspace = 0.5)\n",
                "\t\t\n",
                "\tfor i, (name, scores_indexed) in enumerate(data.items()):\n",
                "\t\tx = list(scores_indexed.keys())\n",
                "\t\ty = [\n",
                "\t\t\tscores_indexed[i].median()\n",
                "\t\t\tfor i in x\n",
                "\t\t]\n",
                "\t\tax[i].plot(x, y, label=name, color=colors[name])\n",
                "\t\t# plot shaded error bars\n",
                "\t\ty_ub = [\n",
                "\t\t\tscores_indexed[i].percentile(percentile_bounds[1])\n",
                "\t\t\tfor i in x\n",
                "\t\t]\n",
                "\t\ty_lb = [\n",
                "\t\t\tscores_indexed[i].percentile(percentile_bounds[0])\n",
                "\t\t\tfor i in x\n",
                "\t\t]\n",
                "\t\tax[i].fill_between(\n",
                "\t\t\tx, y_lb, y_ub,\n",
                "\t    \talpha=0.5, \n",
                "\t\t\tedgecolor=colors[name], facecolor=colors[name],\n",
                "\t\t)\n",
                "\n",
                "\t\tax[i].set_title(f\"{name}, {percentile_bounds = }\")\n",
                "\t\tax[i].set_xlabel(\"Checkpoint\")\n",
                "\t\tax[i].set_ylabel(\"score\")\n",
                "\n",
                "\tplt.show()"
            ]
        },
        {
            "cell_type": "code",
            "execution_count": null,
            "metadata": {
                "collapsed": false,
                "pycharm": {
                    "name": "#%%\n"
                }
            },
            "outputs": [],
            "source": [
                "PATHDIST_SCORES: dict[str, dict[int, StatCounter]] = eval_model_at_checkpoints(MODEL_PATH, DATASET_TEST, max_checkpoints=5)"
            ]
        },
        {
            "cell_type": "code",
            "execution_count": null,
            "metadata": {},
            "outputs": [],
            "source": [
                "plot_pathdist_scores(PATHDIST_SCORES)"
            ]
        }
    ],
    "metadata": {
        "kernelspec": {
            "display_name": "maze-transformer",
            "language": "python",
            "name": "maze-transformer"
        },
        "language_info": {
            "codemirror_mode": {
                "name": "ipython",
                "version": 3
            },
            "file_extension": ".py",
            "mimetype": "text/x-python",
            "name": "python",
            "nbconvert_exporter": "python",
            "pygments_lexer": "ipython3",
            "version": "3.10.1"
        },
        "orig_nbformat": 4
    },
    "nbformat": 4,
    "nbformat_minor": 2
}
