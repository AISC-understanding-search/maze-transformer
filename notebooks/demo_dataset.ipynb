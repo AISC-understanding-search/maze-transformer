{
 "cells": [
  {
   "cell_type": "code",
   "execution_count": null,
   "metadata": {},
   "outputs": [],
   "source": [
    "import json\n",
    "\n",
    "import matplotlib.pyplot as plt\n",
    "\n",
    "from muutils.zanj import ZANJ\n",
    "from maze_transformer.generation.generators import LatticeMazeGenerators\n",
    "from maze_transformer.dataset.maze_dataset import MazeDataset, MazeDatasetConfig\n",
    "from maze_transformer.dataset.maze_dataset_configs import MAZE_DATASET_CONFIGS\n",
    "\n",
    "print(MAZE_DATASET_CONFIGS.keys())"
   ]
  },
  {
   "attachments": {},
   "cell_type": "markdown",
   "metadata": {},
   "source": [
    "you should always see `test-g3-n5-a_dfs-h11364` in the list of available dataset configs"
   ]
  },
  {
   "cell_type": "code",
   "execution_count": null,
   "metadata": {},
   "outputs": [],
   "source": [
    "def plot_dataset_mazes(ds: MazeDataset, count: int|None = None):\n",
    "\tcount = count or len(ds)\n",
    "\tfig, axes = plt.subplots(1, count, figsize=(15, 5))\n",
    "\tfor i in range(count):\n",
    "\t\taxes[i].imshow(ds[i].as_pixels())\n",
    "\t\t# remove ticks\n",
    "\t\taxes[i].set_xticks([])\n",
    "\t\taxes[i].set_yticks([])\n"
   ]
  },
  {
   "cell_type": "code",
   "execution_count": null,
   "metadata": {},
   "outputs": [],
   "source": [
    "zanj: ZANJ = ZANJ(external_list_threshold=8)\n",
    "cfg: MazeDatasetConfig = MazeDatasetConfig(\n",
    "\tname=\"test\",\n",
    "\tgrid_n=3,\n",
    "\tn_mazes=32,\n",
    "\tmaze_ctor=LatticeMazeGenerators.gen_dfs,\n",
    ")"
   ]
  },
  {
   "cell_type": "code",
   "execution_count": null,
   "metadata": {},
   "outputs": [],
   "source": [
    "dataset: MazeDataset = MazeDataset.from_config(\n",
    "\tcfg,\n",
    "\tdo_download=False,\n",
    "\tload_local=False,\n",
    "\tdo_generate=True,\n",
    "    save_local=True,\n",
    "\tlocal_base_path=\"../data/\",\n",
    "\tverbose=True,\n",
    "\tzanj=zanj,\n",
    "\tgen_parallel=False, # parallel generation has overhead, not worth it unless you're doing a lot of mazes\n",
    ")"
   ]
  },
  {
   "cell_type": "code",
   "execution_count": null,
   "metadata": {},
   "outputs": [],
   "source": [
    "dataset_cpy: MazeDataset = MazeDataset.from_config(\n",
    "\tcfg,\n",
    "\tdo_download=False,\n",
    "\tload_local=True,\n",
    "\tdo_generate=False,\n",
    "\tlocal_base_path=\"../data/\",\n",
    "\tverbose=True,\n",
    "\tzanj=zanj,\n",
    ")\n"
   ]
  },
  {
   "cell_type": "code",
   "execution_count": null,
   "metadata": {},
   "outputs": [],
   "source": [
    "assert dataset.cfg == dataset_cpy.cfg\n",
    "print(len(dataset), len(dataset_cpy))\n",
    "print(dataset_cpy[0])\n",
    "assert all(x == y for x,y in zip(dataset, dataset_cpy))"
   ]
  },
  {
   "cell_type": "code",
   "execution_count": null,
   "metadata": {},
   "outputs": [],
   "source": [
    "dataset_filtered: MazeDataset = dataset.filter_by.path_length(min_length=3)\n",
    "\n",
    "print(f\"{len(dataset) = }\")\n",
    "print(f\"{len(dataset_filtered) = }\")"
   ]
  },
  {
   "cell_type": "code",
   "execution_count": null,
   "metadata": {},
   "outputs": [],
   "source": [
    "plot_dataset_mazes(dataset)\n",
    "plot_dataset_mazes(dataset_filtered)\n"
   ]
  },
  {
   "cell_type": "code",
   "execution_count": null,
   "metadata": {},
   "outputs": [],
   "source": [
    "print(json.dumps(dataset_filtered.cfg.serialize()[\"applied_filters\"], indent=2))\n",
    "print(f\"{MazeDataset._FILTER_NAMESPACE = }\")"
   ]
  },
  {
   "cell_type": "code",
   "execution_count": null,
   "metadata": {},
   "outputs": [],
   "source": [
    "dataset_filtered_from_scratch: MazeDataset = MazeDataset.from_config(\n",
    "\tdataset_filtered.cfg,\n",
    "\tdo_download=False,\n",
    "\tload_local=False,\n",
    "\tdo_generate=True,\n",
    "\tsave_local=False,\n",
    "\tlocal_base_path=\"../data/\",\n",
    "\tverbose=True,\n",
    "\tzanj=zanj,\n",
    "\tgen_parallel=False, # parallel generation has overhead, not worth it unless you're doing a lot of mazes\n",
    ")"
   ]
  },
  {
   "cell_type": "code",
   "execution_count": null,
   "metadata": {},
   "outputs": [],
   "source": [
    "plot_dataset_mazes(dataset_filtered_from_scratch)\n",
    "plot_dataset_mazes(dataset_filtered_from_scratch.filter_by.path_length(min_length=3))"
   ]
  },
  {
   "cell_type": "code",
   "execution_count": null,
   "metadata": {},
   "outputs": [],
   "source": [
    "dataset_filtered_custom: MazeDataset = dataset.custom_maze_filter(\n",
    "\tlambda m, p: len(m.solution) == p,\n",
    "\tp=5,\n",
    ")\n",
    "plot_dataset_mazes(dataset)\n",
    "plot_dataset_mazes(dataset_filtered_custom)"
   ]
  }
 ],
 "metadata": {
  "kernelspec": {
   "display_name": "maze-transformer",
   "language": "python",
   "name": "maze-transformer"
  },
  "language_info": {
   "codemirror_mode": {
    "name": "ipython",
    "version": 3
   },
   "file_extension": ".py",
   "mimetype": "text/x-python",
   "name": "python",
   "nbconvert_exporter": "python",
   "pygments_lexer": "ipython3",
   "version": "3.10.1"
  },
  "orig_nbformat": 4
 },
 "nbformat": 4,
 "nbformat_minor": 2
}
