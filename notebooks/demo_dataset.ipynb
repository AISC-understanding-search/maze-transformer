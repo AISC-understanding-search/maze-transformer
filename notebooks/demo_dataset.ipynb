{
 "cells": [
  {
   "cell_type": "code",
   "execution_count": 1,
   "metadata": {},
   "outputs": [
    {
     "name": "stdout",
     "output_type": "stream",
     "text": [
      "dict_keys(['test-g3-n5-a_dfs-h24736', 'demo_small-g3-n100-a_dfs-h51648', 'demo-g6-n10K-a_dfs-h33999'])\n"
     ]
    }
   ],
   "source": [
    "import json\n",
    "\n",
    "import matplotlib.pyplot as plt # keep this import for CI to work\n",
    "\n",
    "from muutils.zanj import ZANJ\n",
    "from maze_transformer.generation.lattice_maze import SolvedMaze\n",
    "from maze_transformer.generation.generators import LatticeMazeGenerators\n",
    "from maze_transformer.dataset.maze_dataset import MazeDataset, MazeDatasetConfig\n",
    "from maze_transformer.dataset.maze_dataset_configs import MAZE_DATASET_CONFIGS\n",
    "from maze_transformer.dataset.plot_dataset import plot_dataset_mazes, print_dataset_mazes\n",
    "from maze_transformer.utils.utils import pprint_summary\n",
    "\n",
    "print(MAZE_DATASET_CONFIGS.keys())\n",
    "\n",
    "LOCAL_DATA_PATH: str = \"../data/maze_dataset/\""
   ]
  },
  {
   "attachments": {},
   "cell_type": "markdown",
   "metadata": {},
   "source": [
    "you should always see `test-g3-n5-a_dfs-h43920` in the list of available dataset configs"
   ]
  },
  {
   "cell_type": "code",
   "execution_count": 2,
   "metadata": {},
   "outputs": [
    {
     "name": "stdout",
     "output_type": "stream",
     "text": [
      "test-g3-n32-a_dfs-h40850\n"
     ]
    }
   ],
   "source": [
    "zanj: ZANJ = ZANJ(external_list_threshold=256)\n",
    "cfg: MazeDatasetConfig = MazeDatasetConfig(\n",
    "\tname=\"test\",\n",
    "\tgrid_n=3,\n",
    "\tn_mazes=32,\n",
    "\tmaze_ctor=LatticeMazeGenerators.gen_dfs,\n",
    ")\n",
    "\n",
    "print(cfg.to_fname())"
   ]
  },
  {
   "cell_type": "code",
   "execution_count": 3,
   "metadata": {},
   "outputs": [
    {
     "name": "stdout",
     "output_type": "stream",
     "text": [
      "generating dataset...\n"
     ]
    },
    {
     "name": "stderr",
     "output_type": "stream",
     "text": [
      "generating & solving mazes: 100%|██████████| 32/32 [00:00<00:00, 1142.82maze/s]"
     ]
    },
    {
     "name": "stdout",
     "output_type": "stream",
     "text": [
      "saving dataset to ..\\data\\maze_dataset\\test-g3-n32-a_dfs-h40850.zanj\n",
      "Got dataset test with 32 items. output.cfg.to_fname() = 'test-g3-n32-a_dfs-h40850'\n"
     ]
    },
    {
     "name": "stderr",
     "output_type": "stream",
     "text": [
      "\n"
     ]
    }
   ],
   "source": [
    "dataset: MazeDataset = MazeDataset.from_config(\n",
    "\tcfg,\n",
    "\tdo_download=False,\n",
    "\tload_local=False,\n",
    "\tdo_generate=True,\n",
    "    save_local=True,\n",
    "\tlocal_base_path=LOCAL_DATA_PATH,\n",
    "\tverbose=True,\n",
    "\tzanj=zanj,\n",
    "\tgen_parallel=False, # parallel generation has overhead, not worth it unless you're doing a lot of mazes\n",
    ")"
   ]
  },
  {
   "cell_type": "code",
   "execution_count": 4,
   "metadata": {},
   "outputs": [
    {
     "name": "stdout",
     "output_type": "stream",
     "text": [
      "loading dataset from ../data/maze_dataset/test-g3-n32-a_dfs-h40850.zanj\n",
      "Got dataset test with 32 items. output.cfg.to_fname() = 'test-g3-n32-a_dfs-h40850'\n"
     ]
    }
   ],
   "source": [
    "dataset_cpy: MazeDataset = MazeDataset.from_config(\n",
    "\tcfg,\n",
    "\tdo_download=False,\n",
    "\tload_local=True,\n",
    "\tdo_generate=False,\n",
    "\tlocal_base_path=LOCAL_DATA_PATH,\n",
    "\tverbose=True,\n",
    "\tzanj=zanj,\n",
    ")\n"
   ]
  },
  {
   "cell_type": "code",
   "execution_count": 5,
   "metadata": {},
   "outputs": [
    {
     "name": "stdout",
     "output_type": "stream",
     "text": [
      "32 32\n",
      "SolvedMaze(connection_list=array([[[ True,  True,  True],\n",
      "        [ True, False,  True],\n",
      "        [False, False, False]],\n",
      "\n",
      "       [[False, False, False],\n",
      "        [False,  True, False],\n",
      "        [ True,  True, False]]]), generation_meta={'func_name': 'gen_dfs', 'grid_shape': array([3, 3]), 'start_coord': array([0, 1]), 'n_accessible_cells': 9, 'max_tree_depth': 18, 'fully_connected': True, 'visited_cells': [[0, 1], [1, 2], [2, 1], [0, 0], [1, 1], [2, 0], [0, 2], [2, 2], [1, 0]]}, start_pos=array([1, 2]), end_pos=array([0, 0]), solution=array([[1, 2],\n",
      "       [2, 2],\n",
      "       [2, 1],\n",
      "       [2, 0],\n",
      "       [1, 0],\n",
      "       [0, 0]]))\n"
     ]
    }
   ],
   "source": [
    "assert dataset.cfg == dataset_cpy.cfg\n",
    "print(len(dataset), len(dataset_cpy))\n",
    "print(dataset_cpy[0])\n",
    "assert all(x == y for x,y in zip(dataset, dataset_cpy))"
   ]
  },
  {
   "cell_type": "code",
   "execution_count": 6,
   "metadata": {},
   "outputs": [
    {
     "name": "stdout",
     "output_type": "stream",
     "text": [
      "len(dataset) = 32\n",
      "len(dataset_filtered) = 27\n"
     ]
    }
   ],
   "source": [
    "dataset_filtered: MazeDataset = dataset.filter_by.path_length(min_length=3)\n",
    "\n",
    "print(f\"{len(dataset) = }\")\n",
    "print(f\"{len(dataset_filtered) = }\")"
   ]
  },
  {
   "cell_type": "code",
   "execution_count": 7,
   "metadata": {},
   "outputs": [
    {
     "data": {
      "text/plain": [
       "(<Figure size 1500x500 with 27 Axes>,\n",
       " array([<Axes: >, <Axes: >, <Axes: >, <Axes: >, <Axes: >, <Axes: >,\n",
       "        <Axes: >, <Axes: >, <Axes: >, <Axes: >, <Axes: >, <Axes: >,\n",
       "        <Axes: >, <Axes: >, <Axes: >, <Axes: >, <Axes: >, <Axes: >,\n",
       "        <Axes: >, <Axes: >, <Axes: >, <Axes: >, <Axes: >, <Axes: >,\n",
       "        <Axes: >, <Axes: >, <Axes: >], dtype=object))"
      ]
     },
     "execution_count": 7,
     "metadata": {},
     "output_type": "execute_result"
    },
    {
     "data": {
      "image/png": "[encoded data removed]",
      "text/plain": [
       "<Figure size 1500x500 with 32 Axes>"
      ]
     },
     "metadata": {},
     "output_type": "display_data"
    },
    {
     "data": {
      "image/png": "[encoded data removed]",
      "text/plain": [
       "<Figure size 1500x500 with 27 Axes>"
      ]
     },
     "metadata": {},
     "output_type": "display_data"
    }
   ],
   "source": [
    "plot_dataset_mazes(dataset)\n",
    "plot_dataset_mazes(dataset_filtered)\n"
   ]
  },
  {
   "cell_type": "code",
   "execution_count": 8,
   "metadata": {},
   "outputs": [
    {
     "name": "stdout",
     "output_type": "stream",
     "text": [
      "[\n",
      "  {\n",
      "    \"name\": \"path_length\",\n",
      "    \"args\": [],\n",
      "    \"kwargs\": {\n",
      "      \"min_length\": 3\n",
      "    }\n",
      "  }\n",
      "]\n",
      "MazeDataset._FILTER_NAMESPACE = <class 'maze_transformer.dataset.maze_dataset.MazeDatasetFilters'>\n"
     ]
    }
   ],
   "source": [
    "print(json.dumps(dataset_filtered.cfg.serialize()[\"applied_filters\"], indent=2))\n",
    "print(f\"{MazeDataset._FILTER_NAMESPACE = }\")"
   ]
  },
  {
   "cell_type": "code",
   "execution_count": 9,
   "metadata": {},
   "outputs": [
    {
     "name": "stdout",
     "output_type": "stream",
     "text": [
      "generating dataset...\n"
     ]
    },
    {
     "name": "stderr",
     "output_type": "stream",
     "text": [
      "generating & solving mazes: 100%|██████████| 27/27 [00:00<00:00, 932.46maze/s]"
     ]
    },
    {
     "name": "stdout",
     "output_type": "stream",
     "text": [
      "Got dataset test with 24 items. output.cfg.to_fname() = 'test-g3-n24-a_dfs-h49178'\n"
     ]
    },
    {
     "name": "stderr",
     "output_type": "stream",
     "text": [
      "\n"
     ]
    }
   ],
   "source": [
    "dataset_filtered_from_scratch: MazeDataset = MazeDataset.from_config(\n",
    "\tdataset_filtered.cfg,\n",
    "\tdo_download=False,\n",
    "\tload_local=False,\n",
    "\tdo_generate=True,\n",
    "\tsave_local=False,\n",
    "\tlocal_base_path=LOCAL_DATA_PATH,\n",
    "\tverbose=True,\n",
    "\tzanj=zanj,\n",
    "\tgen_parallel=False,\n",
    ")"
   ]
  },
  {
   "cell_type": "code",
   "execution_count": 10,
   "metadata": {},
   "outputs": [
    {
     "data": {
      "text/plain": [
       "(<Figure size 1500x500 with 20 Axes>,\n",
       " array([<Axes: >, <Axes: >, <Axes: >, <Axes: >, <Axes: >, <Axes: >,\n",
       "        <Axes: >, <Axes: >, <Axes: >, <Axes: >, <Axes: >, <Axes: >,\n",
       "        <Axes: >, <Axes: >, <Axes: >, <Axes: >, <Axes: >, <Axes: >,\n",
       "        <Axes: >, <Axes: >], dtype=object))"
      ]
     },
     "execution_count": 10,
     "metadata": {},
     "output_type": "execute_result"
    },
    {
     "data": {
      "image/png": "[encoded data removed]",
      "text/plain": [
       "<Figure size 1500x500 with 24 Axes>"
      ]
     },
     "metadata": {},
     "output_type": "display_data"
    },
    {
     "data": {
      "image/png": "[encoded data removed]",
      "text/plain": [
       "<Figure size 1500x500 with 20 Axes>"
      ]
     },
     "metadata": {},
     "output_type": "display_data"
    }
   ],
   "source": [
    "plot_dataset_mazes(dataset_filtered_from_scratch)\n",
    "dataset_filtered_nodupe = dataset_filtered_from_scratch.filter_by.remove_duplicates()\n",
    "plot_dataset_mazes(dataset_filtered_nodupe)\n"
   ]
  },
  {
   "cell_type": "code",
   "execution_count": 11,
   "metadata": {},
   "outputs": [
    {
     "data": {
      "text/plain": [
       "(<Figure size 1500x500 with 7 Axes>,\n",
       " array([<Axes: >, <Axes: >, <Axes: >, <Axes: >, <Axes: >, <Axes: >,\n",
       "        <Axes: >], dtype=object))"
      ]
     },
     "execution_count": 11,
     "metadata": {},
     "output_type": "execute_result"
    },
    {
     "data": {
      "image/png": "[encoded data removed]",
      "text/plain": [
       "<Figure size 1500x500 with 32 Axes>"
      ]
     },
     "metadata": {},
     "output_type": "display_data"
    },
    {
     "data": {
      "image/png": "[encoded data removed]",
      "text/plain": [
       "<Figure size 1500x500 with 7 Axes>"
      ]
     },
     "metadata": {},
     "output_type": "display_data"
    }
   ],
   "source": [
    "dataset_filtered_custom: MazeDataset = dataset.custom_maze_filter(\n",
    "\tlambda m, p: len(m.solution) == p,\n",
    "\tp=5,\n",
    ")\n",
    "plot_dataset_mazes(dataset)\n",
    "plot_dataset_mazes(dataset_filtered_custom)"
   ]
  },
  {
   "cell_type": "code",
   "execution_count": 12,
   "metadata": {},
   "outputs": [
    {
     "name": "stdout",
     "output_type": "stream",
     "text": [
      "{\n",
      "  \"func_name\": {\n",
      "    \"gen_dfs\": 32\n",
      "  },\n",
      "  \"grid_shape\": {\n",
      "    \"(3, 3)\": 32\n",
      "  },\n",
      "  \"start_coord\": {\n",
      "    \"(0, 1)\": 9,\n",
      "    \"(1, 0)\": 7,\n",
      "    \"(1, 1)\": 6,\n",
      "    \"(0, 0)\": 10\n",
      "  },\n",
      "  \"n_accessible_cells\": {\n",
      "    \"9\": 32\n",
      "  },\n",
      "  \"max_tree_depth\": {\n",
      "    \"18\": 32\n",
      "  },\n",
      "  \"fully_connected\": {\n",
      "    \"True\": 32\n",
      "  },\n",
      "  \"visited_cells\": {\n",
      "    \"(0, 1)\": 32,\n",
      "    \"(1, 2)\": 32,\n",
      "    \"(2, 1)\": 32,\n",
      "    \"(0, 0)\": 32,\n",
      "    \"(1, 1)\": 32,\n",
      "    \"(2, 0)\": 32,\n",
      "    \"(0, 2)\": 32,\n",
      "    \"(2, 2)\": 32,\n",
      "    \"(1, 0)\": 32\n",
      "  }\n",
      "}\n"
     ]
    }
   ],
   "source": [
    "dataset_with_meta = dataset.filter_by.collect_generation_meta()\n",
    "\n",
    "pprint_summary(dataset_with_meta.serialize()['generation_metadata_collected'])"
   ]
  },
  {
   "cell_type": "code",
   "execution_count": 13,
   "metadata": {},
   "outputs": [
    {
     "name": "stdout",
     "output_type": "stream",
     "text": [
      "generating dataset...\n"
     ]
    },
    {
     "name": "stderr",
     "output_type": "stream",
     "text": [
      "generating & solving mazes: 100%|██████████| 32/32 [00:00<00:00, 359.58maze/s]"
     ]
    },
    {
     "name": "stdout",
     "output_type": "stream",
     "text": [
      "saving dataset to ..\\data\\maze_dataset\\test_disconnected-g10-n32-a_dfs-h71823.zanj\n"
     ]
    },
    {
     "name": "stderr",
     "output_type": "stream",
     "text": [
      "\n"
     ]
    },
    {
     "name": "stdout",
     "output_type": "stream",
     "text": [
      "Got dataset test_disconnected with 32 items. output.cfg.to_fname() = 'test_disconnected-g10-n32-a_dfs-h71823'\n"
     ]
    }
   ],
   "source": [
    "dataset_not_fully_connected = MazeDataset.from_config(\n",
    "\tMazeDatasetConfig(\n",
    "\t\tname=\"test_disconnected\",\n",
    "\t\tgrid_n=10,\n",
    "\t\tn_mazes=32,\n",
    "\t\tmaze_ctor=LatticeMazeGenerators.gen_dfs,\n",
    "        maze_ctor_kwargs=dict(\n",
    "\t\t\tn_accessible_cells = 70,\n",
    "        \tmax_tree_depth = 15,\n",
    "\t\t),\n",
    "\t),\n",
    "\tdo_download=False,\n",
    "\tload_local=False,\n",
    "\tdo_generate=True,\n",
    "\tsave_local=True,\n",
    "\tlocal_base_path=LOCAL_DATA_PATH,\n",
    "\tverbose=True,\n",
    "\tzanj=zanj,\n",
    ")"
   ]
  },
  {
   "cell_type": "code",
   "execution_count": 14,
   "metadata": {},
   "outputs": [
    {
     "data": {
      "text/plain": [
       "(<Figure size 1500x500 with 5 Axes>,\n",
       " array([<Axes: >, <Axes: >, <Axes: >, <Axes: >, <Axes: >], dtype=object))"
      ]
     },
     "execution_count": 14,
     "metadata": {},
     "output_type": "execute_result"
    },
    {
     "data": {
      "image/png": "[encoded data removed]",
      "text/plain": [
       "<Figure size 1500x500 with 5 Axes>"
      ]
     },
     "metadata": {},
     "output_type": "display_data"
    }
   ],
   "source": [
    "plot_dataset_mazes(dataset_not_fully_connected, 5)"
   ]
  },
  {
   "cell_type": "code",
   "execution_count": 15,
   "metadata": {},
   "outputs": [],
   "source": [
    "STANDARD_KWARGS_FROM_CONFIG: dict = dict(\n",
    "    do_download=False,\n",
    "\tload_local=False,\n",
    "\tdo_generate=True,\n",
    "\tsave_local=True,\n",
    "\tlocal_base_path=LOCAL_DATA_PATH,\n",
    "\tverbose=True,\n",
    "\tzanj=zanj,\n",
    ")"
   ]
  },
  {
   "cell_type": "code",
   "execution_count": 16,
   "metadata": {},
   "outputs": [
    {
     "name": "stdout",
     "output_type": "stream",
     "text": [
      "generating dataset...\n"
     ]
    },
    {
     "name": "stderr",
     "output_type": "stream",
     "text": [
      "generating & solving mazes: 100%|██████████| 5/5 [00:00<00:00, 998.41maze/s]"
     ]
    },
    {
     "name": "stdout",
     "output_type": "stream",
     "text": [
      "saving dataset to ..\\data\\maze_dataset\\test_hallway-g8-n5-a_dfs-h54072.zanj\n",
      "Got dataset test_hallway with 5 items. output.cfg.to_fname() = 'test_hallway-g8-n5-a_dfs-h54072'\n"
     ]
    },
    {
     "name": "stderr",
     "output_type": "stream",
     "text": [
      "\n"
     ]
    }
   ],
   "source": [
    "dataset_hallway: MazeDataset = MazeDataset.from_config(\n",
    "\tMazeDatasetConfig(\n",
    "\t\tname=\"test_hallway\",\n",
    "\t\tgrid_n=8,\n",
    "\t\tn_mazes=5,\n",
    "\t\tmaze_ctor=LatticeMazeGenerators.gen_dfs,\n",
    "        maze_ctor_kwargs=dict(\n",
    "\t\t\tn_accessible_cells = 70,\n",
    "        \tmax_tree_depth = 15,\n",
    "            do_forks = False,\n",
    "\t\t),\n",
    "\t),\n",
    "\t**STANDARD_KWARGS_FROM_CONFIG,\n",
    ")"
   ]
  },
  {
   "cell_type": "code",
   "execution_count": 17,
   "metadata": {},
   "outputs": [
    {
     "data": {
      "text/plain": [
       "(<Figure size 1500x500 with 5 Axes>,\n",
       " array([<Axes: >, <Axes: >, <Axes: >, <Axes: >, <Axes: >], dtype=object))"
      ]
     },
     "execution_count": 17,
     "metadata": {},
     "output_type": "execute_result"
    },
    {
     "data": {
      "image/png": "[encoded data removed]",
      "text/plain": [
       "<Figure size 1500x500 with 5 Axes>"
      ]
     },
     "metadata": {},
     "output_type": "display_data"
    }
   ],
   "source": [
    "plot_dataset_mazes(dataset_hallway)"
   ]
  },
  {
   "cell_type": "code",
   "execution_count": 18,
   "metadata": {},
   "outputs": [
    {
     "name": "stdout",
     "output_type": "stream",
     "text": [
      "generating dataset...\n"
     ]
    },
    {
     "name": "stderr",
     "output_type": "stream",
     "text": [
      "generating & solving mazes: 100%|██████████| 5/5 [00:00<00:00, 357.05maze/s]"
     ]
    },
    {
     "name": "stdout",
     "output_type": "stream",
     "text": [
      "saving dataset to ..\\data\\maze_dataset\\test_perc-g8-n5-a_percolation-h89547.zanj\n",
      "Got dataset test_perc with 5 items. output.cfg.to_fname() = 'test_perc-g8-n5-a_percolation-h89547'\n"
     ]
    },
    {
     "name": "stderr",
     "output_type": "stream",
     "text": [
      "\n"
     ]
    }
   ],
   "source": [
    "dataset_perc: MazeDataset = MazeDataset.from_config(\n",
    "\tMazeDatasetConfig(\n",
    "\t\tname=\"test_perc\",\n",
    "\t\tgrid_n=8,\n",
    "\t\tn_mazes=5,\n",
    "\t\tmaze_ctor=LatticeMazeGenerators.gen_percolation,\n",
    "        maze_ctor_kwargs=dict(p=0.5),\n",
    "\t),\n",
    "\t**STANDARD_KWARGS_FROM_CONFIG,\n",
    ")"
   ]
  },
  {
   "cell_type": "code",
   "execution_count": 19,
   "metadata": {},
   "outputs": [
    {
     "data": {
      "text/plain": [
       "(<Figure size 1500x500 with 5 Axes>,\n",
       " array([<Axes: >, <Axes: >, <Axes: >, <Axes: >, <Axes: >], dtype=object))"
      ]
     },
     "execution_count": 19,
     "metadata": {},
     "output_type": "execute_result"
    },
    {
     "data": {
      "image/png": "[encoded data removed]",
      "text/plain": [
       "<Figure size 1500x500 with 5 Axes>"
      ]
     },
     "metadata": {},
     "output_type": "display_data"
    }
   ],
   "source": [
    "plot_dataset_mazes(dataset_perc)"
   ]
  },
  {
   "cell_type": "code",
   "execution_count": 20,
   "metadata": {},
   "outputs": [
    {
     "name": "stdout",
     "output_type": "stream",
     "text": [
      "generating dataset...\n"
     ]
    },
    {
     "name": "stderr",
     "output_type": "stream",
     "text": [
      "generating & solving mazes: 100%|██████████| 5/5 [00:00<00:00, 74.63maze/s]"
     ]
    },
    {
     "name": "stdout",
     "output_type": "stream",
     "text": [
      "saving dataset to ..\\data\\maze_dataset\\test_dfs_perc-g8-n5-a_dfs_percolation-h27505.zanj\n",
      "Got dataset test_dfs_perc with 5 items. output.cfg.to_fname() = 'test_dfs_perc-g8-n5-a_dfs_percolation-h27505'\n"
     ]
    },
    {
     "name": "stderr",
     "output_type": "stream",
     "text": [
      "\n"
     ]
    }
   ],
   "source": [
    "dataset_dfs_perc: MazeDataset = MazeDataset.from_config(\n",
    "\tMazeDatasetConfig(\n",
    "\t\tname=\"test_dfs_perc\",\n",
    "\t\tgrid_n=8,\n",
    "\t\tn_mazes=5,\n",
    "\t\tmaze_ctor=LatticeMazeGenerators.gen_dfs_percolation,\n",
    "        maze_ctor_kwargs=dict(p=0.2),\n",
    "\t),\n",
    "\t**STANDARD_KWARGS_FROM_CONFIG,\n",
    ")"
   ]
  },
  {
   "cell_type": "code",
   "execution_count": 21,
   "metadata": {},
   "outputs": [
    {
     "data": {
      "text/plain": [
       "(<Figure size 1500x500 with 5 Axes>,\n",
       " array([<Axes: >, <Axes: >, <Axes: >, <Axes: >, <Axes: >], dtype=object))"
      ]
     },
     "execution_count": 21,
     "metadata": {},
     "output_type": "execute_result"
    },
    {
     "data": {
      "image/png": "[encoded data removed]",
      "text/plain": [
       "<Figure size 1500x500 with 5 Axes>"
      ]
     },
     "metadata": {},
     "output_type": "display_data"
    }
   ],
   "source": [
    "plot_dataset_mazes(dataset_dfs_perc)"
   ]
  },
  {
   "cell_type": "code",
   "execution_count": 22,
   "metadata": {},
   "outputs": [
    {
     "name": "stdout",
     "output_type": "stream",
     "text": [
      "ds.cfg.name = 'test_disconnected'\n",
      "{\n",
      "  \"func_name\": {\n",
      "    \"gen_dfs\": 32\n",
      "  },\n",
      "  \"grid_shape\": {\n",
      "    \"(10, 10)\": 32\n",
      "  },\n",
      "  \"start_coord\": {\n",
      "    \"(6, 3)\": 1,\n",
      "    \"(4, 1)\": 1,\n",
      "    \"(2, 0)\": 1,\n",
      "    \"(7, 4)\": 1,\n",
      "    \"(5, 3)\": 1,\n",
      "    \"(5, 6)\": 1,\n",
      "    \"(8, 3)\": 1,\n",
      "    \"(8, 2)\": 1,\n",
      "    \"(2, 5)\": 2,\n",
      "    \"(2, 7)\": 1,\n",
      "    \"(5, 5)\": 1,\n",
      "    \"(2, 4)\": 2,\n",
      "    \"(7, 3)\": 1,\n",
      "    \"(8, 6)\": 1,\n",
      "    \"(8, 1)\": 1,\n",
      "    \"(3, 5)\": 2,\n",
      "    \"(0, 4)\": 2,\n",
      "    \"(2, 1)\": 1,\n",
      "    \"(8, 5)\": 1,\n",
      "    \"(1, 2)\": 1,\n",
      "    \"(7, 1)\": 1,\n",
      "    \"(1, 3)\": 1,\n",
      "    \"(1, 7)\": 1,\n",
      "    \"(2, 3)\": 1,\n",
      "    \"(3, 0)\": 1,\n",
      "    \"(2, 2)\": 1,\n",
      "    \"(5, 1)\": 1,\n",
      "    \"(1, 0)\": 1\n",
      "  },\n",
      "  \"n_accessible_cells\": {\n",
      "    \"70\": 32\n",
      "  },\n",
      "  \"max_tree_depth\": {\n",
      "    \"15\": 32\n",
      "  },\n",
      "  \"fully_connected\": {\n",
      "    \"False\": 32\n",
      "  },\n",
      "  \"visited_cells\": {\n",
      "    \"(3, 4)\": 22,\n",
      "    \"(4, 3)\": 23,\n",
      "    \"(3, 7)\": 10,\n",
      "    \"(5, 4)\": 24,\n",
      "    \"(4, 6)\": 18,\n",
      "    \"(5, 1)\": 15,\n",
      "    \"(5, 7)\": 11,\n",
      "    \"(9, 5)\": 9,\n",
      "    \"(8, 3)\": 13,\n",
      "    \"(8, 6)\": 9,\n",
      "    \"(2, 5)\": 17,\n",
      "    \"(7, 4)\": 14,\n",
      "    \"(6, 2)\": 17,\n",
      "    \"(7, 1)\": 12,\n",
      "    \"(7, 7)\": 8,\n",
      "    \"(6, 5)\": 17,\n",
      "    \"(6, 8)\": 5,\n",
      "    \"(4, 2)\": 21,\n",
      "    \"(4, 5)\": 22,\n",
      "    \"(3, 3)\": 22,\n",
      "    \"(5, 6)\": 15,\n",
      "    \"(4, 8)\": 7,\n",
      "    \"(3, 6)\": 16,\n",
      "    \"(5, 3)\": 23,\n",
      "    \"(5, 9)\": 4,\n",
      "    \"(8, 2)\": 11,\n",
      "    \"(9, 7)\": 6,\n",
      "    \"(8, 5)\": 13,\n",
      "    \"(8, 8)\": 6,\n",
      "    \"(2, 4)\": 24,\n",
      "    \"(1, 5)\": 17,\n",
      "    \"(6, 4)\": 16,\n",
      "    \"(7, 3)\": 14,\n",
      "    \"(6, 7)\": 8,\n",
      "    \"(7, 6)\": 11,\n",
      "    \"(4, 7)\": 14,\n",
      "    \"(3, 5)\": 22,\n",
      "    \"(5, 2)\": 18,\n",
      "    \"(4, 4)\": 23,\n",
      "    \"(5, 5)\": 19,\n",
      "    \"(8, 4)\": 12,\n",
      "    \"(9, 3)\": 10,\n",
      "    \"(5, 8)\": 7,\n",
      "    \"(8, 7)\": 8,\n",
      "    \"(9, 6)\": 7,\n",
      "    \"(2, 6)\": 11,\n",
      "    \"(7, 2)\": 14,\n",
      "    \"(6, 6)\": 12,\n",
      "    \"(7, 5)\": 13,\n",
      "    \"(6, 3)\": 18,\n",
      "    \"(4, 0)\": 11,\n",
      "    \"(3, 1)\": 15,\n",
      "    \"(8, 0)\": 8,\n",
      "    \"(0, 2)\": 15,\n",
      "    \"(2, 2)\": 17,\n",
      "    \"(1, 0)\": 13,\n",
      "    \"(1, 3)\": 20,\n",
      "    \"(3, 0)\": 13,\n",
      "    \"(5, 0)\": 12,\n",
      "    \"(9, 1)\": 7,\n",
      "    \"(0, 1)\": 14,\n",
      "    \"(2, 1)\": 16,\n",
      "    \"(6, 1)\": 12,\n",
      "    \"(7, 0)\": 6,\n",
      "    \"(3, 2)\": 18,\n",
      "    \"(4, 1)\": 16,\n",
      "    \"(8, 1)\": 8,\n",
      "    \"(0, 0)\": 10,\n",
      "    \"(1, 1)\": 12,\n",
      "    \"(2, 0)\": 11,\n",
      "    \"(2, 3)\": 23,\n",
      "    \"(6, 0)\": 9,\n",
      "    \"(0, 5)\": 12,\n",
      "    \"(1, 2)\": 18,\n",
      "    \"(0, 4)\": 18,\n",
      "    \"(0, 3)\": 18,\n",
      "    \"(1, 4)\": 21,\n",
      "    \"(9, 2)\": 8,\n",
      "    \"(9, 4)\": 11,\n",
      "    \"(7, 9)\": 2,\n",
      "    \"(9, 0)\": 7,\n",
      "    \"(7, 8)\": 5,\n",
      "    \"(4, 9)\": 5,\n",
      "    \"(2, 7)\": 10,\n",
      "    \"(3, 8)\": 9,\n",
      "    \"(1, 6)\": 13,\n",
      "    \"(0, 8)\": 7,\n",
      "    \"(1, 9)\": 4,\n",
      "    \"(2, 8)\": 6,\n",
      "    \"(3, 9)\": 4,\n",
      "    \"(0, 7)\": 10,\n",
      "    \"(1, 8)\": 8,\n",
      "    \"(0, 6)\": 11,\n",
      "    \"(1, 7)\": 9,\n",
      "    \"(0, 9)\": 5,\n",
      "    \"(2, 9)\": 5,\n",
      "    \"(8, 9)\": 1,\n",
      "    \"(9, 8)\": 2,\n",
      "    \"(6, 9)\": 2,\n",
      "    \"(9, 9)\": 1\n",
      "  }\n",
      "}\n",
      "ds.cfg.name = 'test_hallway'\n",
      "{\n",
      "  \"func_name\": {\n",
      "    \"gen_dfs\": 5\n",
      "  },\n",
      "  \"grid_shape\": {\n",
      "    \"(8, 8)\": 5\n",
      "  },\n",
      "  \"start_coord\": {\n",
      "    \"(6, 3)\": 1,\n",
      "    \"(2, 6)\": 1,\n",
      "    \"(4, 1)\": 1,\n",
      "    \"(3, 1)\": 1,\n",
      "    \"(6, 1)\": 1\n",
      "  },\n",
      "  \"n_accessible_cells\": {\n",
      "    \"70\": 5\n",
      "  },\n",
      "  \"max_tree_depth\": {\n",
      "    \"15\": 5\n",
      "  },\n",
      "  \"fully_connected\": {\n",
      "    \"False\": 5\n",
      "  },\n",
      "  \"visited_cells\": {\n",
      "    \"(5, 5)\": 1,\n",
      "    \"(6, 5)\": 1,\n",
      "    \"(5, 4)\": 1,\n",
      "    \"(5, 1)\": 3,\n",
      "    \"(6, 4)\": 1,\n",
      "    \"(5, 3)\": 1,\n",
      "    \"(6, 3)\": 2,\n",
      "    \"(5, 2)\": 2,\n",
      "    \"(4, 4)\": 1,\n",
      "    \"(2, 7)\": 1,\n",
      "    \"(4, 3)\": 1,\n",
      "    \"(3, 7)\": 1,\n",
      "    \"(4, 6)\": 1,\n",
      "    \"(4, 5)\": 1,\n",
      "    \"(2, 6)\": 1,\n",
      "    \"(4, 7)\": 1,\n",
      "    \"(6, 2)\": 2,\n",
      "    \"(4, 0)\": 1,\n",
      "    \"(7, 1)\": 1,\n",
      "    \"(6, 1)\": 2,\n",
      "    \"(5, 0)\": 2,\n",
      "    \"(7, 2)\": 1,\n",
      "    \"(4, 1)\": 1,\n",
      "    \"(1, 2)\": 1,\n",
      "    \"(3, 1)\": 1,\n",
      "    \"(1, 1)\": 1,\n",
      "    \"(2, 3)\": 1,\n",
      "    \"(3, 3)\": 1,\n",
      "    \"(2, 2)\": 1,\n",
      "    \"(1, 0)\": 1,\n",
      "    \"(3, 2)\": 1,\n",
      "    \"(7, 3)\": 1,\n",
      "    \"(6, 0)\": 1\n",
      "  }\n",
      "}\n",
      "ds.cfg.name = 'test_perc'\n",
      "{\n",
      "  \"func_name\": {\n",
      "    \"gen_percolation\": 5\n",
      "  },\n",
      "  \"grid_shape\": {\n",
      "    \"(8, 8)\": 5\n",
      "  },\n",
      "  \"percolation_p\": {\n",
      "    \"0.5\": 5\n",
      "  },\n",
      "  \"start_coord\": {\n",
      "    \"(6, 3)\": 1,\n",
      "    \"(3, 1)\": 2,\n",
      "    \"(2, 1)\": 1,\n",
      "    \"(4, 1)\": 1\n",
      "  },\n",
      "  \"visited_cells\": {\n",
      "    \"(4, 0)\": 2,\n",
      "    \"(3, 4)\": 3,\n",
      "    \"(4, 3)\": 3,\n",
      "    \"(3, 1)\": 4,\n",
      "    \"(3, 7)\": 1,\n",
      "    \"(5, 4)\": 3,\n",
      "    \"(4, 6)\": 1,\n",
      "    \"(5, 7)\": 2,\n",
      "    \"(0, 5)\": 2,\n",
      "    \"(2, 2)\": 2,\n",
      "    \"(1, 6)\": 2,\n",
      "    \"(2, 5)\": 2,\n",
      "    \"(1, 3)\": 1,\n",
      "    \"(6, 5)\": 2,\n",
      "    \"(4, 2)\": 3,\n",
      "    \"(3, 0)\": 1,\n",
      "    \"(4, 5)\": 3,\n",
      "    \"(5, 6)\": 2,\n",
      "    \"(3, 6)\": 1,\n",
      "    \"(5, 3)\": 3,\n",
      "    \"(2, 4)\": 2,\n",
      "    \"(0, 4)\": 2,\n",
      "    \"(2, 1)\": 3,\n",
      "    \"(2, 7)\": 1,\n",
      "    \"(1, 5)\": 2,\n",
      "    \"(6, 4)\": 2,\n",
      "    \"(3, 2)\": 4,\n",
      "    \"(4, 1)\": 4,\n",
      "    \"(4, 7)\": 1,\n",
      "    \"(3, 5)\": 2,\n",
      "    \"(4, 4)\": 3,\n",
      "    \"(5, 5)\": 3,\n",
      "    \"(1, 1)\": 2,\n",
      "    \"(0, 3)\": 1,\n",
      "    \"(1, 4)\": 2,\n",
      "    \"(2, 3)\": 2,\n",
      "    \"(1, 7)\": 1,\n",
      "    \"(2, 6)\": 2,\n",
      "    \"(6, 3)\": 2,\n",
      "    \"(3, 3)\": 2,\n",
      "    \"(0, 1)\": 1,\n",
      "    \"(0, 7)\": 1,\n",
      "    \"(1, 2)\": 1,\n",
      "    \"(2, 0)\": 1,\n",
      "    \"(0, 6)\": 1,\n",
      "    \"(5, 1)\": 2,\n",
      "    \"(7, 4)\": 1,\n",
      "    \"(7, 1)\": 1,\n",
      "    \"(7, 7)\": 1,\n",
      "    \"(6, 1)\": 1,\n",
      "    \"(7, 3)\": 1,\n",
      "    \"(6, 7)\": 1,\n",
      "    \"(7, 6)\": 1,\n",
      "    \"(5, 2)\": 1,\n",
      "    \"(7, 2)\": 1,\n",
      "    \"(6, 6)\": 1,\n",
      "    \"(7, 5)\": 1,\n",
      "    \"(5, 0)\": 1,\n",
      "    \"(6, 0)\": 1\n",
      "  }\n",
      "}\n",
      "ds.cfg.name = 'test_dfs_perc'\n",
      "{\n",
      "  \"func_name\": {\n",
      "    \"gen_dfs_percolation\": 5\n",
      "  },\n",
      "  \"grid_shape\": {\n",
      "    \"(8, 8)\": 5\n",
      "  },\n",
      "  \"start_coord\": {\n",
      "    \"(6, 3)\": 1,\n",
      "    \"(2, 3)\": 1,\n",
      "    \"(2, 1)\": 1,\n",
      "    \"(2, 4)\": 1,\n",
      "    \"(1, 5)\": 1\n",
      "  },\n",
      "  \"n_accessible_cells\": {\n",
      "    \"64\": 5\n",
      "  },\n",
      "  \"max_tree_depth\": {\n",
      "    \"128\": 5\n",
      "  },\n",
      "  \"fully_connected\": {\n",
      "    \"True\": 5\n",
      "  },\n",
      "  \"visited_cells\": {\n",
      "    \"(4, 0)\": 5,\n",
      "    \"(3, 4)\": 5,\n",
      "    \"(4, 3)\": 5,\n",
      "    \"(3, 1)\": 5,\n",
      "    \"(3, 7)\": 5,\n",
      "    \"(5, 4)\": 5,\n",
      "    \"(4, 6)\": 5,\n",
      "    \"(5, 1)\": 5,\n",
      "    \"(5, 7)\": 5,\n",
      "    \"(0, 2)\": 5,\n",
      "    \"(0, 5)\": 5,\n",
      "    \"(2, 2)\": 5,\n",
      "    \"(1, 0)\": 5,\n",
      "    \"(1, 6)\": 5,\n",
      "    \"(2, 5)\": 5,\n",
      "    \"(1, 3)\": 5,\n",
      "    \"(7, 4)\": 5,\n",
      "    \"(6, 2)\": 5,\n",
      "    \"(7, 1)\": 5,\n",
      "    \"(7, 7)\": 5,\n",
      "    \"(6, 5)\": 5,\n",
      "    \"(4, 2)\": 5,\n",
      "    \"(3, 0)\": 5,\n",
      "    \"(4, 5)\": 5,\n",
      "    \"(3, 3)\": 5,\n",
      "    \"(5, 0)\": 5,\n",
      "    \"(5, 6)\": 5,\n",
      "    \"(3, 6)\": 5,\n",
      "    \"(5, 3)\": 5,\n",
      "    \"(0, 1)\": 5,\n",
      "    \"(0, 7)\": 5,\n",
      "    \"(2, 4)\": 5,\n",
      "    \"(1, 2)\": 5,\n",
      "    \"(0, 4)\": 5,\n",
      "    \"(2, 1)\": 5,\n",
      "    \"(2, 7)\": 5,\n",
      "    \"(1, 5)\": 5,\n",
      "    \"(6, 1)\": 5,\n",
      "    \"(7, 0)\": 5,\n",
      "    \"(6, 4)\": 5,\n",
      "    \"(7, 3)\": 5,\n",
      "    \"(6, 7)\": 5,\n",
      "    \"(7, 6)\": 5,\n",
      "    \"(3, 2)\": 5,\n",
      "    \"(4, 1)\": 5,\n",
      "    \"(4, 7)\": 5,\n",
      "    \"(3, 5)\": 5,\n",
      "    \"(5, 2)\": 5,\n",
      "    \"(4, 4)\": 5,\n",
      "    \"(5, 5)\": 5,\n",
      "    \"(0, 0)\": 5,\n",
      "    \"(1, 1)\": 5,\n",
      "    \"(0, 3)\": 5,\n",
      "    \"(2, 0)\": 5,\n",
      "    \"(1, 4)\": 5,\n",
      "    \"(0, 6)\": 5,\n",
      "    \"(2, 3)\": 5,\n",
      "    \"(1, 7)\": 5,\n",
      "    \"(2, 6)\": 5,\n",
      "    \"(7, 2)\": 5,\n",
      "    \"(6, 0)\": 5,\n",
      "    \"(6, 6)\": 5,\n",
      "    \"(7, 5)\": 5,\n",
      "    \"(6, 3)\": 5\n",
      "  },\n",
      "  \"percolation_p\": {\n",
      "    \"0.2\": 5\n",
      "  }\n",
      "}\n"
     ]
    }
   ],
   "source": [
    "for ds in [dataset_not_fully_connected, dataset_hallway, dataset_perc, dataset_dfs_perc]:\n",
    "\tprint(f\"{ds.cfg.name = }\")\n",
    "\tpprint_summary(ds.filter_by.collect_generation_meta().serialize()['generation_metadata_collected'])"
   ]
  }
 ],
 "metadata": {
  "kernelspec": {
   "display_name": "maze-transformer",
   "language": "python",
   "name": "maze-transformer"
  },
  "language_info": {
   "codemirror_mode": {
    "name": "ipython",
    "version": 3
   },
   "file_extension": ".py",
   "mimetype": "text/x-python",
   "name": "python",
   "nbconvert_exporter": "python",
   "pygments_lexer": "ipython3",
   "version": "3.10.1"
  },
  "orig_nbformat": 4
 },
 "nbformat": 4,
 "nbformat_minor": 2
}
