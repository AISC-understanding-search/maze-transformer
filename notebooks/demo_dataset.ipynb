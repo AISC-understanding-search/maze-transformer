{
 "cells": [
  {
   "cell_type": "code",
   "execution_count": null,
   "metadata": {},
   "outputs": [],
   "source": [
    "import json\n",
    "\n",
    "import matplotlib.pyplot as plt # keep this import for CI to work\n",
    "from zanj import ZANJ\n",
    "\n",
    "from maze_dataset.generation import LatticeMazeGenerators\n",
    "from maze_dataset import SolvedMaze, MazeDataset, MazeDatasetConfig\n",
    "from maze_dataset.dataset.configs import MAZE_DATASET_CONFIGS\n",
    "from maze_dataset.plotting import plot_dataset_mazes, print_dataset_mazes\n",
    "from muutils.mlutils import pprint_summary\n",
    "\n",
    "print(MAZE_DATASET_CONFIGS.keys())\n",
    "\n",
    "LOCAL_DATA_PATH: str = \"../data/maze_dataset/\""
   ]
  },
  {
   "attachments": {},
   "cell_type": "markdown",
   "metadata": {},
   "source": [
    "you should always see `test-g3-n5-a_dfs-h81250` in the list of available dataset configs"
   ]
  },
  {
   "cell_type": "code",
   "execution_count": null,
   "metadata": {},
   "outputs": [],
   "source": [
    "zanj: ZANJ = ZANJ(external_list_threshold=256)\n",
    "cfg: MazeDatasetConfig = MazeDatasetConfig(\n",
    "\tname=\"test\",\n",
    "\tgrid_n=3,\n",
    "\tn_mazes=32,\n",
    "\tmaze_ctor=LatticeMazeGenerators.gen_dfs,\n",
    ")\n",
    "\n",
    "print(cfg.to_fname())"
   ]
  },
  {
   "cell_type": "code",
   "execution_count": null,
   "metadata": {},
   "outputs": [],
   "source": [
    "dataset: MazeDataset = MazeDataset.from_config(\n",
    "\tcfg,\n",
    "\tdo_download=False,\n",
    "\tload_local=False,\n",
    "\tdo_generate=True,\n",
    "    save_local=True,\n",
    "\tlocal_base_path=LOCAL_DATA_PATH,\n",
    "\tverbose=True,\n",
    "\tzanj=zanj,\n",
    "\tgen_parallel=False, # parallel generation has overhead, not worth it unless you're doing a lot of mazes\n",
    ")"
   ]
  },
  {
   "cell_type": "code",
   "execution_count": null,
   "metadata": {},
   "outputs": [],
   "source": [
    "dataset_cpy: MazeDataset = MazeDataset.from_config(\n",
    "\tcfg,\n",
    "\tdo_download=False,\n",
    "\tload_local=True,\n",
    "\tdo_generate=False,\n",
    "\tlocal_base_path=LOCAL_DATA_PATH,\n",
    "\tverbose=True,\n",
    "\tzanj=zanj,\n",
    ")\n"
   ]
  },
  {
   "cell_type": "code",
   "execution_count": null,
   "metadata": {},
   "outputs": [],
   "source": [
    "assert dataset.cfg == dataset_cpy.cfg\n",
    "print(len(dataset), len(dataset_cpy))\n",
    "print(dataset_cpy[0])\n",
    "assert all(x == y for x,y in zip(dataset, dataset_cpy))"
   ]
  },
  {
   "cell_type": "code",
   "execution_count": null,
   "metadata": {},
   "outputs": [],
   "source": [
    "dataset_filtered: MazeDataset = dataset.filter_by.path_length(min_length=3)\n",
    "\n",
    "print(f\"{len(dataset) = }\")\n",
    "print(f\"{len(dataset_filtered) = }\")"
   ]
  },
  {
   "cell_type": "code",
   "execution_count": null,
   "metadata": {},
   "outputs": [],
   "source": [
    "maze_example = dataset[0]\n",
    "plt.imshow(maze_example.as_pixels())\n",
    "plt.show()\n",
    "print(\" \".join(maze_example.as_tokens(dataset.cfg.node_token_map)))\n",
    "\n",
    "from maze_dataset.plotting import MazePlot\n",
    "plot = MazePlot(maze_example)\n",
    "plot.plot()\n",
    "plt.show()"
   ]
  },
  {
   "cell_type": "code",
   "execution_count": null,
   "metadata": {},
   "outputs": [],
   "source": [
    "plot_dataset_mazes(dataset)\n",
    "plot_dataset_mazes(dataset_filtered)\n"
   ]
  },
  {
   "cell_type": "code",
   "execution_count": null,
   "metadata": {},
   "outputs": [],
   "source": [
    "print(json.dumps(dataset_filtered.cfg.serialize()[\"applied_filters\"], indent=2))\n",
    "print(f\"{MazeDataset._FILTER_NAMESPACE = }\")"
   ]
  },
  {
   "cell_type": "code",
   "execution_count": null,
   "metadata": {},
   "outputs": [],
   "source": [
    "dataset_filtered_from_scratch: MazeDataset = MazeDataset.from_config(\n",
    "\tdataset_filtered.cfg,\n",
    "\tdo_download=False,\n",
    "\tload_local=False,\n",
    "\tdo_generate=True,\n",
    "\tsave_local=False,\n",
    "\tlocal_base_path=LOCAL_DATA_PATH,\n",
    "\tverbose=True,\n",
    "\tzanj=zanj,\n",
    "\tgen_parallel=False,\n",
    ")"
   ]
  },
  {
   "cell_type": "code",
   "execution_count": null,
   "metadata": {},
   "outputs": [],
   "source": [
    "plot_dataset_mazes(dataset_filtered_from_scratch)\n",
    "dataset_filtered_nodupe = dataset_filtered_from_scratch.filter_by.remove_duplicates()\n",
    "plot_dataset_mazes(dataset_filtered_nodupe)\n"
   ]
  },
  {
   "cell_type": "code",
   "execution_count": null,
   "metadata": {},
   "outputs": [],
   "source": [
    "dataset_filtered_custom: MazeDataset = dataset.custom_maze_filter(\n",
    "\tlambda m, p: len(m.solution) == p,\n",
    "\tp=5,\n",
    ")\n",
    "plot_dataset_mazes(dataset)\n",
    "plot_dataset_mazes(dataset_filtered_custom)"
   ]
  },
  {
   "cell_type": "code",
   "execution_count": null,
   "metadata": {},
   "outputs": [],
   "source": [
    "dataset_with_meta = dataset.filter_by.collect_generation_meta()\n",
    "\n",
    "pprint_summary(dataset_with_meta.serialize()['generation_metadata_collected'])"
   ]
  },
  {
   "cell_type": "code",
   "execution_count": null,
   "metadata": {},
   "outputs": [],
   "source": [
    "dataset_not_fully_connected = MazeDataset.from_config(\n",
    "\tMazeDatasetConfig(\n",
    "\t\tname=\"test_disconnected\",\n",
    "\t\tgrid_n=10,\n",
    "\t\tn_mazes=32,\n",
    "\t\tmaze_ctor=LatticeMazeGenerators.gen_dfs,\n",
    "        maze_ctor_kwargs=dict(\n",
    "\t\t\tn_accessible_cells = 70,\n",
    "        \tmax_tree_depth = 15,\n",
    "\t\t),\n",
    "\t),\n",
    "\tdo_download=False,\n",
    "\tload_local=False,\n",
    "\tdo_generate=True,\n",
    "\tsave_local=True,\n",
    "\tlocal_base_path=LOCAL_DATA_PATH,\n",
    "\tverbose=True,\n",
    "\tzanj=zanj,\n",
    ")"
   ]
  },
  {
   "cell_type": "code",
   "execution_count": null,
   "metadata": {},
   "outputs": [],
   "source": [
    "plot_dataset_mazes(dataset_not_fully_connected, 5)"
   ]
  },
  {
   "cell_type": "code",
   "execution_count": null,
   "metadata": {},
   "outputs": [],
   "source": [
    "STANDARD_KWARGS_FROM_CONFIG: dict = dict(\n",
    "    do_download=False,\n",
    "\tload_local=False,\n",
    "\tdo_generate=True,\n",
    "\tsave_local=True,\n",
    "\tlocal_base_path=LOCAL_DATA_PATH,\n",
    "\tverbose=True,\n",
    "\tzanj=zanj,\n",
    ")"
   ]
  },
  {
   "cell_type": "code",
   "execution_count": null,
   "metadata": {},
   "outputs": [],
   "source": [
    "dataset_hallway: MazeDataset = MazeDataset.from_config(\n",
    "\tMazeDatasetConfig(\n",
    "\t\tname=\"test_hallway\",\n",
    "\t\tgrid_n=5,\n",
    "\t\tn_mazes=5,\n",
    "\t\tmaze_ctor=LatticeMazeGenerators.gen_dfs,\n",
    "        maze_ctor_kwargs=dict(\n",
    "\t\t\tn_accessible_cells = 70,\n",
    "        \tmax_tree_depth = 15,\n",
    "            do_forks = False,\n",
    "\t\t),\n",
    "\t),\n",
    "\t**STANDARD_KWARGS_FROM_CONFIG,\n",
    ")"
   ]
  },
  {
   "cell_type": "code",
   "execution_count": null,
   "metadata": {},
   "outputs": [],
   "source": [
    "plot_dataset_mazes(dataset_hallway)"
   ]
  },
  {
   "cell_type": "code",
   "execution_count": null,
   "metadata": {},
   "outputs": [],
   "source": [
    "dataset_perc: MazeDataset = MazeDataset.from_config(\n",
    "\tMazeDatasetConfig(\n",
    "\t\tname=\"test_perc\",\n",
    "\t\tgrid_n=8,\n",
    "\t\tn_mazes=5,\n",
    "\t\tmaze_ctor=LatticeMazeGenerators.gen_percolation,\n",
    "        maze_ctor_kwargs=dict(p=0.5),\n",
    "\t),\n",
    "\t**STANDARD_KWARGS_FROM_CONFIG,\n",
    ")"
   ]
  },
  {
   "cell_type": "code",
   "execution_count": null,
   "metadata": {},
   "outputs": [],
   "source": [
    "plot_dataset_mazes(dataset_perc)"
   ]
  },
  {
   "cell_type": "code",
   "execution_count": null,
   "metadata": {},
   "outputs": [],
   "source": [
    "dataset_dfs_perc: MazeDataset = MazeDataset.from_config(\n",
    "\tMazeDatasetConfig(\n",
    "\t\tname=\"test_dfs_perc\",\n",
    "\t\tgrid_n=8,\n",
    "\t\tn_mazes=5,\n",
    "\t\tmaze_ctor=LatticeMazeGenerators.gen_dfs_percolation,\n",
    "        maze_ctor_kwargs=dict(p=0.2),\n",
    "\t),\n",
    "\t**STANDARD_KWARGS_FROM_CONFIG,\n",
    ")"
   ]
  },
  {
   "cell_type": "code",
   "execution_count": null,
   "metadata": {},
   "outputs": [],
   "source": [
    "plot_dataset_mazes(dataset_dfs_perc)"
   ]
  },
  {
   "cell_type": "code",
   "execution_count": null,
   "metadata": {},
   "outputs": [],
   "source": [
    "for ds in [dataset_not_fully_connected, dataset_hallway, dataset_perc, dataset_dfs_perc]:\n",
    "\tprint(f\"{ds.cfg.name = }\")\n",
    "\tpprint_summary(ds.filter_by.collect_generation_meta().serialize()['generation_metadata_collected'])"
   ]
  }
 ],
 "metadata": {
  "kernelspec": {
   "display_name": "maze-transformer",
   "language": "python",
   "name": "maze-transformer"
  },
  "language_info": {
   "codemirror_mode": {
    "name": "ipython",
    "version": 3
   },
   "file_extension": ".py",
   "mimetype": "text/x-python",
   "name": "python",
   "nbconvert_exporter": "python",
   "pygments_lexer": "ipython3",
   "version": "3.10.1"
  },
  "orig_nbformat": 4
 },
 "nbformat": 4,
 "nbformat_minor": 2
}
