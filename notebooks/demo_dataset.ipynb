{
 "cells": [
  {
   "cell_type": "code",
   "execution_count": 1,
   "metadata": {},
   "outputs": [
    {
     "name": "stdout",
     "output_type": "stream",
     "text": [
      "dict_keys(['test-g3-n5-a_dfs-h73396'])\n"
     ]
    }
   ],
   "source": [
    "import json\n",
    "\n",
    "import matplotlib.pyplot as plt\n",
    "\n",
    "from muutils.zanj import ZANJ\n",
    "from maze_transformer.generation.lattice_maze import SolvedMaze\n",
    "from maze_transformer.generation.generators import LatticeMazeGenerators\n",
    "from maze_transformer.dataset.maze_dataset import MazeDataset, MazeDatasetConfig\n",
    "from maze_transformer.dataset.maze_dataset_configs import MAZE_DATASET_CONFIGS\n",
    "\n",
    "print(MAZE_DATASET_CONFIGS.keys())\n",
    "\n",
    "LOCAL_DATA_PATH: str = \"../data/\""
   ]
  },
  {
   "attachments": {},
   "cell_type": "markdown",
   "metadata": {},
   "source": [
    "you should always see `test-g3-n5-a_dfs-h73396` in the list of available dataset configs"
   ]
  },
  {
   "cell_type": "code",
   "execution_count": 2,
   "metadata": {},
   "outputs": [],
   "source": [
    "def plot_dataset_mazes(ds: MazeDataset, count: int|None = None):\n",
    "\tcount = count or len(ds)\n",
    "\tif count == 0:\n",
    "\t\tprint(f\"No mazes to plot for dataset\")\n",
    "\t\treturn\n",
    "\tfig, axes = plt.subplots(1, count, figsize=(15, 5))\n",
    "\tif count == 1:\n",
    "\t\taxes = [axes]\n",
    "\tfor i in range(count):\n",
    "\t\taxes[i].imshow(ds[i].as_pixels())\n",
    "\t\t# remove ticks\n",
    "\t\taxes[i].set_xticks([])\n",
    "\t\taxes[i].set_yticks([])\n",
    "\n",
    "def print_dataset_mazes(ds: MazeDataset, count: int|None = None):\n",
    "\tcount = count or len(ds)\n",
    "\tif count == 0:\n",
    "\t\tprint(f\"No mazes to print for dataset\")\n",
    "\t\treturn\n",
    "\tfor i in range(count):\n",
    "\t\tprint(ds[i].as_ascii(), \"\\n\\n-----\\n\")\n"
   ]
  },
  {
   "cell_type": "code",
   "execution_count": 3,
   "metadata": {},
   "outputs": [
    {
     "name": "stdout",
     "output_type": "stream",
     "text": [
      "test-g3-n32-a_dfs-h15603\n"
     ]
    }
   ],
   "source": [
    "zanj: ZANJ = ZANJ(external_list_threshold=256)\n",
    "cfg: MazeDatasetConfig = MazeDatasetConfig(\n",
    "\tname=\"test\",\n",
    "\tgrid_n=3,\n",
    "\tn_mazes=32,\n",
    "\tmaze_ctor=LatticeMazeGenerators.gen_dfs,\n",
    ")\n",
    "\n",
    "print(cfg.to_fname())"
   ]
  },
  {
   "cell_type": "code",
   "execution_count": 4,
   "metadata": {},
   "outputs": [
    {
     "name": "stderr",
     "output_type": "stream",
     "text": [
      "generating & solving mazes: 100%|██████████| 32/32 [00:00<00:00, 842.18maze/s]\n"
     ]
    }
   ],
   "source": [
    "dataset: MazeDataset = MazeDataset.from_config(\n",
    "\tcfg,\n",
    "\tdo_download=False,\n",
    "\tload_local=False,\n",
    "\tdo_generate=True,\n",
    "    save_local=True,\n",
    "\tlocal_base_path=LOCAL_DATA_PATH,\n",
    "\tverbose=True,\n",
    "\tzanj=zanj,\n",
    "\tgen_parallel=False, # parallel generation has overhead, not worth it unless you're doing a lot of mazes\n",
    ")"
   ]
  },
  {
   "cell_type": "code",
   "execution_count": 5,
   "metadata": {},
   "outputs": [],
   "source": [
    "dataset_cpy: MazeDataset = MazeDataset.from_config(\n",
    "\tcfg,\n",
    "\tdo_download=False,\n",
    "\tload_local=True,\n",
    "\tdo_generate=False,\n",
    "\tlocal_base_path=LOCAL_DATA_PATH,\n",
    "\tverbose=True,\n",
    "\tzanj=zanj,\n",
    ")\n"
   ]
  },
  {
   "cell_type": "code",
   "execution_count": 6,
   "metadata": {},
   "outputs": [
    {
     "name": "stdout",
     "output_type": "stream",
     "text": [
      "32 32\n",
      "SolvedMaze(connection_list=array([[[ True,  True,  True],\n",
      "        [ True, False,  True],\n",
      "        [False, False, False]],\n",
      "\n",
      "       [[False, False, False],\n",
      "        [False,  True, False],\n",
      "        [ True,  True, False]]]), generation_meta={'func_name': 'gen_dfs', 'grid_shape': array([3, 3]), 'start_coord': array([0, 1]), 'visited_cells': [[0, 1], [1, 2], [2, 1], [0, 0], [1, 1], [2, 0], [0, 2], [2, 2], [1, 0]], 'n_accessible_cells': 9, 'max_tree_depth': 18, 'fully_connected': True}, start_pos=array([1, 2]), end_pos=array([0, 0]), solution=array([[1, 2],\n",
      "       [2, 2],\n",
      "       [2, 1],\n",
      "       [2, 0],\n",
      "       [1, 0],\n",
      "       [0, 0]]))\n"
     ]
    }
   ],
   "source": [
    "assert dataset.cfg == dataset_cpy.cfg\n",
    "print(len(dataset), len(dataset_cpy))\n",
    "print(dataset_cpy[0])\n",
    "assert all(x == y for x,y in zip(dataset, dataset_cpy))"
   ]
  },
  {
   "cell_type": "code",
   "execution_count": 7,
   "metadata": {},
   "outputs": [
    {
     "name": "stdout",
     "output_type": "stream",
     "text": [
      "len(dataset) = 32\n",
      "len(dataset_filtered) = 27\n"
     ]
    }
   ],
   "source": [
    "dataset_filtered: MazeDataset = dataset.filter_by.path_length(min_length=3)\n",
    "\n",
    "print(f\"{len(dataset) = }\")\n",
    "print(f\"{len(dataset_filtered) = }\")"
   ]
  },
  {
   "cell_type": "code",
   "execution_count": 8,
   "metadata": {},
   "outputs": [
    {
     "data": {
      "image/png": "[encoded data removed]",
      "text/plain": [
       "<Figure size 1500x500 with 32 Axes>"
      ]
     },
     "metadata": {},
     "output_type": "display_data"
    },
    {
     "data": {
      "image/png": "[encoded data removed]",
      "text/plain": [
       "<Figure size 1500x500 with 27 Axes>"
      ]
     },
     "metadata": {},
     "output_type": "display_data"
    }
   ],
   "source": [
    "plot_dataset_mazes(dataset)\n",
    "plot_dataset_mazes(dataset_filtered)\n"
   ]
  },
  {
   "cell_type": "code",
   "execution_count": 9,
   "metadata": {},
   "outputs": [
    {
     "name": "stdout",
     "output_type": "stream",
     "text": [
      "[\n",
      "  {\n",
      "    \"name\": \"path_length\",\n",
      "    \"args\": [],\n",
      "    \"kwargs\": {\n",
      "      \"min_length\": 3\n",
      "    }\n",
      "  }\n",
      "]\n",
      "MazeDataset._FILTER_NAMESPACE = <class 'maze_transformer.dataset.maze_dataset.MazeDatasetFilters'>\n"
     ]
    }
   ],
   "source": [
    "print(json.dumps(dataset_filtered.cfg.serialize()[\"applied_filters\"], indent=2))\n",
    "print(f\"{MazeDataset._FILTER_NAMESPACE = }\")"
   ]
  },
  {
   "cell_type": "code",
   "execution_count": 10,
   "metadata": {},
   "outputs": [
    {
     "name": "stderr",
     "output_type": "stream",
     "text": [
      "generating & solving mazes: 100%|██████████| 27/27 [00:00<00:00, 901.04maze/s]\n"
     ]
    }
   ],
   "source": [
    "dataset_filtered_from_scratch: MazeDataset = MazeDataset.from_config(\n",
    "\tdataset_filtered.cfg,\n",
    "\tdo_download=False,\n",
    "\tload_local=False,\n",
    "\tdo_generate=True,\n",
    "\tsave_local=False,\n",
    "\tlocal_base_path=LOCAL_DATA_PATH,\n",
    "\tverbose=True,\n",
    "\tzanj=zanj,\n",
    "\tgen_parallel=False,\n",
    ")"
   ]
  },
  {
   "cell_type": "code",
   "execution_count": null,
   "metadata": {},
   "outputs": [],
   "source": [
    "plot_dataset_mazes(dataset_filtered_from_scratch)\n",
    "dataset_filtered_nodupe = dataset_filtered_from_scratch.filter_by.remove_duplicates()\n",
    "plot_dataset_mazes(dataset_filtered_nodupe)\n"
   ]
  },
  {
   "cell_type": "code",
   "execution_count": null,
   "metadata": {},
   "outputs": [],
   "source": [
    "dataset_filtered_custom: MazeDataset = dataset.custom_maze_filter(\n",
    "\tlambda m, p: len(m.solution) == p,\n",
    "\tp=5,\n",
    ")\n",
    "plot_dataset_mazes(dataset)\n",
    "plot_dataset_mazes(dataset_filtered_custom)"
   ]
  },
  {
   "cell_type": "code",
   "execution_count": null,
   "metadata": {},
   "outputs": [],
   "source": [
    "dataset_with_meta = dataset.filter_by.collect_generation_meta()\n",
    "\n",
    "print(json.dumps(dataset_with_meta.serialize()['generation_metadata_collected'], indent=2))"
   ]
  },
  {
   "cell_type": "code",
   "execution_count": null,
   "metadata": {},
   "outputs": [],
   "source": [
    "dataset_not_fully_connected = MazeDataset.from_config(\n",
    "\tMazeDatasetConfig(\n",
    "\t\tname=\"test_disconnected\",\n",
    "\t\tgrid_n=10,\n",
    "\t\tn_mazes=32,\n",
    "\t\tmaze_ctor=LatticeMazeGenerators.gen_dfs,\n",
    "        maze_ctor_kwargs=dict(\n",
    "\t\t\tn_accessible_cells = 70,\n",
    "        \tmax_tree_depth = 15,\n",
    "\t\t),\n",
    "\t),\n",
    "\tdo_download=False,\n",
    "\tload_local=False,\n",
    "\tdo_generate=True,\n",
    "\tsave_local=True,\n",
    "\tlocal_base_path=LOCAL_DATA_PATH,\n",
    "\tverbose=True,\n",
    "\tzanj=zanj,\n",
    ")"
   ]
  },
  {
   "cell_type": "code",
   "execution_count": null,
   "metadata": {},
   "outputs": [],
   "source": [
    "plot_dataset_mazes(dataset_not_fully_connected, 5)"
   ]
  }
 ],
 "metadata": {
  "kernelspec": {
   "display_name": "maze-transformer",
   "language": "python",
   "name": "maze-transformer"
  },
  "language_info": {
   "codemirror_mode": {
    "name": "ipython",
    "version": 3
   },
   "file_extension": ".py",
   "mimetype": "text/x-python",
   "name": "python",
   "nbconvert_exporter": "python",
   "pygments_lexer": "ipython3",
   "version": "3.10.1"
  },
  "orig_nbformat": 4
 },
 "nbformat": 4,
 "nbformat_minor": 2
}
