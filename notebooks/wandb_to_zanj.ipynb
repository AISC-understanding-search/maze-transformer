{
 "cells": [
  {
   "cell_type": "code",
   "execution_count": 5,
   "metadata": {},
   "outputs": [],
   "source": [
    "from pathlib import Path\n",
    "\n",
    "from muutils.nbutils.configure_notebook import configure_notebook\n",
    "\n",
    "from maze_transformer.training.config import ZanjHookedTransformer\n",
    "from maze_transformer.utils.get_pt_model_wandb import load_wandb_pt_model_as_zanj"
   ]
  },
  {
   "cell_type": "code",
   "execution_count": 6,
   "metadata": {},
   "outputs": [
    {
     "data": {
      "text/plain": [
       "device(type='cuda')"
      ]
     },
     "execution_count": 6,
     "metadata": {},
     "output_type": "execute_result"
    }
   ],
   "source": [
    "configure_notebook()"
   ]
  },
  {
   "attachments": {},
   "cell_type": "markdown",
   "metadata": {},
   "source": [
    "uncomment the code below to get a wandb pytorch model (in @afspies format) to a zanj pytorch model"
   ]
  },
  {
   "cell_type": "code",
   "execution_count": 13,
   "metadata": {},
   "outputs": [
    {
     "name": "stdout",
     "output_type": "stream",
     "text": [
      "Loading latest checkpoint\n",
      "Model already downloaded to downloaded_models\\jerpkipj\\model.iter_29000000.pt\n",
      "Loading model\n",
      "cfg.model_cfg.weight_processing = {'are_layernorms_folded': False, 'are_weights_processed': False}\n",
      "type(model_wandb) = <class 'transformer_lens.HookedTransformer.HookedTransformer'> type(cfg) = <class 'maze_transformer.training.config.ConfigHolder'>\n",
      "model_zanj.zanj_model_config.model_cfg.weight_processing = {'are_layernorms_folded': False, 'are_weights_processed': False}\n",
      "loaded model with 9.6M parameters\n",
      "{'load_wandb_run_kwargs': {'project': 'aisc-search/alex', 'run_id': 'jerpkipj', 'checkpoint': None}, 'train_cfg.name': \"artifact 'aisc-search/alex/jerpkipj:latest', checkpoint '29000000'\"}\n",
      "Saved model to downloaded_models/wandb.jerpkipj.zanj\n",
      "model_loaded.zanj_model_config.model_cfg.weight_processing = {'are_layernorms_folded': False, 'are_weights_processed': False}\n",
      "diff between loaded and saved model configs:\n",
      "cfg_diff = {}\n"
     ]
    },
    {
     "ename": "AssertionError",
     "evalue": "state dicts do not match:\nsymmetric_diff = {'blocks.1.ln2.w', 'blocks.5.ln2.b', 'blocks.11.ln1.w', 'blocks.3.ln2.b', 'blocks.8.ln1.b', 'blocks.3.ln2.w', 'ln_final.w', 'blocks.6.ln2.w', 'ln_final.b', 'blocks.6.ln1.w', 'blocks.0.ln2.w', 'blocks.2.ln1.w', 'blocks.9.ln2.b', 'blocks.11.ln2.w', 'blocks.0.ln1.w', 'blocks.6.ln2.b', 'blocks.4.ln1.b', 'blocks.1.ln2.b', 'blocks.5.ln1.b', 'blocks.3.ln1.w', 'blocks.10.ln1.b', 'blocks.10.ln2.w', 'blocks.4.ln2.w', 'blocks.2.ln2.w', 'blocks.7.ln2.w', 'blocks.2.ln2.b', 'blocks.8.ln2.b', 'blocks.5.ln1.w', 'blocks.1.ln1.b', 'blocks.8.ln1.w', 'blocks.11.ln1.b', 'blocks.7.ln1.b', 'blocks.6.ln1.b', 'blocks.3.ln1.b', 'blocks.10.ln1.w', 'blocks.8.ln2.w', 'blocks.4.ln1.w', 'blocks.9.ln1.b', 'blocks.0.ln1.b', 'blocks.7.ln2.b', 'blocks.2.ln1.b', 'blocks.1.ln1.w', 'blocks.0.ln2.b', 'blocks.9.ln2.w', 'blocks.9.ln1.w', 'blocks.11.ln2.b', 'blocks.4.ln2.b', 'blocks.5.ln2.w', 'blocks.7.ln1.w', 'blocks.10.ln2.b'}\nkeys_diff_1 = {'blocks.8.ln2.b', 'blocks.4.ln1.w', 'blocks.5.ln1.w', 'blocks.6.ln2.b', 'blocks.9.ln1.b', 'blocks.4.ln1.b', 'blocks.1.ln2.w', 'blocks.5.ln2.b', 'blocks.11.ln1.w', 'blocks.1.ln2.b', 'blocks.3.ln2.b', 'blocks.5.ln1.b', 'blocks.0.ln1.b', 'blocks.1.ln1.b', 'blocks.7.ln2.b', 'blocks.8.ln1.w', 'blocks.3.ln1.w', 'blocks.11.ln1.b', 'blocks.10.ln1.b', 'blocks.8.ln1.b', 'blocks.2.ln1.b', 'blocks.7.ln1.b', 'blocks.1.ln1.w', 'blocks.3.ln2.w', 'blocks.10.ln2.w', 'blocks.0.ln2.b', 'ln_final.w', 'blocks.6.ln2.w', 'blocks.6.ln1.b', 'blocks.9.ln2.w', 'blocks.9.ln1.w', 'blocks.3.ln1.b', 'ln_final.b', 'blocks.4.ln2.w', 'blocks.11.ln2.b', 'blocks.6.ln1.w', 'blocks.2.ln2.w', 'blocks.4.ln2.b', 'blocks.0.ln2.w', 'blocks.7.ln2.w', 'blocks.2.ln1.w', 'blocks.9.ln2.b', 'blocks.11.ln2.w', 'blocks.5.ln2.w', 'blocks.7.ln1.w', 'blocks.2.ln2.b', 'blocks.10.ln1.w', 'blocks.10.ln2.b', 'blocks.0.ln1.w', 'blocks.8.ln2.w'}\nkeys_diff_2 = set()",
     "output_type": "error",
     "traceback": [
      "\u001b[1;31m---------------------------------------------------------------------------\u001b[0m",
      "\u001b[1;31mAssertionError\u001b[0m                            Traceback (most recent call last)",
      "Cell \u001b[1;32mIn[13], line 1\u001b[0m\n\u001b[1;32m----> 1\u001b[0m MODEL: ZanjHookedTransformer \u001b[39m=\u001b[39m load_wandb_pt_model_as_zanj(\n\u001b[0;32m      2\u001b[0m \tproject\u001b[39m=\u001b[39;49m\u001b[39m\"\u001b[39;49m\u001b[39maisc-search/alex\u001b[39;49m\u001b[39m\"\u001b[39;49m, \n\u001b[0;32m      3\u001b[0m \trun_id\u001b[39m=\u001b[39;49m\u001b[39m\"\u001b[39;49m\u001b[39mjerpkipj\u001b[39;49m\u001b[39m\"\u001b[39;49m, \n\u001b[0;32m      4\u001b[0m \tcheckpoint\u001b[39m=\u001b[39;49m\u001b[39mNone\u001b[39;49;00m,\n\u001b[0;32m      5\u001b[0m \tsave_zanj_model\u001b[39m=\u001b[39;49m\u001b[39mTrue\u001b[39;49;00m,\n\u001b[0;32m      6\u001b[0m )\n",
      "File \u001b[1;32mF:\\KNC\\maze-transformer\\maze_transformer\\utils\\get_pt_model_wandb.py:208\u001b[0m, in \u001b[0;36mload_wandb_pt_model_as_zanj\u001b[1;34m(run_id, project, checkpoint, output_path, save_zanj_model, verbose, allow_weight_processing_diff, test_reload)\u001b[0m\n\u001b[0;32m    205\u001b[0m             \u001b[39mpass\u001b[39;00m\n\u001b[0;32m    206\u001b[0m     \u001b[39massert\u001b[39;00m \u001b[39mnot\u001b[39;00m \u001b[39many\u001b[39m(cfg_diff\u001b[39m.\u001b[39mvalues()), \u001b[39mf\u001b[39m\u001b[39m\"\u001b[39m\u001b[39mconfigs do not match\u001b[39m\u001b[39m\\n\u001b[39;00m\u001b[39m{\u001b[39;00mcfg_diff\u001b[39m \u001b[39m\u001b[39m= }\u001b[39;00m\u001b[39m\"\u001b[39m\n\u001b[1;32m--> 208\u001b[0m     compare_state_dicts(model_loaded\u001b[39m.\u001b[39;49mstate_dict(), model_zanj\u001b[39m.\u001b[39;49mstate_dict())\n\u001b[0;32m    209\u001b[0m     compare_state_dicts(model_loaded\u001b[39m.\u001b[39mstate_dict(), model_wandb\u001b[39m.\u001b[39mstate_dict())\n\u001b[0;32m    211\u001b[0m \u001b[39mreturn\u001b[39;00m model_zanj\n",
      "File \u001b[1;32mF:\\projects\\tools\\muutils\\muutils\\tensor_utils.py:354\u001b[0m, in \u001b[0;36mcompare_state_dicts\u001b[1;34m(d1, d2, rtol, atol)\u001b[0m\n\u001b[0;32m    352\u001b[0m keys_diff_1: \u001b[39mset\u001b[39m \u001b[39m=\u001b[39m d1_keys \u001b[39m-\u001b[39m d2_keys\n\u001b[0;32m    353\u001b[0m keys_diff_2: \u001b[39mset\u001b[39m \u001b[39m=\u001b[39m d2_keys \u001b[39m-\u001b[39m d1_keys\n\u001b[1;32m--> 354\u001b[0m \u001b[39massert\u001b[39;00m \u001b[39mlen\u001b[39m(symmetric_diff) \u001b[39m==\u001b[39m \u001b[39m0\u001b[39m, \u001b[39mf\u001b[39m\u001b[39m\"\u001b[39m\u001b[39mstate dicts do not match:\u001b[39m\u001b[39m\\n\u001b[39;00m\u001b[39m{\u001b[39;00msymmetric_diff\u001b[39m \u001b[39m\u001b[39m= }\u001b[39;00m\u001b[39m\\n\u001b[39;00m\u001b[39m{\u001b[39;00mkeys_diff_1\u001b[39m \u001b[39m\u001b[39m= }\u001b[39;00m\u001b[39m\\n\u001b[39;00m\u001b[39m{\u001b[39;00mkeys_diff_2\u001b[39m \u001b[39m\u001b[39m= }\u001b[39;00m\u001b[39m\"\u001b[39m\n\u001b[0;32m    356\u001b[0m \u001b[39m# check tensors match\u001b[39;00m\n\u001b[0;32m    357\u001b[0m shape_failed: \u001b[39mlist\u001b[39m[\u001b[39mstr\u001b[39m] \u001b[39m=\u001b[39m \u001b[39mlist\u001b[39m()\n",
      "\u001b[1;31mAssertionError\u001b[0m: state dicts do not match:\nsymmetric_diff = {'blocks.1.ln2.w', 'blocks.5.ln2.b', 'blocks.11.ln1.w', 'blocks.3.ln2.b', 'blocks.8.ln1.b', 'blocks.3.ln2.w', 'ln_final.w', 'blocks.6.ln2.w', 'ln_final.b', 'blocks.6.ln1.w', 'blocks.0.ln2.w', 'blocks.2.ln1.w', 'blocks.9.ln2.b', 'blocks.11.ln2.w', 'blocks.0.ln1.w', 'blocks.6.ln2.b', 'blocks.4.ln1.b', 'blocks.1.ln2.b', 'blocks.5.ln1.b', 'blocks.3.ln1.w', 'blocks.10.ln1.b', 'blocks.10.ln2.w', 'blocks.4.ln2.w', 'blocks.2.ln2.w', 'blocks.7.ln2.w', 'blocks.2.ln2.b', 'blocks.8.ln2.b', 'blocks.5.ln1.w', 'blocks.1.ln1.b', 'blocks.8.ln1.w', 'blocks.11.ln1.b', 'blocks.7.ln1.b', 'blocks.6.ln1.b', 'blocks.3.ln1.b', 'blocks.10.ln1.w', 'blocks.8.ln2.w', 'blocks.4.ln1.w', 'blocks.9.ln1.b', 'blocks.0.ln1.b', 'blocks.7.ln2.b', 'blocks.2.ln1.b', 'blocks.1.ln1.w', 'blocks.0.ln2.b', 'blocks.9.ln2.w', 'blocks.9.ln1.w', 'blocks.11.ln2.b', 'blocks.4.ln2.b', 'blocks.5.ln2.w', 'blocks.7.ln1.w', 'blocks.10.ln2.b'}\nkeys_diff_1 = {'blocks.8.ln2.b', 'blocks.4.ln1.w', 'blocks.5.ln1.w', 'blocks.6.ln2.b', 'blocks.9.ln1.b', 'blocks.4.ln1.b', 'blocks.1.ln2.w', 'blocks.5.ln2.b', 'blocks.11.ln1.w', 'blocks.1.ln2.b', 'blocks.3.ln2.b', 'blocks.5.ln1.b', 'blocks.0.ln1.b', 'blocks.1.ln1.b', 'blocks.7.ln2.b', 'blocks.8.ln1.w', 'blocks.3.ln1.w', 'blocks.11.ln1.b', 'blocks.10.ln1.b', 'blocks.8.ln1.b', 'blocks.2.ln1.b', 'blocks.7.ln1.b', 'blocks.1.ln1.w', 'blocks.3.ln2.w', 'blocks.10.ln2.w', 'blocks.0.ln2.b', 'ln_final.w', 'blocks.6.ln2.w', 'blocks.6.ln1.b', 'blocks.9.ln2.w', 'blocks.9.ln1.w', 'blocks.3.ln1.b', 'ln_final.b', 'blocks.4.ln2.w', 'blocks.11.ln2.b', 'blocks.6.ln1.w', 'blocks.2.ln2.w', 'blocks.4.ln2.b', 'blocks.0.ln2.w', 'blocks.7.ln2.w', 'blocks.2.ln1.w', 'blocks.9.ln2.b', 'blocks.11.ln2.w', 'blocks.5.ln2.w', 'blocks.7.ln1.w', 'blocks.2.ln2.b', 'blocks.10.ln1.w', 'blocks.10.ln2.b', 'blocks.0.ln1.w', 'blocks.8.ln2.w'}\nkeys_diff_2 = set()"
     ]
    }
   ],
   "source": [
    "MODEL: ZanjHookedTransformer = load_wandb_pt_model_as_zanj(\n",
    "\tproject=\"aisc-search/alex\", \n",
    "\trun_id=\"jerpkipj\", \n",
    "\tcheckpoint=None,\n",
    "\tsave_zanj_model=True,\n",
    ")"
   ]
  }
 ],
 "metadata": {
  "kernelspec": {
   "display_name": "maze-transformer",
   "language": "python",
   "name": "maze-transformer"
  },
  "language_info": {
   "codemirror_mode": {
    "name": "ipython",
    "version": 3
   },
   "file_extension": ".py",
   "mimetype": "text/x-python",
   "name": "python",
   "nbconvert_exporter": "python",
   "pygments_lexer": "ipython3",
   "version": "3.10.1"
  },
  "orig_nbformat": 4
 },
 "nbformat": 4,
 "nbformat_minor": 2
}
