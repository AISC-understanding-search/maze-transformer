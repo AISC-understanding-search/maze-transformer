{
 "cells": [
  {
   "cell_type": "code",
   "execution_count": 1,
   "metadata": {},
   "outputs": [],
   "source": [
    "from pathlib import Path\n",
    "\n",
    "from maze_transformer.training.config import ZanjHookedTransformer\n",
    "from maze_transformer.utils.get_pt_model_wandb import load_wandb_pt_model_as_zanj"
   ]
  },
  {
   "attachments": {},
   "cell_type": "markdown",
   "metadata": {},
   "source": [
    "uncomment the code below to get a wandb pytorch model (in @afspies format) to a zanj pytorch model"
   ]
  },
  {
   "cell_type": "code",
   "execution_count": 2,
   "metadata": {},
   "outputs": [
    {
     "name": "stdout",
     "output_type": "stream",
     "text": [
      "Loading latest checkpoint\n"
     ]
    },
    {
     "name": "stderr",
     "output_type": "stream",
     "text": [
      "\u001b[34m\u001b[1mwandb\u001b[0m:   1 of 1 files downloaded.  \n"
     ]
    },
    {
     "name": "stdout",
     "output_type": "stream",
     "text": [
      "Downloaded model to downloaded_models\\jerpkipj\\model.iter_29000000.pt\n",
      "Loading model\n",
      "type(model) = <class 'transformer_lens.HookedTransformer.HookedTransformer'> type(cfg) = <class 'maze_transformer.training.config.ConfigHolder'>\n",
      "loaded model with 9.6M parameters\n",
      "{'load_wandb_run_kwargs': {'project': 'aisc-search/alex', 'run_id': 'jerpkipj', 'checkpoint': None}, 'train_cfg.name': \"artifact 'aisc-search/alex/jerpkipj:latest', checkpoint '29000000'\"}\n",
      "Saved model to downloaded_models/wandb.jerpkipj.zanj\n"
     ]
    }
   ],
   "source": [
    "# MODEL: ZanjHookedTransformer = load_wandb_pt_model_as_zanj(\n",
    "# \tproject=\"aisc-search/alex\", \n",
    "# \trun_id=\"jerpkipj\", \n",
    "# \tcheckpoint=None,\n",
    "# \tsave_zanj_model=True,\n",
    "# )"
   ]
  }
 ],
 "metadata": {
  "kernelspec": {
   "display_name": "maze-transformer",
   "language": "python",
   "name": "maze-transformer"
  },
  "language_info": {
   "codemirror_mode": {
    "name": "ipython",
    "version": 3
   },
   "file_extension": ".py",
   "mimetype": "text/x-python",
   "name": "python",
   "nbconvert_exporter": "python",
   "pygments_lexer": "ipython3",
   "version": "3.10.1"
  },
  "orig_nbformat": 4
 },
 "nbformat": 4,
 "nbformat_minor": 2
}
