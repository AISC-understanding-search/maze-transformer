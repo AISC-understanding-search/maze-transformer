{
 "cells": [
  {
   "cell_type": "code",
   "execution_count": 1,
   "metadata": {},
   "outputs": [],
   "source": [
    "from pathlib import Path\n",
    "\n",
    "from muutils.nbutils.configure_notebook import configure_notebook\n",
    "\n",
    "from maze_dataset.tokenization import MazeTokenizer, TokenizationMode\n",
    "\n",
    "from maze_transformer.training.config import ZanjHookedTransformer\n",
    "from maze_transformer.utils.get_pt_model_wandb import load_wandb_pt_model_as_zanj"
   ]
  },
  {
   "cell_type": "code",
   "execution_count": 2,
   "metadata": {},
   "outputs": [
    {
     "data": {
      "text/plain": [
       "device(type='cuda')"
      ]
     },
     "execution_count": 2,
     "metadata": {},
     "output_type": "execute_result"
    }
   ],
   "source": [
    "configure_notebook()"
   ]
  },
  {
   "attachments": {},
   "cell_type": "markdown",
   "metadata": {},
   "source": [
    "uncomment the code below to get a wandb pytorch model (in @afspies format) to a zanj pytorch model"
   ]
  },
  {
   "cell_type": "code",
   "execution_count": 4,
   "metadata": {},
   "outputs": [
    {
     "name": "stdout",
     "output_type": "stream",
     "text": [
      "# Loading model and config from wandb:\n",
      "run_id = 'jerpkipj', project = 'aisc-search/alex', checkpoint = None\n",
      "Loading latest checkpoint\n",
      "Model already downloaded to downloaded_models\\jerpkipj\\model.iter_29000000.pt\n",
      "Loading model\n",
      "# Overriding tokenization mode with tokenization_mode_override = <TokenizationMode.AOTP_UT_rasterized: 'AOTP_UT_rasterized'>, original: cfg.maze_tokenizer.tokenization_mode = <TokenizationMode.AOTP_UT_uniform: 'AOTP_UT_uniform'>\n",
      "\tcfg.model_cfg.weight_processing = {'are_layernorms_folded': False, 'are_weights_processed': False}\n",
      "\ttype(model_wandb) = <class 'transformer_lens.HookedTransformer.HookedTransformer'> type(cfg) = <class 'maze_transformer.training.config.ConfigHolder'>\n",
      "# Converting model to zanj\n",
      "\tgot zanj model with 9.6M parameters\n",
      "\tmodel_zanj.training_records = {'load_wandb_run_kwargs': {'project': 'aisc-search/alex', 'run_id': 'jerpkipj', 'checkpoint': None}, 'train_cfg.name': \"artifact 'aisc-search/alex/jerpkipj:latest', checkpoint '29000000'\"}\n",
      "\tmodel_zanj.zanj_model_config.model_cfg.weight_processing = {'are_layernorms_folded': False, 'are_weights_processed': False}\n",
      "# Checking zanj-converted model matches wandb model\n",
      "\tmodel outputs match\n",
      "\tstate dicts match\n",
      "# Saving model to downloaded_models/wandb.jerpkipj.zanj\n",
      "# Reloading model from downloaded_models/wandb.jerpkipj.zanj\n",
      "\tmodel_loaded.zanj_model_config.model_cfg.weight_processing = {'are_layernorms_folded': False, 'are_weights_processed': False}\n",
      "# Checking reloaded model matches saved model\n",
      "\tcomparing output equality\n",
      "\t\tzanj vs loaded zanj\n",
      "\t\tzanj vs loaded zanj with processed weights\n",
      "\t\t\toutput equality with argsort failed for processed weights loaded model:\n",
      "\t\t\te = AssertionError('argsort not equal, 22 / 600 elements differ')\n",
      "\t\tzanj vs loaded zanj with processed weights, argsort check disabled\n",
      "\tcomparing configs and training records\n",
      "\tdiff between loaded and saved model configs:\n",
      "\t\tcfg_diff = {}\n",
      "\tcomparing state dicts\n",
      "\t\tloaded with processed weights vs zanj\n",
      "\t\tloaded with processed weights vs wandb\n",
      "\tstate dicts match\n",
      "# Checks complete!\n"
     ]
    },
    {
     "name": "stderr",
     "output_type": "stream",
     "text": [
      "F:\\KNC\\maze-transformer\\maze_transformer\\test_helpers\\assertions.py:90: UserWarning:\n",
      "\n",
      "model outputs not equal within rtol=1e-08:\n",
      "torch.norm(output_a - output_b) = tensor(2.1155e-06, device='cuda:0', grad_fn=<LinalgVectorNormBackward0>)\n",
      "\n"
     ]
    }
   ],
   "source": [
    "MODEL: ZanjHookedTransformer = load_wandb_pt_model_as_zanj(\n",
    "\tproject=\"aisc-search/alex\", \n",
    "\trun_id=\"jerpkipj\", \n",
    "\tcheckpoint=None,\n",
    "\tsave_zanj_model=True,\n",
    "    tokenization_mode_override=TokenizationMode.AOTP_UT_rasterized,\n",
    ")"
   ]
  }
 ],
 "metadata": {
  "kernelspec": {
   "display_name": "maze-transformer",
   "language": "python",
   "name": "maze-transformer"
  },
  "language_info": {
   "codemirror_mode": {
    "name": "ipython",
    "version": 3
   },
   "file_extension": ".py",
   "mimetype": "text/x-python",
   "name": "python",
   "nbconvert_exporter": "python",
   "pygments_lexer": "ipython3",
   "version": "3.10.1"
  },
  "orig_nbformat": 4
 },
 "nbformat": 4,
 "nbformat_minor": 2
}
