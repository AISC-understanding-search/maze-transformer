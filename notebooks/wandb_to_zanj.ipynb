{
 "cells": [
  {
   "cell_type": "code",
   "execution_count": 1,
   "metadata": {},
   "outputs": [],
   "source": [
    "from pathlib import Path\n",
    "\n",
    "from muutils.nbutils.configure_notebook import configure_notebook\n",
    "\n",
    "from maze_dataset.tokenization import MazeTokenizer, TokenizationMode\n",
    "\n",
    "from maze_transformer.training.config import ZanjHookedTransformer\n",
    "from maze_transformer.utils.get_pt_model_wandb import load_wandb_pt_model_as_zanj"
   ]
  },
  {
   "cell_type": "code",
   "execution_count": 2,
   "metadata": {},
   "outputs": [
    {
     "data": {
      "text/plain": [
       "device(type='cuda')"
      ]
     },
     "execution_count": 2,
     "metadata": {},
     "output_type": "execute_result"
    }
   ],
   "source": [
    "configure_notebook()"
   ]
  },
  {
   "attachments": {},
   "cell_type": "markdown",
   "metadata": {},
   "source": [
    "uncomment the code below to get a wandb pytorch model (in @afspies format) to a zanj pytorch model"
   ]
  },
  {
   "cell_type": "code",
   "execution_count": null,
   "metadata": {},
   "outputs": [],
   "source": []
  },
  {
   "cell_type": "code",
   "execution_count": 8,
   "metadata": {},
   "outputs": [
    {
     "name": "stdout",
     "output_type": "stream",
     "text": [
      "# Loading model and config from wandb:\n",
      "run_id = 'jerpkipj', project = 'aisc-search/alex', checkpoint = None\n",
      "Loading latest checkpoint\n",
      "Model already downloaded to downloaded_models\\jerpkipj\\model.iter_29000000.pt\n",
      "Loading model\n",
      "# Overriding tokenization mode with tokenization_mode_override = <TokenizationMode.AOTP_UT_rasterized: 'AOTP_UT_rasterized'>, original: cfg.maze_tokenizer.tokenization_mode = <TokenizationMode.AOTP_UT_uniform: 'AOTP_UT_uniform'>\n",
      "\tcfg.model_cfg.weight_processing = {'are_layernorms_folded': False, 'are_weights_processed': False}\n",
      "\ttype(model_wandb) = <class 'transformer_lens.HookedTransformer.HookedTransformer'> type(cfg) = <class 'maze_transformer.training.config.ConfigHolder'>\n",
      "# Converting model to zanj\n",
      "\tgot zanj model with 9.6M parameters\n",
      "\tmodel_zanj.training_records = {'load_wandb_run_kwargs': {'project': 'aisc-search/alex', 'run_id': 'jerpkipj', 'checkpoint': None}, 'train_cfg.name': \"artifact 'aisc-search/alex/jerpkipj:latest', checkpoint '29000000'\"}\n",
      "\tmodel_zanj.zanj_model_config.model_cfg.weight_processing = {'are_layernorms_folded': False, 'are_weights_processed': False}\n",
      "# Checking zanj-converted model matches wandb model\n",
      "\tmodel outputs match\n",
      "\tstate dicts match\n",
      "# Saving model to downloaded_models/wandb.jerpkipj.zanj\n",
      "# Reloading model from downloaded_models/wandb.jerpkipj.zanj\n",
      "\tmodel_loaded.zanj_model_config.model_cfg.weight_processing = {'are_layernorms_folded': False, 'are_weights_processed': True}\n",
      "\tcomparing: wandb, zanj\n",
      "\tcomparing: wandb, zanj_loaded\n",
      "\tcomparing: wandb, zanj_loaded_processed\n",
      "\tcomparing: zanj, zanj_loaded\n",
      "\tcomparing: zanj, zanj_loaded_processed\n",
      "\tcomparing: zanj_loaded, zanj_loaded_processed\n",
      "# Comparison results:\n",
      "\t## wandb vs zanj\n",
      "\t\ttest_results = {'zanj_config': 'not_zanj', 'zanj_config_nowp': 'not_zanj', 'ht_config': True, 'output_argsort': True, 'output_no_argsort': True, 'state_dict_keys': True, 'state_dict_shape': True, 'state_dict_value': True}\n",
      "\t## wandb vs zanj_loaded\n",
      "\tFAILED: ['ht_config', 'output_argsort', 'state_dict_keys', 'state_dict_shape', 'state_dict_value']\n",
      "\t!FAILED OUTPUTS: ['output_argsort']\n",
      "\t\ttest_results = {'zanj_config': 'not_zanj', 'zanj_config_nowp': 'not_zanj', 'ht_config': False, 'output_argsort': False, 'output_no_argsort': True, 'state_dict_keys': False, 'state_dict_shape': False, 'state_dict_value': False}\n",
      "\t\ttest_info = {'output_argsort': ModelOutputArgsortEqualityError('argsort not equal, 21 / 600 elements differ'), 'state_dict_shape': StateDictKeysError('state dicts do not match:\\nsymmetric_diff = {\\'blocks.0.ln1.w\\', \\'blocks.7.ln1.w\\', \\'blocks.3.ln1.w\\', \\'blocks.7.ln2.w\\', \\'blocks.11.ln1.w\\', \\'blocks.6.ln2.b\\', \\'blocks.6.ln1.b\\', \\'blocks.8.ln2.w\\', \\'blocks.1.ln2.b\\', \\'blocks.7.ln1.b\\', \\'blocks.7.ln2.b\\', \\'blocks.0.ln2.b\\', \\'blocks.11.ln2.w\\', \\'blocks.3.ln2.w\\', \\'blocks.8.ln1.b\\', \\'blocks.3.ln2.b\\', \\'blocks.11.ln1.b\\', \\'blocks.2.ln1.w\\', \\'blocks.10.ln1.w\\', \\'blocks.5.ln2.b\\', \\'blocks.1.ln2.w\\', \\'blocks.9.ln1.b\\', \\'blocks.5.ln2.w\\', \\'blocks.10.ln2.b\\', \\'blocks.10.ln2.w\\', \\'blocks.9.ln2.b\\', \\'blocks.0.ln2.w\\', \\'blocks.4.ln2.w\\', \\'blocks.2.ln1.b\\', \\'blocks.2.ln2.w\\', \\'blocks.4.ln2.b\\', \\'blocks.6.ln1.w\\', \\'blocks.5.ln1.b\\', \\'blocks.11.ln2.b\\', \\'blocks.9.ln2.w\\', \\'blocks.5.ln1.w\\', \\'ln_final.w\\', \\'blocks.4.ln1.b\\', \\'blocks.8.ln1.w\\', \\'blocks.10.ln1.b\\', \\'blocks.6.ln2.w\\', \\'blocks.4.ln1.w\\', \\'blocks.3.ln1.b\\', \\'ln_final.b\\', \\'blocks.9.ln1.w\\', \\'blocks.8.ln2.b\\', \\'blocks.0.ln1.b\\', \\'blocks.2.ln2.b\\', \\'blocks.1.ln1.w\\', \\'blocks.1.ln1.b\\'}\\nkeys_diff_1 = set()\\nkeys_diff_2 = {\\'blocks.0.ln1.w\\', \\'blocks.7.ln1.w\\', \\'blocks.3.ln1.w\\', \\'blocks.7.ln2.w\\', \\'blocks.11.ln1.w\\', \\'blocks.6.ln2.b\\', \\'blocks.6.ln1.b\\', \\'blocks.8.ln2.w\\', \\'blocks.1.ln2.b\\', \\'blocks.7.ln1.b\\', \\'blocks.7.ln2.b\\', \\'blocks.0.ln2.b\\', \\'blocks.11.ln2.w\\', \\'blocks.3.ln2.w\\', \\'blocks.8.ln1.b\\', \\'blocks.3.ln2.b\\', \\'blocks.11.ln1.b\\', \\'blocks.2.ln1.w\\', \\'blocks.10.ln1.w\\', \\'blocks.5.ln2.b\\', \\'blocks.1.ln2.w\\', \\'blocks.9.ln1.b\\', \\'blocks.5.ln2.w\\', \\'blocks.10.ln2.b\\', \\'blocks.10.ln2.w\\', \\'blocks.9.ln2.b\\', \\'blocks.0.ln2.w\\', \\'blocks.4.ln2.w\\', \\'blocks.2.ln1.b\\', \\'blocks.2.ln2.w\\', \\'blocks.4.ln2.b\\', \\'blocks.6.ln1.w\\', \\'blocks.5.ln1.b\\', \\'blocks.11.ln2.b\\', \\'blocks.9.ln2.w\\', \\'blocks.5.ln1.w\\', \\'ln_final.w\\', \\'blocks.4.ln1.b\\', \\'blocks.8.ln1.w\\', \\'blocks.10.ln1.b\\', \\'blocks.6.ln2.w\\', \\'blocks.4.ln1.w\\', \\'blocks.3.ln1.b\\', \\'ln_final.b\\', \\'blocks.9.ln1.w\\', \\'blocks.8.ln2.b\\', \\'blocks.0.ln1.b\\', \\'blocks.2.ln2.b\\', \\'blocks.1.ln1.w\\', \\'blocks.1.ln1.b\\'}\\nd1_shapes = {}\\nd2_shapes = {\\n  \"blocks\": {\\n    \"0\": {\\n      \"ln1\": {\\n        \"w\": \"(256,)\",\\n        \"b\": \"(256,)\"\\n      },\\n      \"ln2\": {\\n        \"b\": \"(256,)\",\\n        \"w\": \"(256,)\"\\n      }\\n    },\\n    \"7\": {\\n      \"ln1\": {\\n        \"w\": \"(256,)\",\\n        \"b\": \"(256,)\"\\n      },\\n      \"ln2\": {\\n        \"w\": \"(256,)\",\\n        \"b\": \"(256,)\"\\n      }\\n    },\\n    \"3\": {\\n      \"ln1\": {\\n        \"w\": \"(256,)\",\\n        \"b\": \"(256,)\"\\n      },\\n      \"ln2\": {\\n        \"w\": \"(256,)\",\\n        \"b\": \"(256,)\"\\n      }\\n    },\\n    \"11\": {\\n      \"ln1\": {\\n        \"w\": \"(256,)\",\\n        \"b\": \"(256,)\"\\n      },\\n      \"ln2\": {\\n        \"w\": \"(256,)\",\\n        \"b\": \"(256,)\"\\n      }\\n    },\\n    \"6\": {\\n      \"ln2\": {\\n        \"b\": \"(256,)\",\\n        \"w\": \"(256,)\"\\n      },\\n      \"ln1\": {\\n        \"b\": \"(256,)\",\\n        \"w\": \"(256,)\"\\n      }\\n    },\\n    \"8\": {\\n      \"ln2\": {\\n        \"w\": \"(256,)\",\\n        \"b\": \"(256,)\"\\n      },\\n      \"ln1\": {\\n        \"b\": \"(256,)\",\\n        \"w\": \"(256,)\"\\n      }\\n    },\\n    \"1\": {\\n      \"ln2\": {\\n        \"b\": \"(256,)\",\\n        \"w\": \"(256,)\"\\n      },\\n      \"ln1\": {\\n        \"w\": \"(256,)\",\\n        \"b\": \"(256,)\"\\n      }\\n    },\\n    \"2\": {\\n      \"ln1\": {\\n        \"w\": \"(256,)\",\\n        \"b\": \"(256,)\"\\n      },\\n      \"ln2\": {\\n        \"w\": \"(256,)\",\\n        \"b\": \"(256,)\"\\n      }\\n    },\\n    \"10\": {\\n      \"ln1\": {\\n        \"w\": \"(256,)\",\\n        \"b\": \"(256,)\"\\n      },\\n      \"ln2\": {\\n        \"b\": \"(256,)\",\\n        \"w\": \"(256,)\"\\n      }\\n    },\\n    \"5\": {\\n      \"ln2\": {\\n        \"b\": \"(256,)\",\\n        \"w\": \"(256,)\"\\n      },\\n      \"ln1\": {\\n        \"b\": \"(256,)\",\\n        \"w\": \"(256,)\"\\n      }\\n    },\\n    \"9\": {\\n      \"ln1\": {\\n        \"b\": \"(256,)\",\\n        \"w\": \"(256,)\"\\n      },\\n      \"ln2\": {\\n        \"b\": \"(256,)\",\\n        \"w\": \"(256,)\"\\n      }\\n    },\\n    \"4\": {\\n      \"ln2\": {\\n        \"w\": \"(256,)\",\\n        \"b\": \"(256,)\"\\n      },\\n      \"ln1\": {\\n        \"b\": \"(256,)\",\\n        \"w\": \"(256,)\"\\n      }\\n    }\\n  },\\n  \"ln_final\": {\\n    \"w\": \"(256,)\",\\n    \"b\": \"(256,)\"\\n  }\\n}')}\n",
      "\t## wandb vs zanj_loaded_processed\n",
      "\tFAILED: ['output_argsort']\n",
      "\t!FAILED OUTPUTS: ['output_argsort']\n",
      "\t\ttest_results = {'zanj_config': 'not_zanj', 'zanj_config_nowp': 'not_zanj', 'ht_config': True, 'output_argsort': False, 'output_no_argsort': True, 'state_dict_keys': True, 'state_dict_shape': True, 'state_dict_value': True}\n",
      "\t\ttest_info = {'output_argsort': ModelOutputArgsortEqualityError('argsort not equal, 12 / 600 elements differ')}\n",
      "\t## zanj vs zanj_loaded\n",
      "\tFAILED: ['zanj_config', 'ht_config', 'output_argsort', 'state_dict_keys', 'state_dict_shape', 'state_dict_value']\n",
      "\t!FAILED OUTPUTS: ['output_argsort']\n",
      "\t\ttest_results = {'zanj_config': False, 'zanj_config_nowp': True, 'ht_config': False, 'output_argsort': False, 'output_no_argsort': True, 'state_dict_keys': False, 'state_dict_shape': False, 'state_dict_value': False}\n",
      "\t\ttest_info = {'zanj_config': \"configs of type <class 'maze_transformer.training.config.ConfigHolder'>, <class 'maze_transformer.training.config.ConfigHolder'> don't match: {'model_cfg': {'weight_processing': {'self': {'are_layernorms_folded': False, 'are_weights_processed': False}, 'other': {'are_layernorms_folded': False, 'are_weights_processed': True}}}}\", 'output_argsort': ModelOutputArgsortEqualityError('argsort not equal, 6 / 600 elements differ'), 'state_dict_shape': StateDictKeysError('state dicts do not match:\\nsymmetric_diff = {\\'blocks.0.ln1.w\\', \\'blocks.7.ln1.w\\', \\'blocks.3.ln1.w\\', \\'blocks.7.ln2.w\\', \\'blocks.11.ln1.w\\', \\'blocks.6.ln2.b\\', \\'blocks.6.ln1.b\\', \\'blocks.8.ln2.w\\', \\'blocks.1.ln2.b\\', \\'blocks.7.ln1.b\\', \\'blocks.7.ln2.b\\', \\'blocks.0.ln2.b\\', \\'blocks.11.ln2.w\\', \\'blocks.3.ln2.w\\', \\'blocks.8.ln1.b\\', \\'blocks.3.ln2.b\\', \\'blocks.11.ln1.b\\', \\'blocks.2.ln1.w\\', \\'blocks.10.ln1.w\\', \\'blocks.5.ln2.b\\', \\'blocks.1.ln2.w\\', \\'blocks.9.ln1.b\\', \\'blocks.5.ln2.w\\', \\'blocks.10.ln2.b\\', \\'blocks.10.ln2.w\\', \\'blocks.9.ln2.b\\', \\'blocks.0.ln2.w\\', \\'blocks.4.ln2.w\\', \\'blocks.2.ln1.b\\', \\'blocks.2.ln2.w\\', \\'blocks.4.ln2.b\\', \\'blocks.6.ln1.w\\', \\'blocks.5.ln1.b\\', \\'blocks.11.ln2.b\\', \\'blocks.9.ln2.w\\', \\'blocks.5.ln1.w\\', \\'ln_final.w\\', \\'blocks.4.ln1.b\\', \\'blocks.8.ln1.w\\', \\'blocks.10.ln1.b\\', \\'blocks.6.ln2.w\\', \\'blocks.4.ln1.w\\', \\'blocks.3.ln1.b\\', \\'ln_final.b\\', \\'blocks.9.ln1.w\\', \\'blocks.8.ln2.b\\', \\'blocks.0.ln1.b\\', \\'blocks.2.ln2.b\\', \\'blocks.1.ln1.w\\', \\'blocks.1.ln1.b\\'}\\nkeys_diff_1 = set()\\nkeys_diff_2 = {\\'blocks.0.ln1.w\\', \\'blocks.7.ln1.w\\', \\'blocks.3.ln1.w\\', \\'blocks.7.ln2.w\\', \\'blocks.11.ln1.w\\', \\'blocks.6.ln2.b\\', \\'blocks.6.ln1.b\\', \\'blocks.8.ln2.w\\', \\'blocks.1.ln2.b\\', \\'blocks.7.ln1.b\\', \\'blocks.7.ln2.b\\', \\'blocks.0.ln2.b\\', \\'blocks.11.ln2.w\\', \\'blocks.3.ln2.w\\', \\'blocks.8.ln1.b\\', \\'blocks.3.ln2.b\\', \\'blocks.11.ln1.b\\', \\'blocks.2.ln1.w\\', \\'blocks.10.ln1.w\\', \\'blocks.5.ln2.b\\', \\'blocks.1.ln2.w\\', \\'blocks.9.ln1.b\\', \\'blocks.5.ln2.w\\', \\'blocks.10.ln2.b\\', \\'blocks.10.ln2.w\\', \\'blocks.9.ln2.b\\', \\'blocks.0.ln2.w\\', \\'blocks.4.ln2.w\\', \\'blocks.2.ln1.b\\', \\'blocks.2.ln2.w\\', \\'blocks.4.ln2.b\\', \\'blocks.6.ln1.w\\', \\'blocks.5.ln1.b\\', \\'blocks.11.ln2.b\\', \\'blocks.9.ln2.w\\', \\'blocks.5.ln1.w\\', \\'ln_final.w\\', \\'blocks.4.ln1.b\\', \\'blocks.8.ln1.w\\', \\'blocks.10.ln1.b\\', \\'blocks.6.ln2.w\\', \\'blocks.4.ln1.w\\', \\'blocks.3.ln1.b\\', \\'ln_final.b\\', \\'blocks.9.ln1.w\\', \\'blocks.8.ln2.b\\', \\'blocks.0.ln1.b\\', \\'blocks.2.ln2.b\\', \\'blocks.1.ln1.w\\', \\'blocks.1.ln1.b\\'}\\nd1_shapes = {}\\nd2_shapes = {\\n  \"blocks\": {\\n    \"0\": {\\n      \"ln1\": {\\n        \"w\": \"(256,)\",\\n        \"b\": \"(256,)\"\\n      },\\n      \"ln2\": {\\n        \"b\": \"(256,)\",\\n        \"w\": \"(256,)\"\\n      }\\n    },\\n    \"7\": {\\n      \"ln1\": {\\n        \"w\": \"(256,)\",\\n        \"b\": \"(256,)\"\\n      },\\n      \"ln2\": {\\n        \"w\": \"(256,)\",\\n        \"b\": \"(256,)\"\\n      }\\n    },\\n    \"3\": {\\n      \"ln1\": {\\n        \"w\": \"(256,)\",\\n        \"b\": \"(256,)\"\\n      },\\n      \"ln2\": {\\n        \"w\": \"(256,)\",\\n        \"b\": \"(256,)\"\\n      }\\n    },\\n    \"11\": {\\n      \"ln1\": {\\n        \"w\": \"(256,)\",\\n        \"b\": \"(256,)\"\\n      },\\n      \"ln2\": {\\n        \"w\": \"(256,)\",\\n        \"b\": \"(256,)\"\\n      }\\n    },\\n    \"6\": {\\n      \"ln2\": {\\n        \"b\": \"(256,)\",\\n        \"w\": \"(256,)\"\\n      },\\n      \"ln1\": {\\n        \"b\": \"(256,)\",\\n        \"w\": \"(256,)\"\\n      }\\n    },\\n    \"8\": {\\n      \"ln2\": {\\n        \"w\": \"(256,)\",\\n        \"b\": \"(256,)\"\\n      },\\n      \"ln1\": {\\n        \"b\": \"(256,)\",\\n        \"w\": \"(256,)\"\\n      }\\n    },\\n    \"1\": {\\n      \"ln2\": {\\n        \"b\": \"(256,)\",\\n        \"w\": \"(256,)\"\\n      },\\n      \"ln1\": {\\n        \"w\": \"(256,)\",\\n        \"b\": \"(256,)\"\\n      }\\n    },\\n    \"2\": {\\n      \"ln1\": {\\n        \"w\": \"(256,)\",\\n        \"b\": \"(256,)\"\\n      },\\n      \"ln2\": {\\n        \"w\": \"(256,)\",\\n        \"b\": \"(256,)\"\\n      }\\n    },\\n    \"10\": {\\n      \"ln1\": {\\n        \"w\": \"(256,)\",\\n        \"b\": \"(256,)\"\\n      },\\n      \"ln2\": {\\n        \"b\": \"(256,)\",\\n        \"w\": \"(256,)\"\\n      }\\n    },\\n    \"5\": {\\n      \"ln2\": {\\n        \"b\": \"(256,)\",\\n        \"w\": \"(256,)\"\\n      },\\n      \"ln1\": {\\n        \"b\": \"(256,)\",\\n        \"w\": \"(256,)\"\\n      }\\n    },\\n    \"9\": {\\n      \"ln1\": {\\n        \"b\": \"(256,)\",\\n        \"w\": \"(256,)\"\\n      },\\n      \"ln2\": {\\n        \"b\": \"(256,)\",\\n        \"w\": \"(256,)\"\\n      }\\n    },\\n    \"4\": {\\n      \"ln2\": {\\n        \"w\": \"(256,)\",\\n        \"b\": \"(256,)\"\\n      },\\n      \"ln1\": {\\n        \"b\": \"(256,)\",\\n        \"w\": \"(256,)\"\\n      }\\n    }\\n  },\\n  \"ln_final\": {\\n    \"w\": \"(256,)\",\\n    \"b\": \"(256,)\"\\n  }\\n}')}\n",
      "\t## zanj vs zanj_loaded_processed\n",
      "\tFAILED: ['zanj_config', 'output_argsort']\n",
      "\t!FAILED OUTPUTS: ['output_argsort']\n",
      "\t\ttest_results = {'zanj_config': False, 'zanj_config_nowp': True, 'ht_config': True, 'output_argsort': False, 'output_no_argsort': True, 'state_dict_keys': True, 'state_dict_shape': True, 'state_dict_value': True}\n",
      "\t\ttest_info = {'zanj_config': \"configs of type <class 'maze_transformer.training.config.ConfigHolder'>, <class 'maze_transformer.training.config.ConfigHolder'> don't match: {'model_cfg': {'weight_processing': {'self': {'are_layernorms_folded': False, 'are_weights_processed': False}, 'other': {'are_layernorms_folded': False, 'are_weights_processed': True}}}}\", 'output_argsort': ModelOutputArgsortEqualityError('argsort not equal, 14 / 600 elements differ')}\n",
      "\t## zanj_loaded vs zanj_loaded_processed\n",
      "\tFAILED: ['ht_config', 'output_argsort', 'state_dict_keys', 'state_dict_shape', 'state_dict_value']\n",
      "\t!FAILED OUTPUTS: ['output_argsort']\n",
      "\t\ttest_results = {'zanj_config': True, 'zanj_config_nowp': True, 'ht_config': False, 'output_argsort': False, 'output_no_argsort': True, 'state_dict_keys': False, 'state_dict_shape': False, 'state_dict_value': False}\n",
      "\t\ttest_info = {'output_argsort': ModelOutputArgsortEqualityError('argsort not equal, 10 / 600 elements differ'), 'state_dict_shape': StateDictKeysError('state dicts do not match:\\nsymmetric_diff = {\\'blocks.0.ln1.w\\', \\'blocks.7.ln1.w\\', \\'blocks.3.ln1.w\\', \\'blocks.7.ln2.w\\', \\'blocks.11.ln1.w\\', \\'blocks.6.ln2.b\\', \\'blocks.6.ln1.b\\', \\'blocks.8.ln2.w\\', \\'blocks.1.ln2.b\\', \\'blocks.7.ln1.b\\', \\'blocks.7.ln2.b\\', \\'blocks.0.ln2.b\\', \\'blocks.11.ln2.w\\', \\'blocks.3.ln2.w\\', \\'blocks.8.ln1.b\\', \\'blocks.3.ln2.b\\', \\'blocks.11.ln1.b\\', \\'blocks.2.ln1.w\\', \\'blocks.10.ln1.w\\', \\'blocks.5.ln2.b\\', \\'blocks.1.ln2.w\\', \\'blocks.9.ln1.b\\', \\'blocks.5.ln2.w\\', \\'blocks.10.ln2.b\\', \\'blocks.10.ln2.w\\', \\'blocks.9.ln2.b\\', \\'blocks.0.ln2.w\\', \\'blocks.4.ln2.w\\', \\'blocks.2.ln1.b\\', \\'blocks.2.ln2.w\\', \\'blocks.4.ln2.b\\', \\'blocks.6.ln1.w\\', \\'blocks.5.ln1.b\\', \\'blocks.11.ln2.b\\', \\'blocks.9.ln2.w\\', \\'blocks.5.ln1.w\\', \\'ln_final.w\\', \\'blocks.4.ln1.b\\', \\'blocks.8.ln1.w\\', \\'blocks.10.ln1.b\\', \\'blocks.6.ln2.w\\', \\'blocks.4.ln1.w\\', \\'blocks.3.ln1.b\\', \\'ln_final.b\\', \\'blocks.9.ln1.w\\', \\'blocks.8.ln2.b\\', \\'blocks.0.ln1.b\\', \\'blocks.2.ln2.b\\', \\'blocks.1.ln1.w\\', \\'blocks.1.ln1.b\\'}\\nkeys_diff_1 = {\\'blocks.0.ln1.w\\', \\'blocks.7.ln1.w\\', \\'blocks.3.ln1.w\\', \\'blocks.7.ln2.w\\', \\'blocks.11.ln1.w\\', \\'blocks.6.ln2.b\\', \\'blocks.6.ln1.b\\', \\'blocks.8.ln2.w\\', \\'blocks.1.ln2.b\\', \\'blocks.7.ln1.b\\', \\'blocks.7.ln2.b\\', \\'blocks.0.ln2.b\\', \\'blocks.11.ln2.w\\', \\'blocks.3.ln2.w\\', \\'blocks.8.ln1.b\\', \\'blocks.3.ln2.b\\', \\'blocks.11.ln1.b\\', \\'blocks.2.ln1.w\\', \\'blocks.10.ln1.w\\', \\'blocks.5.ln2.b\\', \\'blocks.1.ln2.w\\', \\'blocks.9.ln1.b\\', \\'blocks.5.ln2.w\\', \\'blocks.10.ln2.b\\', \\'blocks.10.ln2.w\\', \\'blocks.9.ln2.b\\', \\'blocks.0.ln2.w\\', \\'blocks.4.ln2.w\\', \\'blocks.2.ln1.b\\', \\'blocks.2.ln2.w\\', \\'blocks.4.ln2.b\\', \\'blocks.6.ln1.w\\', \\'blocks.5.ln1.b\\', \\'blocks.11.ln2.b\\', \\'blocks.9.ln2.w\\', \\'blocks.5.ln1.w\\', \\'ln_final.w\\', \\'blocks.4.ln1.b\\', \\'blocks.8.ln1.w\\', \\'blocks.10.ln1.b\\', \\'blocks.6.ln2.w\\', \\'blocks.4.ln1.w\\', \\'blocks.3.ln1.b\\', \\'ln_final.b\\', \\'blocks.9.ln1.w\\', \\'blocks.8.ln2.b\\', \\'blocks.0.ln1.b\\', \\'blocks.2.ln2.b\\', \\'blocks.1.ln1.w\\', \\'blocks.1.ln1.b\\'}\\nkeys_diff_2 = set()\\nd1_shapes = {\\n  \"blocks\": {\\n    \"0\": {\\n      \"ln1\": {\\n        \"w\": \"(256,)\",\\n        \"b\": \"(256,)\"\\n      },\\n      \"ln2\": {\\n        \"b\": \"(256,)\",\\n        \"w\": \"(256,)\"\\n      }\\n    },\\n    \"7\": {\\n      \"ln1\": {\\n        \"w\": \"(256,)\",\\n        \"b\": \"(256,)\"\\n      },\\n      \"ln2\": {\\n        \"w\": \"(256,)\",\\n        \"b\": \"(256,)\"\\n      }\\n    },\\n    \"3\": {\\n      \"ln1\": {\\n        \"w\": \"(256,)\",\\n        \"b\": \"(256,)\"\\n      },\\n      \"ln2\": {\\n        \"w\": \"(256,)\",\\n        \"b\": \"(256,)\"\\n      }\\n    },\\n    \"11\": {\\n      \"ln1\": {\\n        \"w\": \"(256,)\",\\n        \"b\": \"(256,)\"\\n      },\\n      \"ln2\": {\\n        \"w\": \"(256,)\",\\n        \"b\": \"(256,)\"\\n      }\\n    },\\n    \"6\": {\\n      \"ln2\": {\\n        \"b\": \"(256,)\",\\n        \"w\": \"(256,)\"\\n      },\\n      \"ln1\": {\\n        \"b\": \"(256,)\",\\n        \"w\": \"(256,)\"\\n      }\\n    },\\n    \"8\": {\\n      \"ln2\": {\\n        \"w\": \"(256,)\",\\n        \"b\": \"(256,)\"\\n      },\\n      \"ln1\": {\\n        \"b\": \"(256,)\",\\n        \"w\": \"(256,)\"\\n      }\\n    },\\n    \"1\": {\\n      \"ln2\": {\\n        \"b\": \"(256,)\",\\n        \"w\": \"(256,)\"\\n      },\\n      \"ln1\": {\\n        \"w\": \"(256,)\",\\n        \"b\": \"(256,)\"\\n      }\\n    },\\n    \"2\": {\\n      \"ln1\": {\\n        \"w\": \"(256,)\",\\n        \"b\": \"(256,)\"\\n      },\\n      \"ln2\": {\\n        \"w\": \"(256,)\",\\n        \"b\": \"(256,)\"\\n      }\\n    },\\n    \"10\": {\\n      \"ln1\": {\\n        \"w\": \"(256,)\",\\n        \"b\": \"(256,)\"\\n      },\\n      \"ln2\": {\\n        \"b\": \"(256,)\",\\n        \"w\": \"(256,)\"\\n      }\\n    },\\n    \"5\": {\\n      \"ln2\": {\\n        \"b\": \"(256,)\",\\n        \"w\": \"(256,)\"\\n      },\\n      \"ln1\": {\\n        \"b\": \"(256,)\",\\n        \"w\": \"(256,)\"\\n      }\\n    },\\n    \"9\": {\\n      \"ln1\": {\\n        \"b\": \"(256,)\",\\n        \"w\": \"(256,)\"\\n      },\\n      \"ln2\": {\\n        \"b\": \"(256,)\",\\n        \"w\": \"(256,)\"\\n      }\\n    },\\n    \"4\": {\\n      \"ln2\": {\\n        \"w\": \"(256,)\",\\n        \"b\": \"(256,)\"\\n      },\\n      \"ln1\": {\\n        \"b\": \"(256,)\",\\n        \"w\": \"(256,)\"\\n      }\\n    }\\n  },\\n  \"ln_final\": {\\n    \"w\": \"(256,)\",\\n    \"b\": \"(256,)\"\\n  }\\n}\\nd2_shapes = {}')}\n",
      "# Checks complete!\n"
     ]
    }
   ],
   "source": [
    "MODEL: ZanjHookedTransformer = load_wandb_pt_model_as_zanj(\n",
    "\tproject=\"aisc-search/alex\", \n",
    "\trun_id=\"jerpkipj\", \n",
    "\tcheckpoint=None,\n",
    "\tsave_zanj_model=True,\n",
    "    tokenization_mode_override=TokenizationMode.AOTP_UT_rasterized,\n",
    ")"
   ]
  }
 ],
 "metadata": {
  "kernelspec": {
   "display_name": "maze-transformer",
   "language": "python",
   "name": "maze-transformer"
  },
  "language_info": {
   "codemirror_mode": {
    "name": "ipython",
    "version": 3
   },
   "file_extension": ".py",
   "mimetype": "text/x-python",
   "name": "python",
   "nbconvert_exporter": "python",
   "pygments_lexer": "ipython3",
   "version": "3.10.1"
  },
  "orig_nbformat": 4
 },
 "nbformat": 4,
 "nbformat_minor": 2
}
