{
 "cells": [
  {
   "attachments": {},
   "cell_type": "markdown",
   "metadata": {
    "pycharm": {
     "name": "#%% md\n"
    }
   },
   "source": [
    "# LatticeMaze Demo"
   ]
  },
  {
   "attachments": {},
   "cell_type": "markdown",
   "metadata": {
    "pycharm": {
     "name": "#%% md\n"
    }
   },
   "source": [
    "This notebook contains a tutorial for [LatticeMaze](../maze_transformer/generation/latticemaze.py), the central maze object in the maze_transformer library."
   ]
  },
  {
   "cell_type": "code",
   "execution_count": 18,
   "metadata": {
    "pycharm": {
     "name": "#%%\n"
    }
   },
   "outputs": [
    {
     "data": {
      "text/plain": [
       "device(type='mps')"
      ]
     },
     "execution_count": 18,
     "metadata": {},
     "output_type": "execute_result"
    }
   ],
   "source": [
    "from maze_transformer.utils.notebook_utils import configure_notebook\n",
    "\n",
    "import numpy as np\n",
    "import matplotlib.pyplot as plt\n",
    "\n",
    "from maze_transformer.generation.generators import LatticeMazeGenerators\n",
    "from maze_transformer.evaluation.plot_maze import MazePlot\n",
    "\n",
    "%matplotlib inline\n",
    "configure_notebook(seed=42, dark_mode=True)"
   ]
  },
  {
   "attachments": {},
   "cell_type": "markdown",
   "metadata": {
    "pycharm": {
     "name": "#%% md\n"
    }
   },
   "source": [
    "## Maze representation\n",
    "\n",
    "The maze can be thought of as a grid of nodes, where an edge between nodes represents a path, and the lack of an edge represents a wall.\n",
    "\n",
    "The following generates a 4x4 maze using depth-first search."
   ]
  },
  {
   "cell_type": "code",
   "execution_count": 19,
   "metadata": {
    "pycharm": {
     "name": "#%%\n"
    }
   },
   "outputs": [
    {
     "data": {
      "text/plain": [
       "LatticeMaze(lattice_dim=2, connection_list=array([[[ True, False, False,  True],\n",
       "        [False, False, False,  True],\n",
       "        [ True, False,  True, False],\n",
       "        [False, False, False, False]],\n",
       "\n",
       "       [[False,  True,  True, False],\n",
       "        [ True,  True,  True, False],\n",
       "        [ True, False,  True, False],\n",
       "        [ True,  True,  True, False]]]), generation_meta={'func_name': 'gen_dfs', 'grid_shape': array([4, 4]), 'start_coord': (0, 0)})"
      ]
     },
     "execution_count": 19,
     "metadata": {},
     "output_type": "execute_result"
    }
   ],
   "source": [
    "maze = LatticeMazeGenerators.gen_dfs(np.array([4,4]))\n",
    "\n",
    "maze"
   ]
  },
  {
   "attachments": {},
   "cell_type": "markdown",
   "metadata": {
    "pycharm": {
     "name": "#%% md\n"
    }
   },
   "source": [
    "### Connection List\n",
    "In the above cell, we can see the canonical representation of the maze, the *connection list*.  To understand this representation, consider the following connection list for a 2x2 maze.\n",
    "```\n",
    "[\n",
    "    [ # down\n",
    "        [F T],\n",
    "        [F F]\n",
    "    ],\n",
    "    [ # right\n",
    "        [T F],\n",
    "        [T F]\n",
    "    ]\n",
    "]\n",
    "```\n",
    "\n",
    "The two matrices in the connection list represent the *downward* and *rightward* connections, respectively. It tells us whether a given node has a connection in that direction.\n",
    "```\n",
    "down:  N  N     right:  N - N\n",
    "          |           \n",
    "       N  N             N - N\n",
    "```\n",
    "\n",
    "Note that the bottom row connections going down, and the right-hand column connections going right, will always be False.\n",
    "\n",
    "We can superimpose the downward and rightward connections to visualize the maze:\n",
    "```\n",
    "N - N\n",
    "    |\n",
    "N - N\n",
    "```\n",
    "\n",
    "---\n",
    "\n",
    "Using the same method, we can interpret the connection list for the original maze:\n"
   ]
  },
  {
   "cell_type": "code",
   "execution_count": 20,
   "metadata": {
    "pycharm": {
     "name": "#%%\n"
    }
   },
   "outputs": [
    {
     "data": {
      "text/plain": [
       "array([[[ True, False, False,  True],\n",
       "        [False, False, False,  True],\n",
       "        [ True, False,  True, False],\n",
       "        [False, False, False, False]],\n",
       "\n",
       "       [[False,  True,  True, False],\n",
       "        [ True,  True,  True, False],\n",
       "        [ True, False,  True, False],\n",
       "        [ True,  True,  True, False]]])"
      ]
     },
     "execution_count": 20,
     "metadata": {},
     "output_type": "execute_result"
    }
   ],
   "source": [
    "maze.connection_list"
   ]
  },
  {
   "attachments": {},
   "cell_type": "markdown",
   "metadata": {
    "pycharm": {
     "name": "#%% md\n"
    }
   },
   "source": [
    "```\n",
    "N   N - N - N\n",
    "|           |\n",
    "N - N - N - N\n",
    "            |\n",
    "N - N   N - N\n",
    "|       | \n",
    "N - N - N - N\n",
    "```"
   ]
  },
  {
   "attachments": {},
   "cell_type": "markdown",
   "metadata": {
    "pycharm": {
     "name": "#%% md\n"
    }
   },
   "source": [
    "### Adjacency list\n",
    "\n",
    "Another common maze representation structure is an adjacency list, which is literally a list of every pair of adjacent nodes in the maze.\n",
    "\n",
    "We can view the adjacency list representation of the graph using `LatticeMaze.as_adjlist`"
   ]
  },
  {
   "cell_type": "code",
   "execution_count": 21,
   "metadata": {
    "pycharm": {
     "name": "#%%\n"
    }
   },
   "outputs": [
    {
     "name": "stdout",
     "output_type": "stream",
     "text": [
      "(3, 1) <--> (3, 0)\n",
      "(2, 0) <--> (2, 1)\n",
      "(0, 2) <--> (0, 3)\n",
      "(3, 2) <--> (3, 3)\n",
      "(3, 0) <--> (2, 0)\n",
      "(1, 3) <--> (0, 3)\n",
      "(1, 1) <--> (1, 0)\n",
      "(2, 3) <--> (1, 3)\n",
      "(3, 1) <--> (3, 2)\n",
      "(1, 2) <--> (1, 1)\n",
      "(0, 1) <--> (0, 2)\n",
      "(1, 3) <--> (1, 2)\n",
      "(2, 3) <--> (2, 2)\n",
      "(0, 0) <--> (1, 0)\n",
      "(2, 2) <--> (3, 2)\n"
     ]
    }
   ],
   "source": [
    "for start, end in maze.as_adj_list():\n",
    "    print(f\"({start[0]}, {start[1]}) <--> ({end[0]}, {end[1]})\")"
   ]
  },
  {
   "attachments": {},
   "cell_type": "markdown",
   "metadata": {
    "pycharm": {
     "name": "#%% md\n"
    }
   },
   "source": [
    "## Plotting a maze\n",
    "\n",
    "The `MazePlot` class bundles our plotting functionality.\n",
    "We can use `.show()` to display the maze:"
   ]
  },
  {
   "cell_type": "code",
   "execution_count": 28,
   "metadata": {
    "pycharm": {
     "name": "#%%\n"
    }
   },
   "outputs": [
    {
     "data": {
      "image/png": "[encoded data removed]",
      "text/plain": [
       "<Figure size 640x480 with 1 Axes>"
      ]
     },
     "metadata": {},
     "output_type": "display_data"
    }
   ],
   "source": [
    "MazePlot(maze).show()"
   ]
  },
  {
   "attachments": {},
   "cell_type": "markdown",
   "metadata": {},
   "source": [
    "Note that the adjacency list contains coordinates in `(row, column)` notation. This is the inverse of Cartesian Coordinates `(x, y)` with a horizontal x-axis."
   ]
  },
  {
   "attachments": {},
   "cell_type": "markdown",
   "metadata": {
    "pycharm": {
     "name": "#%% md\n"
    }
   },
   "source": [
    "## Solving the maze algorithmically"
   ]
  },
  {
   "attachments": {},
   "cell_type": "markdown",
   "metadata": {
    "pycharm": {
     "name": "#%% md\n"
    }
   },
   "source": [
    "`LatticeMaze.find_shortest_path` uses the A* algorithm to find the optimal path through the maze."
   ]
  },
  {
   "cell_type": "code",
   "execution_count": 25,
   "metadata": {
    "pycharm": {
     "name": "#%%\n"
    }
   },
   "outputs": [
    {
     "name": "stdout",
     "output_type": "stream",
     "text": [
      "true_path =[(0, 0), (1, 0), (1, 1), (1, 2), (1, 3), (2, 3), (2, 2), (3, 2), (3, 3)]\n"
     ]
    }
   ],
   "source": [
    "true_path = maze.find_shortest_path(\n",
    "    c_start=(0, 0),\n",
    "    c_end=(3, 3)\n",
    ")\n",
    "\n",
    "print(f\"{true_path =}\")"
   ]
  },
  {
   "attachments": {},
   "cell_type": "markdown",
   "metadata": {},
   "source": [
    "We can plot the shortest path with `.add_true_path()`."
   ]
  },
  {
   "cell_type": "code",
   "execution_count": 26,
   "metadata": {},
   "outputs": [
    {
     "data": {
      "image/png": "[encoded data removed]",
      "text/plain": [
       "<Figure size 640x480 with 1 Axes>"
      ]
     },
     "metadata": {},
     "output_type": "display_data"
    }
   ],
   "source": [
    "MazePlot(maze).add_true_path(true_path).show()"
   ]
  },
  {
   "cell_type": "code",
   "execution_count": 32,
   "metadata": {},
   "outputs": [
    {
     "name": "stdout",
     "output_type": "stream",
     "text": [
      "#########\n",
      "# #     #\n",
      "# ##### #\n",
      "#       #\n",
      "####### #\n",
      "#   #   #\n",
      "# ### ###\n",
      "#       #\n",
      "#########\n",
      "\n"
     ]
    }
   ],
   "source": [
    "ascii_maze = MazePlot(maze).as_ascii()\n",
    "print(ascii_maze)"
   ]
  },
  {
   "cell_type": "markdown",
   "metadata": {},
   "source": []
  }
 ],
 "metadata": {
  "kernelspec": {
   "display_name": "maze-transformer",
   "language": "python",
   "name": "maze-transformer"
  },
  "language_info": {
   "codemirror_mode": {
    "name": "ipython",
    "version": 3
   },
   "file_extension": ".py",
   "mimetype": "text/x-python",
   "name": "python",
   "nbconvert_exporter": "python",
   "pygments_lexer": "ipython3",
   "version": "3.10.0"
  },
  "orig_nbformat": 4
 },
 "nbformat": 4,
 "nbformat_minor": 2
}
