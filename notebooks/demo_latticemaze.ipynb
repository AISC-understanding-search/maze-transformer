{
    "cells": [
        {
            "attachments": {},
            "cell_type": "markdown",
            "metadata": {
                "pycharm": {
                    "name": "#%% md\n"
                }
            },
            "source": [
                "# LatticeMaze Demo"
            ]
        },
        {
            "attachments": {},
            "cell_type": "markdown",
            "metadata": {
                "pycharm": {
                    "name": "#%% md\n"
                }
            },
            "source": [
                "This notebook contains a tutorial for [LatticeMaze](../maze_transformer/generation/latticemaze.py), the central maze object in the maze_transformer library."
            ]
        },
        {
            "cell_type": "code",
            "execution_count": null,
            "metadata": {
                "pycharm": {
                    "name": "#%%\n"
                }
            },
            "outputs": [],
            "source": [
                "from maze_transformer.utils.notebook_utils import configure_notebook\n",
                "\n",
                "import numpy as np\n",
                "import matplotlib.pyplot as plt\n",
                "\n",
                "from maze_transformer.generation.generators import LatticeMazeGenerators\n",
                "from maze_transformer.generation.lattice_maze import LatticeMaze, TargetedLatticeMaze, SolvedMaze\n",
                "from maze_transformer.evaluation.plot_maze import MazePlot\n",
                "\n",
                "%matplotlib inline\n",
                "configure_notebook(seed=42, dark_mode=True)"
            ]
        },
        {
            "attachments": {},
            "cell_type": "markdown",
            "metadata": {
                "pycharm": {
                    "name": "#%% md\n"
                }
            },
            "source": [
                "## Maze representation\n",
                "\n",
                "The maze can be thought of as a grid of nodes, where an edge between nodes represents a path, and the lack of an edge represents a wall.\n",
                "\n",
                "The following generates a 4x4 maze using depth-first search."
            ]
        },
        {
            "cell_type": "code",
            "execution_count": null,
            "metadata": {
                "pycharm": {
                    "name": "#%%\n"
                }
            },
            "outputs": [],
            "source": [
                "N: int = 10\n",
                "\n",
                "maze = LatticeMazeGenerators.gen_dfs(np.array([N,N]))\n",
                "tgt_maze: TargetedLatticeMaze = TargetedLatticeMaze.from_lattice_maze(maze, (0,0), (N-1,N-1))\n",
                "solved_maze: SolvedMaze = SolvedMaze.from_targeted_lattice_maze(tgt_maze)\n",
                "\n",
                "fig, ax = plt.subplots(1, 3, figsize=(15, 5))\n",
                "\n",
                "for ax_i, temp_maze in zip(ax, [maze, tgt_maze, solved_maze]):\n",
                "\tax_i.set_title(temp_maze.as_ascii(), fontfamily='monospace')\n",
                "\tax_i.imshow(temp_maze.as_pixels())\n",
                "\n",
                "\tassert temp_maze == temp_maze.__class__.from_pixels(temp_maze.as_pixels())\n",
                "\tassert temp_maze == temp_maze.__class__.from_ascii(temp_maze.as_ascii())\n",
                "\n",
                "plt.show()"
            ]
        },
        {
            "attachments": {},
            "cell_type": "markdown",
            "metadata": {
                "pycharm": {
                    "name": "#%% md\n"
                }
            },
            "source": [
                "### Connection List\n",
                "In the above cell, we can see the canonical representation of the maze, the *connection list*.  To understand this representation, consider the following connection list for a 2x2 maze.\n",
                "```\n",
                "[\n",
                "    [ # down\n",
                "        [F T],\n",
                "        [F F]\n",
                "    ],\n",
                "    [ # right\n",
                "        [T F],\n",
                "        [T F]\n",
                "    ]\n",
                "]\n",
                "```\n",
                "\n",
                "The two matrices in the connection list represent the *downward* and *rightward* connections, respectively. It tells us whether a given node has a connection in that direction.\n",
                "```\n",
                "down:  N  N     right:  N - N\n",
                "          |           \n",
                "       N  N             N - N\n",
                "```\n",
                "\n",
                "Note that the bottom row connections going down, and the right-hand column connections going right, will always be False.\n",
                "\n",
                "We can superimpose the downward and rightward connections to visualize the maze:\n",
                "```\n",
                "N - N\n",
                "    |\n",
                "N - N\n",
                "```\n",
                "\n",
                "---\n",
                "\n",
                "Using the same method, we can interpret the connection list for the original maze:\n"
            ]
        },
        {
            "cell_type": "code",
            "execution_count": null,
            "metadata": {
                "pycharm": {
                    "name": "#%%\n"
                }
            },
            "outputs": [],
            "source": [
                "maze.connection_list"
            ]
        },
        {
            "attachments": {},
            "cell_type": "markdown",
            "metadata": {
                "pycharm": {
                    "name": "#%% md\n"
                }
            },
            "source": [
                "```\n",
                "N   N - N - N\n",
                "|           |\n",
                "N - N - N - N\n",
                "            |\n",
                "N - N   N - N\n",
                "|       | \n",
                "N - N - N - N\n",
                "```"
            ]
        },
        {
            "attachments": {},
            "cell_type": "markdown",
            "metadata": {
                "pycharm": {
                    "name": "#%% md\n"
                }
            },
            "source": [
                "### Adjacency list\n",
                "\n",
                "Another common maze representation structure is an adjacency list, which is literally a list of every pair of adjacent nodes in the maze.\n",
                "\n",
                "We can view the adjacency list representation of the graph using `LatticeMaze.as_adjlist`"
            ]
        },
        {
            "cell_type": "code",
            "execution_count": null,
            "metadata": {
                "pycharm": {
                    "name": "#%%\n"
                }
            },
            "outputs": [],
            "source": [
                "for start, end in maze.as_adj_list():\n",
                "    print(f\"({start[0]}, {start[1]}) <--> ({end[0]}, {end[1]})\")"
            ]
        },
        {
            "attachments": {},
            "cell_type": "markdown",
            "metadata": {
                "pycharm": {
                    "name": "#%% md\n"
                }
            },
            "source": [
                "## Plotting a maze\n",
                "\n",
                "The `MazePlot` class bundles our plotting functionality.\n",
                "We can use `.show()` to display the maze:"
            ]
        },
        {
            "cell_type": "code",
            "execution_count": null,
            "metadata": {
                "pycharm": {
                    "name": "#%%\n"
                }
            },
            "outputs": [],
            "source": [
                "MazePlot(maze).plot()\n",
                "plt.show()\n",
                "\n",
                "plt.imshow(maze.as_pixels())\n",
                "plt.show()\n",
                "\n",
                "print(maze.as_ascii())"
            ]
        },
        {
            "attachments": {},
            "cell_type": "markdown",
            "metadata": {},
            "source": [
                "Note that the adjacency list contains coordinates in `(row, column)` notation. This is the inverse of Cartesian Coordinates `(x, y)` with a horizontal x-axis."
            ]
        },
        {
            "attachments": {},
            "cell_type": "markdown",
            "metadata": {
                "pycharm": {
                    "name": "#%% md\n"
                }
            },
            "source": [
                "## Solving the maze algorithmically"
            ]
        },
        {
            "attachments": {},
            "cell_type": "markdown",
            "metadata": {
                "pycharm": {
                    "name": "#%% md\n"
                }
            },
            "source": [
                "`LatticeMaze.find_shortest_path` uses the A* algorithm to find the optimal path through the maze."
            ]
        },
        {
            "cell_type": "code",
            "execution_count": null,
            "metadata": {
                "pycharm": {
                    "name": "#%%\n"
                }
            },
            "outputs": [],
            "source": [
                "true_path = maze.find_shortest_path(\n",
                "    c_start=(0, 0),\n",
                "    c_end=(3, 3)\n",
                ")\n",
                "\n",
                "print(f\"{true_path =}\")"
            ]
        },
        {
            "attachments": {},
            "cell_type": "markdown",
            "metadata": {},
            "source": [
                "We can plot the shortest path with `.add_true_path()`."
            ]
        },
        {
            "cell_type": "code",
            "execution_count": null,
            "metadata": {},
            "outputs": [],
            "source": [
                "MazePlot(maze).add_true_path(true_path).plot()\n",
                "plt.show()"
            ]
        },
        {
            "attachments": {},
            "cell_type": "markdown",
            "metadata": {},
            "source": [
                "## Other Plotting functionality"
            ]
        },
        {
            "attachments": {},
            "cell_type": "markdown",
            "metadata": {},
            "source": [
                "Displaying one or more predicted paths"
            ]
        },
        {
            "cell_type": "code",
            "execution_count": null,
            "metadata": {},
            "outputs": [],
            "source": [
                "pred_path1 = [(0, 0), (1, 0), (2, 0), (3, 0), (3, 1), (3, 2), (3, 3)]\n",
                "pred_path2 = [(0, 0), (0, 1), (0, 2), (0, 3), (1, 3), (2, 3), (2, 2), (3, 2), (3, 3)]\n",
                "(\n",
                "MazePlot(maze)\n",
                "    .add_true_path(true_path)\n",
                "    .add_predicted_path(pred_path1)\n",
                "    .add_predicted_path(pred_path2)\n",
                "    .plot()\n",
                ")\n",
                "plt.show()"
            ]
        },
        {
            "cell_type": "code",
            "execution_count": null,
            "metadata": {},
            "outputs": [],
            "source": [
                "node_values = np.random.uniform(size=maze.grid_shape)\n",
                "\n",
                "MazePlot(maze).add_node_values(node_values, color_map=\"Blues\").plot()\n",
                "plt.show()"
            ]
        },
        {
            "cell_type": "code",
            "execution_count": null,
            "metadata": {},
            "outputs": [],
            "source": [
                "MazePlot(maze).add_node_values(\n",
                "\tnode_values,\n",
                "\tcolor_map=\"Blues\",\n",
                "\ttarget_token_coord= np.array([2, 0]),\n",
                "\tpreceeding_tokens_coords = np.array([[0,0], [3,1]])\n",
                ").plot()\n",
                "plt.show()"
            ]
        },
        {
            "attachments": {},
            "cell_type": "markdown",
            "metadata": {},
            "source": [
                "Alternatively, plotting multiple paths at once is available. Paths must be of type `CoordArray` or `PathFormat`"
            ]
        },
        {
            "cell_type": "code",
            "execution_count": null,
            "metadata": {},
            "outputs": [],
            "source": [
                "pred_paths = [pred_path1, pred_path2]\n",
                "MazePlot(maze).add_multiple_paths(pred_paths).plot()\n",
                "plt.show()"
            ]
        },
        {
            "attachments": {},
            "cell_type": "markdown",
            "metadata": {},
            "source": [
                "Plotting a maze as a string (e.g. for quick debugging via commandline)"
            ]
        },
        {
            "cell_type": "code",
            "execution_count": null,
            "metadata": {},
            "outputs": [],
            "source": [
                "ascii_maze = MazePlot(maze).to_ascii()\n",
                "print(ascii_maze)"
            ]
        }
    ],
    "metadata": {
        "kernelspec": {
            "display_name": "maze-transformer",
            "language": "python",
            "name": "maze-transformer"
        },
        "language_info": {
            "codemirror_mode": {
                "name": "ipython",
                "version": 3
            },
            "file_extension": ".py",
            "mimetype": "text/x-python",
            "name": "python",
            "nbconvert_exporter": "python",
            "pygments_lexer": "ipython3",
            "version": "3.10.1"
        },
        "orig_nbformat": 4
    },
    "nbformat": 4,
    "nbformat_minor": 2
}
