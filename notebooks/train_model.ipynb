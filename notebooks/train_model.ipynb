{
 "cells": [
  {
   "cell_type": "code",
   "execution_count": 2,
   "metadata": {},
   "outputs": [],
   "source": [
    "# Generic\n",
    "import typing\n",
    "import os\n",
    "from pathlib import Path\n",
    "import typing\n",
    "import html\n",
    "\n",
    "# Plotting\n",
    "import matplotlib.pyplot as plt\n",
    "\n",
    "# Numerical Computing\n",
    "import numpy as np\n",
    "import torch\n",
    "\n",
    "# Our Code\n",
    "from maze_transformer.utils.notebook_utils import configure_notebook\n",
    "from maze_transformer.dataset.maze_dataset import MazeDataset, MazeDatasetConfig\n",
    "from maze_transformer.dataset.maze_dataset_configs import MAZE_DATASET_CONFIGS\n",
    "from maze_transformer.training.config import ConfigHolder, ZanjHookedTransformer\n",
    "from maze_transformer.evaluation.eval_model import evaluate_model\n",
    "from maze_transformer.evaluation.baseline_models import RandomBaseline\n",
    "from maze_transformer.evaluation.path_evals import PathEvals, PathEvalFunction\n",
    "\n",
    "from maze_transformer.utils.utils import set_reproducibility, chunks, get_checkpoint_paths_for_run"
   ]
  },
  {
   "cell_type": "code",
   "execution_count": null,
   "metadata": {},
   "outputs": [],
   "source": [
    "device = configure_notebook(seed=42, dark_mode=True)"
   ]
  },
  {
   "cell_type": "code",
   "execution_count": null,
   "metadata": {},
   "outputs": [],
   "source": [
    "dataset: MazeDataset = MazeDataset.from_config(\n",
    "    MAZE_DATASET_CONFIGS[\"test-g3-n5-a_dfs-h10466\"], \n",
    "    local_base_path=\"../examples/maze_dataset/\",\n",
    ")"
   ]
  }
 ],
 "metadata": {
  "kernelspec": {
   "display_name": "maze-transformer",
   "language": "python",
   "name": "maze-transformer"
  },
  "language_info": {
   "codemirror_mode": {
    "name": "ipython",
    "version": 3
   },
   "file_extension": ".py",
   "mimetype": "text/x-python",
   "name": "python",
   "nbconvert_exporter": "python",
   "pygments_lexer": "ipython3",
   "version": "3.10.1"
  },
  "orig_nbformat": 4
 },
 "nbformat": 4,
 "nbformat_minor": 2
}
