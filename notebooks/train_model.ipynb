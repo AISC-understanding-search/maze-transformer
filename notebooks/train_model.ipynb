{
 "cells": [
  {
   "cell_type": "code",
   "execution_count": 1,
   "metadata": {},
   "outputs": [],
   "source": [
    "# Generic\n",
    "import typing\n",
    "import os\n",
    "from pathlib import Path\n",
    "import typing\n",
    "import json\n",
    "\n",
    "# Plotting\n",
    "import matplotlib.pyplot as plt\n",
    "\n",
    "# Numerical Computing\n",
    "import numpy as np\n",
    "import torch\n",
    "\n",
    "# Our Code\n",
    "from maze_transformer.utils.notebook_utils import configure_notebook\n",
    "from maze_transformer.training.config import ConfigHolder, ZanjHookedTransformer\n",
    "from maze_transformer.dataset.maze_dataset import MazeDataset, MazeDatasetConfig\n",
    "# from maze_transformer.evaluation.baseline_models import RandomBaseline\n",
    "# from maze_transformer.evaluation.path_evals import PathEvals, PathEvalFunction\n",
    "# from maze_transformer.evaluation.eval_model import evaluate_model\n",
    "\n",
    "# from maze_transformer.utils.utils import set_reproducibility, chunks, get_checkpoint_paths_for_run"
   ]
  },
  {
   "cell_type": "code",
   "execution_count": 2,
   "metadata": {},
   "outputs": [],
   "source": [
    "device = configure_notebook(seed=42, dark_mode=True)"
   ]
  },
  {
   "cell_type": "code",
   "execution_count": 3,
   "metadata": {},
   "outputs": [],
   "source": [
    "# get the config\n",
    "cfg: ConfigHolder = ConfigHolder.get_config_multisource(\n",
    "    cfg_names=(\"test-g3-n5-a_dfs-h82387\", \"nano-v1\", \"test-v1\"),\n",
    ")"
   ]
  },
  {
   "cell_type": "code",
   "execution_count": 4,
   "metadata": {},
   "outputs": [
    {
     "name": "stdout",
     "output_type": "stream",
     "text": [
      "{\n",
      "  \"name\": \"multsrc_test-g3-n5-a_dfs-h82387_nano-v1_test-v1\",\n",
      "  \"dataset_cfg\": {\n",
      "    \"name\": \"test\",\n",
      "    \"fname\": \"test-g3-n5-a_dfs-h82387\",\n",
      "    \"sdc_hash\": 12421998641740469744225766873913765133571237419393262264799952523594640982387,\n",
      "    \"seed\": 42,\n",
      "    \"seq_len_min\": 1,\n",
      "    \"seq_len_max\": 512,\n",
      "    \"padding_token_index\": 10,\n",
      "    \"token_arr_joined\": \"<ADJLIST_START> <ADJLIST_END> <TARGET_START> <TARGET_END> <ORIGIN_START> <ORIGIN_END> <PATH_START> <PATH_END> <--> ; <PADDING> (0,0) (0,1) (1,0) (1,1) (0,2) (2,0) (1,2) (2,1) (2,2)\",\n",
      "    \"applied_filters\": [],\n",
      "    \"grid_n\": 3,\n",
      "    \"grid_shape\": [\n",
      "      3,\n",
      "      3\n",
      "    ],\n",
      "    \"n_mazes\": 5,\n",
      "    \"maze_ctor_name\": \"gen_dfs\",\n",
      "    \"maze_ctor_kwargs\": {}\n",
      "  },\n",
      "  \"model_cfg\": {\n",
      "    \"__format__\": \"BaseGPTConfig(SerializableDataclass)\",\n",
      "    \"name\": \"nano-v1\",\n",
      "    \"act_fn\": \"gelu\",\n",
      "    \"d_model\": 8,\n",
      "    \"d_head\": 4,\n",
      "    \"n_layers\": 2,\n",
      "    \"weight_processing\": {\n",
      "      \"are_layernorms_folded\": false,\n",
      "      \"are_weights_processed\": false\n",
      "    }\n",
      "  },\n",
      "  \"train_cfg\": {\n",
      "    \"name\": \"test-v1\",\n",
      "    \"optimizer\": \"RMSprop\",\n",
      "    \"optimizer_kwargs\": {\n",
      "      \"lr\": 0.0001\n",
      "    },\n",
      "    \"batch_size\": 16,\n",
      "    \"dataloader_cfg\": {\n",
      "      \"shuffle\": true,\n",
      "      \"num_workers\": 0,\n",
      "      \"drop_last\": false\n",
      "    },\n",
      "    \"print_loss_interval\": 100,\n",
      "    \"checkpoint_interval\": 1000\n",
      "  },\n",
      "  \"pretrainedtokenizer_kwargs\": null\n",
      "}\n"
     ]
    }
   ],
   "source": [
    "print(json.dumps(cfg.summary(), indent=2))"
   ]
  }
 ],
 "metadata": {
  "kernelspec": {
   "display_name": "maze-transformer",
   "language": "python",
   "name": "maze-transformer"
  },
  "language_info": {
   "codemirror_mode": {
    "name": "ipython",
    "version": 3
   },
   "file_extension": ".py",
   "mimetype": "text/x-python",
   "name": "python",
   "nbconvert_exporter": "python",
   "pygments_lexer": "ipython3",
   "version": "3.10.1"
  },
  "orig_nbformat": 4
 },
 "nbformat": 4,
 "nbformat_minor": 2
}
