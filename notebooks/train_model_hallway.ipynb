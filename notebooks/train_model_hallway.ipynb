{
 "cells": [
  {
   "cell_type": "code",
   "execution_count": 1,
   "metadata": {},
   "outputs": [],
   "source": [
    "# Generic\n",
    "import typing\n",
    "import os\n",
    "from pathlib import Path\n",
    "import typing\n",
    "import json\n",
    "\n",
    "# Plotting\n",
    "import matplotlib.pyplot as plt\n",
    "\n",
    "# Numerical Computing\n",
    "import numpy as np\n",
    "import torch\n",
    "\n",
    "# muutils\n",
    "from zanj.zanj import ZANJ, ZANJ_GLOBAL_DEFAULTS\n",
    "\n",
    "# Our Code\n",
    "from muutils.nbutils.configure_notebook import configure_notebook\n",
    "from maze_transformer.training.config import ConfigHolder, ZanjHookedTransformer, BaseGPTConfig, TrainConfig\n",
    "from maze_dataset import MazeDataset, MazeDatasetConfig, MazeDatasetCollectionConfig\n",
    "from maze_dataset.dataset.configs import MAZE_DATASET_CONFIGS\n",
    "from maze_dataset.generation import LatticeMazeGenerators\n",
    "from maze_transformer.training.train_model import TrainingResult, train_model\n",
    "from maze_transformer.training.wandb_logger import WandbProject\n"
   ]
  },
  {
   "cell_type": "code",
   "execution_count": 2,
   "metadata": {},
   "outputs": [
    {
     "name": "stdout",
     "output_type": "stream",
     "text": [
      "DEVICE = device(type='cuda')\n"
     ]
    }
   ],
   "source": [
    "# set global defaults for ZANJ\n",
    "ZANJ_GLOBAL_DEFAULTS.external_array_threshold = 1024\n",
    "ZANJ_GLOBAL_DEFAULTS.external_list_threshold = 1024\n",
    "\n",
    "# paths\n",
    "PATH_EXAMPLES: Path = Path(\"../examples/\")\n",
    "PATH_DATA: Path = Path(\"../data/\")\n",
    "\n",
    "# reproducibility and device\n",
    "DEVICE = configure_notebook(seed=42, dark_mode=True)\n",
    "print(f\"{DEVICE = }\")"
   ]
  },
  {
   "cell_type": "code",
   "execution_count": 3,
   "metadata": {},
   "outputs": [
    {
     "name": "stdout",
     "output_type": "stream",
     "text": [
      "list(MAZE_DATASET_CONFIGS.keys()) = ['test-g3-n5-a_dfs-h89001', 'demo_small-g3-n100-a_dfs-h58410', 'demo-g6-n10K-a_dfs-h86254']\n"
     ]
    }
   ],
   "source": [
    "print(f\"{list(MAZE_DATASET_CONFIGS.keys()) = }\")\n",
    "\n",
    "# if you want to specify a custom config, you can do so here\n",
    "CFG_CUSTOM: ConfigHolder = ConfigHolder(\n",
    "    name = \"hallway-medium\",\n",
    "    dataset_cfg = MazeDatasetConfig(\n",
    "\t\tname=\"custom-hallway\",\n",
    "\t\tgrid_n=8,\n",
    "\t\tn_mazes=1_000_000,\n",
    "\t\tmaze_ctor=LatticeMazeGenerators.gen_dfs,\n",
    "        maze_ctor_kwargs=dict(\n",
    "            do_forks=False,\n",
    "        ),\n",
    "        applied_filters=[{'name': 'collect_generation_meta', 'args': (), 'kwargs': {}}],\n",
    "\t),\n",
    "    model_cfg = BaseGPTConfig(\n",
    "        name=\"custom-model\",\n",
    "        act_fn=\"gelu\",\n",
    "        d_model=128,\n",
    "        d_head=32,\n",
    "        n_layers=6,\n",
    "    ),\n",
    "    train_cfg = TrainConfig(\n",
    "        name=\"custom-train\",\n",
    "        optimizer=torch.optim.AdamW,\n",
    "        optimizer_kwargs=dict(lr=0.001),\n",
    "        batch_size=32,\n",
    "        dataloader_cfg=dict(\n",
    "            shuffle=False,\n",
    "            num_workers=8,\n",
    "            drop_last=False,\n",
    "        ),\n",
    "        intervals_count=dict(\n",
    "            print_loss=100,\n",
    "            checkpoint=20,\n",
    "            eval_fast=100,\n",
    "            eval_slow=50,\n",
    "        ),\n",
    "        validation_dataset_cfg=100,\n",
    "    ),\n",
    ")\n",
    "\n",
    "CFG_TEST: ConfigHolder = ConfigHolder(\n",
    "    name = \"hallway-nano\",\n",
    "    dataset_cfg = MazeDatasetConfig(\n",
    "        name=f\"custom-hallway\",\n",
    "        grid_n=3,\n",
    "        n_mazes=50,\n",
    "        maze_ctor=LatticeMazeGenerators.gen_dfs,\n",
    "        maze_ctor_kwargs=dict(\n",
    "            do_forks=False,\n",
    "        ),\n",
    "        applied_filters=[{'name': 'collect_generation_meta', 'args': (), 'kwargs': {}}],\n",
    "    ),\n",
    "    # TODO: fix this\n",
    "    # dataset_cfg = MazeDatasetCollectionConfig(\n",
    "    #     name=\"custom-hallway-collection\",\n",
    "    #     maze_dataset_configs=[\n",
    "    #         MazeDatasetConfig(\n",
    "    #             name=f\"custom-hallway-{n}\",\n",
    "    #             grid_n=n,\n",
    "    #             n_mazes=50,\n",
    "    #             maze_ctor=LatticeMazeGenerators.gen_dfs,\n",
    "    #             maze_ctor_kwargs=dict(\n",
    "    #                 do_forks=False,\n",
    "    #             ),\n",
    "    #             applied_filters=[{'name': 'collect_generation_meta', 'args': (), 'kwargs': {}}],\n",
    "    #         ) \n",
    "    #         for n in [3, 4]\n",
    "    #     ]\n",
    "    # ),\n",
    "    model_cfg = BaseGPTConfig(\n",
    "        name=\"custom-model\",\n",
    "        act_fn=\"gelu\",\n",
    "        d_model=8,\n",
    "        d_head=2,\n",
    "        n_layers=2,\n",
    "    ),\n",
    "    train_cfg = TrainConfig(\n",
    "        name=\"custom-train\",\n",
    "        optimizer=torch.optim.AdamW,\n",
    "        optimizer_kwargs=dict(lr=0.0001),\n",
    "        batch_size=4,\n",
    "        dataloader_cfg=dict(\n",
    "            shuffle=True,\n",
    "            drop_last=False,\n",
    "        ),\n",
    "       validation_dataset_cfg=5,\n",
    "    ),\n",
    ")"
   ]
  },
  {
   "cell_type": "code",
   "execution_count": 4,
   "metadata": {},
   "outputs": [],
   "source": [
    "# here is where to specify which config to actually use\n",
    "CFG: ConfigHolder = CFG_CUSTOM # change to CFG_CUSTOM to train a \"real\" model, the CFG_TEST is for CI testing"
   ]
  },
  {
   "cell_type": "code",
   "execution_count": 5,
   "metadata": {},
   "outputs": [
    {
     "name": "stdout",
     "output_type": "stream",
     "text": [
      "{\n",
      "  \"name\": \"hallway-medium\",\n",
      "  \"dataset_cfg\": {\n",
      "    \"name\": \"custom-hallway\",\n",
      "    \"fname\": \"custom-hallway-g8-n1000000-a_dfs-h67201\",\n",
      "    \"sdc_hash\": 17702762527462501104362081349751668865096610287696345990139527306009298467201,\n",
      "    \"seed\": 42,\n",
      "    \"seq_len_min\": 1,\n",
      "    \"seq_len_max\": 512,\n",
      "    \"padding_token_index\": 10,\n",
      "    \"token_arr_joined\": \"<ADJLIST_START> <ADJLIST_END> <TARGET_START> <TARGET_END> <ORIGIN_START> <ORIGIN_END> <PATH_START> <PATH_END> <--> ; <PADDING> (0,0) (0,1) (1,0) (1,1) (0,2) (2,0) (1,2) (2,1) (2,2) (0,3) (3,0) (3,1) (2,3) (3,2) (1,3) (3,3) (0,4) (2,4) (4,0) (1,4) (4,1) (4,2) (3,4) (4,3) (4,4) (0,5) (5,0) (5,1) (2,5) (5,2) (5,3) (4,5) (5,4) (1,5) (3,5) (5,5) (0,6) (2,6) (4,6) (6,0) (1,6) (6,1) (6,2) (3,6) (6,3) (6,4) (5,6) (6,5) (6,6) (0,7) (7,0) (7,1) (2,7) (7,2) (7,3) (4,7) (7,4) (7,5) (6,7) (7,6) (1,7) (3,7) (5,7) (7,7)\",\n",
      "    \"applied_filters\": [\n",
      "      {\n",
      "        \"name\": \"collect_generation_meta\",\n",
      "        \"args\": [],\n",
      "        \"kwargs\": {}\n",
      "      }\n",
      "    ],\n",
      "    \"grid_n\": 8,\n",
      "    \"grid_shape\": [\n",
      "      8,\n",
      "      8\n",
      "    ],\n",
      "    \"n_mazes\": 1000000,\n",
      "    \"maze_ctor_name\": \"gen_dfs\",\n",
      "    \"maze_ctor_kwargs\": {\n",
      "      \"do_forks\": false\n",
      "    }\n",
      "  },\n",
      "  \"model_cfg\": {\n",
      "    \"name\": \"custom-model\",\n",
      "    \"act_fn\": \"gelu\",\n",
      "    \"d_model\": 128,\n",
      "    \"d_head\": 32,\n",
      "    \"n_layers\": 6,\n",
      "    \"weight_processing\": {\n",
      "      \"are_layernorms_folded\": false,\n",
      "      \"are_weights_processed\": false\n",
      "    },\n",
      "    \"n_heads\": 4\n",
      "  },\n",
      "  \"train_cfg\": {\n",
      "    \"name\": \"custom-train\",\n",
      "    \"optimizer\": \"AdamW\",\n",
      "    \"optimizer_kwargs\": {\n",
      "      \"lr\": 0.001\n",
      "    },\n",
      "    \"batch_size\": 32,\n",
      "    \"dataloader_cfg\": {\n",
      "      \"shuffle\": false,\n",
      "      \"num_workers\": 8,\n",
      "      \"drop_last\": false\n",
      "    },\n",
      "    \"intervals\": null,\n",
      "    \"intervals_count\": {\n",
      "      \"print_loss\": 100,\n",
      "      \"checkpoint\": 20,\n",
      "      \"eval_fast\": 100,\n",
      "      \"eval_slow\": 50\n",
      "    },\n",
      "    \"evals_max_new_tokens\": 8,\n",
      "    \"validation_dataset_cfg\": 100\n",
      "  },\n",
      "  \"pretrainedtokenizer_kwargs\": null\n",
      "}\n"
     ]
    }
   ],
   "source": [
    "print(json.dumps(CFG.summary(), indent=2))"
   ]
  },
  {
   "cell_type": "code",
   "execution_count": 6,
   "metadata": {},
   "outputs": [
    {
     "name": "stdout",
     "output_type": "stream",
     "text": [
      "seeing if we can download the dataset...\n",
      "no download found, or download failed\n",
      "generating dataset...\n"
     ]
    },
    {
     "name": "stderr",
     "output_type": "stream",
     "text": [
      "generating & solving mazes: 100%|██████████| 1000000/1000000 [21:12<00:00, 786.11maze/s]\n"
     ]
    },
    {
     "name": "stdout",
     "output_type": "stream",
     "text": [
      "saving dataset to ..\\data\\custom-hallway-g8-n1000000-a_dfs-h67201.zanj\n",
      "Got dataset custom-hallway with 1000000 items. output.cfg.to_fname() = 'custom-hallway-g8-n1000000-a_dfs-h67201'\n"
     ]
    }
   ],
   "source": [
    "# get just the dataset, generating it if needed. \n",
    "# This step can be skipped if you set `do_generate_dataset=True` when calling `train_model`\n",
    "# or if the dataset in question already exists\n",
    "\n",
    "# load the dataset\n",
    "DATASET: MazeDataset = MazeDataset.from_config(\n",
    "    CFG.dataset_cfg, \n",
    "    verbose=True, \n",
    "    load_local=False,\n",
    "    save_local=True,\n",
    "    local_base_path=PATH_DATA,\n",
    ")\n",
    "CFG.dataset_cfg = DATASET.cfg"
   ]
  },
  {
   "cell_type": "code",
   "execution_count": 7,
   "metadata": {},
   "outputs": [
    {
     "name": "stdout",
     "output_type": "stream",
     "text": [
      "2023-06-16 03:40:47 ERROR Failed to detect the name of this notebook, you can set it manually with the WANDB_NOTEBOOK_NAME environment variable to enable code saving.\n"
     ]
    },
    {
     "name": "stderr",
     "output_type": "stream",
     "text": [
      "\u001b[34m\u001b[1mwandb\u001b[0m: Currently logged in as: \u001b[33mmiv\u001b[0m. Use \u001b[1m`wandb login --relogin`\u001b[0m to force relogin\n"
     ]
    },
    {
     "data": {
      "text/html": [
       "wandb version 0.15.4 is available!  To upgrade, please run:\n",
       " $ pip install wandb --upgrade"
      ],
      "text/plain": [
       "<IPython.core.display.HTML object>"
      ]
     },
     "metadata": {},
     "output_type": "display_data"
    },
    {
     "data": {
      "text/html": [
       "Tracking run with wandb version 0.13.11"
      ],
      "text/plain": [
       "<IPython.core.display.HTML object>"
      ]
     },
     "metadata": {},
     "output_type": "display_data"
    },
    {
     "data": {
      "text/html": [
       "Run data is saved locally in <code>f:\\KNC\\maze-transformer\\notebooks\\wandb\\run-20230616_034049-hjlf7cgo</code>"
      ],
      "text/plain": [
       "<IPython.core.display.HTML object>"
      ]
     },
     "metadata": {},
     "output_type": "display_data"
    },
    {
     "data": {
      "text/html": [
       "Syncing run <strong><a href='https://wandb.ai/miv/demo-notebooks/runs/hjlf7cgo' target=\"_blank\">worldly-sun-39</a></strong> to <a href='https://wandb.ai/miv/demo-notebooks' target=\"_blank\">Weights & Biases</a> (<a href='https://wandb.me/run' target=\"_blank\">docs</a>)<br/>"
      ],
      "text/plain": [
       "<IPython.core.display.HTML object>"
      ]
     },
     "metadata": {},
     "output_type": "display_data"
    },
    {
     "data": {
      "text/html": [
       " View project at <a href='https://wandb.ai/miv/demo-notebooks' target=\"_blank\">https://wandb.ai/miv/demo-notebooks</a>"
      ],
      "text/plain": [
       "<IPython.core.display.HTML object>"
      ]
     },
     "metadata": {},
     "output_type": "display_data"
    },
    {
     "data": {
      "text/html": [
       " View run at <a href='https://wandb.ai/miv/demo-notebooks/runs/hjlf7cgo' target=\"_blank\">https://wandb.ai/miv/demo-notebooks/runs/hjlf7cgo</a>"
      ],
      "text/plain": [
       "<IPython.core.display.HTML object>"
      ]
     },
     "metadata": {},
     "output_type": "display_data"
    },
    {
     "name": "stdout",
     "output_type": "stream",
     "text": [
      "2023-06-16 03:40:50 INFO config ={'__format__': 'ConfigHolder(SerializableDataclass)', 'dataset_cfg': {'__format__': 'MazeDatasetConfig(SerializableDataclass)', 'name': 'custom-hallway', 'seq_len_min': 1, 'seq_len_max': 512, 'seed': 42, 'applied_filters': [{'name': 'collect_generation_meta', 'args': (), 'kwargs': {}}], 'grid_n': 8, 'n_mazes': 1000000, 'maze_ctor': {'__name__': 'gen_dfs', '__module__': 'maze_dataset.generation.generators', '__doc__': ['generate a lattice maze using depth first search, iterative', '', '        # Arguments', '        - `grid_shape: Coord`: the shape of the grid', '        - `lattice_dim: int`: the dimension of the lattice', '          (default: `2`)', '        - `n_accessible_cells: int | None`: the number of accessible cells in the maze. If `None`, defaults to the total number of cells in the grid.', '            (default: `None`)', '        - `max_tree_depth: int | None`: the maximum depth of the tree. If `None`, defaults to `2 * n_accessible_cells`.', '            (default: `None`)', '        - `do_forks: bool`: whether to allow forks in the maze. If `False`, the maze will be have no forks and will be a simple hallway.', '        - `start_coord: Coord | None`: the starting coordinate of the generation algorithm. If `None`, defaults to a random coordinate.', '', '', '        # algorithm', '        1. Choose the initial cell, mark it as visited and push it to the stack', '        2. While the stack is not empty', '                1. Pop a cell from the stack and make it a current cell', '                2. If the current cell has any neighbours which have not been visited', '                        1. Push the current cell to the stack', '                        2. Choose one of the unvisited neighbours', '                        3. Remove the wall between the current cell and the chosen cell', '                        4. Mark the chosen cell as visited and push it to the stack', '        '], 'source_code': ['    @staticmethod', '    def gen_dfs(', '        grid_shape: Coord,', '        lattice_dim: int = 2,', '        n_accessible_cells: int | None = None,', '        max_tree_depth: int | None = None,', '        do_forks: bool = True,', '        start_coord: Coord | None = None,', '    ) -> LatticeMaze:', '        \"\"\"generate a lattice maze using depth first search, iterative', '', '        # Arguments', '        - `grid_shape: Coord`: the shape of the grid', '        - `lattice_dim: int`: the dimension of the lattice', '          (default: `2`)', '        - `n_accessible_cells: int | None`: the number of accessible cells in the maze. If `None`, defaults to the total number of cells in the grid.', '            (default: `None`)', '        - `max_tree_depth: int | None`: the maximum depth of the tree. If `None`, defaults to `2 * n_accessible_cells`.', '            (default: `None`)', '        - `do_forks: bool`: whether to allow forks in the maze. If `False`, the maze will be have no forks and will be a simple hallway.', '        - `start_coord: Coord | None`: the starting coordinate of the generation algorithm. If `None`, defaults to a random coordinate.', '', '', '        # algorithm', '        1. Choose the initial cell, mark it as visited and push it to the stack', '        2. While the stack is not empty', '                1. Pop a cell from the stack and make it a current cell', '                2. If the current cell has any neighbours which have not been visited', '                        1. Push the current cell to the stack', '                        2. Choose one of the unvisited neighbours', '                        3. Remove the wall between the current cell and the chosen cell', '                        4. Mark the chosen cell as visited and push it to the stack', '        \"\"\"', '', '        # Default values if no constraints have been passed', '        grid_shape: Coord = np.array(grid_shape)', '        n_total_cells: int = int(np.prod(grid_shape))', '        if n_accessible_cells is None:', '            n_accessible_cells = n_total_cells', '        if max_tree_depth is None:', '            max_tree_depth = (', '                2 * n_total_cells', '            )  # We define max tree depth counting from the start coord in two directions. Therefore we divide by two in the if clause for neighboring sites later and multiply by two here.', '', '        start_coord = _random_start_coord(grid_shape, start_coord)', '', '        # initialize the maze with no connections', '        connection_list: ConnectionList = np.zeros(', '            (lattice_dim, grid_shape[0], grid_shape[1]), dtype=np.bool_', '        )', '', '        # initialize the stack with the target coord', '        visited_cells: set[tuple[int, int]] = set()', '        visited_cells.add(tuple(start_coord))', '        stack: list[Coord] = [start_coord]', '', '        # initialize tree_depth_counter', '        current_tree_depth: int = 1', '', '        # loop until the stack is empty or n_connected_cells is reached', '        while stack and (len(visited_cells) < n_accessible_cells):', '            # get the current coord from the stack', '            current_coord: Coord = stack.pop()', '', '            # filter neighbors by being within grid bounds and being unvisited', '            unvisited_neighbors_deltas: list[tuple[Coord, Coord]] = [', '                (neighbor, delta)', '                for neighbor, delta in zip(', '                    current_coord + NEIGHBORS_MASK, NEIGHBORS_MASK', '                )', '                if (', '                    (tuple(neighbor) not in visited_cells)', '                    and (0 <= neighbor[0] < grid_shape[0])', '                    and (0 <= neighbor[1] < grid_shape[1])', '                )', '            ]', '', \"            # don't continue if max_tree_depth/2 is already reached (divide by 2 because we can branch to multiple directions)\", '            if unvisited_neighbors_deltas and (', '                current_tree_depth <= max_tree_depth / 2', '            ):', \"                # if we want a maze without forks, simply don't add the current coord back to the stack\", '                if do_forks:', '                    stack.append(current_coord)', '', '                # choose one of the unvisited neighbors', '                chosen_neighbor, delta = random.choice(unvisited_neighbors_deltas)', '', '                # add connection', '                dim: int = np.argmax(np.abs(delta))', '                # if positive, down/right from current coord', '                # if negative, up/left from current coord (down/right from neighbor)', '                clist_node: Coord = (', '                    current_coord if (delta.sum() > 0) else chosen_neighbor', '                )', '                connection_list[dim, clist_node[0], clist_node[1]] = True', '', '                # add to visited cells and stack', '                visited_cells.add(tuple(chosen_neighbor))', '                stack.append(chosen_neighbor)', '', '                # Update current tree depth', '                current_tree_depth += 1', '            else:', '                current_tree_depth -= 1', '', '        return LatticeMaze(', '            connection_list=connection_list,', '            generation_meta=dict(', '                func_name=\"gen_dfs\",', '                grid_shape=grid_shape,', '                start_coord=start_coord,', '                n_accessible_cells=int(n_accessible_cells),', '                max_tree_depth=int(max_tree_depth),', '                fully_connected=bool(len(visited_cells) == n_accessible_cells),', '                visited_cells={tuple(int(x) for x in coord) for coord in visited_cells},', '            ),', '        )']}, 'maze_ctor_kwargs': {'do_forks': False}, 'padding_token_index': 10, 'token_arr': ['<ADJLIST_START>', '<ADJLIST_END>', '<TARGET_START>', '<TARGET_END>', '<ORIGIN_START>', '<ORIGIN_END>', '<PATH_START>', '<PATH_END>', '<-->', ';', '<PADDING>', '(0,0)', '(0,1)', '(1,0)', '(1,1)', '(0,2)', '(2,0)', '(1,2)', '(2,1)', '(2,2)', '(0,3)', '(3,0)', '(3,1)', '(2,3)', '(3,2)', '(1,3)', '(3,3)', '(0,4)', '(2,4)', '(4,0)', '(1,4)', '(4,1)', '(4,2)', '(3,4)', '(4,3)', '(4,4)', '(0,5)', '(5,0)', '(5,1)', '(2,5)', '(5,2)', '(5,3)', '(4,5)', '(5,4)', '(1,5)', '(3,5)', '(5,5)', '(0,6)', '(2,6)', '(4,6)', '(6,0)', '(1,6)', '(6,1)', '(6,2)', '(3,6)', '(6,3)', '(6,4)', '(5,6)', '(6,5)', '(6,6)', '(0,7)', '(7,0)', '(7,1)', '(2,7)', '(7,2)', '(7,3)', '(4,7)', '(7,4)', '(7,5)', '(6,7)', '(7,6)', '(1,7)', '(3,7)', '(5,7)', '(7,7)'], 'tokenizer_map': {'<ADJLIST_START>': 0, '<ADJLIST_END>': 1, '<TARGET_START>': 2, '<TARGET_END>': 3, '<ORIGIN_START>': 4, '<ORIGIN_END>': 5, '<PATH_START>': 6, '<PATH_END>': 7, '<-->': 8, ';': 9, '<PADDING>': 10, '(0,0)': 11, '(0,1)': 12, '(1,0)': 13, '(1,1)': 14, '(0,2)': 15, '(2,0)': 16, '(1,2)': 17, '(2,1)': 18, '(2,2)': 19, '(0,3)': 20, '(3,0)': 21, '(3,1)': 22, '(2,3)': 23, '(3,2)': 24, '(1,3)': 25, '(3,3)': 26, '(0,4)': 27, '(2,4)': 28, '(4,0)': 29, '(1,4)': 30, '(4,1)': 31, '(4,2)': 32, '(3,4)': 33, '(4,3)': 34, '(4,4)': 35, '(0,5)': 36, '(5,0)': 37, '(5,1)': 38, '(2,5)': 39, '(5,2)': 40, '(5,3)': 41, '(4,5)': 42, '(5,4)': 43, '(1,5)': 44, '(3,5)': 45, '(5,5)': 46, '(0,6)': 47, '(2,6)': 48, '(4,6)': 49, '(6,0)': 50, '(1,6)': 51, '(6,1)': 52, '(6,2)': 53, '(3,6)': 54, '(6,3)': 55, '(6,4)': 56, '(5,6)': 57, '(6,5)': 58, '(6,6)': 59, '(0,7)': 60, '(7,0)': 61, '(7,1)': 62, '(2,7)': 63, '(7,2)': 64, '(7,3)': 65, '(4,7)': 66, '(7,4)': 67, '(7,5)': 68, '(6,7)': 69, '(7,6)': 70, '(1,7)': 71, '(3,7)': 72, '(5,7)': 73, '(7,7)': 74}, 'grid_shape': (8, 8), 'token_node_map': {'(0,0)': (0, 0), '(0,1)': (0, 1), '(1,0)': (1, 0), '(1,1)': (1, 1), '(0,2)': (0, 2), '(2,0)': (2, 0), '(1,2)': (1, 2), '(2,1)': (2, 1), '(2,2)': (2, 2), '(0,3)': (0, 3), '(3,0)': (3, 0), '(3,1)': (3, 1), '(2,3)': (2, 3), '(3,2)': (3, 2), '(1,3)': (1, 3), '(3,3)': (3, 3), '(0,4)': (0, 4), '(2,4)': (2, 4), '(4,0)': (4, 0), '(1,4)': (1, 4), '(4,1)': (4, 1), '(4,2)': (4, 2), '(3,4)': (3, 4), '(4,3)': (4, 3), '(4,4)': (4, 4), '(0,5)': (0, 5), '(5,0)': (5, 0), '(5,1)': (5, 1), '(2,5)': (2, 5), '(5,2)': (5, 2), '(5,3)': (5, 3), '(4,5)': (4, 5), '(5,4)': (5, 4), '(1,5)': (1, 5), '(3,5)': (3, 5), '(5,5)': (5, 5), '(0,6)': (0, 6), '(2,6)': (2, 6), '(4,6)': (4, 6), '(6,0)': (6, 0), '(1,6)': (1, 6), '(6,1)': (6, 1), '(6,2)': (6, 2), '(3,6)': (3, 6), '(6,3)': (6, 3), '(6,4)': (6, 4), '(5,6)': (5, 6), '(6,5)': (6, 5), '(6,6)': (6, 6), '(0,7)': (0, 7), '(7,0)': (7, 0), '(7,1)': (7, 1), '(2,7)': (2, 7), '(7,2)': (7, 2), '(7,3)': (7, 3), '(4,7)': (4, 7), '(7,4)': (7, 4), '(7,5)': (7, 5), '(6,7)': (6, 7), '(7,6)': (7, 6), '(1,7)': (1, 7), '(3,7)': (3, 7), '(5,7)': (5, 7), '(7,7)': (7, 7)}, 'n_tokens': 75}, 'model_cfg': {'__format__': 'BaseGPTConfig(SerializableDataclass)', 'name': 'custom-model', 'act_fn': 'gelu', 'd_model': 128, 'd_head': 32, 'n_layers': 6, 'weight_processing': {'are_layernorms_folded': False, 'are_weights_processed': False}, 'n_heads': 4}, 'train_cfg': {'__format__': 'TrainConfig(SerializableDataclass)', 'name': 'custom-train', 'evals_max_new_tokens': 8, 'validation_dataset_cfg': 100, 'optimizer': 'AdamW', 'optimizer_kwargs': {'lr': 0.001}, 'batch_size': 32, 'dataloader_cfg': {'shuffle': False, 'num_workers': 8, 'drop_last': False}, 'intervals': None, 'intervals_count': {'print_loss': 100, 'checkpoint': 20, 'eval_fast': 100, 'eval_slow': 50}}, 'name': 'hallway-medium', 'pretrainedtokenizer_kwargs': None}\n",
      "2023-06-16 03:40:50 INFO Initialized logger\n",
      "2023-06-16 03:40:50 INFO Summary logged, getting dataset\n",
      "loading dataset from ../data/custom-hallway-g8-n1000000-a_dfs-h67201.zanj\n",
      "Got dataset custom-hallway with 1000000 items. output.cfg.to_fname() = 'custom-hallway-g8-n1000000-a_dfs-h67201'\n",
      "2023-06-16 03:44:01 INFO finished getting training dataset with 1000000 samples\n",
      "2023-06-16 03:44:01 INFO got validation dataset by splitting training dataset into 999900 train and 100 validation samples\n",
      "2023-06-16 03:44:01 INFO Loaded 999900 sequences\n",
      "2023-06-16 03:44:01 INFO Creating dataloader\n",
      "2023-06-16 03:44:01 INFO finished dataloader, passing to train()\n",
      "2023-06-16 03:44:01 INFO Initializing model\n",
      "Moving model to device:  cuda\n",
      "2023-06-16 03:44:01 INFO Initializing optimizer\n",
      "2023-06-16 03:44:01 INFO will train for 31247 batches, evals_enabled=True, with intervals: {'print_loss': 312, 'checkpoint': 1562, 'eval_fast': 312, 'eval_slow': 624}\n",
      "2023-06-16 03:44:01 INFO Starting training\n",
      "2023-06-16 03:47:21 INFO Running evals: eval_fast\n"
     ]
    },
    {
     "name": "stderr",
     "output_type": "stream",
     "text": [
      "F:\\KNC\\maze-transformer\\maze_transformer\\evaluation\\path_evals.py:91: RuntimeWarning:\n",
      "\n",
      "fraction_connections_adjacent_lattice called on path of length less than 2, retuning NaN\n",
      "prediction = array([[4, 1]])\n",
      "\n"
     ]
    },
    {
     "name": "stdout",
     "output_type": "stream",
     "text": [
      "2023-06-16 03:47:34 INFO Running evals: eval_slow\n",
      "2023-06-16 03:47:48 INFO iteration 0/31247: loss=4.777\n",
      "2023-06-16 03:47:48 INFO Saving model checkpoint to ../data/hallway-medium_2023-06-16-03-40-47/checkpoints/model.iter_0.zanj\n",
      "2023-06-16 03:48:38 INFO Running evals: eval_fast\n",
      "2023-06-16 03:48:52 INFO iteration 312/31247: loss=0.988\n",
      "2023-06-16 03:49:42 INFO Running evals: eval_fast\n",
      "2023-06-16 03:49:55 INFO Running evals: eval_slow\n",
      "2023-06-16 03:50:09 INFO iteration 624/31247: loss=0.698\n",
      "2023-06-16 03:50:59 INFO Running evals: eval_fast\n"
     ]
    },
    {
     "name": "stderr",
     "output_type": "stream",
     "text": [
      "F:\\KNC\\maze-transformer\\maze_transformer\\evaluation\\path_evals.py:91: RuntimeWarning:\n",
      "\n",
      "fraction_connections_adjacent_lattice called on path of length less than 2, retuning NaN\n",
      "prediction = array([[4, 7]])\n",
      "\n",
      "F:\\KNC\\maze-transformer\\maze_transformer\\evaluation\\path_evals.py:91: RuntimeWarning:\n",
      "\n",
      "fraction_connections_adjacent_lattice called on path of length less than 2, retuning NaN\n",
      "prediction = array([[4, 4]])\n",
      "\n"
     ]
    },
    {
     "name": "stdout",
     "output_type": "stream",
     "text": [
      "2023-06-16 03:51:12 INFO iteration 936/31247: loss=0.623\n",
      "2023-06-16 03:52:02 INFO Running evals: eval_fast\n"
     ]
    },
    {
     "name": "stderr",
     "output_type": "stream",
     "text": [
      "F:\\KNC\\maze-transformer\\maze_transformer\\evaluation\\path_evals.py:91: RuntimeWarning:\n",
      "\n",
      "fraction_connections_adjacent_lattice called on path of length less than 2, retuning NaN\n",
      "prediction = array([[7, 1]])\n",
      "\n",
      "F:\\KNC\\maze-transformer\\maze_transformer\\evaluation\\path_evals.py:91: RuntimeWarning:\n",
      "\n",
      "fraction_connections_adjacent_lattice called on path of length less than 2, retuning NaN\n",
      "prediction = array([[0, 2]])\n",
      "\n"
     ]
    },
    {
     "name": "stdout",
     "output_type": "stream",
     "text": [
      "2023-06-16 03:52:15 INFO Running evals: eval_slow\n",
      "2023-06-16 03:52:28 INFO iteration 1248/31247: loss=0.677\n",
      "2023-06-16 03:53:19 INFO Running evals: eval_fast\n"
     ]
    },
    {
     "name": "stderr",
     "output_type": "stream",
     "text": [
      "F:\\KNC\\maze-transformer\\maze_transformer\\evaluation\\path_evals.py:91: RuntimeWarning:\n",
      "\n",
      "fraction_connections_adjacent_lattice called on path of length less than 2, retuning NaN\n",
      "prediction = array([[3, 7]])\n",
      "\n",
      "F:\\KNC\\maze-transformer\\maze_transformer\\evaluation\\path_evals.py:91: RuntimeWarning:\n",
      "\n",
      "fraction_connections_adjacent_lattice called on path of length less than 2, retuning NaN\n",
      "prediction = array([[2, 4]])\n",
      "\n",
      "F:\\KNC\\maze-transformer\\maze_transformer\\evaluation\\path_evals.py:91: RuntimeWarning:\n",
      "\n",
      "fraction_connections_adjacent_lattice called on path of length less than 2, retuning NaN\n",
      "prediction = array([[2, 0]])\n",
      "\n",
      "F:\\KNC\\maze-transformer\\maze_transformer\\evaluation\\path_evals.py:91: RuntimeWarning:\n",
      "\n",
      "fraction_connections_adjacent_lattice called on path of length less than 2, retuning NaN\n",
      "prediction = array([[6, 7]])\n",
      "\n",
      "F:\\KNC\\maze-transformer\\maze_transformer\\evaluation\\path_evals.py:91: RuntimeWarning:\n",
      "\n",
      "fraction_connections_adjacent_lattice called on path of length less than 2, retuning NaN\n",
      "prediction = array([[2, 5]])\n",
      "\n",
      "F:\\KNC\\maze-transformer\\maze_transformer\\evaluation\\path_evals.py:91: RuntimeWarning:\n",
      "\n",
      "fraction_connections_adjacent_lattice called on path of length less than 2, retuning NaN\n",
      "prediction = array([[0, 5]])\n",
      "\n"
     ]
    },
    {
     "name": "stdout",
     "output_type": "stream",
     "text": [
      "2023-06-16 03:53:32 INFO iteration 1560/31247: loss=0.697\n",
      "2023-06-16 03:53:32 INFO Saving model checkpoint to ../data/hallway-medium_2023-06-16-03-40-47/checkpoints/model.iter_1562.zanj\n",
      "2023-06-16 03:54:24 INFO Running evals: eval_fast\n"
     ]
    },
    {
     "name": "stderr",
     "output_type": "stream",
     "text": [
      "F:\\KNC\\maze-transformer\\maze_transformer\\evaluation\\path_evals.py:91: RuntimeWarning:\n",
      "\n",
      "fraction_connections_adjacent_lattice called on path of length less than 2, retuning NaN\n",
      "prediction = array([[1, 4]])\n",
      "\n",
      "F:\\KNC\\maze-transformer\\maze_transformer\\evaluation\\path_evals.py:91: RuntimeWarning:\n",
      "\n",
      "fraction_connections_adjacent_lattice called on path of length less than 2, retuning NaN\n",
      "prediction = array([[6, 4]])\n",
      "\n"
     ]
    },
    {
     "name": "stdout",
     "output_type": "stream",
     "text": [
      "2023-06-16 03:54:38 INFO Running evals: eval_slow\n",
      "2023-06-16 03:54:51 INFO iteration 1872/31247: loss=0.775\n",
      "2023-06-16 03:55:42 INFO Running evals: eval_fast\n",
      "2023-06-16 03:55:54 INFO iteration 2184/31247: loss=0.721\n",
      "2023-06-16 03:56:48 INFO Running evals: eval_fast\n",
      "2023-06-16 03:57:01 INFO Running evals: eval_slow\n",
      "2023-06-16 03:57:14 INFO iteration 2496/31247: loss=0.773\n",
      "2023-06-16 03:58:08 INFO Running evals: eval_fast\n"
     ]
    },
    {
     "name": "stderr",
     "output_type": "stream",
     "text": [
      "F:\\KNC\\maze-transformer\\maze_transformer\\evaluation\\path_evals.py:91: RuntimeWarning:\n",
      "\n",
      "fraction_connections_adjacent_lattice called on path of length less than 2, retuning NaN\n",
      "prediction = array([[1, 6]])\n",
      "\n",
      "F:\\KNC\\maze-transformer\\maze_transformer\\evaluation\\path_evals.py:91: RuntimeWarning:\n",
      "\n",
      "fraction_connections_adjacent_lattice called on path of length less than 2, retuning NaN\n",
      "prediction = array([[5, 3]])\n",
      "\n"
     ]
    },
    {
     "name": "stdout",
     "output_type": "stream",
     "text": [
      "2023-06-16 03:58:20 INFO iteration 2808/31247: loss=0.701\n",
      "2023-06-16 03:59:17 INFO Running evals: eval_fast\n",
      "2023-06-16 03:59:30 INFO Running evals: eval_slow\n",
      "2023-06-16 03:59:43 INFO iteration 3120/31247: loss=0.560\n",
      "2023-06-16 03:59:44 INFO Saving model checkpoint to ../data/hallway-medium_2023-06-16-03-40-47/checkpoints/model.iter_3124.zanj\n",
      "2023-06-16 04:00:40 INFO Running evals: eval_fast\n"
     ]
    },
    {
     "name": "stderr",
     "output_type": "stream",
     "text": [
      "F:\\KNC\\maze-transformer\\maze_transformer\\evaluation\\path_evals.py:91: RuntimeWarning:\n",
      "\n",
      "fraction_connections_adjacent_lattice called on path of length less than 2, retuning NaN\n",
      "prediction = array([[7, 2]])\n",
      "\n",
      "F:\\KNC\\maze-transformer\\maze_transformer\\evaluation\\path_evals.py:91: RuntimeWarning:\n",
      "\n",
      "fraction_connections_adjacent_lattice called on path of length less than 2, retuning NaN\n",
      "prediction = array([[5, 5]])\n",
      "\n"
     ]
    },
    {
     "name": "stdout",
     "output_type": "stream",
     "text": [
      "2023-06-16 04:00:52 INFO iteration 3432/31247: loss=0.651\n",
      "2023-06-16 04:01:55 INFO Running evals: eval_fast\n",
      "2023-06-16 04:02:08 INFO Running evals: eval_slow\n",
      "2023-06-16 04:02:20 INFO iteration 3744/31247: loss=0.634\n",
      "2023-06-16 04:03:17 INFO Running evals: eval_fast\n",
      "2023-06-16 04:03:30 INFO iteration 4056/31247: loss=0.574\n",
      "2023-06-16 04:04:30 INFO Running evals: eval_fast\n",
      "2023-06-16 04:04:43 INFO Running evals: eval_slow\n",
      "2023-06-16 04:04:55 INFO iteration 4368/31247: loss=0.644\n",
      "2023-06-16 04:05:50 INFO Running evals: eval_fast\n"
     ]
    },
    {
     "name": "stderr",
     "output_type": "stream",
     "text": [
      "F:\\KNC\\maze-transformer\\maze_transformer\\evaluation\\path_evals.py:91: RuntimeWarning:\n",
      "\n",
      "fraction_connections_adjacent_lattice called on path of length less than 2, retuning NaN\n",
      "prediction = array([[7, 7]])\n",
      "\n"
     ]
    },
    {
     "name": "stdout",
     "output_type": "stream",
     "text": [
      "2023-06-16 04:06:03 INFO iteration 4680/31247: loss=0.606\n",
      "2023-06-16 04:06:04 INFO Saving model checkpoint to ../data/hallway-medium_2023-06-16-03-40-47/checkpoints/model.iter_4686.zanj\n",
      "2023-06-16 04:07:07 INFO Running evals: eval_fast\n",
      "2023-06-16 04:07:21 INFO Running evals: eval_slow\n"
     ]
    },
    {
     "name": "stderr",
     "output_type": "stream",
     "text": [
      "F:\\KNC\\maze-transformer\\maze_transformer\\evaluation\\path_evals.py:91: RuntimeWarning:\n",
      "\n",
      "fraction_connections_adjacent_lattice called on path of length less than 2, retuning NaN\n",
      "prediction = array([[2, 3]])\n",
      "\n"
     ]
    },
    {
     "name": "stdout",
     "output_type": "stream",
     "text": [
      "2023-06-16 04:07:34 INFO iteration 4992/31247: loss=0.695\n",
      "2023-06-16 04:08:37 INFO Running evals: eval_fast\n"
     ]
    },
    {
     "name": "stderr",
     "output_type": "stream",
     "text": [
      "F:\\KNC\\maze-transformer\\maze_transformer\\evaluation\\path_evals.py:91: RuntimeWarning:\n",
      "\n",
      "fraction_connections_adjacent_lattice called on path of length less than 2, retuning NaN\n",
      "prediction = array([[5, 0]])\n",
      "\n"
     ]
    },
    {
     "name": "stdout",
     "output_type": "stream",
     "text": [
      "2023-06-16 04:08:50 INFO iteration 5304/31247: loss=0.536\n",
      "2023-06-16 04:09:53 INFO Running evals: eval_fast\n",
      "2023-06-16 04:10:05 INFO Running evals: eval_slow\n",
      "2023-06-16 04:10:18 INFO iteration 5616/31247: loss=0.436\n",
      "2023-06-16 04:11:18 INFO Running evals: eval_fast\n"
     ]
    },
    {
     "name": "stderr",
     "output_type": "stream",
     "text": [
      "F:\\KNC\\maze-transformer\\maze_transformer\\evaluation\\path_evals.py:91: RuntimeWarning:\n",
      "\n",
      "fraction_connections_adjacent_lattice called on path of length less than 2, retuning NaN\n",
      "prediction = array([[4, 2]])\n",
      "\n"
     ]
    },
    {
     "name": "stdout",
     "output_type": "stream",
     "text": [
      "2023-06-16 04:11:31 INFO iteration 5928/31247: loss=0.545\n",
      "2023-06-16 04:12:35 INFO Running evals: eval_fast\n",
      "2023-06-16 04:12:48 INFO Running evals: eval_slow\n",
      "2023-06-16 04:13:00 INFO iteration 6240/31247: loss=0.493\n",
      "2023-06-16 04:13:01 INFO Saving model checkpoint to ../data/hallway-medium_2023-06-16-03-40-47/checkpoints/model.iter_6248.zanj\n",
      "2023-06-16 04:14:01 INFO Running evals: eval_fast\n",
      "2023-06-16 04:14:13 INFO iteration 6552/31247: loss=0.612\n",
      "2023-06-16 04:15:20 INFO Running evals: eval_fast\n",
      "2023-06-16 04:15:32 INFO Running evals: eval_slow\n",
      "2023-06-16 04:15:45 INFO iteration 6864/31247: loss=0.595\n",
      "2023-06-16 04:16:48 INFO Running evals: eval_fast\n",
      "2023-06-16 04:17:01 INFO iteration 7176/31247: loss=0.509\n",
      "2023-06-16 04:18:05 INFO Running evals: eval_fast\n",
      "2023-06-16 04:18:18 INFO Running evals: eval_slow\n",
      "2023-06-16 04:18:30 INFO iteration 7488/31247: loss=0.548\n",
      "2023-06-16 04:19:33 INFO Running evals: eval_fast\n",
      "2023-06-16 04:19:45 INFO iteration 7800/31247: loss=0.509\n",
      "2023-06-16 04:19:47 INFO Saving model checkpoint to ../data/hallway-medium_2023-06-16-03-40-47/checkpoints/model.iter_7810.zanj\n",
      "2023-06-16 04:20:54 INFO Running evals: eval_fast\n",
      "2023-06-16 04:21:07 INFO Running evals: eval_slow\n",
      "2023-06-16 04:21:20 INFO iteration 8112/31247: loss=0.531\n",
      "2023-06-16 04:22:23 INFO Running evals: eval_fast\n",
      "2023-06-16 04:22:36 INFO iteration 8424/31247: loss=0.653\n",
      "2023-06-16 04:23:43 INFO Running evals: eval_fast\n",
      "2023-06-16 04:23:56 INFO Running evals: eval_slow\n",
      "2023-06-16 04:24:08 INFO iteration 8736/31247: loss=0.606\n",
      "2023-06-16 04:25:14 INFO Running evals: eval_fast\n",
      "2023-06-16 04:25:27 INFO iteration 9048/31247: loss=0.537\n",
      "2023-06-16 04:26:36 INFO Running evals: eval_fast\n"
     ]
    },
    {
     "name": "stderr",
     "output_type": "stream",
     "text": [
      "F:\\KNC\\maze-transformer\\maze_transformer\\evaluation\\path_evals.py:91: RuntimeWarning:\n",
      "\n",
      "fraction_connections_adjacent_lattice called on path of length less than 2, retuning NaN\n",
      "prediction = array([[2, 7]])\n",
      "\n"
     ]
    },
    {
     "name": "stdout",
     "output_type": "stream",
     "text": [
      "2023-06-16 04:26:48 INFO Running evals: eval_slow\n",
      "2023-06-16 04:27:00 INFO iteration 9360/31247: loss=0.532\n",
      "2023-06-16 04:27:02 INFO Saving model checkpoint to ../data/hallway-medium_2023-06-16-03-40-47/checkpoints/model.iter_9372.zanj\n"
     ]
    },
    {
     "name": "stderr",
     "output_type": "stream",
     "text": [
      "\u001b[34m\u001b[1mwandb\u001b[0m: \u001b[33mWARNING\u001b[0m A graphql request initiated by the public wandb API timed out (timeout=9 sec). Create a new API with an integer timeout larger than 9, e.g., `api = wandb.Api(timeout=19)` to increase the graphql timeout.\n"
     ]
    },
    {
     "name": "stdout",
     "output_type": "stream",
     "text": [
      "2023-06-16 04:28:11 INFO Running evals: eval_fast\n",
      "2023-06-16 04:28:23 INFO iteration 9672/31247: loss=0.588\n",
      "2023-06-16 04:29:30 INFO Running evals: eval_fast\n",
      "2023-06-16 04:29:43 INFO Running evals: eval_slow\n",
      "2023-06-16 04:29:55 INFO iteration 9984/31247: loss=0.465\n",
      "2023-06-16 04:31:03 INFO Running evals: eval_fast\n",
      "2023-06-16 04:31:15 INFO iteration 10296/31247: loss=0.469\n",
      "2023-06-16 04:32:23 INFO Running evals: eval_fast\n",
      "2023-06-16 04:32:36 INFO Running evals: eval_slow\n",
      "2023-06-16 04:32:49 INFO iteration 10608/31247: loss=0.539\n",
      "2023-06-16 04:33:53 INFO Running evals: eval_fast\n"
     ]
    },
    {
     "name": "stderr",
     "output_type": "stream",
     "text": [
      "F:\\KNC\\maze-transformer\\maze_transformer\\evaluation\\path_evals.py:91: RuntimeWarning:\n",
      "\n",
      "fraction_connections_adjacent_lattice called on path of length less than 2, retuning NaN\n",
      "prediction = array([[7, 0]])\n",
      "\n"
     ]
    },
    {
     "name": "stdout",
     "output_type": "stream",
     "text": [
      "2023-06-16 04:34:05 INFO iteration 10920/31247: loss=0.547\n",
      "2023-06-16 04:34:08 INFO Saving model checkpoint to ../data/hallway-medium_2023-06-16-03-40-47/checkpoints/model.iter_10934.zanj\n",
      "2023-06-16 04:35:13 INFO Running evals: eval_fast\n"
     ]
    },
    {
     "name": "stderr",
     "output_type": "stream",
     "text": [
      "F:\\KNC\\maze-transformer\\maze_transformer\\evaluation\\path_evals.py:91: RuntimeWarning:\n",
      "\n",
      "fraction_connections_adjacent_lattice called on path of length less than 2, retuning NaN\n",
      "prediction = array([[3, 3]])\n",
      "\n"
     ]
    },
    {
     "name": "stdout",
     "output_type": "stream",
     "text": [
      "2023-06-16 04:35:26 INFO Running evals: eval_slow\n",
      "2023-06-16 04:35:38 INFO iteration 11232/31247: loss=0.536\n",
      "2023-06-16 04:36:45 INFO Running evals: eval_fast\n",
      "2023-06-16 04:36:57 INFO iteration 11544/31247: loss=0.549\n",
      "2023-06-16 04:38:04 INFO Running evals: eval_fast\n",
      "2023-06-16 04:38:16 INFO Running evals: eval_slow\n",
      "2023-06-16 04:38:28 INFO iteration 11856/31247: loss=0.577\n",
      "2023-06-16 04:39:31 INFO Running evals: eval_fast\n",
      "2023-06-16 04:39:43 INFO iteration 12168/31247: loss=0.507\n",
      "2023-06-16 04:40:52 INFO Running evals: eval_fast\n",
      "2023-06-16 04:41:04 INFO Running evals: eval_slow\n",
      "2023-06-16 04:41:17 INFO iteration 12480/31247: loss=0.605\n",
      "2023-06-16 04:41:19 INFO Saving model checkpoint to ../data/hallway-medium_2023-06-16-03-40-47/checkpoints/model.iter_12496.zanj\n",
      "2023-06-16 04:42:22 INFO Running evals: eval_fast\n",
      "2023-06-16 04:42:34 INFO iteration 12792/31247: loss=0.529\n",
      "2023-06-16 04:43:45 INFO Running evals: eval_fast\n",
      "2023-06-16 04:43:57 INFO Running evals: eval_slow\n",
      "2023-06-16 04:44:10 INFO iteration 13104/31247: loss=0.461\n",
      "2023-06-16 04:45:15 INFO Running evals: eval_fast\n",
      "2023-06-16 04:45:28 INFO iteration 13416/31247: loss=0.604\n",
      "2023-06-16 04:46:34 INFO Running evals: eval_fast\n"
     ]
    },
    {
     "name": "stderr",
     "output_type": "stream",
     "text": [
      "F:\\KNC\\maze-transformer\\maze_transformer\\evaluation\\path_evals.py:91: RuntimeWarning:\n",
      "\n",
      "fraction_connections_adjacent_lattice called on path of length less than 2, retuning NaN\n",
      "prediction = array([[0, 4]])\n",
      "\n"
     ]
    },
    {
     "name": "stdout",
     "output_type": "stream",
     "text": [
      "2023-06-16 04:46:46 INFO Running evals: eval_slow\n",
      "2023-06-16 04:46:57 INFO iteration 13728/31247: loss=0.651\n",
      "2023-06-16 04:48:02 INFO Running evals: eval_fast\n",
      "2023-06-16 04:48:14 INFO iteration 14040/31247: loss=0.502\n",
      "2023-06-16 04:48:17 INFO Saving model checkpoint to ../data/hallway-medium_2023-06-16-03-40-47/checkpoints/model.iter_14058.zanj\n",
      "2023-06-16 04:49:21 INFO Running evals: eval_fast\n",
      "2023-06-16 04:49:33 INFO Running evals: eval_slow\n",
      "2023-06-16 04:49:45 INFO iteration 14352/31247: loss=0.521\n",
      "2023-06-16 04:50:52 INFO Running evals: eval_fast\n",
      "2023-06-16 04:51:04 INFO iteration 14664/31247: loss=0.610\n",
      "2023-06-16 04:52:16 INFO Running evals: eval_fast\n"
     ]
    },
    {
     "name": "stderr",
     "output_type": "stream",
     "text": [
      "F:\\KNC\\maze-transformer\\maze_transformer\\evaluation\\path_evals.py:91: RuntimeWarning:\n",
      "\n",
      "fraction_connections_adjacent_lattice called on path of length less than 2, retuning NaN\n",
      "prediction = array([[5, 1]])\n",
      "\n"
     ]
    },
    {
     "name": "stdout",
     "output_type": "stream",
     "text": [
      "2023-06-16 04:52:28 INFO Running evals: eval_slow\n",
      "2023-06-16 04:52:41 INFO iteration 14976/31247: loss=0.539\n",
      "2023-06-16 04:53:51 INFO Running evals: eval_fast\n",
      "2023-06-16 04:54:04 INFO iteration 15288/31247: loss=0.497\n",
      "2023-06-16 04:55:13 INFO Running evals: eval_fast\n",
      "2023-06-16 04:55:26 INFO Running evals: eval_slow\n",
      "2023-06-16 04:55:38 INFO iteration 15600/31247: loss=0.396\n",
      "2023-06-16 04:55:42 INFO Saving model checkpoint to ../data/hallway-medium_2023-06-16-03-40-47/checkpoints/model.iter_15620.zanj\n",
      "2023-06-16 04:56:44 INFO Running evals: eval_fast\n",
      "2023-06-16 04:56:56 INFO iteration 15912/31247: loss=0.449\n",
      "2023-06-16 04:58:06 INFO Running evals: eval_fast\n"
     ]
    },
    {
     "name": "stderr",
     "output_type": "stream",
     "text": [
      "F:\\KNC\\maze-transformer\\maze_transformer\\evaluation\\path_evals.py:91: RuntimeWarning:\n",
      "\n",
      "fraction_connections_adjacent_lattice called on path of length less than 2, retuning NaN\n",
      "prediction = array([[7, 4]])\n",
      "\n"
     ]
    },
    {
     "name": "stdout",
     "output_type": "stream",
     "text": [
      "2023-06-16 04:58:19 INFO Running evals: eval_slow\n",
      "2023-06-16 04:58:31 INFO iteration 16224/31247: loss=0.529\n",
      "2023-06-16 04:59:36 INFO Running evals: eval_fast\n"
     ]
    },
    {
     "name": "stderr",
     "output_type": "stream",
     "text": [
      "F:\\KNC\\maze-transformer\\maze_transformer\\evaluation\\path_evals.py:91: RuntimeWarning:\n",
      "\n",
      "fraction_connections_adjacent_lattice called on path of length less than 2, retuning NaN\n",
      "prediction = array([[1, 3]])\n",
      "\n"
     ]
    },
    {
     "name": "stdout",
     "output_type": "stream",
     "text": [
      "2023-06-16 04:59:48 INFO iteration 16536/31247: loss=0.585\n",
      "2023-06-16 05:00:57 INFO Running evals: eval_fast\n",
      "2023-06-16 05:01:09 INFO Running evals: eval_slow\n",
      "2023-06-16 05:01:22 INFO iteration 16848/31247: loss=0.558\n",
      "2023-06-16 05:02:33 INFO Running evals: eval_fast\n",
      "2023-06-16 05:02:45 INFO iteration 17160/31247: loss=0.445\n",
      "2023-06-16 05:02:48 INFO Saving model checkpoint to ../data/hallway-medium_2023-06-16-03-40-47/checkpoints/model.iter_17182.zanj\n",
      "2023-06-16 05:03:55 INFO Running evals: eval_fast\n",
      "2023-06-16 05:04:07 INFO Running evals: eval_slow\n",
      "2023-06-16 05:04:19 INFO iteration 17472/31247: loss=0.389\n",
      "2023-06-16 05:05:25 INFO Running evals: eval_fast\n",
      "2023-06-16 05:05:38 INFO iteration 17784/31247: loss=0.481\n",
      "2023-06-16 05:06:50 INFO Running evals: eval_fast\n",
      "2023-06-16 05:07:03 INFO Running evals: eval_slow\n",
      "2023-06-16 05:07:15 INFO iteration 18096/31247: loss=0.474\n",
      "2023-06-16 05:08:24 INFO Running evals: eval_fast\n",
      "2023-06-16 05:08:36 INFO iteration 18408/31247: loss=0.592\n",
      "2023-06-16 05:09:48 INFO Running evals: eval_fast\n",
      "2023-06-16 05:10:00 INFO Running evals: eval_slow\n",
      "2023-06-16 05:10:12 INFO iteration 18720/31247: loss=0.552\n",
      "2023-06-16 05:10:16 INFO Saving model checkpoint to ../data/hallway-medium_2023-06-16-03-40-47/checkpoints/model.iter_18744.zanj\n",
      "2023-06-16 05:11:17 INFO Running evals: eval_fast\n",
      "2023-06-16 05:11:29 INFO iteration 19032/31247: loss=0.497\n",
      "2023-06-16 05:12:33 INFO Running evals: eval_fast\n",
      "2023-06-16 05:12:46 INFO Running evals: eval_slow\n",
      "2023-06-16 05:12:58 INFO iteration 19344/31247: loss=0.493\n",
      "2023-06-16 05:14:10 INFO Running evals: eval_fast\n",
      "2023-06-16 05:14:22 INFO iteration 19656/31247: loss=0.520\n",
      "2023-06-16 05:15:30 INFO Running evals: eval_fast\n",
      "2023-06-16 05:15:43 INFO Running evals: eval_slow\n",
      "2023-06-16 05:15:56 INFO iteration 19968/31247: loss=0.479\n",
      "2023-06-16 05:17:03 INFO Running evals: eval_fast\n",
      "2023-06-16 05:17:16 INFO iteration 20280/31247: loss=0.482\n",
      "2023-06-16 05:17:20 INFO Saving model checkpoint to ../data/hallway-medium_2023-06-16-03-40-47/checkpoints/model.iter_20306.zanj\n",
      "2023-06-16 05:18:22 INFO Running evals: eval_fast\n",
      "2023-06-16 05:18:35 INFO Running evals: eval_slow\n",
      "2023-06-16 05:18:49 INFO iteration 20592/31247: loss=0.476\n",
      "2023-06-16 05:19:55 INFO Running evals: eval_fast\n",
      "2023-06-16 05:20:08 INFO iteration 20904/31247: loss=0.572\n",
      "2023-06-16 05:21:18 INFO Running evals: eval_fast\n"
     ]
    },
    {
     "name": "stderr",
     "output_type": "stream",
     "text": [
      "F:\\KNC\\maze-transformer\\maze_transformer\\evaluation\\path_evals.py:91: RuntimeWarning:\n",
      "\n",
      "fraction_connections_adjacent_lattice called on path of length less than 2, retuning NaN\n",
      "prediction = array([[2, 1]])\n",
      "\n"
     ]
    },
    {
     "name": "stdout",
     "output_type": "stream",
     "text": [
      "2023-06-16 05:21:30 INFO Running evals: eval_slow\n",
      "2023-06-16 05:21:42 INFO iteration 21216/31247: loss=0.564\n",
      "2023-06-16 05:22:50 INFO Running evals: eval_fast\n",
      "2023-06-16 05:23:02 INFO iteration 21528/31247: loss=0.590\n",
      "2023-06-16 05:24:15 INFO Running evals: eval_fast\n",
      "2023-06-16 05:24:27 INFO Running evals: eval_slow\n",
      "2023-06-16 05:24:39 INFO iteration 21840/31247: loss=0.522\n",
      "2023-06-16 05:24:44 INFO Saving model checkpoint to ../data/hallway-medium_2023-06-16-03-40-47/checkpoints/model.iter_21868.zanj\n",
      "2023-06-16 05:25:49 INFO Running evals: eval_fast\n",
      "2023-06-16 05:26:02 INFO iteration 22152/31247: loss=0.661\n",
      "2023-06-16 05:27:09 INFO Running evals: eval_fast\n",
      "2023-06-16 05:27:22 INFO Running evals: eval_slow\n",
      "2023-06-16 05:27:35 INFO iteration 22464/31247: loss=0.534\n",
      "2023-06-16 05:28:45 INFO Running evals: eval_fast\n",
      "2023-06-16 05:28:58 INFO iteration 22776/31247: loss=0.526\n",
      "2023-06-16 05:30:06 INFO Running evals: eval_fast\n",
      "2023-06-16 05:30:18 INFO Running evals: eval_slow\n",
      "2023-06-16 05:30:31 INFO iteration 23088/31247: loss=0.624\n",
      "2023-06-16 05:31:39 INFO Running evals: eval_fast\n",
      "2023-06-16 05:31:52 INFO iteration 23400/31247: loss=0.569\n",
      "2023-06-16 05:31:58 INFO Saving model checkpoint to ../data/hallway-medium_2023-06-16-03-40-47/checkpoints/model.iter_23430.zanj\n",
      "2023-06-16 05:33:02 INFO Running evals: eval_fast\n",
      "2023-06-16 05:33:14 INFO Running evals: eval_slow\n",
      "2023-06-16 05:33:26 INFO iteration 23712/31247: loss=0.508\n",
      "2023-06-16 05:34:31 INFO Running evals: eval_fast\n",
      "2023-06-16 05:34:43 INFO iteration 24024/31247: loss=0.505\n",
      "2023-06-16 05:35:55 INFO Running evals: eval_fast\n",
      "2023-06-16 05:36:07 INFO Running evals: eval_slow\n",
      "2023-06-16 05:36:18 INFO iteration 24336/31247: loss=0.573\n",
      "2023-06-16 05:37:24 INFO Running evals: eval_fast\n",
      "2023-06-16 05:37:37 INFO iteration 24648/31247: loss=0.493\n",
      "2023-06-16 05:38:49 INFO Running evals: eval_fast\n",
      "2023-06-16 05:39:01 INFO Running evals: eval_slow\n",
      "2023-06-16 05:39:13 INFO iteration 24960/31247: loss=0.542\n",
      "2023-06-16 05:39:18 INFO Saving model checkpoint to ../data/hallway-medium_2023-06-16-03-40-47/checkpoints/model.iter_24992.zanj\n",
      "2023-06-16 05:40:19 INFO Running evals: eval_fast\n",
      "2023-06-16 05:40:31 INFO iteration 25272/31247: loss=0.577\n",
      "2023-06-16 05:41:42 INFO Running evals: eval_fast\n",
      "2023-06-16 05:41:54 INFO Running evals: eval_slow\n",
      "2023-06-16 05:42:06 INFO iteration 25584/31247: loss=0.636\n",
      "2023-06-16 05:43:13 INFO Running evals: eval_fast\n",
      "2023-06-16 05:43:25 INFO iteration 25896/31247: loss=0.502\n",
      "2023-06-16 05:44:35 INFO Running evals: eval_fast\n",
      "2023-06-16 05:44:47 INFO Running evals: eval_slow\n",
      "2023-06-16 05:45:00 INFO iteration 26208/31247: loss=0.486\n",
      "2023-06-16 05:46:11 INFO Running evals: eval_fast\n",
      "2023-06-16 05:46:23 INFO iteration 26520/31247: loss=0.484\n",
      "2023-06-16 05:46:29 INFO Saving model checkpoint to ../data/hallway-medium_2023-06-16-03-40-47/checkpoints/model.iter_26554.zanj\n",
      "2023-06-16 05:47:32 INFO Running evals: eval_fast\n",
      "2023-06-16 05:47:45 INFO Running evals: eval_slow\n",
      "2023-06-16 05:47:58 INFO iteration 26832/31247: loss=0.571\n",
      "2023-06-16 05:49:08 INFO Running evals: eval_fast\n",
      "2023-06-16 05:49:20 INFO iteration 27144/31247: loss=0.488\n",
      "2023-06-16 05:50:31 INFO Running evals: eval_fast\n",
      "2023-06-16 05:50:43 INFO Running evals: eval_slow\n",
      "2023-06-16 05:50:55 INFO iteration 27456/31247: loss=0.441\n",
      "2023-06-16 05:52:03 INFO Running evals: eval_fast\n",
      "2023-06-16 05:52:15 INFO iteration 27768/31247: loss=0.549\n",
      "2023-06-16 05:53:24 INFO Running evals: eval_fast\n",
      "2023-06-16 05:53:37 INFO Running evals: eval_slow\n",
      "2023-06-16 05:53:49 INFO iteration 28080/31247: loss=0.525\n",
      "2023-06-16 05:53:55 INFO Saving model checkpoint to ../data/hallway-medium_2023-06-16-03-40-47/checkpoints/model.iter_28116.zanj\n",
      "2023-06-16 05:54:57 INFO Running evals: eval_fast\n",
      "2023-06-16 05:55:09 INFO iteration 28392/31247: loss=0.506\n",
      "2023-06-16 05:56:18 INFO Running evals: eval_fast\n",
      "2023-06-16 05:56:30 INFO Running evals: eval_slow\n",
      "2023-06-16 05:56:42 INFO iteration 28704/31247: loss=0.576\n",
      "2023-06-16 05:57:49 INFO Running evals: eval_fast\n",
      "2023-06-16 05:58:02 INFO iteration 29016/31247: loss=0.554\n",
      "2023-06-16 05:59:10 INFO Running evals: eval_fast\n",
      "2023-06-16 05:59:23 INFO Running evals: eval_slow\n",
      "2023-06-16 05:59:36 INFO iteration 29328/31247: loss=0.552\n",
      "2023-06-16 06:00:47 INFO Running evals: eval_fast\n",
      "2023-06-16 06:00:59 INFO iteration 29640/31247: loss=0.601\n",
      "2023-06-16 06:01:05 INFO Saving model checkpoint to ../data/hallway-medium_2023-06-16-03-40-47/checkpoints/model.iter_29678.zanj\n",
      "2023-06-16 06:02:07 INFO Running evals: eval_fast\n",
      "2023-06-16 06:02:20 INFO Running evals: eval_slow\n",
      "2023-06-16 06:02:32 INFO iteration 29952/31247: loss=0.498\n",
      "2023-06-16 06:03:40 INFO Running evals: eval_fast\n",
      "2023-06-16 06:03:52 INFO iteration 30264/31247: loss=0.478\n",
      "2023-06-16 06:05:02 INFO Running evals: eval_fast\n",
      "2023-06-16 06:05:16 INFO Running evals: eval_slow\n",
      "2023-06-16 06:05:29 INFO iteration 30576/31247: loss=0.499\n",
      "2023-06-16 06:06:33 INFO Running evals: eval_fast\n",
      "2023-06-16 06:06:46 INFO iteration 30888/31247: loss=0.535\n",
      "2023-06-16 06:07:57 INFO Running evals: eval_fast\n",
      "2023-06-16 06:08:09 INFO Running evals: eval_slow\n",
      "2023-06-16 06:08:21 INFO iteration 31200/31247: loss=0.630\n",
      "2023-06-16 06:08:28 INFO Saving model checkpoint to ../data/hallway-medium_2023-06-16-03-40-47/checkpoints/model.iter_31240.zanj\n",
      "2023-06-16 06:08:36 INFO Saving final model to ../data/hallway-medium_2023-06-16-03-40-47/model.final.zanj\n",
      "2023-06-16 06:08:37 INFO Done training!\n"
     ]
    }
   ],
   "source": [
    "result: TrainingResult = train_model(\n",
    "\tbase_path=PATH_DATA,\n",
    "    cfg=CFG,\n",
    "\twandb_project=WandbProject.DEMO_NOTEBOOKS, # change this to WandbProject.DEMO_NOTEBOOKS! INTEGRATION_TESTS is for CI testing\n",
    "\tdo_generate_dataset=False,\n",
    "\tdataset_verbose=True,\n",
    ")"
   ]
  }
 ],
 "metadata": {
  "kernelspec": {
   "display_name": "maze-transformer",
   "language": "python",
   "name": "maze-transformer"
  },
  "language_info": {
   "codemirror_mode": {
    "name": "ipython",
    "version": 3
   },
   "file_extension": ".py",
   "mimetype": "text/x-python",
   "name": "python",
   "nbconvert_exporter": "python",
   "pygments_lexer": "ipython3",
   "version": "3.10.1"
  },
  "orig_nbformat": 4
 },
 "nbformat": 4,
 "nbformat_minor": 2
}
