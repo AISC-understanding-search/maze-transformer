{
 "cells": [
  {
   "cell_type": "code",
   "execution_count": null,
   "metadata": {},
   "outputs": [],
   "source": [
    "# Imports\n",
    "import matplotlib.pyplot as plt\n",
    "\n",
    "from maze_transformer.generation.generators import LatticeMazeGenerators\n",
    "from maze_transformer.evaluation.plot_maze import MazePlot"
   ]
  },
  {
   "attachments": {},
   "cell_type": "markdown",
   "metadata": {},
   "source": [
    "# Generate maze using depth first search"
   ]
  },
  {
   "attachments": {},
   "cell_type": "markdown",
   "metadata": {},
   "source": [
    "Constrain number of accessible cells\n",
    "\n",
    "Only applying this constrain tends to yield mazes with few forks."
   ]
  },
  {
   "cell_type": "code",
   "execution_count": null,
   "metadata": {},
   "outputs": [],
   "source": [
    "sample_lattice_maze = LatticeMazeGenerators.gen_dfs(grid_shape=(6,6), \n",
    "                                                    lattice_dim=2,\n",
    "                                                    n_accessible_cells = 20,\n",
    "                                                    max_tree_depth = None,\n",
    "                                                    start_coord = None)\n",
    "\n",
    "MazePlot(sample_lattice_maze).plot()\n",
    "plt.show()"
   ]
  },
  {
   "attachments": {},
   "cell_type": "markdown",
   "metadata": {},
   "source": [
    "Constrain maximum tree depth "
   ]
  },
  {
   "cell_type": "code",
   "execution_count": null,
   "metadata": {},
   "outputs": [],
   "source": [
    "sample_lattice_maze = LatticeMazeGenerators.gen_dfs(grid_shape=(6,6), \n",
    "                                                    lattice_dim=2,\n",
    "                                                    n_accessible_cells = None,\n",
    "                                                    max_tree_depth = 5,\n",
    "                                                    start_coord = (0,0))\n",
    "\n",
    "MazePlot(sample_lattice_maze).plot()\n",
    "plt.show()"
   ]
  },
  {
   "attachments": {},
   "cell_type": "markdown",
   "metadata": {},
   "source": [
    "Shift start coord of DFS algorithm"
   ]
  },
  {
   "cell_type": "code",
   "execution_count": null,
   "metadata": {},
   "outputs": [],
   "source": [
    "sample_lattice_maze = LatticeMazeGenerators.gen_dfs(\n",
    "    grid_shape=(6,6), \n",
    "    lattice_dim=2,\n",
    "    n_accessible_cells = None,\n",
    "    max_tree_depth = None,\n",
    "    start_coord = None,\n",
    "    )\n",
    "\n",
    "MazePlot(sample_lattice_maze).plot()\n",
    "plt.show()"
   ]
  },
  {
   "attachments": {},
   "cell_type": "markdown",
   "metadata": {},
   "source": [
    "All constraints enabled"
   ]
  },
  {
   "cell_type": "code",
   "execution_count": null,
   "metadata": {},
   "outputs": [],
   "source": [
    "sample_lattice_maze = LatticeMazeGenerators.gen_dfs(grid_shape=(10,10), \n",
    "                                                    lattice_dim=2,\n",
    "                                                    n_accessible_cells = 20,\n",
    "                                                    max_tree_depth = 5,\n",
    "                                                    start_coord = (5,5))\n",
    "\n",
    "MazePlot(sample_lattice_maze).plot()\n",
    "plt.show()"
   ]
  }
 ],
 "metadata": {
  "kernelspec": {
   "display_name": "aiscenv",
   "language": "python",
   "name": "python3"
  },
  "language_info": {
   "codemirror_mode": {
    "name": "ipython",
    "version": 3
   },
   "file_extension": ".py",
   "mimetype": "text/x-python",
   "name": "python",
   "nbconvert_exporter": "python",
   "pygments_lexer": "ipython3",
   "version": "3.10.0"
  },
  "orig_nbformat": 4
 },
 "nbformat": 4,
 "nbformat_minor": 2
}
