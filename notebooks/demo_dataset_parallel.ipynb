{
 "cells": [
  {
   "cell_type": "code",
   "execution_count": 1,
   "metadata": {},
   "outputs": [
    {
     "name": "stdout",
     "output_type": "stream",
     "text": [
      "dict_keys(['test-g3-n5-a_dfs-h91386'])\n"
     ]
    }
   ],
   "source": [
    "import json\n",
    "\n",
    "import matplotlib.pyplot as plt\n",
    "\n",
    "from muutils.zanj import ZANJ\n",
    "from maze_transformer.generation.generators import LatticeMazeGenerators\n",
    "from maze_transformer.training.maze_dataset import MazeDataset, MazeDatasetConfig\n",
    "from maze_transformer.training.maze_dataset_configs import MAZE_DATASET_CONFIGS\n",
    "\n",
    "print(MAZE_DATASET_CONFIGS.keys())"
   ]
  },
  {
   "cell_type": "code",
   "execution_count": 2,
   "metadata": {},
   "outputs": [],
   "source": [
    "zanj: ZANJ = ZANJ(external_list_threshold=8)\n",
    "\n",
    "def plot_dataset_mazes(ds: MazeDataset, count: int|None = None):\n",
    "\tcount = count or len(ds.mazes)\n",
    "\tfig, axes = plt.subplots(1, count, figsize=(15, 5))\n",
    "\tfor i in range(count):\n",
    "\t\taxes[i].imshow(ds.mazes[i].as_pixels())\n",
    "\t\t# remove ticks\n",
    "\t\taxes[i].set_xticks([])\n",
    "\t\taxes[i].set_yticks([])"
   ]
  },
  {
   "cell_type": "code",
   "execution_count": 3,
   "metadata": {},
   "outputs": [],
   "source": [
    "cfg: MazeDatasetConfig = MazeDatasetConfig(\n",
    "\tname=\"test\",\n",
    "\tgrid_n=10,\n",
    "\tn_mazes=8,\n",
    "\tmaze_ctor=LatticeMazeGenerators.gen_dfs,\n",
    ")"
   ]
  },
  {
   "cell_type": "code",
   "execution_count": 4,
   "metadata": {},
   "outputs": [
    {
     "name": "stderr",
     "output_type": "stream",
     "text": [
      "generating & solving mazes: 100%|██████████| 8/8 [00:04<00:00,  1.95maze/s]\n"
     ]
    }
   ],
   "source": [
    "dataset: MazeDataset = MazeDataset.from_config(\n",
    "\tcfg,\n",
    "\tdo_download=False,\n",
    "\tload_local=False,\n",
    "\tdo_generate=True,\n",
    "\tlocal_base_path=\"../data/\",\n",
    "\tverbose=True,\n",
    "\tzanj=zanj,\n",
    "\tgen_parallel=True,\n",
    "\tpool_kwargs=dict(processes=2),\n",
    ")"
   ]
  },
  {
   "cell_type": "code",
   "execution_count": 5,
   "metadata": {},
   "outputs": [
    {
     "data": {
      "image/png": "[encoded data removed]",
      "text/plain": [
       "<Figure size 1500x500 with 8 Axes>"
      ]
     },
     "metadata": {},
     "output_type": "display_data"
    }
   ],
   "source": [
    "plot_dataset_mazes(dataset)"
   ]
  },
  {
   "cell_type": "code",
   "execution_count": 6,
   "metadata": {},
   "outputs": [],
   "source": [
    "cfg: MazeDatasetConfig = MazeDatasetConfig(\n",
    "\tname=\"test\",\n",
    "\tgrid_n=10,\n",
    "\tn_mazes=8,\n",
    "\tmaze_ctor=LatticeMazeGenerators.gen_dfs,\n",
    "\tmaze_ctor_kwargs=dict(n_accessible_cells=50, max_tree_depth=9),\n",
    ")"
   ]
  },
  {
   "cell_type": "code",
   "execution_count": 11,
   "metadata": {},
   "outputs": [
    {
     "name": "stderr",
     "output_type": "stream",
     "text": [
      "generating & solving mazes: 100%|██████████| 8/8 [00:03<00:00,  2.12maze/s]\n"
     ]
    }
   ],
   "source": [
    "dataset: MazeDataset = MazeDataset.from_config(\n",
    "\tcfg,\n",
    "\tdo_download=False,\n",
    "\tload_local=False,\n",
    "\tdo_generate=True,\n",
    "\tlocal_base_path=\"../data/\",\n",
    "\tverbose=True,\n",
    "\tzanj=zanj,\n",
    "\tgen_parallel=True,\n",
    "\tpool_kwargs=dict(processes=2),\n",
    ")"
   ]
  },
  {
   "cell_type": "code",
   "execution_count": 12,
   "metadata": {},
   "outputs": [
    {
     "data": {
      "image/png": "[encoded data removed]",
      "text/plain": [
       "<Figure size 1500x500 with 8 Axes>"
      ]
     },
     "metadata": {},
     "output_type": "display_data"
    }
   ],
   "source": [
    "plot_dataset_mazes(dataset)"
   ]
  }
 ],
 "metadata": {
  "kernelspec": {
   "display_name": "maze-transformer",
   "language": "python",
   "name": "maze-transformer"
  },
  "language_info": {
   "codemirror_mode": {
    "name": "ipython",
    "version": 3
   },
   "file_extension": ".py",
   "mimetype": "text/x-python",
   "name": "python",
   "nbconvert_exporter": "python",
   "pygments_lexer": "ipython3",
   "version": "3.10.1"
  },
  "orig_nbformat": 4
 },
 "nbformat": 4,
 "nbformat_minor": 2
}
