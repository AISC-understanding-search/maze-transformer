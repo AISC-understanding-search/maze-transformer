{
 "cells": [
  {
   "cell_type": "code",
   "execution_count": 1,
   "metadata": {},
   "outputs": [],
   "source": [
    "import transformers\n",
    "from pathlib import Path\n",
    "\n",
    "from maze_transformer.training.config import ZanjHookedTransformer"
   ]
  },
  {
   "cell_type": "code",
   "execution_count": 2,
   "metadata": {},
   "outputs": [],
   "source": [
    "# BASE_MODEL = \"distilbert-base-multilingual-cased\"\n",
    "# tokenizer = transformers.AutoTokenizer.from_pretrained(BASE_MODEL)"
   ]
  },
  {
   "cell_type": "code",
   "execution_count": 3,
   "metadata": {},
   "outputs": [],
   "source": [
    "# tokenizer.save_pretrained(\"tokenizer\")\n",
    "# , filename_prefix='t1'"
   ]
  },
  {
   "cell_type": "code",
   "execution_count": 4,
   "metadata": {},
   "outputs": [],
   "source": [
    "# tokenizer2 = transformers.AutoTokenizer.from_pretrained(\"tokenizer\")"
   ]
  },
  {
   "cell_type": "code",
   "execution_count": 5,
   "metadata": {},
   "outputs": [],
   "source": [
    "# assert tokenizer.vocab_size == tokenizer2.vocab_size\n",
    "# assert tokenizer.vocab == tokenizer2.vocab\n",
    "# text = \"What's this? A coup d'etat? ¿Un golpe de estado? ¡Ñoquis!\"\n",
    "# tokenizer(text), tokenizer2(text)"
   ]
  },
  {
   "cell_type": "code",
   "execution_count": 6,
   "metadata": {},
   "outputs": [
    {
     "name": "stdout",
     "output_type": "stream",
     "text": [
      "will try to get model from ../../examples/multsrc_demo-g6-n10K-a_dfs-h92077_tiny-v1_sweep-v1_2023-05-20-21-30-02/model.final.zanj\n"
     ]
    }
   ],
   "source": [
    "PATH_EXAMPLES: Path = Path(\"../../examples/\")\n",
    "PATH_DATA: Path = Path(\"../../data/\")\n",
    "\n",
    "# We won't be training any models\n",
    "# torch.set_grad_enabled(False)\n",
    "\n",
    "# get the default model from examples\n",
    "MODEL_PATH: Path = PATH_EXAMPLES / \"multsrc_demo-g6-n10K-a_dfs-h92077_tiny-v1_sweep-v1_2023-05-20-21-30-02/model.final.zanj\"\n",
    "# MODEL_PATH: Path = PATH_DATA / \"custom_2023-05-24-05-03-04/model.final.zanj\"\n",
    "# MODEL_PATH: Path = PATH_EXAMPLES / \"hallway-medium_2023-06-16-03-40-47.iter_26554.zanj\"\n",
    "print(f\"will try to get model from {MODEL_PATH.as_posix()}\")\n",
    "MODEL: ZanjHookedTransformer = ZanjHookedTransformer.read(MODEL_PATH)\n",
    "tok = MODEL.tokenizer"
   ]
  },
  {
   "cell_type": "code",
   "execution_count": 7,
   "metadata": {},
   "outputs": [
    {
     "data": {
      "text/plain": [
       "('tokenizer\\\\t1-tokenizer_config.json',\n",
       " 'tokenizer\\\\t1-special_tokens_map.json',\n",
       " 't1_vocab.txt',\n",
       " 'tokenizer\\\\t1-added_tokens.json')"
      ]
     },
     "execution_count": 7,
     "metadata": {},
     "output_type": "execute_result"
    }
   ],
   "source": [
    "# tok.__dict__\n",
    "tok_dir = Path(\"../../data/tokenizer\")\n",
    "# tok.save_vocabulary(tok_dir)\n",
    "tok.save_pretrained(tok_dir, filename_prefix='t1')\n"
   ]
  },
  {
   "cell_type": "code",
   "execution_count": null,
   "metadata": {},
   "outputs": [],
   "source": []
  }
 ],
 "metadata": {
  "kernelspec": {
   "display_name": "maze-transformer-Ymq-4TEo-py3.10",
   "language": "python",
   "name": "python3"
  },
  "language_info": {
   "codemirror_mode": {
    "name": "ipython",
    "version": 3
   },
   "file_extension": ".py",
   "mimetype": "text/x-python",
   "name": "python",
   "nbconvert_exporter": "python",
   "pygments_lexer": "ipython3",
   "version": "3.10.11"
  }
 },
 "nbformat": 4,
 "nbformat_minor": 2
}
