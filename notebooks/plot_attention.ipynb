{
    "cells": [
        {
            "cell_type": "code",
            "execution_count": 1,
            "metadata": {
                "collapsed": false,
                "pycharm": {
                    "name": "#%%\n"
                }
            },
            "outputs": [],
            "source": [
                "# Generic\n",
                "import html\n",
                "import os\n",
                "from pathlib import Path\n",
                "import typing\n",
                "import json\n",
                "import os\n",
                "from pathlib import Path\n",
                "import typing\n",
                "import html\n",
                "import copy\n",
                "\n",
                "# Transformers\n",
                "import circuitsvis\n",
                "from circuitsvis.attention import attention_heads\n",
                "from circuitsvis.tokens import colored_tokens_multi\n",
                "import matplotlib.pyplot as plt\n",
                "\n",
                "# Numerical Computing\n",
                "import numpy as np\n",
                "import torch\n",
                "import pandas as pd\n",
                "from jaxtyping import Float, Int\n",
                "\n",
                "# Utilities\n",
                "from muutils.statcounter import StatCounter\n",
                "from muutils.json_serialize import serializable_dataclass, SerializableDataclass, serializable_field\n",
                "\n",
                "# Our Code\n",
                "from maze_transformer.utils.notebook_utils import configure_notebook\n",
                "from maze_transformer.generation.lattice_maze import LatticeMaze, SolvedMaze\n",
                "from maze_transformer.generation.generators import LatticeMazeGenerators\n",
                "from maze_transformer.dataset.tokenizer import SPECIAL_TOKENS, HuggingMazeTokenizer\n",
                "from maze_transformer.training.config import ConfigHolder, ZanjHookedTransformer\n",
                "from maze_transformer.evaluation.plot_maze import MazePlot, PathFormat\n",
                "from maze_transformer.evaluation.eval_model import load_model_with_configs\n",
                "from maze_transformer.utils.token_utils import tokens_to_coords\n",
                "from maze_transformer.dataset.maze_dataset import MazeDataset, MazeDatasetConfig\n",
                "from maze_transformer.dataset.maze_dataset_configs import MAZE_DATASET_CONFIGS"
            ]
        },
        {
            "cell_type": "code",
            "execution_count": 2,
            "metadata": {
                "collapsed": false,
                "pycharm": {
                    "name": "#%%\n"
                }
            },
            "outputs": [
                {
                    "name": "stdout",
                    "output_type": "stream",
                    "text": [
                        "will try to get model from ../examples/multsrc_demo-g6-n10K-a_dfs-h92077_tiny-v1_sweep-v1_2023-05-20-21-30-02/model.final.zanj\n",
                        "loaded model: multsrc_demo-g6-n10K-a_dfs-h92077_tiny-v1_sweep-v1 with 70319 parameters\n",
                        "loading dataset from ../data/demo-g6-n100-a_dfs-h88923.zanj\n",
                        "Got dataset demo with 100 items. output.cfg.to_fname() = 'demo-g6-n100-a_dfs-h88923'\n",
                        "got test dataset: demo with 100 mazes\n"
                    ]
                }
            ],
            "source": [
                "# Setup\n",
                "DEVICE = configure_notebook(seed=42, dark_mode=True)\n",
                "PATH_EXAMPLES: Path = Path(\"../examples/\")\n",
                "PATH_DATA: Path = Path(\"../data/\")\n",
                "\n",
                "# We won't be training any models\n",
                "torch.set_grad_enabled(False)\n",
                "\n",
                "MODEL_PATH: Path = PATH_EXAMPLES / \"multsrc_demo-g6-n10K-a_dfs-h92077_tiny-v1_sweep-v1_2023-05-20-21-30-02/model.final.zanj\"\n",
                "print(f\"will try to get model from {MODEL_PATH.as_posix()}\")\n",
                "\n",
                "# get the default model from examples\n",
                "MODEL: ZanjHookedTransformer = ZanjHookedTransformer.read(MODEL_PATH)\n",
                "print(f\"loaded model: {MODEL.zanj_model_config.name} with {MODEL.num_params()} parameters\")\n",
                "\n",
                "# generate a smaller test dataset\n",
                "DATASET_TEST_CFG: MazeDatasetConfig = copy.deepcopy(MODEL.zanj_model_config.dataset_cfg)\n",
                "DATASET_TEST_CFG.n_mazes = 100\n",
                "DATASET_TEST: MazeDataset = MazeDataset.from_config(\n",
                "    DATASET_TEST_CFG,\n",
                "    local_base_path=PATH_DATA,\n",
                "    verbose=True,\n",
                ")\n",
                "print(f\"got test dataset: {DATASET_TEST.cfg.name} with {len(DATASET_TEST)} mazes\")"
            ]
        },
        {
            "cell_type": "code",
            "execution_count": 3,
            "metadata": {},
            "outputs": [],
            "source": [
                "@serializable_dataclass\n",
                "class ProcessedMazeAttention(SerializableDataclass):\n",
                "    input_maze: SolvedMaze\n",
                "    tokens: list[str]\n",
                "    maze_only_tokens: list[str]\n",
                "    logits: Float[torch.Tensor, \"n_vocab\"]\n",
                "    attention: dict[str, Float[torch.Tensor, \"1 n_heads n_positions n_positions\"]]"
            ]
        },
        {
            "cell_type": "code",
            "execution_count": 15,
            "metadata": {
                "collapsed": false,
                "pycharm": {
                    "name": "#%%\n"
                }
            },
            "outputs": [],
            "source": [
                "def get_attention(\n",
                "\tmodel: ZanjHookedTransformer,\n",
                "\tdataset: MazeDataset,\n",
                "\tn_mazes: int = 1,\n",
                ") -> list[ProcessedMazeAttention]:\n",
                "\n",
                "\toutputs: list[ProcessedMazeAttention] = list()\n",
                "\n",
                "\n",
                "\tfor i in range(n_mazes):\n",
                "\t\t\n",
                "\t\t# get the maze from the dataset and process into tokens\n",
                "\t\tsolved_maze: SolvedMaze = dataset[i]\n",
                "\t\ttokens: list[str] = solved_maze.as_tokens(dataset.cfg.node_token_map)\n",
                "\t\tpath_start_index: int = tokens.index(SPECIAL_TOKENS[\"path_start\"])\n",
                "\t\tmaze_only_tokens: list[str] = tokens[:path_start_index + 1]\n",
                "\n",
                "\t\t# get the model's prediction and attention data\n",
                "\t\twith torch.no_grad():\n",
                "\t\t\tlogits, cache = model.run_with_cache(maze_only_tokens)\n",
                "\n",
                "\t\t# filter and append to outputs\n",
                "\t\tattention_data: dict[str, torch.Tensor] = {\n",
                "\t\t\tk:w \n",
                "\t\t\tfor k, w in cache.items() \n",
                "\t\t\t# if 'hook_pattern' in k\n",
                "\t\t}\n",
                "\t\t\n",
                "\t\toutputs.append(ProcessedMazeAttention(\n",
                "\t\t\tinput_maze=solved_maze,\n",
                "\t\t\ttokens=tokens,\n",
                "\t\t\tmaze_only_tokens=maze_only_tokens,\n",
                "\t\t\tlogits=logits,\n",
                "\t\t\tattention=attention_data,\n",
                "\t\t))\n",
                "\n",
                "\treturn outputs\n"
            ]
        },
        {
            "cell_type": "code",
            "execution_count": 16,
            "metadata": {
                "collapsed": false,
                "pycharm": {
                    "name": "#%%\n"
                }
            },
            "outputs": [],
            "source": [
                "def plot_attention_data(data: ProcessedMazeAttention):\n",
                "\tn_layers: int = len(data.attention)\n",
                "\texample_attention_data: Float[torch.Tensor, \"1 n_heads n_positions n_positions\"] = data.attention[list(data.attention.keys())[0]]\n",
                "\tn_heads: int = example_attention_data.shape[1]\n",
                "\tn_tokens: int = example_attention_data.shape[2]\n",
                "\n",
                "\tattention_to_plot: Float[torch.Tensor, \"n_layers n_heads n_tokens n_tokens\"] = torch.concatenate(\n",
                "\t\t[w for k,w in data.attention.items()],\n",
                "\t\tdim=0,\n",
                "\t).reshape(-1, n_tokens, n_tokens)\n",
                "\n",
                "\tattention_head_names: list[str] = [\n",
                "\t\tf\"Layer {i} Head {j}\" \n",
                "\t\tfor i in range(n_layers) \n",
                "\t\tfor j in range(n_heads)\n",
                "\t]\n",
                "\n",
                "\treturn attention_heads(\n",
                "\t\tattention_to_plot, \n",
                "\t\tdata.maze_only_tokens, \n",
                "\t\tattention_head_names,\n",
                "\t)\n"
            ]
        },
        {
            "cell_type": "code",
            "execution_count": 17,
            "metadata": {},
            "outputs": [
                {
                    "name": "stdout",
                    "output_type": "stream",
                    "text": [
                        "{\n",
                        "  \"name\": \"tiny-v1\",\n",
                        "  \"act_fn\": \"gelu\",\n",
                        "  \"d_model\": 32,\n",
                        "  \"d_head\": 16,\n",
                        "  \"n_layers\": 4,\n",
                        "  \"weight_processing\": {\n",
                        "    \"are_layernorms_folded\": false,\n",
                        "    \"are_weights_processed\": true\n",
                        "  }\n",
                        "}\n",
                        "ATTENTION_DATA.tokens = ['<ADJLIST_START>', '(5,5)', '<-->', '(5,4)', ';', '(2,5)', '<-->', '(1,5)', ';', '(2,0)', '<-->', '(3,0)', ';', '(3,2)', '<-->', '(3,3)', ';', '(2,5)', '<-->', '(2,4)', ';', '(4,4)', '<-->', '(4,3)', ';', '(1,0)', '<-->', '(1,1)', ';', '(4,0)', '<-->', '(5,0)', ';', '(1,4)', '<-->', '(0,4)', ';', '(4,3)', '<-->', '(3,3)', ';', '(5,3)', '<-->', '(5,4)', ';', '(5,1)', '<-->', '(5,2)', ';', '(0,2)', '<-->', '(1,2)', ';', '(4,0)', '<-->', '(4,1)', ';', '(0,3)', '<-->', '(0,4)', ';', '(1,2)', '<-->', '(2,2)', ';', '(2,1)', '<-->', '(3,1)', ';', '(3,4)', '<-->', '(3,5)', ';', '(1,0)', '<-->', '(0,0)', ';', '(0,5)', '<-->', '(1,5)', ';', '(1,3)', '<-->', '(2,3)', ';', '(2,2)', '<-->', '(2,1)', ';', '(3,1)', '<-->', '(3,2)', ';', '(0,2)', '<-->', '(0,1)', ';', '(4,5)', '<-->', '(3,5)', ';', '(5,1)', '<-->', '(5,0)', ';', '(1,4)', '<-->', '(1,5)', ';', '(5,3)', '<-->', '(5,2)', ';', '(0,2)', '<-->', '(0,3)', ';', '(0,0)', '<-->', '(0,1)', ';', '(2,0)', '<-->', '(1,0)', ';', '(4,2)', '<-->', '(4,1)', ';', '(4,5)', '<-->', '(5,5)', ';', '(4,3)', '<-->', '(4,2)', ';', '(2,3)', '<-->', '(2,4)', ';', '<ADJLIST_END>', '<ORIGIN_START>', '(2,5)', '<ORIGIN_END>', '<TARGET_START>', '(2,1)', '<TARGET_END>', '<PATH_START>', '(2,5)', '(1,5)', '(1,4)', '(0,4)', '(0,3)', '(0,2)', '(1,2)', '(2,2)', '(2,1)', '<PATH_END>']\n",
                        "ATTENTION_DATA.maze_only_tokens = ['<ADJLIST_START>', '(5,5)', '<-->', '(5,4)', ';', '(2,5)', '<-->', '(1,5)', ';', '(2,0)', '<-->', '(3,0)', ';', '(3,2)', '<-->', '(3,3)', ';', '(2,5)', '<-->', '(2,4)', ';', '(4,4)', '<-->', '(4,3)', ';', '(1,0)', '<-->', '(1,1)', ';', '(4,0)', '<-->', '(5,0)', ';', '(1,4)', '<-->', '(0,4)', ';', '(4,3)', '<-->', '(3,3)', ';', '(5,3)', '<-->', '(5,4)', ';', '(5,1)', '<-->', '(5,2)', ';', '(0,2)', '<-->', '(1,2)', ';', '(4,0)', '<-->', '(4,1)', ';', '(0,3)', '<-->', '(0,4)', ';', '(1,2)', '<-->', '(2,2)', ';', '(2,1)', '<-->', '(3,1)', ';', '(3,4)', '<-->', '(3,5)', ';', '(1,0)', '<-->', '(0,0)', ';', '(0,5)', '<-->', '(1,5)', ';', '(1,3)', '<-->', '(2,3)', ';', '(2,2)', '<-->', '(2,1)', ';', '(3,1)', '<-->', '(3,2)', ';', '(0,2)', '<-->', '(0,1)', ';', '(4,5)', '<-->', '(3,5)', ';', '(5,1)', '<-->', '(5,0)', ';', '(1,4)', '<-->', '(1,5)', ';', '(5,3)', '<-->', '(5,2)', ';', '(0,2)', '<-->', '(0,3)', ';', '(0,0)', '<-->', '(0,1)', ';', '(2,0)', '<-->', '(1,0)', ';', '(4,2)', '<-->', '(4,1)', ';', '(4,5)', '<-->', '(5,5)', ';', '(4,3)', '<-->', '(4,2)', ';', '(2,3)', '<-->', '(2,4)', ';', '<ADJLIST_END>', '<ORIGIN_START>', '(2,5)', '<ORIGIN_END>', '<TARGET_START>', '(2,1)', '<TARGET_END>', '<PATH_START>']\n",
                        "ATTENTION_DATA.logits.shape = torch.Size([149, 2, 47])\n",
                        "list(ATTENTION_DATA.attention.keys()) = ['hook_embed', 'hook_pos_embed', 'blocks.0.hook_resid_pre', 'blocks.0.ln1.hook_scale', 'blocks.0.ln1.hook_normalized', 'blocks.0.attn.hook_q', 'blocks.0.attn.hook_k', 'blocks.0.attn.hook_v', 'blocks.0.attn.hook_attn_scores', 'blocks.0.attn.hook_pattern', 'blocks.0.attn.hook_z', 'blocks.0.hook_attn_out', 'blocks.0.hook_resid_mid', 'blocks.0.ln2.hook_scale', 'blocks.0.ln2.hook_normalized', 'blocks.0.mlp.hook_pre', 'blocks.0.mlp.hook_post', 'blocks.0.hook_mlp_out', 'blocks.0.hook_resid_post', 'blocks.1.hook_resid_pre', 'blocks.1.ln1.hook_scale', 'blocks.1.ln1.hook_normalized', 'blocks.1.attn.hook_q', 'blocks.1.attn.hook_k', 'blocks.1.attn.hook_v', 'blocks.1.attn.hook_attn_scores', 'blocks.1.attn.hook_pattern', 'blocks.1.attn.hook_z', 'blocks.1.hook_attn_out', 'blocks.1.hook_resid_mid', 'blocks.1.ln2.hook_scale', 'blocks.1.ln2.hook_normalized', 'blocks.1.mlp.hook_pre', 'blocks.1.mlp.hook_post', 'blocks.1.hook_mlp_out', 'blocks.1.hook_resid_post', 'blocks.2.hook_resid_pre', 'blocks.2.ln1.hook_scale', 'blocks.2.ln1.hook_normalized', 'blocks.2.attn.hook_q', 'blocks.2.attn.hook_k', 'blocks.2.attn.hook_v', 'blocks.2.attn.hook_attn_scores', 'blocks.2.attn.hook_pattern', 'blocks.2.attn.hook_z', 'blocks.2.hook_attn_out', 'blocks.2.hook_resid_mid', 'blocks.2.ln2.hook_scale', 'blocks.2.ln2.hook_normalized', 'blocks.2.mlp.hook_pre', 'blocks.2.mlp.hook_post', 'blocks.2.hook_mlp_out', 'blocks.2.hook_resid_post', 'blocks.3.hook_resid_pre', 'blocks.3.ln1.hook_scale', 'blocks.3.ln1.hook_normalized', 'blocks.3.attn.hook_q', 'blocks.3.attn.hook_k', 'blocks.3.attn.hook_v', 'blocks.3.attn.hook_attn_scores', 'blocks.3.attn.hook_pattern', 'blocks.3.attn.hook_z', 'blocks.3.hook_attn_out', 'blocks.3.hook_resid_mid', 'blocks.3.ln2.hook_scale', 'blocks.3.ln2.hook_normalized', 'blocks.3.mlp.hook_pre', 'blocks.3.mlp.hook_post', 'blocks.3.hook_mlp_out', 'blocks.3.hook_resid_post', 'ln_final.hook_scale', 'ln_final.hook_normalized']\n",
                        "hook_embed torch.Size([149, 2, 32])\n",
                        "hook_pos_embed torch.Size([149, 2, 32])\n",
                        "blocks.0.hook_resid_pre torch.Size([149, 2, 32])\n",
                        "blocks.0.ln1.hook_scale torch.Size([149, 2, 1])\n",
                        "blocks.0.ln1.hook_normalized torch.Size([149, 2, 32])\n",
                        "blocks.0.attn.hook_q torch.Size([149, 2, 2, 16])\n",
                        "blocks.0.attn.hook_k torch.Size([149, 2, 2, 16])\n",
                        "blocks.0.attn.hook_v torch.Size([149, 2, 2, 16])\n",
                        "blocks.0.attn.hook_attn_scores torch.Size([149, 2, 2, 2])\n",
                        "blocks.0.attn.hook_pattern torch.Size([149, 2, 2, 2])\n",
                        "blocks.0.attn.hook_z torch.Size([149, 2, 2, 16])\n",
                        "blocks.0.hook_attn_out torch.Size([149, 2, 32])\n",
                        "blocks.0.hook_resid_mid torch.Size([149, 2, 32])\n",
                        "blocks.0.ln2.hook_scale torch.Size([149, 2, 1])\n",
                        "blocks.0.ln2.hook_normalized torch.Size([149, 2, 32])\n",
                        "blocks.0.mlp.hook_pre torch.Size([149, 2, 128])\n",
                        "blocks.0.mlp.hook_post torch.Size([149, 2, 128])\n",
                        "blocks.0.hook_mlp_out torch.Size([149, 2, 32])\n",
                        "blocks.0.hook_resid_post torch.Size([149, 2, 32])\n",
                        "blocks.1.hook_resid_pre torch.Size([149, 2, 32])\n",
                        "blocks.1.ln1.hook_scale torch.Size([149, 2, 1])\n",
                        "blocks.1.ln1.hook_normalized torch.Size([149, 2, 32])\n",
                        "blocks.1.attn.hook_q torch.Size([149, 2, 2, 16])\n",
                        "blocks.1.attn.hook_k torch.Size([149, 2, 2, 16])\n",
                        "blocks.1.attn.hook_v torch.Size([149, 2, 2, 16])\n",
                        "blocks.1.attn.hook_attn_scores torch.Size([149, 2, 2, 2])\n",
                        "blocks.1.attn.hook_pattern torch.Size([149, 2, 2, 2])\n",
                        "blocks.1.attn.hook_z torch.Size([149, 2, 2, 16])\n",
                        "blocks.1.hook_attn_out torch.Size([149, 2, 32])\n",
                        "blocks.1.hook_resid_mid torch.Size([149, 2, 32])\n",
                        "blocks.1.ln2.hook_scale torch.Size([149, 2, 1])\n",
                        "blocks.1.ln2.hook_normalized torch.Size([149, 2, 32])\n",
                        "blocks.1.mlp.hook_pre torch.Size([149, 2, 128])\n",
                        "blocks.1.mlp.hook_post torch.Size([149, 2, 128])\n",
                        "blocks.1.hook_mlp_out torch.Size([149, 2, 32])\n",
                        "blocks.1.hook_resid_post torch.Size([149, 2, 32])\n",
                        "blocks.2.hook_resid_pre torch.Size([149, 2, 32])\n",
                        "blocks.2.ln1.hook_scale torch.Size([149, 2, 1])\n",
                        "blocks.2.ln1.hook_normalized torch.Size([149, 2, 32])\n",
                        "blocks.2.attn.hook_q torch.Size([149, 2, 2, 16])\n",
                        "blocks.2.attn.hook_k torch.Size([149, 2, 2, 16])\n",
                        "blocks.2.attn.hook_v torch.Size([149, 2, 2, 16])\n",
                        "blocks.2.attn.hook_attn_scores torch.Size([149, 2, 2, 2])\n",
                        "blocks.2.attn.hook_pattern torch.Size([149, 2, 2, 2])\n",
                        "blocks.2.attn.hook_z torch.Size([149, 2, 2, 16])\n",
                        "blocks.2.hook_attn_out torch.Size([149, 2, 32])\n",
                        "blocks.2.hook_resid_mid torch.Size([149, 2, 32])\n",
                        "blocks.2.ln2.hook_scale torch.Size([149, 2, 1])\n",
                        "blocks.2.ln2.hook_normalized torch.Size([149, 2, 32])\n",
                        "blocks.2.mlp.hook_pre torch.Size([149, 2, 128])\n",
                        "blocks.2.mlp.hook_post torch.Size([149, 2, 128])\n",
                        "blocks.2.hook_mlp_out torch.Size([149, 2, 32])\n",
                        "blocks.2.hook_resid_post torch.Size([149, 2, 32])\n",
                        "blocks.3.hook_resid_pre torch.Size([149, 2, 32])\n",
                        "blocks.3.ln1.hook_scale torch.Size([149, 2, 1])\n",
                        "blocks.3.ln1.hook_normalized torch.Size([149, 2, 32])\n",
                        "blocks.3.attn.hook_q torch.Size([149, 2, 2, 16])\n",
                        "blocks.3.attn.hook_k torch.Size([149, 2, 2, 16])\n",
                        "blocks.3.attn.hook_v torch.Size([149, 2, 2, 16])\n",
                        "blocks.3.attn.hook_attn_scores torch.Size([149, 2, 2, 2])\n",
                        "blocks.3.attn.hook_pattern torch.Size([149, 2, 2, 2])\n",
                        "blocks.3.attn.hook_z torch.Size([149, 2, 2, 16])\n",
                        "blocks.3.hook_attn_out torch.Size([149, 2, 32])\n",
                        "blocks.3.hook_resid_mid torch.Size([149, 2, 32])\n",
                        "blocks.3.ln2.hook_scale torch.Size([149, 2, 1])\n",
                        "blocks.3.ln2.hook_normalized torch.Size([149, 2, 32])\n",
                        "blocks.3.mlp.hook_pre torch.Size([149, 2, 128])\n",
                        "blocks.3.mlp.hook_post torch.Size([149, 2, 128])\n",
                        "blocks.3.hook_mlp_out torch.Size([149, 2, 32])\n",
                        "blocks.3.hook_resid_post torch.Size([149, 2, 32])\n",
                        "ln_final.hook_scale torch.Size([149, 2, 1])\n",
                        "ln_final.hook_normalized torch.Size([149, 2, 32])\n"
                    ]
                },
                {
                    "data": {
                        "image/png": "[encoded data removed]",
                        "text/plain": [
                            "<Figure size 640x480 with 1 Axes>"
                        ]
                    },
                    "metadata": {},
                    "output_type": "display_data"
                }
            ],
            "source": [
                "ATTENTION_DATA: ProcessedMazeAttention = get_attention(MODEL, DATASET_TEST, n_mazes=1)[0]\n",
                "\n",
                "print(json.dumps(MODEL.zanj_model_config.model_cfg.summary(), indent=2))\n",
                "\n",
                "plt.imshow(ATTENTION_DATA.input_maze.as_pixels())\n",
                "\n",
                "print(f\"{ATTENTION_DATA.tokens = }\")\n",
                "print(f\"{ATTENTION_DATA.maze_only_tokens = }\")\n",
                "print(f\"{ATTENTION_DATA.logits.shape = }\")\n",
                "print(f\"{list(ATTENTION_DATA.attention.keys()) = }\")\n",
                "for k, v in ATTENTION_DATA.attention.items():\n",
                "\tprint(k, v.shape)"
            ]
        },
        {
            "cell_type": "code",
            "execution_count": null,
            "metadata": {},
            "outputs": [],
            "source": [
                "plot_attention_data(ATTENTION_DATA)"
            ]
        },
        {
            "cell_type": "code",
            "execution_count": null,
            "metadata": {
                "collapsed": false,
                "pycharm": {
                    "name": "#%%\n"
                }
            },
            "outputs": [],
            "source": [
                "#! ALEX note - there used to be a np.power(head_np, 1/4) here, not sure what that's about?\n",
                "FROM_TOKEN = -1 # Look at attention from this token position to the rest of the sequence\n",
                "attentions_from_token = torch.concatenate([w[0, :, FROM_TOKEN, :] for w in attentions], dim=0)\n",
                "colored_tokens_multi(context_str, attentions_from_token.T, labels=attention_head_names)"
            ]
        },
        {
            "cell_type": "code",
            "execution_count": null,
            "metadata": {
                "collapsed": false,
                "pycharm": {
                    "name": "#%%\n"
                }
            },
            "outputs": [],
            "source": [
                "def prediction_contained_a_coordinate_token(tokens: list[str], tokenizer: HuggingMazeTokenizer) -> bool:\n",
                "\t\"\"\"Check if the prediction contains a coordinate token\"\"\"\n",
                "\tfor t in tokens:\n",
                "\t\tif t not in list(tokenizer.special_tokens_map.values()) + tokenizer.additional_special_tokens:\n",
                "\t\t\treturn True\n",
                "\tprint(\"FAIL: Sampled a path - No coordinate token found before EOS\")\n",
                "\treturn False\n",
                "\n",
                "predicted_tokens = []\n",
                "while not prediction_contained_a_coordinate_token(predicted_tokens, model.tokenizer):\n",
                "\tpredictions = model.generate(array_tensor, max_new_tokens=50, stop_at_eos=True, verbose=False)\n",
                "\tpredicted_tokens = model.to_str_tokens(predictions)[len(maze_only_tokens):]\n",
                "print(\"SUCCESS: Model predicted the path:\")\n",
                "print(predicted_tokens)\n",
                "\n",
                "path_predicted: list[tuple[int,int]] = tokens_to_coords(\n",
                "\tpredicted_tokens,\n",
                "\tmaze_data_cfg = cfg.dataset_cfg, \n",
                "\twhen_noncoord = \"skip\",\n",
                ")\n",
                "\n",
                "# plot the maze and both solutions\n",
                "# for label, fmt, color, path in paths\n",
                "MazePlot(maze).add_true_path(path_true).add_predicted_path(path_predicted).plot()\n",
                "plt.show()"
            ]
        }
    ],
    "metadata": {
        "kernelspec": {
            "display_name": "maze-transformer",
            "language": "python",
            "name": "maze-transformer"
        },
        "language_info": {
            "codemirror_mode": {
                "name": "ipython",
                "version": 3
            },
            "file_extension": ".py",
            "mimetype": "text/x-python",
            "name": "python",
            "nbconvert_exporter": "python",
            "pygments_lexer": "ipython3",
            "version": "3.10.1"
        },
        "orig_nbformat": 4,
        "vscode": {
            "interpreter": {
                "hash": "170637793197da0d440deb6cb249c898d613b24c548839ecbbac11596710dfc2"
            }
        }
    },
    "nbformat": 4,
    "nbformat_minor": 2
}
