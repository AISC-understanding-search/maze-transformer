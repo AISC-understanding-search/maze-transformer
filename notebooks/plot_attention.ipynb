{
 "cells": [
  {
   "cell_type": "code",
   "execution_count": 4,
   "metadata": {},
   "outputs": [
    {
     "name": "stdout",
     "output_type": "stream",
     "text": [
      "The autoreload extension is already loaded. To reload it, use:\n",
      "  %reload_ext autoreload\n"
     ]
    }
   ],
   "source": [
    "# imports\n",
    "# Generic\n",
    "import os\n",
    "import json\n",
    "from pathlib import Path\n",
    "import typing\n",
    "import html\n",
    "\n",
    "# Plotting\n",
    "import plotly.io as pio\n",
    "pio.renderers.default = \"notebook_connected\" # Specify plotly renderer for vscode\n",
    "import matplotlib.pyplot as plt\n",
    "import IPython\n",
    "from ipywidgets import interact, interactive, fixed, interact_manual\n",
    "import ipywidgets as widgets\n",
    "\n",
    "# Numerical Computing\n",
    "import numpy as np\n",
    "import torch\n",
    "import pandas as pd\n",
    "\n",
    "# Transformer Stuff\n",
    "from transformer_lens import HookedTransformer, HookedTransformerConfig, FactoredMatrix, ActivationCache\n",
    "\n",
    "# Utilities\n",
    "from muutils.logger import Logger, TimerContext\n",
    "from muutils.json_serialize import json_serialize, dataclass_serializer_factory\n",
    "from muutils.tensor_utils import ATensor, NDArray\n",
    "from muutils.statcounter import StatCounter\n",
    "from muutils.misc import shorten_numerical_to_str\n",
    "\n",
    "# Our Code\n",
    "from maze_transformer.generation.latticemaze import LatticeMaze\n",
    "from maze_transformer.generation.generators import LatticeMazeGenerators\n",
    "from maze_transformer.training.tokenizer import MazeTokenizer, SPECIAL_TOKENS\n",
    "from maze_transformer.training.mazedataset import MazeDatasetConfig, MazeDataset\n",
    "from maze_transformer.evaluation.plot_maze import plot_multi_paths, PathFormat\n",
    "from maze_transformer.training.dataset import GPTDatasetConfig\n",
    "from maze_transformer.training.config import TrainConfig\n",
    "from maze_transformer.training.training import TRAIN_SAVE_FILES\n",
    "from maze_transformer.evaluation.eval_model import generate_plot_predicted_path, MazePath, load_model_with_configs, predict_maze_path\n",
    "from maze_transformer.evaluation.pathdist import MazeEvalFunction, ArrMazeEvalFunction, MazeEvalFuncs, ArrMazeEvalFuncs\n",
    "from maze_transformer.evaluation.eval_model import decode_maze_tokens_to_coords, predict_tokens, pad_sequence\n",
    "from maze_transformer.evaluation.plot_attention import colorize\n",
    "\n",
    "%load_ext autoreload\n",
    "%autoreload 2"
   ]
  },
  {
   "cell_type": "code",
   "execution_count": 9,
   "metadata": {},
   "outputs": [],
   "source": [
    "# -- Configuration --\n",
    "# We won't be training any models\n",
    "torch.set_grad_enabled(False) \n",
    "\n",
    "# Set seed for reproducibility\n",
    "seed = 42\n",
    "_= torch.manual_seed(seed)\n",
    "device = torch.device(\"cuda\" if torch.cuda.is_available() else \"cpu\")\n",
    "\n",
    "DARK_MODE = True\n",
    "if DARK_MODE:\n",
    "    pio.templates.default = \"plotly_dark\"\n",
    "    plt.style.use(\"dark_background\")"
   ]
  },
  {
   "cell_type": "code",
   "execution_count": 10,
   "metadata": {},
   "outputs": [
    {
     "name": "stderr",
     "output_type": "stream",
     "text": [
      "WARNING: code hash mismatch for maze_ctor gen_dfs\n"
     ]
    }
   ],
   "source": [
    "# load model and configs\n",
    "maze_dataset = \"../data/maze/debug_maze\"\n",
    "# Get latest model\n",
    "model_path = list(sorted(Path(maze_dataset).glob('**/model.final.pt'), key=os.path.getmtime))[-1].resolve()\n",
    "model, cfg = load_model_with_configs(model_path)"
   ]
  },
  {
   "cell_type": "code",
   "execution_count": 11,
   "metadata": {},
   "outputs": [
    {
     "name": "stdout",
     "output_type": "stream",
     "text": [
      "maze tokens: ['<ADJLIST_START>', '(1,1)', '<-->', '(2,1)', ';', '(0,1)', '<-->', '(0,0)', ';', '(1,3)', '<-->', '(1,2)', ';', '(3,0)', '<-->', '(2,0)', ';', '(2,1)', '<-->', '(3,1)', ';', '(0,1)', '<-->', '(0,2)', ';', '(1,3)', '<-->', '(2,3)', ';', '(1,0)', '<-->', '(0,0)', ';', '(3,2)', '<-->', '(2,2)', ';', '(0,3)', '<-->', '(0,2)', ';', '(1,2)', '<-->', '(1,1)', ';', '(1,3)', '<-->', '(0,3)', ';', '(2,3)', '<-->', '(3,3)', ';', '(3,2)', '<-->', '(3,3)', ';', '(2,0)', '<-->', '(1,0)', ';', '<ADJLIST_END>', '<TARGET_START>', '(3,3)', '<TARGET_END>', '<START_PATH>']\n"
     ]
    }
   ],
   "source": [
    "# generate a maze\n",
    "grid_n: int = cfg.dataset_cfg.grid_n\n",
    "maze: LatticeMaze = LatticeMazeGenerators.gen_dfs((grid_n, grid_n))\n",
    "c_start = (0, 0)\n",
    "c_end = (grid_n - 1, grid_n - 1)\n",
    "\n",
    "# solve the maze explicitly\n",
    "path_true = np.array(maze.find_shortest_path(\n",
    "\tc_start = c_start,\n",
    "\tc_end = c_end,\n",
    "))\n",
    "\n",
    "solved_maze: MazeTokenizer = MazeTokenizer(\n",
    "\tmaze=maze,\n",
    "\tsolution=np.array(maze.find_shortest_path(\n",
    "\t\tc_start=c_start,\n",
    "\t\tc_end=c_end,\n",
    "\t)),\n",
    ")\n",
    "\n",
    "# tokenize the maze\n",
    "maze_only_tokens: list[str] = solved_maze.as_tokens(cfg.dataset_cfg.node_token_map , solution = False) + [ SPECIAL_TOKENS[\"start_path\"] ]\n",
    "\n",
    "print(\"maze tokens:\", maze_only_tokens)\n",
    "\n",
    "array_nopad = torch.tensor(\n",
    "\t[ cfg.dataset_cfg.tokenizer_map[t] for t in maze_only_tokens ], \n",
    "\tdtype=torch.int32,\n",
    "\tdevice=\"cpu\",\n",
    ")\n",
    "array = array_nopad\n",
    "# print(model.to_tokens(maze_only_tokens))\n",
    "# array: torch.Tensor = pad_sequence(array_nopad, cfg)"
   ]
  },
  {
   "cell_type": "code",
   "execution_count": 12,
   "metadata": {},
   "outputs": [
    {
     "name": "stdout",
     "output_type": "stream",
     "text": [
      "logits.shape = torch.Size([1, 66, 25])\n",
      "len(attentions) = 4\n",
      "[x.shape for x in attentions] = [torch.Size([1, 2, 66, 66]), torch.Size([1, 2, 66, 66]), torch.Size([1, 2, 66, 66]), torch.Size([1, 2, 66, 66])]\n"
     ]
    },
    {
     "name": "stderr",
     "output_type": "stream",
     "text": [
      "/var/folders/7r/mxsffy3s1xn40wbtsc3zr6680000gn/T/ipykernel_32374/2563559741.py:7: UserWarning:\n",
      "\n",
      "To copy construct from a tensor, it is recommended to use sourceTensor.clone().detach() or sourceTensor.clone().detach().requires_grad_(True), rather than torch.tensor(sourceTensor).\n",
      "\n"
     ]
    }
   ],
   "source": [
    "# have the model predict some tokens\n",
    "context_str: list[str] = maze_only_tokens\n",
    "\n",
    "# escape for html\n",
    "context_str = [ html.escape(t) for t in context_str ]\n",
    "\n",
    "array_tensor = torch.tensor(array).long().unsqueeze(0).to(device)\n",
    "with torch.no_grad():\n",
    "\tlogits, cache = model.run_with_cache(array_tensor)\n",
    "\n",
    "attentions = [w for k, w in cache.items() if 'hook_pattern' in k]\n",
    "print(f\"{logits.shape = }\\n{len(attentions) = }\\n{[x.shape for x in attentions] = }\")\n",
    "\n",
    "# `output.attentions` is a tuple of tensors, where each element of the tuple corresponds to a layer. \n",
    "#  The tensor has dimensions (1, n_heads, n_positions, n_positions)\n"
   ]
  },
  {
   "cell_type": "code",
   "execution_count": 13,
   "metadata": {},
   "outputs": [
    {
     "ename": "ModuleNotFoundError",
     "evalue": "No module named 'circuitsvis'",
     "output_type": "error",
     "traceback": [
      "\u001b[0;31m---------------------------------------------------------------------------\u001b[0m",
      "\u001b[0;31mModuleNotFoundError\u001b[0m                       Traceback (most recent call last)",
      "Cell \u001b[0;32mIn[13], line 1\u001b[0m\n\u001b[0;32m----> 1\u001b[0m \u001b[39mfrom\u001b[39;00m \u001b[39mcircuitsvis\u001b[39;00m\u001b[39m.\u001b[39;00m\u001b[39mattention\u001b[39;00m \u001b[39mimport\u001b[39;00m attention_heads\n\u001b[1;32m      2\u001b[0m n_layers: \u001b[39mint\u001b[39m \u001b[39m=\u001b[39m \u001b[39mlen\u001b[39m(attentions)\n\u001b[1;32m      3\u001b[0m n_heads: \u001b[39mint\u001b[39m \u001b[39m=\u001b[39m attentions[\u001b[39m0\u001b[39m]\u001b[39m.\u001b[39mshape[\u001b[39m1\u001b[39m]\n",
      "\u001b[0;31mModuleNotFoundError\u001b[0m: No module named 'circuitsvis'"
     ]
    }
   ],
   "source": [
    "from circuitsvis.attention import attention_heads\n",
    "n_layers: int = len(attentions)\n",
    "n_heads: int = attentions[0].shape[1]\n",
    "n_tokens: int = attentions[0].shape[2]\n",
    "attention_to_plot = torch.concatenate(attentions, dim=0).reshape(-1, n_tokens, n_tokens)\n",
    "attention_head_names = [f\"Layer {i} Head {j}\" for i in range(n_layers) for j in range(n_heads)]\n",
    "attention_heads(attention_to_plot,maze_only_tokens, attention_head_names)"
   ]
  },
  {
   "cell_type": "code",
   "execution_count": 14,
   "metadata": {},
   "outputs": [
    {
     "ename": "ModuleNotFoundError",
     "evalue": "No module named 'circuitsvis'",
     "output_type": "error",
     "traceback": [
      "\u001b[0;31m---------------------------------------------------------------------------\u001b[0m",
      "\u001b[0;31mModuleNotFoundError\u001b[0m                       Traceback (most recent call last)",
      "Cell \u001b[0;32mIn[14], line 1\u001b[0m\n\u001b[0;32m----> 1\u001b[0m \u001b[39mfrom\u001b[39;00m \u001b[39mcircuitsvis\u001b[39;00m\u001b[39m.\u001b[39;00m\u001b[39mtokens\u001b[39;00m \u001b[39mimport\u001b[39;00m colored_tokens_multi\n\u001b[1;32m      2\u001b[0m \u001b[39m#! ALEX note - there used to be a np.power(head_np, 1/4) here, not sure what that's about?\u001b[39;00m\n\u001b[1;32m      3\u001b[0m FROM_TOKEN \u001b[39m=\u001b[39m \u001b[39m-\u001b[39m\u001b[39m1\u001b[39m \u001b[39m# Look at attention from this token position to the rest of the sequence\u001b[39;00m\n",
      "\u001b[0;31mModuleNotFoundError\u001b[0m: No module named 'circuitsvis'"
     ]
    }
   ],
   "source": [
    "from circuitsvis.tokens import colored_tokens_multi\n",
    "#! ALEX note - there used to be a np.power(head_np, 1/4) here, not sure what that's about?\n",
    "FROM_TOKEN = -1 # Look at attention from this token position to the rest of the sequence\n",
    "attentions_from_token = torch.concatenate([w[0, :, FROM_TOKEN, :] for w in attentions], dim=0)\n",
    "colored_tokens_multi(context_str, attentions_from_token.T, labels=attention_head_names)"
   ]
  },
  {
   "cell_type": "code",
   "execution_count": 15,
   "metadata": {},
   "outputs": [
    {
     "data": {
      "application/vnd.jupyter.widget-view+json": {
       "model_id": "e5417ade2b184a18ae27c9bd1f94e3d4",
       "version_major": 2,
       "version_minor": 0
      },
      "text/plain": [
       "  0%|          | 0/50 [00:00<?, ?it/s]"
      ]
     },
     "metadata": {},
     "output_type": "display_data"
    },
    {
     "name": "stdout",
     "output_type": "stream",
     "text": [
      "(4, 4)\n"
     ]
    },
    {
     "data": {
      "image/png": "[encoded data removed]",
      "image/svg+xml": "<?xml version=\"1.0\" encoding=\"utf-8\" standalone=\"no\"?>\n<!DOCTYPE svg PUBLIC \"-//W3C//DTD SVG 1.1//EN\"\n  \"http://www.w3.org/Graphics/SVG/1.1/DTD/svg11.dtd\">\n<svg xmlns:xlink=\"http://www.w3.org/1999/xlink\" width=\"311.794812pt\" height=\"297.190125pt\" viewBox=\"0 0 311.794812 297.190125\" xmlns=\"http://www.w3.org/2000/svg\" version=\"1.1\">\n <metadata>\n  <rdf:RDF xmlns:dc=\"http://purl.org/dc/elements/1.1/\" xmlns:cc=\"http://creativecommons.org/ns#\" xmlns:rdf=\"http://www.w3.org/1999/02/22-rdf-syntax-ns#\">\n   <cc:Work>\n    <dc:type rdf:resource=\"http://purl.org/dc/dcmitype/StillImage\"/>\n    <dc:date>2023-03-03T17:14:26.346876</dc:date>\n    <dc:format>image/svg+xml</dc:format>\n    <dc:creator>\n     <cc:Agent>\n      <dc:title>Matplotlib v3.7.0, https://matplotlib.org/</dc:title>\n     </cc:Agent>\n    </dc:creator>\n   </cc:Work>\n  </rdf:RDF>\n </metadata>\n <defs>\n  <style type=\"text/css\">*{stroke-linejoin: round; stroke-linecap: butt}</style>\n </defs>\n <g id=\"figure_1\">\n  <g id=\"patch_1\">\n   <path d=\"M 0 297.190125 \nL 311.794812 297.190125 \nL 311.794812 0 \nL 0 0 \nz\n\"/>\n  </g>\n  <g id=\"axes_1\">\n   <g id=\"patch_2\">\n    <path d=\"M 38.482813 273.312 \nL 304.594812 273.312 \nL 304.594812 7.2 \nL 38.482813 7.2 \nz\n\"/>\n   </g>\n   <g clip-path=\"url(#p1ba27b9713)\">\n    <image xlink:href=\"data:image/png;base64,\niVBORw0KGgoAAAANSUhEUgAAAXIAAAFyCAYAAADoJFEJAAAFhElEQVR4nO3Wy23EUAwEQdFQ/ik/X31bfwATra2KYMBDg3Nd17kAyPrYHgDA3wg5QJyQA8QJOUCckAPECTlAnJADxAk5QJyQA8QJOUCckAPECTlAnJADxAk5QJyQA8QJOUCckAPECTlAnJADxAk5QJyQA8QJOUCckAPECTlAnJADxAk5QJyQA8QJOUCckAPECTlAnJADxAk5QJyQA8QJOUCckAPECTlAnJADxAk5QJyQA8QJOUDcvT3gO8452xOANzUz2xNe8pEDxAk5QJyQA8QJOUCckAPECTlAnJADxAk5QJyQA8QJOUCckAPECTlAnJADxAk5QJyQA8QJOUCckAPECTlAnJADxAk5QJyQA8QJOUCckAPECTlAnJADxAk5QJyQA8QJOUCckAPECTlAnJADxAk5QJyQA8QJOUCckAPECTlAnJADxAk5QJyQA8QJOUDcvT3gKWZmewLwpnzkAHFCDhAn5ABxQg4QJ+QAcUIOECfkAHFCDhAn5ABxQg4QJ+QAcUIOECfkAHFCDhAn5ABxQg4QJ+QAcUIOECfkAHFCDhAn5ABxQg4QJ+QAcUIOECfkAHFCDhAn5ABxQg4QJ+QAcUIOECfkAHFCDhAn5ABxQg4QJ+QAcUIOECfkAHFCDhAn5ABxQg4Qd28P4P+cc7YnQM7MbE94yUcOECfkAHFCDhAn5ABxQg4QJ+QAcUIOECfkAHFCDhAn5ABxQg4QJ+QAcUIOECfkAHFCDhAn5ABxQg4QJ+QAcUIOECfkAHFCDhAn5ABxQg4QJ+QAcUIOECfkAHFCDhAn5ABxQg4QJ+QAcUIOECfkAHFCDhAn5ABxQg4QJ+QAcUIOECfkAHFCDhAn5ABxQg4Qd28PgK9mZnsC5PjIAeKEHCBOyAHihBwgTsgB4oQcIE7IAeKEHCBOyAHihBwgTsgB4oQcIE7IAeKEHCBOyAHihBwgTsgB4oQcIE7IAeKEHCBOyAHihBwgTsgB4oQcIE7IAeKEHCBOyAHihBwgTsgB4oQcIE7IAeKEHCBOyAHihBwgTsgB4oQcIE7IAeKEHCBOyAHihBwg7t4eAEXnnO0J/JOZ2Z7wko8cIE7IAeKEHCBOyAHihBwgTsgB4oQcIE7IAeKEHCBOyAHihBwgTsgB4oQcIE7IAeKEHCBOyAHihBwgTsgB4oQcIE7IAeKEHCBOyAHihBwgTsgB4oQcIE7IAeKEHCBOyAHihBwgTsgB4oQcIE7IAeKEHCBOyAHihBwgTsgB4oQcIE7IAeKEHCBOyAHi7u0BUDQz2xMe4ZyzPeERfOQAcUIOECfkAHFCDhAn5ABxQg4QJ+QAcUIOECfkAHFCDhAn5ABxQg4QJ+QAcUIOECfkAHFCDhAn5ABxQg4QJ+QAcUIOECfkAHFCDhAn5ABxQg4QJ+QAcUIOECfkAHFCDhAn5ABxQg4QJ+QAcUIOECfkAHFCDhAn5ABxQg4QJ+QAcUIOECfkAHFCDhB3bw94inPO9oRHcEf4OR85QJyQA8QJOUCckAPECTlAnJADxAk5QJyQA8QJOUCckAPECTlAnJADxAk5QJyQA8QJOUCckAPECTlAnJADxAk5QJyQA8QJOUCckAPECTlAnJADxAk5QJyQA8QJOUCckAPECTlAnJADxAk5QJyQA8QJOUCckAPECTlAnJADxAk5QJyQA8QJOUCckAPEzXVdZ3sEAL/nIweIE3KAOCEHiBNygDghB4gTcoA4IQeIE3KAOCEHiBNygDghB4gTcoA4IQeIE3KAOCEHiBNygDghB4gTcoA4IQeIE3KAOCEHiBNygDghB4gTcoA4IQeIE3KAOCEHiBNygDghB4gTcoA4IQeIE3KAOCEHiBNygDghB4gTcoA4IQeIE3KAOCEHiBNygLhPnEYW79q/W90AAAAASUVORK5CYII=\" id=\"imagec0e073c407\" transform=\"scale(1 -1) translate(0 -266.4)\" x=\"38.482813\" y=\"-6.912\" width=\"266.4\" height=\"266.4\"/>\n   </g>\n   <g id=\"Quiver_1\">\n    <path d=\"M 80.838972 228.96 \nL 80.838972 187.78656 \nL 76.847293 189.7824 \nL 82.834812 169.824 \nL 88.822333 189.7824 \nL 84.830652 187.78656 \nL 84.830652 228.96 \nL 80.838972 228.96 \n\" clip-path=\"url(#p1ba27b9713)\" style=\"fill: #ff0000\"/>\n    <path d=\"M 80.838972 169.824 \nL 80.838972 128.65056 \nL 76.847293 130.6464 \nL 82.834812 110.688 \nL 88.822333 130.6464 \nL 84.830652 128.65056 \nL 84.830652 169.824 \nL 80.838972 169.824 \n\" clip-path=\"url(#p1ba27b9713)\" style=\"fill: #ff0000\"/>\n    <path d=\"M 80.838972 110.688 \nL 80.838972 69.51456 \nL 76.847293 71.5104 \nL 82.834812 51.552 \nL 88.822333 71.5104 \nL 84.830652 69.51456 \nL 84.830652 110.688 \nL 80.838972 110.688 \n\" clip-path=\"url(#p1ba27b9713)\" style=\"fill: #ff0000\"/>\n    <path d=\"M 82.834812 49.55616 \nL 124.008252 49.55616 \nL 122.012413 45.56448 \nL 141.970812 51.552 \nL 122.012413 57.53952 \nL 124.008252 53.54784 \nL 82.834812 53.54784 \nL 82.834812 49.55616 \n\" clip-path=\"url(#p1ba27b9713)\" style=\"fill: #ff0000\"/>\n    <path d=\"M 141.970812 49.55616 \nL 183.144252 49.55616 \nL 181.148413 45.56448 \nL 201.106812 51.552 \nL 181.148413 57.53952 \nL 183.144252 53.54784 \nL 141.970812 53.54784 \nL 141.970812 49.55616 \n\" clip-path=\"url(#p1ba27b9713)\" style=\"fill: #ff0000\"/>\n    <path d=\"M 201.106812 49.55616 \nL 242.280252 49.55616 \nL 240.284412 45.56448 \nL 260.242812 51.552 \nL 240.284412 57.53952 \nL 242.280252 53.54784 \nL 201.106812 53.54784 \nL 201.106812 49.55616 \n\" clip-path=\"url(#p1ba27b9713)\" style=\"fill: #ff0000\"/>\n   </g>\n   <g id=\"Quiver_2\">\n    <path d=\"M 200.108892 169.824 \nL 200.108892 60.53328 \nL 198.113053 61.5312 \nL 201.106812 51.552 \nL 204.100572 61.5312 \nL 202.104732 60.53328 \nL 202.104732 169.824 \nL 200.108892 169.824 \n\" clip-path=\"url(#p1ba27b9713)\" style=\"fill: #0000ff\"/>\n    <path d=\"M 201.999379 51.998283 \nL 146.87993 162.237182 \nL 149.111347 162.237182 \nL 141.970813 169.824 \nL 143.755946 159.559482 \nL 145.094796 161.344616 \nL 200.214246 51.105717 \nL 201.999379 51.998283 \n\" clip-path=\"url(#p1ba27b9713)\" style=\"fill: #0000ff\"/>\n    <path d=\"M 142.676448 170.529636 \nL 89.891172 223.314912 \nL 92.00808 224.020548 \nL 82.834813 228.96 \nL 87.774264 219.786732 \nL 88.4799 221.90364 \nL 141.265177 169.118364 \nL 142.676448 170.529636 \n\" clip-path=\"url(#p1ba27b9713)\" style=\"fill: #0000ff\"/>\n    <path d=\"M 82.004493 228.406454 \nL 195.294575 58.47133 \nL 193.080389 58.194557 \nL 201.106812 51.552 \nL 198.062307 61.515836 \nL 196.955214 59.578423 \nL 83.665132 229.513546 \nL 82.004493 228.406454 \n\" clip-path=\"url(#p1ba27b9713)\" style=\"fill: #0000ff\"/>\n    <path d=\"M 201.999379 51.998283 \nL 146.87993 162.237182 \nL 149.111347 162.237182 \nL 141.970813 169.824 \nL 143.755946 159.559482 \nL 145.094796 161.344616 \nL 200.214246 51.105717 \nL 201.999379 51.998283 \n\" clip-path=\"url(#p1ba27b9713)\" style=\"fill: #0000ff\"/>\n    <path d=\"M 142.968732 169.824 \nL 142.469773 168.959776 \nL 141.471852 168.959776 \nL 140.972893 169.824 \nL 141.471852 170.688224 \nL 142.469773 170.688224 \nL 142.968732 169.824 \nL 142.469773 168.959776 \n\" clip-path=\"url(#p1ba27b9713)\" style=\"fill: #0000ff\"/>\n    <path d=\"M 142.417096 168.931433 \nL 252.655995 224.050883 \nL 252.655995 221.819466 \nL 260.242812 228.96 \nL 249.978295 227.174866 \nL 251.763428 225.836016 \nL 141.524529 170.716567 \nL 142.417096 168.931433 \n\" clip-path=\"url(#p1ba27b9713)\" style=\"fill: #0000ff\"/>\n    <path d=\"M 259.296102 229.27557 \nL 203.000233 60.38796 \nL 201.422383 61.96581 \nL 201.106812 51.552 \nL 207.102643 60.07239 \nL 204.893653 59.75682 \nL 261.189523 228.64443 \nL 259.296102 229.27557 \n\" clip-path=\"url(#p1ba27b9713)\" style=\"fill: #0000ff\"/>\n    <path d=\"M 202.104732 51.552 \nL 202.104732 101.70672 \nL 204.100572 100.7088 \nL 201.106812 110.688 \nL 198.113052 100.7088 \nL 200.108892 101.70672 \nL 200.108892 51.552 \nL 202.104732 51.552 \n\" clip-path=\"url(#p1ba27b9713)\" style=\"fill: #0000ff\"/>\n    <path d=\"M 200.660529 111.580567 \nL 90.42163 56.461117 \nL 90.42163 58.692534 \nL 82.834813 51.552 \nL 93.09933 53.337134 \nL 91.314197 54.675984 \nL 201.553096 109.795433 \nL 200.660529 111.580567 \n\" clip-path=\"url(#p1ba27b9713)\" style=\"fill: #0000ff\"/>\n    <path d=\"M 83.832732 51.552 \nL 83.832733 160.84272 \nL 85.828573 159.8448 \nL 82.834813 169.824 \nL 79.841053 159.8448 \nL 81.836893 160.84272 \nL 81.836893 51.552 \nL 83.832732 51.552 \n\" clip-path=\"url(#p1ba27b9713)\" style=\"fill: #0000ff\"/>\n    <path d=\"M 82.834812 168.82608 \nL 251.261532 168.82608 \nL 250.263612 166.83024 \nL 260.242812 169.824 \nL 250.263612 172.81776 \nL 251.261532 170.82192 \nL 82.834812 170.82192 \nL 82.834812 168.82608 \n\" clip-path=\"url(#p1ba27b9713)\" style=\"fill: #0000ff\"/>\n    <path d=\"M 261.240732 169.824 \nL 261.240732 219.97872 \nL 263.236572 218.9808 \nL 260.242812 228.96 \nL 257.249052 218.9808 \nL 259.244892 219.97872 \nL 259.244892 169.824 \nL 261.240732 169.824 \n\" clip-path=\"url(#p1ba27b9713)\" style=\"fill: #0000ff\"/>\n    <path d=\"M 259.350246 229.406283 \nL 204.230796 119.167384 \nL 202.891946 120.952518 \nL 201.106812 110.688 \nL 208.247347 118.274818 \nL 206.01593 118.274818 \nL 261.135379 228.513717 \nL 259.350246 229.406283 \n\" clip-path=\"url(#p1ba27b9713)\" style=\"fill: #0000ff\"/>\n    <path d=\"M 201.812448 111.393636 \nL 149.027172 164.178912 \nL 151.14408 164.884548 \nL 141.970813 169.824 \nL 146.910264 160.650732 \nL 147.6159 162.76764 \nL 200.401177 109.982364 \nL 201.812448 111.393636 \n\" clip-path=\"url(#p1ba27b9713)\" style=\"fill: #0000ff\"/>\n    <path d=\"M 141.078246 169.377717 \nL 196.197695 59.138818 \nL 193.966278 59.138818 \nL 201.106812 51.552 \nL 199.321679 61.816518 \nL 197.982829 60.031384 \nL 142.863379 170.270283 \nL 141.078246 169.377717 \n\" clip-path=\"url(#p1ba27b9713)\" style=\"fill: #0000ff\"/>\n    <path d=\"M 202.104732 51.552 \nL 201.605773 50.687776 \nL 200.607852 50.687776 \nL 200.108892 51.552 \nL 200.607852 52.416224 \nL 201.605773 52.416224 \nL 202.104732 51.552 \nL 201.605773 50.687776 \n\" clip-path=\"url(#p1ba27b9713)\" style=\"fill: #0000ff\"/>\n    <path d=\"M 201.553096 52.444567 \nL 91.314197 107.564016 \nL 93.09933 108.902866 \nL 82.834813 110.688 \nL 90.42163 103.547466 \nL 90.42163 105.778883 \nL 200.660529 50.659433 \nL 201.553096 52.444567 \n\" clip-path=\"url(#p1ba27b9713)\" style=\"fill: #0000ff\"/>\n    <path d=\"M 83.727379 110.241717 \nL 138.846829 220.480616 \nL 140.185679 218.695482 \nL 141.970812 228.96 \nL 134.830278 221.373182 \nL 137.061695 221.373182 \nL 81.942246 111.134283 \nL 83.727379 110.241717 \n\" clip-path=\"url(#p1ba27b9713)\" style=\"fill: #0000ff\"/>\n    <path d=\"M 141.970812 229.95792 \nL 91.816092 229.95792 \nL 92.814012 231.95376 \nL 82.834812 228.96 \nL 92.814012 225.96624 \nL 91.816092 227.96208 \nL 141.970812 227.96208 \nL 141.970812 229.95792 \n\" clip-path=\"url(#p1ba27b9713)\" style=\"fill: #0000ff\"/>\n    <path d=\"M 82.834812 227.96208 \nL 251.261532 227.96208 \nL 250.263612 225.96624 \nL 260.242812 228.96 \nL 250.263612 231.95376 \nL 251.261532 229.95792 \nL 82.834812 229.95792 \nL 82.834812 227.96208 \n\" clip-path=\"url(#p1ba27b9713)\" style=\"fill: #0000ff\"/>\n    <path d=\"M 259.537177 229.665636 \nL 88.4799 58.60836 \nL 87.774264 60.725268 \nL 82.834813 51.552 \nL 92.00808 56.491452 \nL 89.891172 57.197088 \nL 260.948448 228.254364 \nL 259.537177 229.665636 \n\" clip-path=\"url(#p1ba27b9713)\" style=\"fill: #0000ff\"/>\n    <path d=\"M 83.540448 50.846364 \nL 254.597725 221.90364 \nL 255.303361 219.786732 \nL 260.242812 228.96 \nL 251.069545 224.020548 \nL 253.186453 223.314912 \nL 82.129177 52.257636 \nL 83.540448 50.846364 \n\" clip-path=\"url(#p1ba27b9713)\" style=\"fill: #0000ff\"/>\n    <path d=\"M 260.242812 229.95792 \nL 150.952092 229.95792 \nL 151.950013 231.95376 \nL 141.970813 228.96 \nL 151.950013 225.96624 \nL 150.952092 227.96208 \nL 260.242812 227.96208 \nL 260.242812 229.95792 \n\" clip-path=\"url(#p1ba27b9713)\" style=\"fill: #0000ff\"/>\n    <path d=\"M 141.970812 229.95792 \nL 91.816092 229.95792 \nL 92.814012 231.95376 \nL 82.834812 228.96 \nL 92.814012 225.96624 \nL 91.816092 227.96208 \nL 141.970812 227.96208 \nL 141.970812 229.95792 \n\" clip-path=\"url(#p1ba27b9713)\" style=\"fill: #0000ff\"/>\n    <path d=\"M 81.888102 228.64443 \nL 138.183972 59.75682 \nL 135.974982 60.07239 \nL 141.970812 51.552 \nL 141.655242 61.96581 \nL 140.077392 60.38796 \nL 83.781523 229.27557 \nL 81.888102 228.64443 \n\" clip-path=\"url(#p1ba27b9713)\" style=\"fill: #0000ff\"/>\n    <path d=\"M 142.968732 51.552 \nL 142.968732 160.84272 \nL 144.964573 159.8448 \nL 141.970812 169.824 \nL 138.977053 159.8448 \nL 140.972893 160.84272 \nL 140.972893 51.552 \nL 142.968732 51.552 \n\" clip-path=\"url(#p1ba27b9713)\" style=\"fill: #0000ff\"/>\n    <path d=\"M 142.968732 169.824 \nL 142.469773 168.959776 \nL 141.471852 168.959776 \nL 140.972893 169.824 \nL 141.471852 170.688224 \nL 142.469773 170.688224 \nL 142.968732 169.824 \nL 142.469773 168.959776 \n\" clip-path=\"url(#p1ba27b9713)\" style=\"fill: #0000ff\"/>\n    <path d=\"M 142.417096 168.931433 \nL 252.655995 224.050883 \nL 252.655995 221.819466 \nL 260.242812 228.96 \nL 249.978295 227.174866 \nL 251.763428 225.836016 \nL 141.524529 170.716567 \nL 142.417096 168.931433 \n\" clip-path=\"url(#p1ba27b9713)\" style=\"fill: #0000ff\"/>\n    <path d=\"M 259.537177 229.665636 \nL 206.7519 176.88036 \nL 206.046264 178.997268 \nL 201.106812 169.824 \nL 210.28008 174.763452 \nL 208.163172 175.469088 \nL 260.948448 228.254364 \nL 259.537177 229.665636 \n\" clip-path=\"url(#p1ba27b9713)\" style=\"fill: #0000ff\"/>\n    <path d=\"M 201.812448 170.529636 \nL 149.027172 223.314912 \nL 151.14408 224.020548 \nL 141.970813 228.96 \nL 146.910264 219.786732 \nL 147.6159 221.90364 \nL 200.401177 169.118364 \nL 201.812448 170.529636 \n\" clip-path=\"url(#p1ba27b9713)\" style=\"fill: #0000ff\"/>\n   </g>\n   <g id=\"matplotlib.axis_1\">\n    <g id=\"xtick_1\">\n     <g id=\"line2d_1\">\n      <defs>\n       <path id=\"m6597efedc6\" d=\"M 0 0 \nL 0 3.5 \n\" style=\"stroke: #ffffff; stroke-width: 0.8\"/>\n      </defs>\n      <g>\n       <use xlink:href=\"#m6597efedc6\" x=\"82.834812\" y=\"273.312\" style=\"fill: #ffffff; stroke: #ffffff; stroke-width: 0.8\"/>\n      </g>\n     </g>\n     <g id=\"text_1\">\n      <!-- 0 -->\n      <g style=\"fill: #ffffff\" transform=\"translate(79.653562 287.910437) scale(0.1 -0.1)\">\n       <defs>\n        <path id=\"DejaVuSans-30\" d=\"M 2034 4250 \nQ 1547 4250 1301 3770 \nQ 1056 3291 1056 2328 \nQ 1056 1369 1301 889 \nQ 1547 409 2034 409 \nQ 2525 409 2770 889 \nQ 3016 1369 3016 2328 \nQ 3016 3291 2770 3770 \nQ 2525 4250 2034 4250 \nz\nM 2034 4750 \nQ 2819 4750 3233 4129 \nQ 3647 3509 3647 2328 \nQ 3647 1150 3233 529 \nQ 2819 -91 2034 -91 \nQ 1250 -91 836 529 \nQ 422 1150 422 2328 \nQ 422 3509 836 4129 \nQ 1250 4750 2034 4750 \nz\n\" transform=\"scale(0.015625)\"/>\n       </defs>\n       <use xlink:href=\"#DejaVuSans-30\"/>\n      </g>\n     </g>\n    </g>\n    <g id=\"xtick_2\">\n     <g id=\"line2d_2\">\n      <g>\n       <use xlink:href=\"#m6597efedc6\" x=\"141.970812\" y=\"273.312\" style=\"fill: #ffffff; stroke: #ffffff; stroke-width: 0.8\"/>\n      </g>\n     </g>\n     <g id=\"text_2\">\n      <!-- 1 -->\n      <g style=\"fill: #ffffff\" transform=\"translate(138.789562 287.910437) scale(0.1 -0.1)\">\n       <defs>\n        <path id=\"DejaVuSans-31\" d=\"M 794 531 \nL 1825 531 \nL 1825 4091 \nL 703 3866 \nL 703 4441 \nL 1819 4666 \nL 2450 4666 \nL 2450 531 \nL 3481 531 \nL 3481 0 \nL 794 0 \nL 794 531 \nz\n\" transform=\"scale(0.015625)\"/>\n       </defs>\n       <use xlink:href=\"#DejaVuSans-31\"/>\n      </g>\n     </g>\n    </g>\n    <g id=\"xtick_3\">\n     <g id=\"line2d_3\">\n      <g>\n       <use xlink:href=\"#m6597efedc6\" x=\"201.106812\" y=\"273.312\" style=\"fill: #ffffff; stroke: #ffffff; stroke-width: 0.8\"/>\n      </g>\n     </g>\n     <g id=\"text_3\">\n      <!-- 2 -->\n      <g style=\"fill: #ffffff\" transform=\"translate(197.925562 287.910437) scale(0.1 -0.1)\">\n       <defs>\n        <path id=\"DejaVuSans-32\" d=\"M 1228 531 \nL 3431 531 \nL 3431 0 \nL 469 0 \nL 469 531 \nQ 828 903 1448 1529 \nQ 2069 2156 2228 2338 \nQ 2531 2678 2651 2914 \nQ 2772 3150 2772 3378 \nQ 2772 3750 2511 3984 \nQ 2250 4219 1831 4219 \nQ 1534 4219 1204 4116 \nQ 875 4013 500 3803 \nL 500 4441 \nQ 881 4594 1212 4672 \nQ 1544 4750 1819 4750 \nQ 2544 4750 2975 4387 \nQ 3406 4025 3406 3419 \nQ 3406 3131 3298 2873 \nQ 3191 2616 2906 2266 \nQ 2828 2175 2409 1742 \nQ 1991 1309 1228 531 \nz\n\" transform=\"scale(0.015625)\"/>\n       </defs>\n       <use xlink:href=\"#DejaVuSans-32\"/>\n      </g>\n     </g>\n    </g>\n    <g id=\"xtick_4\">\n     <g id=\"line2d_4\">\n      <g>\n       <use xlink:href=\"#m6597efedc6\" x=\"260.242812\" y=\"273.312\" style=\"fill: #ffffff; stroke: #ffffff; stroke-width: 0.8\"/>\n      </g>\n     </g>\n     <g id=\"text_4\">\n      <!-- 3 -->\n      <g style=\"fill: #ffffff\" transform=\"translate(257.061562 287.910437) scale(0.1 -0.1)\">\n       <defs>\n        <path id=\"DejaVuSans-33\" d=\"M 2597 2516 \nQ 3050 2419 3304 2112 \nQ 3559 1806 3559 1356 \nQ 3559 666 3084 287 \nQ 2609 -91 1734 -91 \nQ 1441 -91 1130 -33 \nQ 819 25 488 141 \nL 488 750 \nQ 750 597 1062 519 \nQ 1375 441 1716 441 \nQ 2309 441 2620 675 \nQ 2931 909 2931 1356 \nQ 2931 1769 2642 2001 \nQ 2353 2234 1838 2234 \nL 1294 2234 \nL 1294 2753 \nL 1863 2753 \nQ 2328 2753 2575 2939 \nQ 2822 3125 2822 3475 \nQ 2822 3834 2567 4026 \nQ 2313 4219 1838 4219 \nQ 1578 4219 1281 4162 \nQ 984 4106 628 3988 \nL 628 4550 \nQ 988 4650 1302 4700 \nQ 1616 4750 1894 4750 \nQ 2613 4750 3031 4423 \nQ 3450 4097 3450 3541 \nQ 3450 3153 3228 2886 \nQ 3006 2619 2597 2516 \nz\n\" transform=\"scale(0.015625)\"/>\n       </defs>\n       <use xlink:href=\"#DejaVuSans-33\"/>\n      </g>\n     </g>\n    </g>\n   </g>\n   <g id=\"matplotlib.axis_2\">\n    <g id=\"ytick_1\">\n     <g id=\"line2d_5\">\n      <defs>\n       <path id=\"ma5b8949161\" d=\"M 0 0 \nL -3.5 0 \n\" style=\"stroke: #ffffff; stroke-width: 0.8\"/>\n      </defs>\n      <g>\n       <use xlink:href=\"#ma5b8949161\" x=\"38.482813\" y=\"258.528\" style=\"fill: #ffffff; stroke: #ffffff; stroke-width: 0.8\"/>\n      </g>\n     </g>\n     <g id=\"text_5\">\n      <!-- −0.5 -->\n      <g style=\"fill: #ffffff\" transform=\"translate(7.2 262.327219) scale(0.1 -0.1)\">\n       <defs>\n        <path id=\"DejaVuSans-2212\" d=\"M 678 2272 \nL 4684 2272 \nL 4684 1741 \nL 678 1741 \nL 678 2272 \nz\n\" transform=\"scale(0.015625)\"/>\n        <path id=\"DejaVuSans-2e\" d=\"M 684 794 \nL 1344 794 \nL 1344 0 \nL 684 0 \nL 684 794 \nz\n\" transform=\"scale(0.015625)\"/>\n        <path id=\"DejaVuSans-35\" d=\"M 691 4666 \nL 3169 4666 \nL 3169 4134 \nL 1269 4134 \nL 1269 2991 \nQ 1406 3038 1543 3061 \nQ 1681 3084 1819 3084 \nQ 2600 3084 3056 2656 \nQ 3513 2228 3513 1497 \nQ 3513 744 3044 326 \nQ 2575 -91 1722 -91 \nQ 1428 -91 1123 -41 \nQ 819 9 494 109 \nL 494 744 \nQ 775 591 1075 516 \nQ 1375 441 1709 441 \nQ 2250 441 2565 725 \nQ 2881 1009 2881 1497 \nQ 2881 1984 2565 2268 \nQ 2250 2553 1709 2553 \nQ 1456 2553 1204 2497 \nQ 953 2441 691 2322 \nL 691 4666 \nz\n\" transform=\"scale(0.015625)\"/>\n       </defs>\n       <use xlink:href=\"#DejaVuSans-2212\"/>\n       <use xlink:href=\"#DejaVuSans-30\" x=\"83.789062\"/>\n       <use xlink:href=\"#DejaVuSans-2e\" x=\"147.412109\"/>\n       <use xlink:href=\"#DejaVuSans-35\" x=\"179.199219\"/>\n      </g>\n     </g>\n    </g>\n    <g id=\"ytick_2\">\n     <g id=\"line2d_6\">\n      <g>\n       <use xlink:href=\"#ma5b8949161\" x=\"38.482813\" y=\"228.96\" style=\"fill: #ffffff; stroke: #ffffff; stroke-width: 0.8\"/>\n      </g>\n     </g>\n     <g id=\"text_6\">\n      <!-- 0.0 -->\n      <g style=\"fill: #ffffff\" transform=\"translate(15.579688 232.759219) scale(0.1 -0.1)\">\n       <use xlink:href=\"#DejaVuSans-30\"/>\n       <use xlink:href=\"#DejaVuSans-2e\" x=\"63.623047\"/>\n       <use xlink:href=\"#DejaVuSans-30\" x=\"95.410156\"/>\n      </g>\n     </g>\n    </g>\n    <g id=\"ytick_3\">\n     <g id=\"line2d_7\">\n      <g>\n       <use xlink:href=\"#ma5b8949161\" x=\"38.482813\" y=\"199.392\" style=\"fill: #ffffff; stroke: #ffffff; stroke-width: 0.8\"/>\n      </g>\n     </g>\n     <g id=\"text_7\">\n      <!-- 0.5 -->\n      <g style=\"fill: #ffffff\" transform=\"translate(15.579688 203.191219) scale(0.1 -0.1)\">\n       <use xlink:href=\"#DejaVuSans-30\"/>\n       <use xlink:href=\"#DejaVuSans-2e\" x=\"63.623047\"/>\n       <use xlink:href=\"#DejaVuSans-35\" x=\"95.410156\"/>\n      </g>\n     </g>\n    </g>\n    <g id=\"ytick_4\">\n     <g id=\"line2d_8\">\n      <g>\n       <use xlink:href=\"#ma5b8949161\" x=\"38.482813\" y=\"169.824\" style=\"fill: #ffffff; stroke: #ffffff; stroke-width: 0.8\"/>\n      </g>\n     </g>\n     <g id=\"text_8\">\n      <!-- 1.0 -->\n      <g style=\"fill: #ffffff\" transform=\"translate(15.579688 173.623219) scale(0.1 -0.1)\">\n       <use xlink:href=\"#DejaVuSans-31\"/>\n       <use xlink:href=\"#DejaVuSans-2e\" x=\"63.623047\"/>\n       <use xlink:href=\"#DejaVuSans-30\" x=\"95.410156\"/>\n      </g>\n     </g>\n    </g>\n    <g id=\"ytick_5\">\n     <g id=\"line2d_9\">\n      <g>\n       <use xlink:href=\"#ma5b8949161\" x=\"38.482813\" y=\"140.256\" style=\"fill: #ffffff; stroke: #ffffff; stroke-width: 0.8\"/>\n      </g>\n     </g>\n     <g id=\"text_9\">\n      <!-- 1.5 -->\n      <g style=\"fill: #ffffff\" transform=\"translate(15.579688 144.055219) scale(0.1 -0.1)\">\n       <use xlink:href=\"#DejaVuSans-31\"/>\n       <use xlink:href=\"#DejaVuSans-2e\" x=\"63.623047\"/>\n       <use xlink:href=\"#DejaVuSans-35\" x=\"95.410156\"/>\n      </g>\n     </g>\n    </g>\n    <g id=\"ytick_6\">\n     <g id=\"line2d_10\">\n      <g>\n       <use xlink:href=\"#ma5b8949161\" x=\"38.482813\" y=\"110.688\" style=\"fill: #ffffff; stroke: #ffffff; stroke-width: 0.8\"/>\n      </g>\n     </g>\n     <g id=\"text_10\">\n      <!-- 2.0 -->\n      <g style=\"fill: #ffffff\" transform=\"translate(15.579688 114.487219) scale(0.1 -0.1)\">\n       <use xlink:href=\"#DejaVuSans-32\"/>\n       <use xlink:href=\"#DejaVuSans-2e\" x=\"63.623047\"/>\n       <use xlink:href=\"#DejaVuSans-30\" x=\"95.410156\"/>\n      </g>\n     </g>\n    </g>\n    <g id=\"ytick_7\">\n     <g id=\"line2d_11\">\n      <g>\n       <use xlink:href=\"#ma5b8949161\" x=\"38.482813\" y=\"81.12\" style=\"fill: #ffffff; stroke: #ffffff; stroke-width: 0.8\"/>\n      </g>\n     </g>\n     <g id=\"text_11\">\n      <!-- 2.5 -->\n      <g style=\"fill: #ffffff\" transform=\"translate(15.579688 84.919219) scale(0.1 -0.1)\">\n       <use xlink:href=\"#DejaVuSans-32\"/>\n       <use xlink:href=\"#DejaVuSans-2e\" x=\"63.623047\"/>\n       <use xlink:href=\"#DejaVuSans-35\" x=\"95.410156\"/>\n      </g>\n     </g>\n    </g>\n    <g id=\"ytick_8\">\n     <g id=\"line2d_12\">\n      <g>\n       <use xlink:href=\"#ma5b8949161\" x=\"38.482813\" y=\"51.552\" style=\"fill: #ffffff; stroke: #ffffff; stroke-width: 0.8\"/>\n      </g>\n     </g>\n     <g id=\"text_12\">\n      <!-- 3.0 -->\n      <g style=\"fill: #ffffff\" transform=\"translate(15.579688 55.351219) scale(0.1 -0.1)\">\n       <use xlink:href=\"#DejaVuSans-33\"/>\n       <use xlink:href=\"#DejaVuSans-2e\" x=\"63.623047\"/>\n       <use xlink:href=\"#DejaVuSans-30\" x=\"95.410156\"/>\n      </g>\n     </g>\n    </g>\n    <g id=\"ytick_9\">\n     <g id=\"line2d_13\">\n      <g>\n       <use xlink:href=\"#ma5b8949161\" x=\"38.482813\" y=\"21.984\" style=\"fill: #ffffff; stroke: #ffffff; stroke-width: 0.8\"/>\n      </g>\n     </g>\n     <g id=\"text_13\">\n      <!-- 3.5 -->\n      <g style=\"fill: #ffffff\" transform=\"translate(15.579688 25.783219) scale(0.1 -0.1)\">\n       <use xlink:href=\"#DejaVuSans-33\"/>\n       <use xlink:href=\"#DejaVuSans-2e\" x=\"63.623047\"/>\n       <use xlink:href=\"#DejaVuSans-35\" x=\"95.410156\"/>\n      </g>\n     </g>\n    </g>\n   </g>\n   <g id=\"line2d_14\">\n    <defs>\n     <path id=\"mf65d28c114\" d=\"M 0 3 \nC 0.795609 3 1.55874 2.683901 2.12132 2.12132 \nC 2.683901 1.55874 3 0.795609 3 0 \nC 3 -0.795609 2.683901 -1.55874 2.12132 -2.12132 \nC 1.55874 -2.683901 0.795609 -3 0 -3 \nC -0.795609 -3 -1.55874 -2.683901 -2.12132 -2.12132 \nC -2.683901 -1.55874 -3 -0.795609 -3 0 \nC -3 0.795609 -2.683901 1.55874 -2.12132 2.12132 \nC -1.55874 2.683901 -0.795609 3 0 3 \nz\n\" style=\"stroke: #ff0000\"/>\n    </defs>\n    <g clip-path=\"url(#p1ba27b9713)\">\n     <use xlink:href=\"#mf65d28c114\" x=\"82.834812\" y=\"228.96\" style=\"fill: #ff0000; stroke: #ff0000\"/>\n    </g>\n   </g>\n   <g id=\"line2d_15\">\n    <defs>\n     <path id=\"m5c6ccff441\" d=\"M -3 3 \nL 3 -3 \nM -3 -3 \nL 3 3 \n\" style=\"stroke: #ff0000\"/>\n    </defs>\n    <g clip-path=\"url(#p1ba27b9713)\">\n     <use xlink:href=\"#m5c6ccff441\" x=\"260.242812\" y=\"51.552\" style=\"fill: #ff0000; stroke: #ff0000\"/>\n    </g>\n   </g>\n   <g id=\"line2d_16\">\n    <defs>\n     <path id=\"m50a9b3f994\" d=\"M 0 3 \nC 0.795609 3 1.55874 2.683901 2.12132 2.12132 \nC 2.683901 1.55874 3 0.795609 3 0 \nC 3 -0.795609 2.683901 -1.55874 2.12132 -2.12132 \nC 1.55874 -2.683901 0.795609 -3 0 -3 \nC -0.795609 -3 -1.55874 -2.683901 -2.12132 -2.12132 \nC -2.683901 -1.55874 -3 -0.795609 -3 0 \nC -3 0.795609 -2.683901 1.55874 -2.12132 2.12132 \nC -1.55874 2.683901 -0.795609 3 0 3 \nz\n\" style=\"stroke: #0000ff\"/>\n    </defs>\n    <g clip-path=\"url(#p1ba27b9713)\">\n     <use xlink:href=\"#m50a9b3f994\" x=\"201.106812\" y=\"169.824\" style=\"fill: #0000ff; stroke: #0000ff\"/>\n    </g>\n   </g>\n   <g id=\"line2d_17\">\n    <defs>\n     <path id=\"mb965e47b7e\" d=\"M -3 3 \nL 3 -3 \nM -3 -3 \nL 3 3 \n\" style=\"stroke: #0000ff\"/>\n    </defs>\n    <g clip-path=\"url(#p1ba27b9713)\">\n     <use xlink:href=\"#mb965e47b7e\" x=\"141.970812\" y=\"228.96\" style=\"fill: #0000ff; stroke: #0000ff\"/>\n    </g>\n   </g>\n   <g id=\"patch_3\">\n    <path d=\"M 38.482813 273.312 \nL 38.482813 7.2 \n\" style=\"fill: none; stroke: #ffffff; stroke-width: 0.8; stroke-linejoin: miter; stroke-linecap: square\"/>\n   </g>\n   <g id=\"patch_4\">\n    <path d=\"M 304.594812 273.312 \nL 304.594812 7.2 \n\" style=\"fill: none; stroke: #ffffff; stroke-width: 0.8; stroke-linejoin: miter; stroke-linecap: square\"/>\n   </g>\n   <g id=\"patch_5\">\n    <path d=\"M 38.482813 273.312 \nL 304.594812 273.312 \n\" style=\"fill: none; stroke: #ffffff; stroke-width: 0.8; stroke-linejoin: miter; stroke-linecap: square\"/>\n   </g>\n   <g id=\"patch_6\">\n    <path d=\"M 38.482813 7.2 \nL 304.594812 7.2 \n\" style=\"fill: none; stroke: #ffffff; stroke-width: 0.8; stroke-linejoin: miter; stroke-linecap: square\"/>\n   </g>\n  </g>\n </g>\n <defs>\n  <clipPath id=\"p1ba27b9713\">\n   <rect x=\"38.482813\" y=\"7.2\" width=\"266.112\" height=\"266.112\"/>\n  </clipPath>\n </defs>\n</svg>\n",
      "text/plain": [
       "<Figure size 640x480 with 1 Axes>"
      ]
     },
     "metadata": {},
     "output_type": "display_data"
    }
   ],
   "source": [
    "eos_id = cfg.dataset_cfg.tokenizer_map[SPECIAL_TOKENS[\"end_path\"]]\n",
    "predictions = model.generate(array_tensor, max_new_tokens=50, \n",
    "                        \teos_token_id=eos_id, stop_at_eos=True)\n",
    "#! TODO stop_eos to True once wrapped tokenizer is in the HookedTransformer\n",
    "\n",
    "# decode the tokens\n",
    "predicted_tokens = [ cfg.dataset_cfg.token_arr[t] for t in predictions[0] ]\n",
    "\n",
    "path_predicted: list[tuple[int,int]] = decode_maze_tokens_to_coords(\n",
    "\tpredicted_tokens[len(maze_only_tokens):],\n",
    "\tmazedata_cfg = cfg.dataset_cfg, \n",
    "\twhen_noncoord = \"skip\",\n",
    ")\n",
    "\n",
    "# plot the maze and both solutions\n",
    "# for label, fmt, color, path in paths\n",
    "plot_multi_paths(\n",
    "\tmaze = maze,\n",
    "\tpaths = [\n",
    "\t\tPathFormat(path_true, \"true\", \"-\", \"red\", {'width': 0.015}),\n",
    "\t\tPathFormat(np.array(path_predicted), \"predicted\", \":\", \"blue\", {}),\n",
    "\t],\n",
    ")"
   ]
  },
  {
   "cell_type": "code",
   "execution_count": null,
   "metadata": {},
   "outputs": [],
   "source": []
  }
 ],
 "metadata": {
  "kernelspec": {
   "display_name": "mml_cw_new",
   "language": "python",
   "name": "python3"
  },
  "language_info": {
   "codemirror_mode": {
    "name": "ipython",
    "version": 3
   },
   "file_extension": ".py",
   "mimetype": "text/x-python",
   "name": "python",
   "nbconvert_exporter": "python",
   "pygments_lexer": "ipython3",
   "version": "3.10.9"
  },
  "orig_nbformat": 4,
  "vscode": {
   "interpreter": {
    "hash": "170637793197da0d440deb6cb249c898d613b24c548839ecbbac11596710dfc2"
   }
  }
 },
 "nbformat": 4,
 "nbformat_minor": 2
}
