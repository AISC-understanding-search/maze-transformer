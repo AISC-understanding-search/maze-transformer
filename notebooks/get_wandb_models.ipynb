{
 "cells": [
  {
   "cell_type": "code",
   "execution_count": null,
   "metadata": {},
   "outputs": [],
   "source": [
    "from pathlib import Path\n",
    "\n",
    "from maze_transformer.training.config import ZanjHookedTransformer\n",
    "from maze_transformer.utils.get_pt_model_wandb import load_wandb_pt_model_as_zanj, load_wandb_zanj"
   ]
  },
  {
   "attachments": {},
   "cell_type": "markdown",
   "metadata": {},
   "source": [
    "uncomment the code below to get a wandb pytorch model (in @afspies format) to a zanj pytorch model"
   ]
  },
  {
   "cell_type": "code",
   "execution_count": null,
   "metadata": {},
   "outputs": [],
   "source": [
    "# MODEL: ZanjHookedTransformer = load_wandb_pt_model_as_zanj(\n",
    "# \tproject=\"aisc-search/alex\", \n",
    "# \trun_id=\"jerpkipj\", \n",
    "# \tcheckpoint=None,\n",
    "# \tsave_zanj_model=True,\n",
    "# )"
   ]
  },
  {
   "cell_type": "code",
   "execution_count": null,
   "metadata": {},
   "outputs": [],
   "source": [
    "# load_wandb_zanj(\n",
    "#     run_id=\"1n570yl5\",\n",
    "# \tproject=\"aisc-search/understanding-search\",\n",
    "# \tcheckpoint=None,\n",
    "# \toutput_path=\"./downloaded_models\",\n",
    "# \tmodel=True,\n",
    "# )\n"
   ]
  }
 ],
 "metadata": {
  "kernelspec": {
   "display_name": "maze-transformer-2cGx2R0F-py3.11",
   "language": "python",
   "name": "python3"
  },
  "language_info": {
   "codemirror_mode": {
    "name": "ipython",
    "version": 3
   },
   "file_extension": ".py",
   "mimetype": "text/x-python",
   "name": "python",
   "nbconvert_exporter": "python",
   "pygments_lexer": "ipython3",
   "version": "3.11.4"
  },
  "orig_nbformat": 4
 },
 "nbformat": 4,
 "nbformat_minor": 2
}
